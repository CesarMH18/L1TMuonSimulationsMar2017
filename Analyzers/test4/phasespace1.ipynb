{
 "cells": [
  {
   "cell_type": "code",
   "execution_count": 1,
   "metadata": {},
   "outputs": [],
   "source": [
    "import numpy as np\n",
    "import matplotlib.pyplot as plt\n",
    "%matplotlib inline\n",
    "\n",
    "# Styling\n",
    "plt.style.use('tdrstyle.mplstyle')"
   ]
  },
  {
   "cell_type": "code",
   "execution_count": 2,
   "metadata": {},
   "outputs": [
    {
     "name": "stdout",
     "output_type": "stream",
     "text": [
      "Welcome to JupyROOT 6.10/09\n"
     ]
    }
   ],
   "source": [
    "from rootpy.io import root_open\n",
    "import ROOT\n",
    "ROOT.gROOT.SetBatch(True)"
   ]
  },
  {
   "cell_type": "code",
   "execution_count": 3,
   "metadata": {},
   "outputs": [],
   "source": [
    "infile_r = None  # input file handle\n",
    "\n",
    "def load_pgun():\n",
    "  global infile_r\n",
    "  infile = '../test7/ntuple_SingleMuon_Toy_2GeV_add.6.root'\n",
    "  #if use_condor:\n",
    "  #  infile = 'root://cmsio5.rc.ufl.edu//store/user/jiafulow/L1MuonTrigger/P2_10_1_5/SingleMuon_Toy_2GeV/'+infile\n",
    "  infile_r = root_open(infile)\n",
    "  tree = infile_r.ntupler.tree\n",
    "  #tree = TreeChain('ntupler/tree', [infile])\n",
    "  print('[INFO] Opening file: %s' % infile)\n",
    "\n",
    "  # Define collection\n",
    "  tree.define_collection(name='hits', prefix='vh_', size='vh_size')\n",
    "  tree.define_collection(name='tracks', prefix='vt_', size='vt_size')\n",
    "  tree.define_collection(name='particles', prefix='vp_', size='vp_size')\n",
    "  return tree"
   ]
  },
  {
   "cell_type": "code",
   "execution_count": 4,
   "metadata": {},
   "outputs": [],
   "source": [
    "#maxEvents = 500000\n",
    "maxEvents = 2000000\n",
    "\n",
    "kDT, kCSC, kRPC, kGEM, kME0 = 0, 1, 2, 3, 4\n",
    "\n",
    "eta_bins = (1.2, 1.4, 1.55, 1.7, 1.8, 1.98, 2.15, 2.5)\n",
    "eta_bins = eta_bins[::-1]\n",
    "pt_bins = (-0.50, -0.333333, -0.25, -0.20, -0.15, -0.10, -0.05, 0.05, 0.10, 0.15, 0.20, 0.25, 0.333333, 0.50)\n",
    "nlayers = 12  # 5 (CSC) + 4 (RPC) + 3 (GEM)\n",
    "\n",
    "def find_eta_bin(eta):\n",
    "  ieta = np.digitize((abs(eta),), eta_bins[1:])[0]  # skip lowest edge\n",
    "  ieta = np.clip(ieta, 0, len(eta_bins)-2)\n",
    "  return ieta\n",
    "\n",
    "def find_endsec(endcap, sector):\n",
    "  endsec = (sector - 1) if endcap == 1 else (sector - 1 + 6)\n",
    "  return endsec\n",
    "\n",
    "def analysis(verbose=1):\n",
    "  tree = load_pgun()\n",
    "  \n",
    "  out_pt = []\n",
    "  out_phis = []\n",
    "\n",
    "  # Loop over events\n",
    "  for ievt, evt in enumerate(tree):\n",
    "    if maxEvents != -1 and ievt == maxEvents:\n",
    "      break\n",
    "    \n",
    "    if verbose and (ievt % 10000 == 0):  print(\"Processing event: {0}\".format(ievt))\n",
    "    \n",
    "    # Skip events with very few hits\n",
    "    if not len(evt.hits) >= 4:\n",
    "      continue\n",
    "    \n",
    "    # Skip events without ME1 hits\n",
    "    has_ME1 = False\n",
    "    for ihit, hit in enumerate(evt.hits):\n",
    "      if hit.type == kCSC and hit.station == 1:\n",
    "        has_ME1 = True\n",
    "        break\n",
    "      elif hit.type == kME0 and hit.station == 1:\n",
    "        has_ME1 = True\n",
    "        break\n",
    "    if not has_ME1:\n",
    "      continue\n",
    "    \n",
    "    part = evt.particles[0]  # particle gun\n",
    "    part.invpt = np.true_divide(part.q, part.pt)\n",
    "    \n",
    "    # Skip events with muon pT < 5 GeV\n",
    "    #if part.pt < 5:\n",
    "    #  continue\n",
    "    \n",
    "    # Skip events not in 1.9 < |eta| < 2.1\n",
    "    if not (1.9 < abs(part.eta) < 2.1):\n",
    "      continue\n",
    "    \n",
    "    # Find the best sector\n",
    "    sector_cnt_array = np.zeros((12,), dtype=np.int32)\n",
    "    sector_phi_array = np.empty((12,), dtype=np.object)\n",
    "    for ind in np.ndindex(sector_phi_array.shape):\n",
    "      sector_phi_array[ind] = []\n",
    "    \n",
    "    for ihit, hit in enumerate(evt.hits):\n",
    "      #print(\".. hit  {0} {1} {2} {3} {4} {5} {6} {7} {8} {9} {10} {11}\".format(ihit, hit.bx, hit.type, hit.station, hit.ring, hit.sector, hit.fr, hit.sim_phi, hit.sim_theta, hit.time, hit.sim_tp1, hit.sim_tp2))\n",
    "      \n",
    "      phi = None\n",
    "      if hit.type == kCSC and hit.sim_tp1 == 0 and hit.sim_tp2 == 0:  # only CSC hits\n",
    "        if hit.station == 1 and hit.ring == 1:\n",
    "          bend_corr_const = [-1.3861, 1.3692]  # ME1/1b (r,f)\n",
    "          bend_corr = bend_corr_const[int(hit.fr)] * hit.bend\n",
    "          bend_corr = bend_corr if hit.endcap == 1 else (bend_corr * -1)\n",
    "          bend_corr = int(round(bend_corr))\n",
    "          phi = (hit.station, hit.emtf_phi + bend_corr)\n",
    "        elif hit.station == 1 and hit.ring == 4:\n",
    "          bend_corr_const = [-1.6419, 1.6012]  # ME1/1a (r,f)\n",
    "          bend_corr = bend_corr_const[int(hit.fr)] * hit.bend\n",
    "          bend_corr = bend_corr if hit.endcap == 1 else (bend_corr * -1)\n",
    "          bend_corr = int(round(bend_corr))\n",
    "          phi = (hit.station, hit.emtf_phi + bend_corr)\n",
    "        elif hit.station in (2,3,4) and hit.ring == 1:\n",
    "          phi = (hit.station, hit.emtf_phi)\n",
    "      \n",
    "      if phi is not None:\n",
    "        #assert(hit.emtf_phi < 5040)  # 84*60\n",
    "        assert(phi[1] < 5040)  # 84*60\n",
    "        endsec = find_endsec(hit.endcap, hit.sector)\n",
    "        sector_cnt_array[endsec] += 1\n",
    "        sector_phi_array[endsec].append(phi)\n",
    "    \n",
    "    # Get the best sector\n",
    "    best_sector = np.argmax(sector_cnt_array)\n",
    "    \n",
    "    has_station_1 = any([phi[0] == 1 for phi in sector_phi_array[best_sector]])\n",
    "    has_station_2 = any([phi[0] == 2 for phi in sector_phi_array[best_sector]])\n",
    "    \n",
    "    if has_station_1 and has_station_2:\n",
    "      out_pt.append(part.invpt)\n",
    "      out_phis.append(sector_phi_array[best_sector])\n",
    "    \n",
    "  return np.asarray(out_pt), np.asarray(out_phis)"
   ]
  },
  {
   "cell_type": "code",
   "execution_count": 5,
   "metadata": {},
   "outputs": [
    {
     "name": "stdout",
     "output_type": "stream",
     "text": [
      "[INFO] Opening file: ../test7/ntuple_SingleMuon_Toy_2GeV_add.6.root\n",
      "Processing event: 0\n",
      "Processing event: 10000\n",
      "Processing event: 20000\n",
      "Processing event: 30000\n",
      "Processing event: 40000\n",
      "Processing event: 50000\n",
      "Processing event: 60000\n",
      "Processing event: 70000\n",
      "Processing event: 80000\n",
      "Processing event: 90000\n",
      "Processing event: 100000\n",
      "Processing event: 110000\n",
      "Processing event: 120000\n",
      "Processing event: 130000\n",
      "Processing event: 140000\n",
      "Processing event: 150000\n",
      "Processing event: 160000\n",
      "Processing event: 170000\n",
      "Processing event: 180000\n",
      "Processing event: 190000\n",
      "Processing event: 200000\n",
      "Processing event: 210000\n",
      "Processing event: 220000\n",
      "Processing event: 230000\n",
      "Processing event: 240000\n",
      "Processing event: 250000\n",
      "Processing event: 260000\n",
      "Processing event: 270000\n",
      "Processing event: 280000\n",
      "Processing event: 290000\n",
      "Processing event: 300000\n",
      "Processing event: 310000\n",
      "Processing event: 320000\n",
      "Processing event: 330000\n",
      "Processing event: 340000\n",
      "Processing event: 350000\n",
      "Processing event: 360000\n",
      "Processing event: 370000\n",
      "Processing event: 380000\n",
      "Processing event: 390000\n",
      "Processing event: 400000\n",
      "Processing event: 410000\n",
      "Processing event: 420000\n",
      "Processing event: 430000\n",
      "Processing event: 440000\n",
      "Processing event: 450000\n",
      "Processing event: 460000\n",
      "Processing event: 470000\n",
      "Processing event: 480000\n",
      "Processing event: 490000\n",
      "Processing event: 500000\n",
      "Processing event: 510000\n",
      "Processing event: 520000\n",
      "Processing event: 530000\n",
      "Processing event: 540000\n",
      "Processing event: 550000\n",
      "Processing event: 560000\n",
      "Processing event: 570000\n",
      "Processing event: 580000\n",
      "Processing event: 590000\n",
      "Processing event: 600000\n",
      "Processing event: 610000\n",
      "Processing event: 620000\n",
      "Processing event: 630000\n",
      "Processing event: 640000\n",
      "Processing event: 650000\n",
      "Processing event: 660000\n",
      "Processing event: 670000\n",
      "Processing event: 680000\n",
      "Processing event: 690000\n",
      "Processing event: 700000\n",
      "Processing event: 710000\n",
      "Processing event: 720000\n",
      "Processing event: 730000\n",
      "Processing event: 740000\n",
      "Processing event: 750000\n",
      "Processing event: 760000\n",
      "Processing event: 770000\n",
      "Processing event: 780000\n",
      "Processing event: 790000\n",
      "Processing event: 800000\n",
      "Processing event: 810000\n",
      "Processing event: 820000\n",
      "Processing event: 830000\n",
      "Processing event: 840000\n",
      "Processing event: 850000\n",
      "Processing event: 860000\n",
      "Processing event: 870000\n",
      "Processing event: 880000\n",
      "Processing event: 890000\n",
      "Processing event: 900000\n",
      "Processing event: 910000\n",
      "Processing event: 920000\n",
      "Processing event: 930000\n",
      "Processing event: 940000\n",
      "Processing event: 950000\n",
      "Processing event: 960000\n",
      "Processing event: 970000\n",
      "Processing event: 980000\n",
      "Processing event: 990000\n",
      "Processing event: 1000000\n",
      "Processing event: 1010000\n",
      "Processing event: 1020000\n",
      "Processing event: 1030000\n",
      "Processing event: 1040000\n",
      "Processing event: 1050000\n",
      "Processing event: 1060000\n",
      "Processing event: 1070000\n",
      "Processing event: 1080000\n",
      "Processing event: 1090000\n",
      "Processing event: 1100000\n",
      "Processing event: 1110000\n",
      "Processing event: 1120000\n",
      "Processing event: 1130000\n",
      "Processing event: 1140000\n",
      "Processing event: 1150000\n",
      "Processing event: 1160000\n",
      "Processing event: 1170000\n",
      "Processing event: 1180000\n",
      "Processing event: 1190000\n",
      "Processing event: 1200000\n",
      "Processing event: 1210000\n",
      "Processing event: 1220000\n",
      "Processing event: 1230000\n",
      "Processing event: 1240000\n",
      "Processing event: 1250000\n",
      "Processing event: 1260000\n",
      "Processing event: 1270000\n",
      "Processing event: 1280000\n",
      "Processing event: 1290000\n",
      "Processing event: 1300000\n",
      "Processing event: 1310000\n",
      "Processing event: 1320000\n",
      "Processing event: 1330000\n",
      "Processing event: 1340000\n",
      "Processing event: 1350000\n",
      "Processing event: 1360000\n",
      "Processing event: 1370000\n",
      "Processing event: 1380000\n",
      "Processing event: 1390000\n",
      "Processing event: 1400000\n",
      "Processing event: 1410000\n",
      "Processing event: 1420000\n",
      "Processing event: 1430000\n",
      "Processing event: 1440000\n",
      "Processing event: 1450000\n",
      "Processing event: 1460000\n",
      "Processing event: 1470000\n",
      "Processing event: 1480000\n",
      "Processing event: 1490000\n",
      "Processing event: 1500000\n",
      "Processing event: 1510000\n",
      "Processing event: 1520000\n",
      "Processing event: 1530000\n",
      "Processing event: 1540000\n",
      "Processing event: 1550000\n",
      "Processing event: 1560000\n",
      "Processing event: 1570000\n",
      "Processing event: 1580000\n",
      "Processing event: 1590000\n",
      "Processing event: 1600000\n",
      "Processing event: 1610000\n",
      "Processing event: 1620000\n",
      "Processing event: 1630000\n",
      "Processing event: 1640000\n",
      "Processing event: 1650000\n",
      "Processing event: 1660000\n",
      "Processing event: 1670000\n",
      "Processing event: 1680000\n",
      "Processing event: 1690000\n",
      "Processing event: 1700000\n",
      "Processing event: 1710000\n",
      "Processing event: 1720000\n",
      "Processing event: 1730000\n",
      "Processing event: 1740000\n",
      "Processing event: 1750000\n",
      "Processing event: 1760000\n",
      "Processing event: 1770000\n",
      "Processing event: 1780000\n",
      "Processing event: 1790000\n",
      "Processing event: 1800000\n",
      "Processing event: 1810000\n",
      "Processing event: 1820000\n",
      "Processing event: 1830000\n",
      "Processing event: 1840000\n",
      "Processing event: 1850000\n",
      "Processing event: 1860000\n",
      "Processing event: 1870000\n",
      "Processing event: 1880000\n",
      "Processing event: 1890000\n",
      "Processing event: 1900000\n",
      "Processing event: 1910000\n",
      "Processing event: 1920000\n",
      "Processing event: 1930000\n",
      "Processing event: 1940000\n",
      "Processing event: 1950000\n",
      "Processing event: 1960000\n",
      "Processing event: 1970000\n",
      "Processing event: 1980000\n",
      "Processing event: 1990000\n"
     ]
    }
   ],
   "source": [
    "# Run analysis\n",
    "\n",
    "out_pt, out_phis = analysis()"
   ]
  },
  {
   "cell_type": "code",
   "execution_count": 6,
   "metadata": {},
   "outputs": [
    {
     "name": "stdout",
     "output_type": "stream",
     "text": [
      "(262555,) [list([(1, 3190), (2, 3546), (3, 3568), (4, 3566)])\n",
      " list([(1, 3875), (2, 4008), (3, 4024), (4, 4032)])\n",
      " list([(1, 4308), (1, 4321), (2, 3838), (3, 3744), (4, 3714)]) ...\n",
      " list([(1, 1951), (2, 2000), (4, 2002)])\n",
      " list([(1, 2553), (2, 2800), (3, 2880), (4, 2904)])\n",
      " list([(1, 2239), (2, 2262), (3, 2264), (4, 2264)])]\n"
     ]
    }
   ],
   "source": [
    "print out_phis.shape, out_phis"
   ]
  },
  {
   "cell_type": "code",
   "execution_count": null,
   "metadata": {},
   "outputs": [],
   "source": []
  },
  {
   "cell_type": "code",
   "execution_count": null,
   "metadata": {},
   "outputs": [],
   "source": []
  },
  {
   "cell_type": "code",
   "execution_count": 7,
   "metadata": {},
   "outputs": [],
   "source": [
    "from six.moves import range, zip\n",
    "\n",
    "img = np.zeros((64,64,5), dtype=np.int32)\n",
    "label = np.zeros((64,100), dtype=np.float32)\n",
    "\n",
    "for pt, phis in zip(out_pt, out_phis):\n",
    "  for i, i_phi in enumerate(phis):\n",
    "    i_station = int(i_phi[0])\n",
    "    \n",
    "    if i_station == 2:\n",
    "      for j, j_phi in enumerate(phis):\n",
    "        j_station = int(j_phi[0])\n",
    "        \n",
    "        if j_station == 1:\n",
    "          for k, k_phi in enumerate(phis):\n",
    "            k_station = int(k_phi[0])\n",
    "            \n",
    "            if k != i and k != j:\n",
    "              j_dphi = j_phi[1]/16 - i_phi[1]/16 + 32\n",
    "              j_dphi = np.clip(j_dphi, 0, 64-1)\n",
    "              k_dphi = k_phi[1]/16 - i_phi[1]/16 + 32\n",
    "              k_dphi = np.clip(k_dphi, 0, 64-1)\n",
    "              \n",
    "              j_pt = int(round(pt*100) + 50)\n",
    "              j_pt = np.clip(j_pt, 0, 100-1)\n",
    "              \n",
    "              img[j_dphi, k_dphi, k_station] += 1\n",
    "              label[j_dphi, j_pt] += 1"
   ]
  },
  {
   "cell_type": "raw",
   "metadata": {},
   "source": [
    "print img[32], np.where(img[32])"
   ]
  },
  {
   "cell_type": "code",
   "execution_count": 8,
   "metadata": {},
   "outputs": [
    {
     "name": "stdout",
     "output_type": "stream",
     "text": [
      "0 63\n",
      "21 43\n",
      "0 63\n",
      "0 63\n"
     ]
    }
   ],
   "source": [
    "a, b = np.where(img[:,:,1])\n",
    "print np.min(b), np.max(b)\n",
    "a, b = np.where(img[:,:,2])\n",
    "print np.min(b), np.max(b)\n",
    "a, b = np.where(img[:,:,3])\n",
    "print np.min(b), np.max(b)\n",
    "a, b = np.where(img[:,:,4])\n",
    "print np.min(b), np.max(b)"
   ]
  },
  {
   "cell_type": "code",
   "execution_count": 9,
   "metadata": {
    "scrolled": false
   },
   "outputs": [
    {
     "name": "stderr",
     "output_type": "stream",
     "text": [
      "/cvmfs/cms.cern.ch/slc6_amd64_gcc630/external/py2-matplotlib/1.5.2-omkpbe3/lib/python2.7/site-packages/matplotlib/figure.py:1742: UserWarning: This figure includes Axes that are not compatible with tight_layout, so its results might be incorrect.\n",
      "  warnings.warn(\"This figure includes Axes that are not \"\n"
     ]
    },
    {
     "data": {
      "image/png": "[encoded data removed]",
      "text/plain": [
       "<matplotlib.figure.Figure at 0x7f4f4a966210>"
      ]
     },
     "metadata": {},
     "output_type": "display_data"
    }
   ],
   "source": [
    "fig, axs = plt.subplots(64/8, 8, figsize=(2*8,2*64/8), tight_layout=True, sharex=True, sharey=True)\n",
    "\n",
    "for i in range(64):\n",
    "  test_image = img[i].T\n",
    "  #print i, np.max(test_image)\n",
    "  aspect = 'auto'\n",
    "  extent = (0,test_image.shape[1],0,test_image.shape[0])\n",
    "  axs[i/8, i%8].imshow(test_image, cmap='viridis', interpolation='none', origin='lower', extent=extent, aspect=aspect)\n",
    "  axs[i/8, i%8].axis('off')"
   ]
  },
  {
   "cell_type": "code",
   "execution_count": 10,
   "metadata": {
    "scrolled": false
   },
   "outputs": [
    {
     "name": "stdout",
     "output_type": "stream",
     "text": [
      "634\n",
      "[  0   0   0   0   0   1   1   0   9   9  21  41  27  39  56 138 634 117\n",
      "  58  48  42  32  15  10   6   4   0   0   0   1   0   0   0   0   0   0\n",
      "   0   0   0   0   0   0   0   0   0   0   0   0   0   0   0   0   0   0\n",
      "   0   0   0   0   0   0   0   0   0   0] 11 16 21 41 634 32\n",
      "[  0   0   0   0   0   0   0   0   0   0   0   0   0   0   0   0   0   0\n",
      "   0   0   0   0   0   0   1   7  13   1   0   0  12 145 356 137  24   5\n",
      "   0   2  16   2   0   0   4   4   0   0   0   0   0   0   0   0   0   0\n",
      "   0   0   0   0   0   0   0   0   0   0] 31 32 34 145 356 24\n",
      "[   0    0    0    0    0    1    0    0    0    1    1    0    4    5\n",
      "    3    5    6    5    3   14   13   27   21   20   46   43   82  112\n",
      "  171  196  317  491  704 1026  991  614  286  111   24   13    5    0\n",
      "    4    0    2    1    0    0    0    0    0    0    0    0    0    0\n",
      "    0    0    0    0    0    0    0    0] 26 33 36 82 1026 286\n",
      "[ 27   3   4   9   4   2  11   9   4  16  13  13  19  23  20  30  31  39\n",
      "  41  46  56  83  96 117  95 132 131 194 230 290 314 409 516 527 544 436\n",
      " 311 205 106  57  18   8   1   0   0   3   0   1   2   0   0   0   0   0\n",
      "   0   0   0   0   0   0   0   0   0   0] 17 32 37 39 516 205\n"
     ]
    }
   ],
   "source": [
    "print img[16,16,1]\n",
    "\n",
    "for j in range(1,5):\n",
    "  a = img[16,:,j]\n",
    "  b = np.true_divide(a.cumsum(), a.sum())\n",
    "  c = np.searchsorted(b, 0.05, side='left')\n",
    "  d = np.searchsorted(b, 0.50, side='left')\n",
    "  e = np.searchsorted(b, 0.95, side='right')\n",
    "  print a, c, d, e, a[c], a[d], a[e]"
   ]
  },
  {
   "cell_type": "code",
   "execution_count": 11,
   "metadata": {},
   "outputs": [
    {
     "name": "stdout",
     "output_type": "stream",
     "text": [
      "0 [25 41]\n",
      "1 [25 40]\n",
      "2 [25 39]\n",
      "3 [25 39]\n",
      "4 [24 39]\n",
      "5 [25 39]\n",
      "6 [26 38]\n",
      "7 [25 38]\n",
      "8 [25 38]\n",
      "9 [25 38]\n",
      "10 [25 38]\n",
      "11 [26 38]\n",
      "12 [26 37]\n",
      "13 [26 37]\n",
      "14 [26 36]\n",
      "15 [26 36]\n",
      "16 [26 36]\n",
      "17 [27 36]\n",
      "18 [27 36]\n",
      "19 [28 35]\n",
      "20 [28 35]\n",
      "21 [28 35]\n",
      "22 [29 35]\n",
      "23 [29 35]\n",
      "24 [30 34]\n",
      "25 [30 34]\n",
      "26 [31 34]\n",
      "27 [31 34]\n",
      "28 [31 33]\n",
      "29 [31 33]\n",
      "30 [31 33]\n",
      "31 [31 33]\n",
      "32 [31 33]\n",
      "33 [31 33]\n",
      "34 [31 33]\n",
      "35 [31 33]\n",
      "36 [30 33]\n",
      "37 [30 33]\n",
      "38 [30 33]\n",
      "39 [30 34]\n",
      "40 [29 34]\n",
      "41 [29 34]\n",
      "42 [29 35]\n",
      "43 [29 36]\n",
      "44 [29 36]\n",
      "45 [29 37]\n",
      "46 [28 37]\n",
      "47 [28 37]\n",
      "48 [28 37]\n",
      "49 [28 38]\n",
      "50 [27 38]\n",
      "51 [27 38]\n",
      "52 [27 38]\n",
      "53 [27 38]\n",
      "54 [27 38]\n",
      "55 [26 38]\n",
      "56 [26 38]\n",
      "57 [26 38]\n",
      "58 [26 38]\n",
      "59 [25 38]\n",
      "60 [25 39]\n",
      "61 [25 38]\n",
      "62 [24 38]\n",
      "63 [23 38]\n"
     ]
    }
   ],
   "source": [
    "data = np.zeros((64,4,2), dtype=np.int32)\n",
    "for i in range(64):\n",
    "  for j in range(1,5):\n",
    "    a = img[i,:,j]\n",
    "    b = np.true_divide(a.cumsum(), a.sum())\n",
    "    percentiles = np.asarray([5])\n",
    "    c = np.searchsorted(b, percentiles*0.01, side='left')\n",
    "    percentiles = np.asarray([95])\n",
    "    d = np.searchsorted(b, percentiles*0.01, side='right')\n",
    "    data[i,j-1] = np.hstack([c,d])\n",
    "\n",
    "  print i, data[i,2]"
   ]
  },
  {
   "cell_type": "code",
   "execution_count": 12,
   "metadata": {},
   "outputs": [],
   "source": [
    "from six.moves import range, zip\n",
    "\n",
    "data_pca_st3 = []\n",
    "data_pca_st4 = []\n",
    "\n",
    "for pt, phis in zip(out_pt, out_phis):\n",
    "  for i, i_phi in enumerate(phis):\n",
    "    i_station = int(i_phi[0])\n",
    "    \n",
    "    if i_station == 2:\n",
    "      for j, j_phi in enumerate(phis):\n",
    "        j_station = int(j_phi[0])\n",
    "        \n",
    "        if j_station == 1:\n",
    "          for k, k_phi in enumerate(phis):\n",
    "            k_station = int(k_phi[0])\n",
    "            \n",
    "            if k != i and k != j:\n",
    "              j_dphi = j_phi[1]/16 - i_phi[1]/16 + 32\n",
    "              j_dphi = np.clip(j_dphi, 0, 64-1)\n",
    "              k_dphi = k_phi[1]/16 - i_phi[1]/16 + 32\n",
    "              k_dphi = np.clip(k_dphi, 0, 64-1)\n",
    "\n",
    "              j_pt = int(round(pt*128)) + 64\n",
    "              j_pt = np.clip(j_pt, 0, 128-1)\n",
    "\n",
    "              if k_station == 3:  \n",
    "                data_pca_st3.append((j_dphi, k_dphi, j_pt))\n",
    "              elif k_station == 4:\n",
    "                data_pca_st4.append((j_dphi, k_dphi, j_pt))"
   ]
  },
  {
   "cell_type": "code",
   "execution_count": 13,
   "metadata": {},
   "outputs": [],
   "source": [
    "# Copied from http://scikit-learn.org/stable/auto_examples/cluster/plot_kmeans_digits.html\n",
    "\n",
    "from sklearn.cluster import KMeans\n",
    "from sklearn.decomposition import PCA\n",
    "\n",
    "data_pca_st3 = np.asarray(data_pca_st3)\n",
    "data_pca_st4 = np.asarray(data_pca_st4)\n",
    "\n",
    "data_pca_st3_tmp = np.copy(data_pca_st3)\n",
    "data_pca_st4_tmp = np.copy(data_pca_st4)\n",
    "data_pca_st3_tmp[:,2] /= 8\n",
    "data_pca_st4_tmp[:,2] /= 8\n",
    "\n",
    "data_pca_red_st3 = PCA(n_components=2).fit_transform(data_pca_st3_tmp)\n",
    "data_pca_red_st4 = PCA(n_components=2).fit_transform(data_pca_st4_tmp)"
   ]
  },
  {
   "cell_type": "code",
   "execution_count": 14,
   "metadata": {},
   "outputs": [
    {
     "name": "stdout",
     "output_type": "stream",
     "text": [
      "[[ -2.71378161   0.1756189 ]\n",
      " [ 21.26790109  -1.01758614]\n",
      " [-22.33677105   0.61791946]\n",
      " [  5.81839572  -0.28875352]\n",
      " [-11.83230547   0.182201  ]\n",
      " [ 15.95950519   7.3091781 ]\n",
      " [-29.17349822   1.14750064]\n",
      " [ 10.49132436  -0.39529569]\n",
      " [ -7.17892052   0.34701666]\n",
      " [ 15.57808245  -0.64735702]\n",
      " [ 29.07845788  -2.26677094]\n",
      " [  1.51345458  -0.09035912]\n",
      " [ 25.5041389    5.38441257]\n",
      " [-19.03328901  -8.04874647]\n",
      " [-16.73190908   0.54762612]] [ 1  7  6 ...  9  9 11]\n",
      "[[-13.09436793   0.29439516]\n",
      " [ 12.00388058  -0.26476151]\n",
      " [ 27.68099496  -1.04496758]\n",
      " [ -0.57711736   0.04711308]\n",
      " [-27.96714989   0.91587214]\n",
      " [-18.90995028  -7.68338913]\n",
      " [ 19.4523186    7.47254633]\n",
      " [  5.67376136  -0.27421822]\n",
      " [ -6.90414994   0.29503313]\n",
      " [ 18.89206107  -0.84646045]\n",
      " [-19.77498477   0.74798475]] [9 7 4 ... 9 9 3]\n",
      "[[ -4.09634292   0.24318244]\n",
      " [ 16.84255221  -0.68211787]\n",
      " [-18.52959434  -0.69799571]\n",
      " [  9.390593    -0.26353996]\n",
      " [-27.11709131   0.58044994]\n",
      " [ 19.76761514   7.15265144]\n",
      " [  2.50957937  -0.13999804]\n",
      " [ 26.49919563  -1.13110997]\n",
      " [-11.28610065   0.16292244]] [7 3 4 ... 1 1 6]\n"
     ]
    }
   ],
   "source": [
    "kmeans1 = KMeans(init='k-means++', n_clusters=15, n_init=20).fit(data_pca_red_st3)\n",
    "print kmeans1.cluster_centers_, kmeans1.labels_\n",
    "\n",
    "kmeans2 = KMeans(init='k-means++', n_clusters=11, n_init=20).fit(data_pca_red_st3)\n",
    "print kmeans2.cluster_centers_, kmeans2.labels_\n",
    "\n",
    "kmeans3 = KMeans(init='k-means++', n_clusters=9, n_init=20).fit(data_pca_red_st3)\n",
    "print kmeans3.cluster_centers_, kmeans3.labels_"
   ]
  },
  {
   "cell_type": "code",
   "execution_count": 15,
   "metadata": {},
   "outputs": [
    {
     "data": {
      "image/png": "[encoded data removed]",
      "text/plain": [
       "<matplotlib.figure.Figure at 0x7f4f5cd52390>"
      ]
     },
     "metadata": {},
     "output_type": "display_data"
    },
    {
     "data": {
      "image/png": "[encoded data removed]",
      "text/plain": [
       "<matplotlib.figure.Figure at 0x7f4f39dda150>"
      ]
     },
     "metadata": {},
     "output_type": "display_data"
    },
    {
     "data": {
      "image/png": "[encoded data removed]",
      "text/plain": [
       "<matplotlib.figure.Figure at 0x7f4f2b012510>"
      ]
     },
     "metadata": {},
     "output_type": "display_data"
    }
   ],
   "source": [
    "reduced_data = data_pca_red_st3\n",
    "\n",
    "# Step size of the mesh. Decrease to increase the quality of the VQ.\n",
    "h = .02     # point in the mesh [x_min, x_max]x[y_min, y_max].\n",
    "\n",
    "# Plot the decision boundary. For that, we will assign a color to each\n",
    "x_min, x_max = reduced_data[:, 0].min() - 1, reduced_data[:, 0].max() + 1\n",
    "y_min, y_max = reduced_data[:, 1].min() - 1, reduced_data[:, 1].max() + 1\n",
    "xx, yy = np.meshgrid(np.arange(x_min, x_max, h), np.arange(y_min, y_max, h))\n",
    "\n",
    "# Obtain labels for each point in mesh. Use last trained model.\n",
    "Z1 = kmeans1.predict(np.c_[xx.ravel(), yy.ravel()])\n",
    "Z2 = kmeans2.predict(np.c_[xx.ravel(), yy.ravel()])\n",
    "Z3 = kmeans3.predict(np.c_[xx.ravel(), yy.ravel()])\n",
    "\n",
    "# Put the result into a color plot\n",
    "Z1 = Z1.reshape(xx.shape)\n",
    "Z2 = Z2.reshape(xx.shape)\n",
    "Z3 = Z3.reshape(xx.shape)\n",
    "\n",
    "plt.figure()\n",
    "plt.imshow(Z1, interpolation='nearest',\n",
    "           extent=(xx.min(), xx.max(), yy.min(), yy.max()),\n",
    "           cmap=plt.cm.Paired,\n",
    "           aspect='auto', origin='lower')\n",
    "\n",
    "plt.plot(reduced_data[:, 0], reduced_data[:, 1], 'k.', markersize=2)\n",
    "# Plot the centroids as a white X\n",
    "centroids = kmeans1.cluster_centers_\n",
    "plt.scatter(centroids[:, 0], centroids[:, 1],\n",
    "            marker='x', s=169, linewidths=3,\n",
    "            color='w', zorder=10)\n",
    "plt.xlim(x_min, x_max)\n",
    "plt.ylim(y_min, y_max)\n",
    "plt.xticks(())\n",
    "plt.yticks(())\n",
    "\n",
    "plt.figure()\n",
    "plt.imshow(Z2, interpolation='nearest',\n",
    "           extent=(xx.min(), xx.max(), yy.min(), yy.max()),\n",
    "           cmap=plt.cm.Paired,\n",
    "           aspect='auto', origin='lower')\n",
    "\n",
    "plt.plot(reduced_data[:, 0], reduced_data[:, 1], 'k.', markersize=2)\n",
    "# Plot the centroids as a white X\n",
    "centroids = kmeans2.cluster_centers_\n",
    "plt.scatter(centroids[:, 0], centroids[:, 1],\n",
    "            marker='x', s=169, linewidths=3,\n",
    "            color='w', zorder=10)\n",
    "plt.xlim(x_min, x_max)\n",
    "plt.ylim(y_min, y_max)\n",
    "plt.xticks(())\n",
    "plt.yticks(())\n",
    "\n",
    "plt.figure()\n",
    "plt.imshow(Z3, interpolation='nearest',\n",
    "           extent=(xx.min(), xx.max(), yy.min(), yy.max()),\n",
    "           cmap=plt.cm.Paired,\n",
    "           aspect='auto', origin='lower')\n",
    "\n",
    "plt.plot(reduced_data[:, 0], reduced_data[:, 1], 'k.', markersize=2)\n",
    "# Plot the centroids as a white X\n",
    "centroids = kmeans3.cluster_centers_\n",
    "plt.scatter(centroids[:, 0], centroids[:, 1],\n",
    "            marker='x', s=169, linewidths=3,\n",
    "            color='w', zorder=10)\n",
    "plt.xlim(x_min, x_max)\n",
    "plt.ylim(y_min, y_max)\n",
    "plt.xticks(())\n",
    "plt.yticks(())\n",
    "\n",
    "plt.show()"
   ]
  },
  {
   "cell_type": "code",
   "execution_count": 22,
   "metadata": {},
   "outputs": [
    {
     "name": "stdout",
     "output_type": "stream",
     "text": [
      "(316727, 3) (316727, 2) (316727, 1) (316727, 6)\n"
     ]
    }
   ],
   "source": [
    "data_pca_kmeans_st3 = kmeans2.predict(data_pca_red_st3)\n",
    "data_pca_kmeans_st3 = data_pca_kmeans_st3[:, np.newaxis]\n",
    "\n",
    "#rearrange = [0,6,9,2,7,5,3,1,8,10,4]\n",
    "rearrange = [7,3,1,5,9,10,0,4,6,2,8]\n",
    "rearrange_f = lambda x: rearrange[x[0]]\n",
    "data_pca_kmeans_st3 = np.apply_along_axis(rearrange_f, 1, data_pca_kmeans_st3)\n",
    "data_pca_kmeans_st3 = data_pca_kmeans_st3[:, np.newaxis]\n",
    "\n",
    "data_pca_st3_1 = np.hstack([data_pca_st3, data_pca_red_st3, data_pca_kmeans_st3])\n",
    "print data_pca_st3.shape, data_pca_red_st3.shape, data_pca_kmeans_st3.shape, data_pca_st3_1.shape"
   ]
  },
  {
   "cell_type": "code",
   "execution_count": 23,
   "metadata": {},
   "outputs": [
    {
     "data": {
      "image/png": "[encoded data removed]",
      "text/plain": [
       "<matplotlib.figure.Figure at 0x7f4f1a4fe610>"
      ]
     },
     "metadata": {},
     "output_type": "display_data"
    },
    {
     "data": {
      "image/png": "[encoded data removed]",
      "text/plain": [
       "<matplotlib.figure.Figure at 0x7f4f1a572310>"
      ]
     },
     "metadata": {},
     "output_type": "display_data"
    },
    {
     "data": {
      "image/png": "[encoded data removed]",
      "text/plain": [
       "<matplotlib.figure.Figure at 0x7f4f1a4961d0>"
      ]
     },
     "metadata": {},
     "output_type": "display_data"
    }
   ],
   "source": [
    "plt.figure()\n",
    "plt.hist2d(data_pca_st3_1[:,0]+0.5, data_pca_st3_1[:,5]+0.5, bins=(np.arange(64+1), np.arange(11+1)))\n",
    "plt.figure()\n",
    "plt.hist2d(data_pca_st3_1[:,1]+0.5, data_pca_st3_1[:,5]+0.5, bins=(np.arange(64+1), np.arange(11+1)))\n",
    "plt.figure()\n",
    "plt.hist2d(data_pca_st3_1[:,2]+0.5, data_pca_st3_1[:,5]+0.5, bins=(np.arange(128+1), np.arange(11+1)))\n",
    "plt.show()"
   ]
  },
  {
   "cell_type": "code",
   "execution_count": 24,
   "metadata": {
    "scrolled": false
   },
   "outputs": [
    {
     "name": "stdout",
     "output_type": "stream",
     "text": [
      "(1.00, 5.25, 12.86) 11\n",
      "(1.36, 6.64, 14.16) 12\n",
      "(7.02, 15.77, 23.22) 16\n",
      "(15.88, 25.86, 32.74) 16\n",
      "(30.95, 38.44, 44.14) 13\n",
      "(45.78, 51.25, 57.32) 11\n",
      "(58.57, 64.52, 72.78) 14\n",
      "(69.11, 76.22, 86.15) 17\n",
      "(77.83, 85.41, 93.98) 16\n",
      "(86.70, 93.87, 98.77) 12\n",
      "(87.49, 94.89, 99.00) 11\n"
     ]
    }
   ],
   "source": [
    "hist, xedges, yedges = np.histogram2d(data_pca_st3_1[:,2]+0.5, data_pca_st3_1[:,5]+0.5, bins=(np.arange(128+1), np.arange(11+1)))\n",
    "for i in range(11):\n",
    "  b = hist[:,i].cumsum() / hist[:,i].sum()\n",
    "  c = np.interp(0.10, b, np.arange(len(b))+0.5) * 100./128\n",
    "  d = np.interp(0.50, b, np.arange(len(b))+0.5) * 100./128\n",
    "  e = np.interp(0.90, b, np.arange(len(b))+0.5) * 100./128\n",
    "  print \"(%.2f, %.2f, %.2f) %i\" % (c,d,e,int(e-c))"
   ]
  },
  {
   "cell_type": "raw",
   "metadata": {},
   "source": [
    "ydata = np.zeros((64,), dtype=np.float32)\n",
    "zdata = np.zeros((64,), dtype=np.float32)\n",
    "\n",
    "for i in range(64):\n",
    "  if i < 64-1:\n",
    "    intersect_a = np.max(data[[i,i+1],2,0])\n",
    "    intersect_b = np.min(data[[i,i+1],2,2])\n",
    "    intersect_c = np.min(data[[i,i+1],2,0])\n",
    "    intersect_d = np.max(data[[i,i+1],2,2])\n",
    "    iou_1 = (intersect_b-intersect_a)/float(intersect_d-intersect_c)\n",
    "  else:\n",
    "    iou_1 = 0\n",
    "  if i >= 1:\n",
    "    intersect_a = np.max(data[[i-1,i],2,0])\n",
    "    intersect_b = np.min(data[[i-1,i],2,2])\n",
    "    intersect_c = np.min(data[[i-1,i],2,0])\n",
    "    intersect_d = np.max(data[[i-1,i],2,2])\n",
    "    iou_2 = (intersect_b-intersect_a)/float(intersect_d-intersect_c)\n",
    "  else:\n",
    "    iou_2 = 0\n",
    "  \n",
    "  ydata[i] = iou_1\n",
    "  zdata[i] = iou_2\n",
    "  print i, data[i,2], iou_1, iou_2\n",
    "  \n",
    "plt.plot(np.arange(64), ydata)\n",
    "#plt.plot(np.arange(64), zdata)"
   ]
  },
  {
   "cell_type": "raw",
   "metadata": {},
   "source": [
    "ydata = np.zeros((64,), dtype=np.float32)\n",
    "zdata = np.zeros((64,), dtype=np.float32)\n",
    "\n",
    "for i in range(64):\n",
    "  if i < 64-2:\n",
    "    intersect_a = np.max(data[[i,i+2],2,0])\n",
    "    intersect_b = np.min(data[[i,i+2],2,2])\n",
    "    intersect_c = np.min(data[[i,i+2],2,0])\n",
    "    intersect_d = np.max(data[[i,i+2],2,2])\n",
    "    iou_1 = (intersect_b-intersect_a)/float(intersect_d-intersect_c)\n",
    "  else:\n",
    "    iou_1 = 0\n",
    "  if i >= 2:\n",
    "    intersect_a = np.max(data[[i-2,i],2,0])\n",
    "    intersect_b = np.min(data[[i-2,i],2,2])\n",
    "    intersect_c = np.min(data[[i-2,i],2,0])\n",
    "    intersect_d = np.max(data[[i-2,i],2,2])\n",
    "    iou_2 = (intersect_b-intersect_a)/float(intersect_d-intersect_c)\n",
    "  else:\n",
    "    iou_2 = 0\n",
    "  \n",
    "  ydata[i] = iou_1\n",
    "  zdata[i] = iou_2\n",
    "  print i, data[i,2], iou_1, iou_2\n",
    "  \n",
    "plt.plot(np.arange(64), ydata)\n",
    "plt.plot(np.arange(64), zdata)"
   ]
  },
  {
   "cell_type": "raw",
   "metadata": {},
   "source": [
    "data = np.zeros((64,4,9), dtype=np.int32)\n",
    "for i in range(64):\n",
    "  for j in range(1,5):\n",
    "    a = img[i,:,j]\n",
    "    b = np.true_divide(a.cumsum(), a.sum())\n",
    "    percentiles = np.asarray([2,5,10,20,50])\n",
    "    c = np.searchsorted(b, percentiles*0.01, side='left')\n",
    "    percentiles = np.asarray([80,90,95,98])\n",
    "    d = np.searchsorted(b, percentiles*0.01, side='right')\n",
    "    data[i,j-1] = np.hstack([c,d])"
   ]
  },
  {
   "cell_type": "raw",
   "metadata": {},
   "source": [
    "for k in range(9):\n",
    "  print data[:,2,k]\n",
    "  plt.plot(np.arange(64), data[:,2,k])"
   ]
  },
  {
   "cell_type": "raw",
   "metadata": {},
   "source": [
    "for k in range(9):\n",
    "  print data[:,3,k]\n",
    "  plt.plot(np.arange(64), data[:,3,k])"
   ]
  },
  {
   "cell_type": "code",
   "execution_count": null,
   "metadata": {},
   "outputs": [],
   "source": []
  }
 ],
 "metadata": {
  "kernelspec": {
   "display_name": "Python 2",
   "language": "python",
   "name": "python2"
  },
  "language_info": {
   "codemirror_mode": {
    "name": "ipython",
    "version": 2
   },
   "file_extension": ".py",
   "mimetype": "text/x-python",
   "name": "python",
   "nbconvert_exporter": "python",
   "pygments_lexer": "ipython2",
   "version": "2.7.11"
  }
 },
 "nbformat": 4,
 "nbformat_minor": 2
}
