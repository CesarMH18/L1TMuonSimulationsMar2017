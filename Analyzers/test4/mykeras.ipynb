{
 "cells": [
  {
   "cell_type": "code",
   "execution_count": 1,
   "metadata": {
    "collapsed": false
   },
   "outputs": [
    {
     "name": "stdout",
     "output_type": "stream",
     "text": [
      "[INFO] Loaded the variables, shape:  (1000000, 12)\n",
      "[INFO] Loaded the parameters, shape:  (1000000, 4)\n"
     ]
    }
   ],
   "source": [
    "#### Load data ####\n",
    "\n",
    "# Import the numpy library and fix random number seed for reproducibility\n",
    "import numpy as np\n",
    "import random\n",
    "seed = 7\n",
    "random.seed(seed)\n",
    "np.random.seed(seed)\n",
    "\n",
    "# Data consists of toy simulation hits and track parameters, stored in numpy arrays\n",
    "# - 12 variables which are (phi, r, z) hit coordinates for each of the 4 stations \n",
    "#                in this order: phi_0, phi_1, phi_2, phi_3, r_1, r_2, r_3, r_4, z_1, z_2, z_3, z_4\n",
    "# - 4 parameters which are signed 1/pT, cot(theta), phi at vertex, vertex z_0\n",
    "\n",
    "try:\n",
    "    data_loc = '/home/jlow/public/'\n",
    "    the_variables = np.load(data_loc+'the_variables_emtf.npy')\n",
    "    the_parameters = np.load(data_loc+'the_parameters_emtf.npy')\n",
    "except:\n",
    "    print \"[ERROR] Cannot load the_variables_emtf.npy and/or the the_parameters_emtf.npy\"\n",
    "\n",
    "print \"[INFO] Loaded the variables, shape: \", the_variables.shape\n",
    "print \"[INFO] Loaded the parameters, shape: \", the_parameters.shape"
   ]
  },
  {
   "cell_type": "code",
   "execution_count": 2,
   "metadata": {
    "collapsed": true
   },
   "outputs": [],
   "source": [
    "#### Prepare data ####\n",
    "\n",
    "# Pick variables and parameters\n",
    "nvariables = 8   # only use the phi and r coordinates\n",
    "nparameters = 1  # only use the signed 1/pT \n",
    "\n",
    "the_variables = the_variables[:, :nvariables]\n",
    "the_parameters = the_parameters[:, :nparameters]\n",
    "nentries = the_variables.shape[0]\n",
    "\n",
    "# Split half and half into training and testing datasets\n",
    "x_train = the_variables[:nentries/2, :]\n",
    "y_train = the_parameters[:nentries/2]\n",
    "x_test = the_variables[nentries/2:, :]\n",
    "y_test = the_parameters[nentries/2:]"
   ]
  },
  {
   "cell_type": "code",
   "execution_count": 3,
   "metadata": {
    "collapsed": false
   },
   "outputs": [
    {
     "name": "stderr",
     "output_type": "stream",
     "text": [
      "Using Theano backend.\n"
     ]
    }
   ],
   "source": [
    "#### Import Keras library #####\n",
    "\n",
    "from keras.models import Sequential\n",
    "from keras.layers import Dense, Activation\n",
    "from keras.regularizers import l2\n",
    "from keras import initializers\n",
    "from keras.optimizers import SGD\n",
    "\n",
    "import matplotlib.pyplot as plt\n",
    "%matplotlib inline"
   ]
  },
  {
   "cell_type": "code",
   "execution_count": 4,
   "metadata": {
    "collapsed": false
   },
   "outputs": [],
   "source": [
    "#### Create a model ####\n",
    "\n",
    "# See https://keras.io/models/about-keras-models/\n",
    "#     https://keras.io/layers/about-keras-layers/\n",
    "# for all kinds of things you can do with Keras\n",
    "\n",
    "# Define model\n",
    "# I define a simple model with 3 layers: layer 1 has 8 nodes; layer 2 has 4 nodes; \n",
    "# final layer is the output layer with 1 node\n",
    "model = Sequential()\n",
    "model.add(Dense(8, activation='tanh', kernel_initializer='normal', input_dim=8))\n",
    "model.add(Dense(4, activation='tanh', kernel_initializer='normal'))\n",
    "model.add(Dense(1, activation='linear'))\n",
    "\n",
    "# Set loss and optimizer\n",
    "model.compile(loss='mean_squared_error', optimizer='adam', metrics=['acc'])"
   ]
  },
  {
   "cell_type": "code",
   "execution_count": 5,
   "metadata": {
    "collapsed": false
   },
   "outputs": [
    {
     "name": "stdout",
     "output_type": "stream",
     "text": [
      "_________________________________________________________________\n",
      "Layer (type)                 Output Shape              Param #   \n",
      "=================================================================\n",
      "dense_1 (Dense)              (None, 8)                 72        \n",
      "_________________________________________________________________\n",
      "dense_2 (Dense)              (None, 4)                 36        \n",
      "_________________________________________________________________\n",
      "dense_3 (Dense)              (None, 1)                 5         \n",
      "=================================================================\n",
      "Total params: 113\n",
      "Trainable params: 113\n",
      "Non-trainable params: 0\n",
      "_________________________________________________________________\n"
     ]
    }
   ],
   "source": [
    "#### Training ####\n",
    "\n",
    "#history = model.fit(x_train, y_train, epochs=400, validation_split=0.2, batch_size=1000, verbose=1)\n",
    "\n",
    "# The webpage can become very unresponsive when you train with a large dataset with the above comment.\n",
    "# So I do the following instead.\n",
    "# See issue https://github.com/jupyter/notebook/issues/1474\n",
    "\n",
    "import sys\n",
    "old_stdout = sys.stdout\n",
    "sys.stdout = open('keras_output.txt', 'w')\n",
    "history = model.fit(x_train, y_train, epochs=400, validation_split=0.2, batch_size=1000, verbose=1)\n",
    "sys.stdout.close()\n",
    "sys.stdout = old_stdout\n",
    "\n",
    "# Store model to file\n",
    "model.save('model.h5')\n",
    "model.save_weights('model_weights.h5')\n",
    "model.summary()"
   ]
  },
  {
   "cell_type": "code",
   "execution_count": 6,
   "metadata": {
    "collapsed": false
   },
   "outputs": [
    {
     "name": "stdout",
     "output_type": "stream",
     "text": [
      "453000/500000 [==========================>...] - ETA: 0s\b\b\b\b\b\b\b\b\b\b\b\b\b\b\b\b\b\b\b\b\b\b\b\b\b\b\b\b\b\b\b\b\b\b\b\b\b\b\b\b\b\b\b\b\b\b\b\b\b\b\b\b\b\b\b\b\b\b\b\b\b\b\b\b\b\b\b\b\b\b\b\b\b\b\b\b\b\b\b\b\b\b\b\b\b\b\b\b\b\b\b\b\b\b\b\b\b\b\b\b\b\b\b\b\b\b\b\b\b\b\b\b\b\b\b\b\b\b\b\b\b\b\b\b\b\b\b\b\b\b\b\b\b\b\b\b\b\b\b\b\b\b\b\b\b\b\b\b\b\b\b\b\b\b\b\b\b\b\b\b\b\b\b\b\b\b\b\b\b\b\b\b\b\b\b\b\b\b\b\b\b\b\b\b\b\b\b\b\b\b\b\b\b\b\b\b\b\b\b\b\b\b\b\b\b\b\b\b\b\b\b\b\b\b\b\b\b\b\b\b\b\b\b\b\b\b\b\b\b\b\b\b\b\b\b\b\b\b\b\b\b\b\b\b\b\b\b\b\b\b\b\b\b\b\b\b\b\b\b\b\b\b\b\b\b\b\b\b\b\b\b\b\b\b\b\b\b\b\b\b\b\b\b\b\b\b\b\b\b\b\b\b\b\b\b\b\b\b\b\b\b\b\b\b\b\b\b\b\b\b\b\b\b\b\b\b\b\b\b\b\b\b\b\b\b\b\b\b\b\b\b\b\b\b\b\b\b\b\b\b\b\b\b\b\b\b\b\b\b\b\b\b\b\b\b\b\b\b\b\b\b\b\b\b\b\b\b\b\b\b\b\b\b\b\b\b\b\b\b\b\b\b\b\b\b\b\b\b\b\b\b\b\b\b\b\b\b\b\b\b\b\b\b\b\b\b\b\b\b\b\b\b\b\b\b\b\b\b\b\b\b\b\b\b\b\b\b\b\b\b\b\b\b\b\b\b\b\b\b\b\b\b\b\b\b\b\b\b"
     ]
    },
    {
     "data": {
      "image/png": "[encoded data removed]",
      "text/plain": [
       "<matplotlib.figure.Figure at 0x7f90e2ffc190>"
      ]
     },
     "metadata": {},
     "output_type": "display_data"
    },
    {
     "data": {
      "image/png": "[encoded data removed]",
      "text/plain": [
       "<matplotlib.figure.Figure at 0x7f90e2f1f2d0>"
      ]
     },
     "metadata": {},
     "output_type": "display_data"
    }
   ],
   "source": [
    "#### Evaluation using Keras internal tool ####\n",
    "\n",
    "loss_and_metrics = model.evaluate(x_test, y_test, batch_size=1000)\n",
    "\n",
    "#  \"Accuracy\"\n",
    "plt.plot(history.history['acc'])\n",
    "plt.plot(history.history['val_acc'])\n",
    "plt.title('model accuracy')\n",
    "plt.ylabel('accuracy')\n",
    "plt.xlabel('epoch')\n",
    "plt.legend(['train', 'validation'], loc='upper left')\n",
    "plt.show()\n",
    "\n",
    "# \"Loss\"\n",
    "plt.plot(history.history['loss'])\n",
    "plt.plot(history.history['val_loss'])\n",
    "plt.title('model loss')\n",
    "plt.ylabel('loss')\n",
    "plt.xlabel('epoch')\n",
    "plt.legend(['train', 'validation'], loc='upper left')\n",
    "plt.show()"
   ]
  },
  {
   "cell_type": "code",
   "execution_count": 7,
   "metadata": {
    "collapsed": false
   },
   "outputs": [
    {
     "name": "stdout",
     "output_type": "stream",
     "text": [
      "Welcome to JupyROOT 6.10/05\n"
     ]
    },
    {
     "data": {
      "image/png": "[encoded data removed]",
      "text/plain": [
       "<IPython.core.display.Image object>"
      ]
     },
     "metadata": {},
     "output_type": "display_data"
    }
   ],
   "source": [
    "#### Evaluation by manually looping over the events ####\n",
    "\n",
    "import ROOT\n",
    "\n",
    "h1 = ROOT.TH1F(\"h1\", \"h1\", 600, -0.3, 0.3)\n",
    "\n",
    "#nentries_test = x_test.shape[0]\n",
    "nentries_test = 100000\n",
    "\n",
    "# Loop over events\n",
    "for i in xrange(nentries_test):\n",
    "    y = model.predict(np.array(x_test[i, :]).reshape(1,nvariables))\n",
    "    y_true = y_test[i, 0]\n",
    "    y_meas = y[0, 0]    \n",
    "    h1.Fill(y_meas - y_true)\n",
    "\n",
    "# Draw\n",
    "c = ROOT.TCanvas()\n",
    "h1.Draw()\n",
    "c.Draw()"
   ]
  },
  {
   "cell_type": "code",
   "execution_count": null,
   "metadata": {
    "collapsed": true
   },
   "outputs": [],
   "source": []
  }
 ],
 "metadata": {
  "kernelspec": {
   "display_name": "Python 2",
   "language": "python",
   "name": "python2"
  },
  "language_info": {
   "codemirror_mode": {
    "name": "ipython",
    "version": 2
   },
   "file_extension": ".py",
   "mimetype": "text/x-python",
   "name": "python",
   "nbconvert_exporter": "python",
   "pygments_lexer": "ipython2",
   "version": "2.7.11"
  }
 },
 "nbformat": 4,
 "nbformat_minor": 2
}
