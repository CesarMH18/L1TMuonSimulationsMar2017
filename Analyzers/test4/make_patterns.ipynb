{
 "cells": [
  {
   "cell_type": "code",
   "execution_count": 1,
   "metadata": {},
   "outputs": [],
   "source": [
    "import numpy as np\n",
    "import matplotlib.pyplot as plt\n",
    "%matplotlib inline\n",
    "\n",
    "# Styling\n",
    "plt.style.use('tdrstyle.mplstyle')"
   ]
  },
  {
   "cell_type": "code",
   "execution_count": 2,
   "metadata": {},
   "outputs": [
    {
     "name": "stdout",
     "output_type": "stream",
     "text": [
      "Welcome to JupyROOT 6.10/09\n"
     ]
    }
   ],
   "source": [
    "from rootpy.io import root_open\n",
    "import ROOT\n",
    "ROOT.gROOT.SetBatch(True)"
   ]
  },
  {
   "cell_type": "code",
   "execution_count": 3,
   "metadata": {},
   "outputs": [],
   "source": [
    "infile_r = None  # input file handle\n",
    "\n",
    "def load_pgun():\n",
    "  global infile_r\n",
    "  infile = '../test7/ntuple_SingleMuon_Toy_2GeV_add.6.root'\n",
    "  #if use_condor:\n",
    "  #  infile = 'root://cmsio5.rc.ufl.edu//store/user/jiafulow/L1MuonTrigger/P2_10_1_5/SingleMuon_Toy_2GeV/'+infile\n",
    "  infile_r = root_open(infile)\n",
    "  tree = infile_r.ntupler.tree\n",
    "  #tree = TreeChain('ntupler/tree', [infile])\n",
    "  print('[INFO] Opening file: %s' % infile)\n",
    "\n",
    "  # Define collection\n",
    "  tree.define_collection(name='hits', prefix='vh_', size='vh_size')\n",
    "  tree.define_collection(name='tracks', prefix='vt_', size='vt_size')\n",
    "  tree.define_collection(name='particles', prefix='vp_', size='vp_size')\n",
    "  return tree"
   ]
  },
  {
   "cell_type": "code",
   "execution_count": 8,
   "metadata": {},
   "outputs": [],
   "source": [
    "#maxEvents = 500000\n",
    "maxEvents = 10000\n",
    "\n",
    "kDT, kCSC, kRPC, kGEM, kME0 = 0, 1, 2, 3, 4\n",
    "\n",
    "eta_bins = (1.2, 1.55, 1.7, 1.8, 1.98, 2.15, 2.5)\n",
    "eta_bins = eta_bins[::-1]\n",
    "pt_bins = (-0.5 , -0.38, -0.26, -0.15, -0.05, 0.05, 0.15, 0.26, 0.38, 0.5)\n",
    "nlayers = 12  # 5 (CSC) + 4 (RPC) + 3 (GEM)\n",
    "superstrip_size = 32\n",
    "\n",
    "assert(len(eta_bins) == 6+1)\n",
    "assert(len(pt_bins) == 9+1)\n",
    "\n",
    "def find_sector(phi):  # phi in radians\n",
    "  dphi = delta_phi(phi, np.pi/12)  # sector 1 starts at 15 deg\n",
    "  dphi = int(np.floor(dphi/(np.pi/3)))  # divide by 60 deg\n",
    "  if dphi < 0:\n",
    "    sector = 7 + dphi\n",
    "  else:\n",
    "    sector = 1 + dphi\n",
    "  return sector\n",
    "\n",
    "def find_endcap(eta):\n",
    "  endcap = +1 if eta >= 0. else -1\n",
    "  return endcap\n",
    "\n",
    "def find_endsec(endcap, sector):\n",
    "  endsec = (sector - 1) if endcap == 1 else (sector - 1 + 6)\n",
    "  return endsec\n",
    "\n",
    "def find_pt_bin(pt):\n",
    "  ipt = np.digitize((pt,), pt_bins[1:])[0]  # skip lowest edge\n",
    "  ipt = np.clip(ipt, 0, len(pt_bins)-2)\n",
    "  return ipt\n",
    "\n",
    "def find_eta_bin(eta):\n",
    "  ieta = np.digitize((abs(eta),), eta_bins[1:])[0]  # skip lowest edge\n",
    "  ieta = np.clip(ieta, 0, len(eta_bins)-2)\n",
    "  return ieta\n",
    "\n",
    "# Decide EMTF hit layer number\n",
    "class EMTFLayer(object):\n",
    "  def __init__(self):\n",
    "    lut = np.zeros((5,5,5), dtype=np.int32) - 99  # (type, station, ring) -> layer\n",
    "    lut[1,1,4] = 0  # ME1/1a\n",
    "    lut[1,1,1] = 0  # ME1/1b\n",
    "    lut[1,1,2] = 1  # ME1/2\n",
    "    lut[1,1,3] = 1  # ME1/3\n",
    "    lut[1,2,1] = 2  # ME2/1\n",
    "    lut[1,2,2] = 2  # ME2/2\n",
    "    lut[1,3,1] = 3  # ME3/1\n",
    "    lut[1,3,2] = 3  # ME3/2\n",
    "    lut[1,4,1] = 4  # ME4/1\n",
    "    lut[1,4,2] = 4  # ME4/2\n",
    "    lut[2,1,2] = 5  # RE1/2\n",
    "    lut[2,2,2] = 6  # RE2/2\n",
    "    lut[2,3,1] = 7  # RE3/1\n",
    "    lut[2,3,2] = 7  # RE3/2\n",
    "    lut[2,3,3] = 7  # RE3/3\n",
    "    lut[2,4,1] = 8  # RE4/1\n",
    "    lut[2,4,2] = 8  # RE4/2\n",
    "    lut[2,4,3] = 8  # RE4/3\n",
    "    lut[3,1,1] = 9  # GE1/1\n",
    "    lut[3,2,1] = 10 # GE2/1\n",
    "    lut[4,1,1] = 11 # ME0\n",
    "    self.lut = lut\n",
    "\n",
    "  def __call__(self, hit):\n",
    "    index = (hit.type, hit.station, hit.ring)\n",
    "    entry = self.lut[index]\n",
    "    return entry\n",
    "\n",
    "find_emtf_layer = EMTFLayer()\n",
    "\n",
    "class EMTFZone(object):\n",
    "  def __init__(self):\n",
    "    lut = np.zeros((5,5,5,6,2), dtype=np.int32) - 99  # (type, station, ring) -> [zone] x [min_theta,max_theta]\n",
    "    lut[1,1,4][0] = 4,17   # ME1/1a\n",
    "    lut[1,1,4][1] = 16,26  # ME1/1a\n",
    "    lut[1,1,4][2] = 24,37  # ME1/1a\n",
    "    lut[1,1,4][3] = 34,43  # ME1/1a\n",
    "    lut[1,1,4][4] = 40,53  # ME1/1a\n",
    "    lut[1,1,1][0] = 4,17   # ME1/1b\n",
    "    lut[1,1,1][1] = 16,26  # ME1/1b\n",
    "    lut[1,1,1][2] = 24,37  # ME1/1b\n",
    "    lut[1,1,1][3] = 34,43  # ME1/1b\n",
    "    lut[1,1,1][4] = 40,53  # ME1/1b\n",
    "    lut[1,1,2][4] = 46,54  # ME1/2\n",
    "    lut[1,1,2][5] = 52,88  # ME1/2\n",
    "    lut[1,1,3][4] = 46,54  # ME1/3\n",
    "    lut[1,1,3][5] = 52,88  # ME1/3\n",
    "    #\n",
    "    lut[1,2,1][0] = 4,17   # ME2/1\n",
    "    lut[1,2,1][1] = 16,25  # ME2/1\n",
    "    lut[1,2,1][2] = 24,36  # ME2/1\n",
    "    lut[1,2,1][3] = 34,43  # ME2/1\n",
    "    lut[1,2,1][4] = 40,49  # ME2/1\n",
    "    lut[1,2,2][5] = 53,88  # ME2/2\n",
    "    #\n",
    "    lut[1,3,1][0] = 4,17   # ME3/1\n",
    "    lut[1,3,1][1] = 16,25  # ME3/1\n",
    "    lut[1,3,1][2] = 24,36  # ME3/1\n",
    "    lut[1,3,1][3] = 34,40  # ME3/1\n",
    "    lut[1,3,2][4] = 44,54  # ME3/2\n",
    "    lut[1,3,2][5] = 52,88  # ME3/2\n",
    "    #\n",
    "    lut[1,4,1][0] = 4,17   # ME4/1\n",
    "    lut[1,4,1][1] = 16,25  # ME4/1\n",
    "    lut[1,4,1][2] = 24,35  # ME4/1\n",
    "    lut[1,4,2][3] = 38,43  # ME4/2\n",
    "    lut[1,4,2][4] = 41,54  # ME4/2\n",
    "    lut[1,4,2][5] = 52,88  # ME4/2\n",
    "    #\n",
    "    lut[2,1,2][5] = 52,84  # RE1/2\n",
    "    lut[2,2,2][5] = 56,76  # RE2/2\n",
    "    lut[2,3,1][0] = 4,20   # RE3/1\n",
    "    lut[2,3,1][1] = 20,24  # RE3/1\n",
    "    lut[2,3,1][2] = 24,32  # RE3/1\n",
    "    lut[2,3,2][3] = 40,40  # RE3/2\n",
    "    lut[2,3,2][4] = 40,52  # RE3/2\n",
    "    lut[2,3,2][5] = 48,84  # RE3/2\n",
    "    lut[2,3,3][3] = 40,40  # RE3/3\n",
    "    lut[2,3,3][4] = 40,52  # RE3/3\n",
    "    lut[2,3,3][5] = 48,84  # RE3/3\n",
    "    lut[2,4,1][0] = 8,16   # RE4/1\n",
    "    lut[2,4,1][1] = 16,28  # RE4/1\n",
    "    lut[2,4,1][2] = 24,28  # RE4/1\n",
    "    lut[2,4,2][3] = 36,44  # RE4/2\n",
    "    lut[2,4,2][4] = 44,52  # RE4/2\n",
    "    lut[2,4,2][5] = 52,84  # RE4/2\n",
    "    lut[2,4,3][3] = 36,44  # RE4/3\n",
    "    lut[2,4,3][4] = 44,52  # RE4/3\n",
    "    lut[2,4,3][5] = 52,84  # RE4/3\n",
    "    #\n",
    "    lut[3,1,1][1] = 17,26  # GE1/1\n",
    "    lut[3,1,1][2] = 24,37  # GE1/1\n",
    "    lut[3,1,1][3] = 35,45  # GE1/1\n",
    "    lut[3,1,1][4] = 40,52  # GE1/1\n",
    "    lut[3,2,1][0] = 7,19   # GE2/1\n",
    "    lut[3,2,1][1] = 18,24  # GE2/1\n",
    "    lut[3,2,1][2] = 23,35  # GE2/1\n",
    "    lut[3,2,1][3] = 34,45  # GE2/1\n",
    "    lut[3,2,1][4] = 40,46  # GE2/1\n",
    "    #\n",
    "    lut[4,1,1][0] = 4,17   # ME0\n",
    "    lut[4,1,1][1] = 16,23  # ME0\n",
    "    self.lut = lut\n",
    "    \n",
    "  def __call__(self, hit):\n",
    "    index = (hit.type, hit.station, hit.ring)\n",
    "    entry = self.lut[index]\n",
    "    answer = (entry[:,0] <= hit.emtf_theta) & (hit.emtf_theta <= entry[:,1])\n",
    "    zones = np.nonzero(answer)\n",
    "    if isinstance(zones, tuple):\n",
    "      zones = zones[0]\n",
    "    return zones\n",
    "\n",
    "find_emtf_zones = EMTFZone()\n",
    "\n",
    "class EMTFCheckMode(object):\n",
    "  def __call__(self, mode):\n",
    "    if hasattr(mode, 'mode'):\n",
    "      mode = mode.mode\n",
    "    return mode in (11,13,14,15)\n",
    "\n",
    "is_good_emtf_mode = EMTFCheckMode()\n",
    "\n",
    "class EMTFCheckLegit(object):\n",
    "  def check_bx(self, hit):\n",
    "    if hit.type == kCSC:\n",
    "      return hit.bx in (-1,0)\n",
    "    else:\n",
    "      return hit.bx == 0\n",
    "\n",
    "  def check_quality(self, hit):\n",
    "    if hit.type == kRPC:\n",
    "      return hit.quality <= 9  # cluster width\n",
    "    else:\n",
    "      return True\n",
    "\n",
    "  def __call__(self, hit):\n",
    "    return self.check_bx(hit) and self.check_quality(hit)\n",
    "\n",
    "is_good_emtf_hit = EMTFCheckLegit()\n",
    "\n",
    "class EMTFZee(object):\n",
    "  def __init__(self):\n",
    "    self.lut = np.array([599.0, 696.8, 827.1, 937.5, 1027, 708.7, 790.9, 968.8, 1060, 566.4, 794.8, 539.3], dtype=np.float32)\n",
    "    assert(self.lut.shape[0] == nlayers)\n",
    "  \n",
    "  def __call__(self, hit):\n",
    "    return self.lut[hit.emtf_layer]\n",
    "\n",
    "find_emtf_zee = EMTFZee()\n",
    "\n",
    "class EMTFPhi(object):\n",
    "  def __init__(self):\n",
    "    pass\n",
    "  \n",
    "  def __call__(self, hit):\n",
    "    if hit.type == kCSC:\n",
    "      if hit.station == 1:\n",
    "        if hit.ring == 1:\n",
    "          bend_corr_lut = (-1.3861, 1.3692)  # ME1/1b (r,f)\n",
    "        elif hit.ring == 4:\n",
    "          bend_corr_lut = (-1.6419, 1.6012)  # ME1/1a (r,f)\n",
    "        else:\n",
    "          bend_corr_lut = (-0.9237, 0.8287)  # ME1/2 (r,f)\n",
    "        bend_corr = bend_corr_lut[int(hit.fr)] * hit.bend\n",
    "        bend_corr = bend_corr if hit.endcap == 1 else (bend_corr * -1)\n",
    "        bend_corr = int(round(bend_corr))\n",
    "        return hit.emtf_phi + bend_corr\n",
    "      else:\n",
    "        pass\n",
    "    else:\n",
    "      pass\n",
    "    return hit.emtf_phi\n",
    "\n",
    "find_emtf_phi = EMTFPhi()\n",
    "\n",
    "\n",
    "# ______________________________________________________________________________\n",
    "def analysis(verbose=1):\n",
    "  tree = load_pgun()\n",
    "  \n",
    "  from six.moves import range, zip, map, filter\n",
    "  from incrementalstats import IncrementalStats\n",
    "  \n",
    "  out_part, out_hits = [], []\n",
    "  \n",
    "  # Loop over events\n",
    "  for ievt, evt in enumerate(tree):\n",
    "    if maxEvents != -1 and ievt == maxEvents:\n",
    "      break\n",
    "    \n",
    "    if verbose and (ievt % 10000 == 0):  print(\"Processing event: {0}\".format(ievt))\n",
    "    \n",
    "    # Skip events with very few hits\n",
    "    if not len(evt.hits) >= 4:\n",
    "      continue\n",
    "    \n",
    "    # Skip events without ME1 hits\n",
    "    has_ME1 = False\n",
    "    for ihit, hit in enumerate(evt.hits):\n",
    "      if hit.type == kCSC and hit.station == 1:\n",
    "        has_ME1 = True\n",
    "        break\n",
    "      elif hit.type == kME0 and hit.station == 1:\n",
    "        has_ME1 = True\n",
    "        break\n",
    "    if not has_ME1:\n",
    "      continue\n",
    "    \n",
    "    part = evt.particles[0]  # particle gun\n",
    "    part.invpt = np.true_divide(part.q, part.pt)\n",
    "    \n",
    "    # Find the best sector (using csc-only 'mode')\n",
    "    sector_mode_array = np.zeros((12,), dtype=np.int32)\n",
    "    sector_hits_array = np.empty((12,), dtype=np.object)\n",
    "    for ind in np.ndindex(sector_hits_array.shape):\n",
    "      sector_hits_array[ind] = []\n",
    "    \n",
    "    for ihit, hit in enumerate(evt.hits):\n",
    "      assert(hit.emtf_phi < 5040)  # 84*60\n",
    "      \n",
    "      if hit.sim_tp1 == 0 and hit.sim_tp2 == 0:\n",
    "        endsec = find_endsec(hit.endcap, hit.sector)\n",
    "        if hit.type == kCSC:\n",
    "          sector_mode_array[endsec] |= (1<<(4-hit.station))\n",
    "        elif hit.type == kME0:\n",
    "          sector_mode_array[endsec] |= (1<<(4-hit.station))\n",
    "        sector_hits_array[endsec].append(hit)\n",
    "    \n",
    "    # Get the best sector\n",
    "    best_sector = np.argmax(sector_mode_array)\n",
    "    mode = sector_mode_array[best_sector]\n",
    "    \n",
    "    # Skip events without SingleMu modes\n",
    "    if not is_good_emtf_mode(mode):\n",
    "      continue\n",
    "    \n",
    "    # Get the particle info, road info\n",
    "    ipt = find_pt_bin(part.invpt)\n",
    "    ieta = find_eta_bin(part.eta)\n",
    "    \n",
    "    # Get the hits\n",
    "    sector_hits = sector_hits_array[best_sector]\n",
    "    sector_hits = filter(is_good_emtf_hit, sector_hits)\n",
    "    \n",
    "    amap = {}  # zone -> hits\n",
    "    \n",
    "    # Loop over sector hits\n",
    "    for ihit, hit in enumerate(sector_hits):\n",
    "      hit.emtf_layer = find_emtf_layer(hit)\n",
    "      assert(hit.emtf_layer != -99)\n",
    "      \n",
    "      hit.old_emtf_phi = hit.emtf_phi\n",
    "      hit.emtf_zee = find_emtf_zee(hit)\n",
    "      hit.emtf_phi = find_emtf_phi(hit)\n",
    "      \n",
    "      zones = find_emtf_zones(hit)\n",
    "      for z in zones:\n",
    "        amap.setdefault(np.asscalar(z), []).append(hit)\n",
    "      continue  # end loop over sector_hits\n",
    "    \n",
    "    # Loop over map of zone -> hits\n",
    "    ievt_part = []\n",
    "    ievt_hits = []\n",
    "    \n",
    "    for k, v in amap.iteritems():\n",
    "      zone = k\n",
    "      hits = v\n",
    "      \n",
    "      mode = 0  # csc-only 'mode'\n",
    "      for ihit, hit in enumerate(hits):\n",
    "        if hit.type == kCSC:\n",
    "          mode |= (1<<(4-hit.station))\n",
    "        elif hit.type == kME0:\n",
    "          mode |= (1<<(4-hit.station))\n",
    "      \n",
    "      if not is_good_emtf_mode(mode):\n",
    "        continue\n",
    "      \n",
    "      # Output\n",
    "      hits_array = np.zeros((50,4), dtype=np.int32) - 99  # output up to 50 hits\n",
    "      for ihit, hit in enumerate(hits):\n",
    "        if ihit == 50:\n",
    "          break\n",
    "        hits_array[ihit] = (hit.emtf_layer, hit.emtf_phi, hit.old_emtf_phi, hit.emtf_zee)\n",
    "        \n",
    "      ievt_part.append((ipt, ieta, zone, mode))\n",
    "      ievt_hits.append(hits_array)\n",
    "      continue  # end loop over map of zone -> hits\n",
    "    \n",
    "    # Verbose\n",
    "    if ievt < 20:\n",
    "      ievt_nhits = [(x[:,0] != -99).sum() for x in ievt_hits]\n",
    "      print ievt, part.pt, ievt_part, ievt_nhits\n",
    "      \n",
    "    out_part += ievt_part\n",
    "    out_hits += ievt_hits\n",
    "    continue  # end loop over events\n",
    "\n",
    "  if verbose: print \"DONE\"\n",
    "  return np.asarray(out_part), np.asarray(out_hits)"
   ]
  },
  {
   "cell_type": "code",
   "execution_count": 13,
   "metadata": {
    "scrolled": false
   },
   "outputs": [
    {
     "name": "stdout",
     "output_type": "stream",
     "text": [
      "[INFO] Opening file: ../test7/ntuple_SingleMuon_Toy_2GeV_add.6.root\n",
      "Processing event: 0\n",
      "0 2.2441008091 [(0, 1, 1, 14)] [7]\n",
      "2 2.83313345909 [(7, 0, 0, 14)] [8]\n",
      "4 6.14469432831 [(2, 5, 5, 15)] [9]\n",
      "5 5.51849126816 [(6, 3, 3, 15)] [9]\n",
      "6 2.62028098106 [(8, 1, 1, 11)] [8]\n",
      "7 6.84316205978 [(3, 1, 1, 15)] [7]\n",
      "8 2.37840628624 [(8, 1, 1, 15)] [11]\n",
      "9 2.898209095 [(1, 0, 0, 14)] [8]\n",
      "10 2.72461438179 [(7, 0, 0, 15)] [8]\n",
      "11 3.73449015617 [(7, 2, 2, 15)] [9]\n",
      "12 52.140007019 [(4, 0, 0, 15)] [8]\n",
      "14 8.361577034 [(3, 5, 5, 15)] [6]\n",
      "15 7.21895551682 [(3, 3, 3, 15)] [10]\n",
      "16 25.9081859589 [(4, 4, 3, 13), (4, 4, 4, 13)] [8, 9]\n",
      "17 2.27322983742 [(0, 0, 0, 13), (0, 0, 1, 13)] [7, 9]\n",
      "18 16.2746582031 [(5, 2, 2, 13)] [8]\n",
      "19 10.1214160919 [(5, 3, 3, 13), (5, 3, 4, 13)] [7, 7]\n",
      "DONE\n",
      "CPU times: user 37.5 s, sys: 6.1 s, total: 43.6 s\n",
      "Wall time: 40.8 s\n"
     ]
    }
   ],
   "source": [
    "%%time\n",
    "\n",
    "# Run analysis\n",
    "out_part, out_hits = analysis()"
   ]
  },
  {
   "cell_type": "code",
   "execution_count": 14,
   "metadata": {},
   "outputs": [
    {
     "name": "stdout",
     "output_type": "stream",
     "text": [
      "(8086, 4) (8086, 50, 4)\n"
     ]
    }
   ],
   "source": [
    "print out_part.shape, out_hits.shape"
   ]
  },
  {
   "cell_type": "code",
   "execution_count": null,
   "metadata": {},
   "outputs": [],
   "source": []
  },
  {
   "cell_type": "code",
   "execution_count": null,
   "metadata": {},
   "outputs": [],
   "source": []
  },
  {
   "cell_type": "code",
   "execution_count": 25,
   "metadata": {},
   "outputs": [],
   "source": [
    "hits_z = []\n",
    "hits_phi = []\n",
    "\n",
    "for part, hits in zip(out_part, out_hits):\n",
    "  (ipt, ieta, zone, mode) = part\n",
    "  hits = hits[hits[:,0] != -99]\n",
    "  \n",
    "  if ipt == 4 and ieta == 1 and zone == 1 and mode == 15:\n",
    "    key_phi = None\n",
    "    for hit in hits:\n",
    "      (emtf_layer, emtf_phi, old_emtf_phi, emtf_zee) = hit\n",
    "      if emtf_layer == 2:\n",
    "        key_phi = emtf_phi\n",
    "        break\n",
    "    \n",
    "    if key_phi is not None:\n",
    "      for hit in hits:\n",
    "        (emtf_layer, emtf_phi, old_emtf_phi, emtf_zee) = hit\n",
    "        hits_z.append(emtf_zee)\n",
    "        hits_phi.append(emtf_phi - key_phi)"
   ]
  },
  {
   "cell_type": "code",
   "execution_count": 41,
   "metadata": {},
   "outputs": [
    {
     "name": "stdout",
     "output_type": "stream",
     "text": [
      "(1119,) (1119,)\n"
     ]
    }
   ],
   "source": [
    "hits_z = np.asarray(hits_z)\n",
    "hits_phi = np.asarray(hits_phi)\n",
    "print hits_z.shape, hits_phi.shape"
   ]
  },
  {
   "cell_type": "code",
   "execution_count": 97,
   "metadata": {},
   "outputs": [
    {
     "name": "stdout",
     "output_type": "stream",
     "text": [
      "{'k1__constant_value': 1.0, 'k2__length_scale': 1.0, 'k2': RBF(length_scale=1), 'k1': 1**2, 'k1__constant_value_bounds': (0.001, 1000.0), 'k2__length_scale_bounds': (0.0001, 100.0)}\n",
      "{'k1__constant_value': 53.10450529659442, 'k2__length_scale': 3.6960713958140246, 'k2': RBF(length_scale=3.7), 'k1': 7.29**2, 'k1__constant_value_bounds': (0.001, 1000.0), 'k2__length_scale_bounds': (0.0001, 100.0)}\n"
     ]
    }
   ],
   "source": [
    "from sklearn.gaussian_process import GaussianProcessRegressor\n",
    "from sklearn.gaussian_process.kernels import RBF, ConstantKernel as C\n",
    "\n",
    "kernel = C(1.0, (1e-3, 1e3)) * RBF(1.0, (1e-4, 1e2))\n",
    "alpha = 0.1\n",
    "gp = GaussianProcessRegressor(kernel=kernel, alpha=alpha, n_restarts_optimizer=10)\n",
    "\n",
    "gp.fit(np.atleast_2d(hits_z).T, hits_phi)\n",
    "print kernel.get_params()\n",
    "print gp.kernel_.get_params()"
   ]
  },
  {
   "cell_type": "code",
   "execution_count": 98,
   "metadata": {},
   "outputs": [
    {
     "data": {
      "image/png": "[encoded data removed]",
      "text/plain": [
       "<matplotlib.figure.Figure at 0x7fe9e412b5d0>"
      ]
     },
     "metadata": {},
     "output_type": "display_data"
    }
   ],
   "source": [
    "lins_z = np.linspace(500,1080,num=59)\n",
    "lins_phi, sigma = gp.predict(np.atleast_2d(lins_z).T, return_std=True)\n",
    "\n",
    "fig, ax = plt.subplots(figsize=(7,7))\n",
    "#ax.hist2d(hits_z, hits_phi, bins=(58,1024), range=((500,1080),(-512,512)))\n",
    "ax.plot(lins_z, lins_phi)\n",
    "ax.fill(np.concatenate([lins_z, lins_z[::-1]]), \n",
    "        np.concatenate([lins_phi - 1.9600 * sigma, (lins_phi + 1.9600 * sigma)[::-1]]),\n",
    "        alpha=.5, fc='b', ec='None', label='95% confidence interval')\n",
    "#ax.set_xlim(0,1200)\n",
    "#ax.set_ylim(0,np.pi/4)\n",
    "plt.show()"
   ]
  },
  {
   "cell_type": "code",
   "execution_count": 99,
   "metadata": {},
   "outputs": [
    {
     "name": "stdout",
     "output_type": "stream",
     "text": [
      "[-46.6  61.2] [ -32   28   35   70   20  -43  -22   12 -122   16   28   13   25  -35\n",
      "  -23  -20  -20  -15   12   16  -22   -5   85   59   26 -151  -11  -45\n",
      "   45   45 -278   -8   10  -16  -18   11   45   23  -18  -18    6    5\n",
      "   29   11  -36  -18  -13  -37   26   50  108  -20  -24   -7  -29    8\n",
      "   -5  -81  -67   39   27   35   -2  -19   -6   21   20  -17  -24  -17\n",
      "   11   -7  -20   13   23   26  -30   -1  -11    1    8   28   10   11\n",
      "  -11  -53   83   17   -5  -12   -9  -22   37  -13   13   -5    8  -15\n",
      "   15  -14  -25   54  -15   -1   19   -7   23   10   -8   86    1   -1\n",
      "  -30  -21  168   28   31]\n"
     ]
    }
   ],
   "source": [
    "hits_phi_test = hits_phi[(598<hits_z) & (hits_z<600)]\n",
    "print np.percentile(hits_phi_test, [5,95])\n",
    "print lins_phi[lins_z==600], 1.96*sigma[lins_z==600]"
   ]
  },
  {
   "cell_type": "code",
   "execution_count": 100,
   "metadata": {},
   "outputs": [
    {
     "name": "stdout",
     "output_type": "stream",
     "text": [
      "[0.43670437] [3.7951431]\n"
     ]
    }
   ],
   "source": []
  },
  {
   "cell_type": "code",
   "execution_count": null,
   "metadata": {},
   "outputs": [],
   "source": []
  },
  {
   "cell_type": "code",
   "execution_count": null,
   "metadata": {},
   "outputs": [],
   "source": []
  },
  {
   "cell_type": "code",
   "execution_count": 101,
   "metadata": {},
   "outputs": [],
   "source": [
    "hits_z = []\n",
    "hits_phi = []\n",
    "\n",
    "for part, hits in zip(out_part, out_hits):\n",
    "  (ipt, ieta, zone, mode) = part\n",
    "  hits = hits[hits[:,0] != -99]\n",
    "  \n",
    "  if ipt == 2 and ieta == 1 and zone == 1 and mode == 15:\n",
    "    key_phi = None\n",
    "    for hit in hits:\n",
    "      (emtf_layer, emtf_phi, old_emtf_phi, emtf_zee) = hit\n",
    "      if emtf_layer == 2:\n",
    "        key_phi = emtf_phi\n",
    "        break\n",
    "    \n",
    "    if key_phi is not None:\n",
    "      for hit in hits:\n",
    "        (emtf_layer, emtf_phi, old_emtf_phi, emtf_zee) = hit\n",
    "        hits_z.append(emtf_zee)\n",
    "        hits_phi.append(emtf_phi - key_phi)"
   ]
  },
  {
   "cell_type": "code",
   "execution_count": 102,
   "metadata": {},
   "outputs": [
    {
     "name": "stdout",
     "output_type": "stream",
     "text": [
      "(1168,) (1168,)\n"
     ]
    }
   ],
   "source": [
    "hits_z = np.asarray(hits_z)\n",
    "hits_phi = np.asarray(hits_phi)\n",
    "print hits_z.shape, hits_phi.shape"
   ]
  },
  {
   "cell_type": "code",
   "execution_count": 133,
   "metadata": {},
   "outputs": [
    {
     "name": "stdout",
     "output_type": "stream",
     "text": [
      "{'k1__constant_value': 1.0, 'k2__length_scale': 1.0, 'k2': RBF(length_scale=1), 'k1': 1**2, 'k1__constant_value_bounds': (0.001, 1000.0), 'k2__length_scale_bounds': (0.0001, 1000.0)}\n",
      "{'k1__constant_value': 999.9999999999998, 'k2__length_scale': 70.10575715128252, 'k2': RBF(length_scale=70.1), 'k1': 31.6**2, 'k1__constant_value_bounds': (0.001, 1000.0), 'k2__length_scale_bounds': (0.0001, 1000.0)}\n"
     ]
    }
   ],
   "source": [
    "from sklearn.gaussian_process import GaussianProcessRegressor\n",
    "from sklearn.gaussian_process.kernels import RBF, ConstantKernel as C\n",
    "\n",
    "kernel = C(1.0, (1e-3, 1e3)) * RBF(1.0, (1e-4, 1e3))\n",
    "alpha = 10**2\n",
    "gp = GaussianProcessRegressor(kernel=kernel, alpha=alpha, n_restarts_optimizer=10)\n",
    "\n",
    "gp.fit(np.atleast_2d(hits_z).T, hits_phi)\n",
    "print kernel.get_params()\n",
    "print gp.kernel_.get_params()"
   ]
  },
  {
   "cell_type": "code",
   "execution_count": 134,
   "metadata": {},
   "outputs": [
    {
     "data": {
      "image/png": "[encoded data removed]",
      "text/plain": [
       "<matplotlib.figure.Figure at 0x7fe9e5661750>"
      ]
     },
     "metadata": {},
     "output_type": "display_data"
    }
   ],
   "source": [
    "lins_z = np.linspace(500,1080,num=59)\n",
    "lins_phi, sigma = gp.predict(np.atleast_2d(lins_z).T, return_std=True)\n",
    "\n",
    "fig, ax = plt.subplots(figsize=(7,7))\n",
    "ax.scatter(hits_z, hits_phi)\n",
    "#ax.hist2d(hits_z, hits_phi, bins=(58,1024), range=((500,1080),(-512,512)))\n",
    "ax.plot(lins_z, lins_phi)\n",
    "ax.fill(np.concatenate([lins_z, lins_z[::-1]]), \n",
    "        np.concatenate([lins_phi - 1.9600 * sigma, (lins_phi + 1.9600 * sigma)[::-1]]),\n",
    "        alpha=.5, fc='b', ec='None', label='95% confidence interval')\n",
    "#ax.set_xlim(0,1200)\n",
    "#ax.set_ylim(0,np.pi/4)\n",
    "plt.show()"
   ]
  },
  {
   "cell_type": "code",
   "execution_count": 135,
   "metadata": {},
   "outputs": [
    {
     "name": "stdout",
     "output_type": "stream",
     "text": [
      "[-214. -135.  -86.] -143.55833333333334 41.48851162939233\n",
      "[-142.44829332] [1.8556315]\n"
     ]
    }
   ],
   "source": [
    "hits_phi_test = hits_phi[(598<hits_z) & (hits_z<600)]\n",
    "print np.percentile(hits_phi_test, [5,50,95]), np.mean(hits_phi_test), np.std(hits_phi_test)\n",
    "print lins_phi[lins_z==600], 1.96*sigma[lins_z==600]"
   ]
  },
  {
   "cell_type": "code",
   "execution_count": null,
   "metadata": {},
   "outputs": [],
   "source": []
  },
  {
   "cell_type": "code",
   "execution_count": null,
   "metadata": {},
   "outputs": [],
   "source": []
  },
  {
   "cell_type": "raw",
   "metadata": {},
   "source": [
    "def f(x):\n",
    "    \"\"\"The function to predict.\"\"\"\n",
    "    return x * np.sin(x)\n",
    "\n",
    "X = np.linspace(0.1, 9.9, 2000)\n",
    "X = np.atleast_2d(X).T\n",
    "\n",
    "# Observations and noise\n",
    "y = f(X).ravel()\n",
    "dy = 0.5 + 1.0 * np.random.random(y.shape)\n",
    "noise = np.random.normal(0, dy)\n",
    "y += noise\n",
    "\n",
    "kernel = C(1.0, (1e-3, 1e3)) * RBF(10, (1e-2, 1e2))\n",
    "gp = GaussianProcessRegressor(kernel=kernel, alpha=dy ** 2,\n",
    "                              n_restarts_optimizer=10)\n",
    "\n",
    "gp.fit(X, y)"
   ]
  },
  {
   "cell_type": "raw",
   "metadata": {},
   "source": [
    "x = np.atleast_2d(np.linspace(0, 10, 1000)).T\n",
    "y_pred, sigma = gp.predict(x, return_std=True)\n",
    "\n",
    "# Plot the function, the prediction and the 95% confidence interval based on\n",
    "# the MSE\n",
    "plt.figure()\n",
    "plt.plot(x, f(x), 'r:', label=u'$f(x) = x\\,\\sin(x)$')\n",
    "plt.errorbar(X.ravel(), y, dy, fmt='r.', markersize=10, label=u'Observations')\n",
    "plt.plot(x, y_pred, 'b-', label=u'Prediction')\n",
    "plt.fill(np.concatenate([x, x[::-1]]),\n",
    "         np.concatenate([y_pred - 1.9600 * sigma,\n",
    "                        (y_pred + 1.9600 * sigma)[::-1]]),\n",
    "         alpha=.5, fc='b', ec='None', label='95% confidence interval')\n",
    "plt.xlabel('$x$')\n",
    "plt.ylabel('$f(x)$')\n",
    "plt.ylim(-10, 20)\n",
    "plt.legend(loc='upper left')\n",
    "\n",
    "plt.show()"
   ]
  },
  {
   "cell_type": "code",
   "execution_count": 145,
   "metadata": {},
   "outputs": [
    {
     "name": "stdout",
     "output_type": "stream",
     "text": [
      "(2000, 1)\n"
     ]
    }
   ],
   "source": [
    "print X.shape"
   ]
  },
  {
   "cell_type": "code",
   "execution_count": null,
   "metadata": {},
   "outputs": [],
   "source": []
  }
 ],
 "metadata": {
  "kernelspec": {
   "display_name": "Python 2",
   "language": "python",
   "name": "python2"
  },
  "language_info": {
   "codemirror_mode": {
    "name": "ipython",
    "version": 2
   },
   "file_extension": ".py",
   "mimetype": "text/x-python",
   "name": "python",
   "nbconvert_exporter": "python",
   "pygments_lexer": "ipython2",
   "version": "2.7.11"
  }
 },
 "nbformat": 4,
 "nbformat_minor": 2
}
