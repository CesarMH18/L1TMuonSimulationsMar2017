{
 "cells": [
  {
   "cell_type": "code",
   "execution_count": 1,
   "metadata": {},
   "outputs": [],
   "source": [
    "import numpy as np\n",
    "import matplotlib.pyplot as plt\n",
    "%matplotlib inline\n",
    "\n",
    "# Styling\n",
    "plt.style.use('tdrstyle.mplstyle')"
   ]
  },
  {
   "cell_type": "code",
   "execution_count": 2,
   "metadata": {},
   "outputs": [
    {
     "name": "stdout",
     "output_type": "stream",
     "text": [
      "Welcome to JupyROOT 6.10/09\n"
     ]
    }
   ],
   "source": [
    "from rootpy.io import root_open\n",
    "import ROOT\n",
    "ROOT.gROOT.SetBatch(True)"
   ]
  },
  {
   "cell_type": "code",
   "execution_count": 3,
   "metadata": {},
   "outputs": [],
   "source": [
    "infile_r = None  # input file handle\n",
    "\n",
    "def load_pgun():\n",
    "  global infile_r\n",
    "  infile = '../test7/ntuple_SingleMuon_Toy_2GeV_add.6.root'\n",
    "  #if use_condor:\n",
    "  #  infile = 'root://cmsio5.rc.ufl.edu//store/user/jiafulow/L1MuonTrigger/P2_10_1_5/SingleMuon_Toy_2GeV/'+infile\n",
    "  infile_r = root_open(infile)\n",
    "  tree = infile_r.ntupler.tree\n",
    "  #tree = TreeChain('ntupler/tree', [infile])\n",
    "  print('[INFO] Opening file: %s' % infile)\n",
    "\n",
    "  # Define collection\n",
    "  tree.define_collection(name='hits', prefix='vh_', size='vh_size')\n",
    "  tree.define_collection(name='tracks', prefix='vt_', size='vt_size')\n",
    "  tree.define_collection(name='particles', prefix='vp_', size='vp_size')\n",
    "  return tree"
   ]
  },
  {
   "cell_type": "code",
   "execution_count": 4,
   "metadata": {},
   "outputs": [],
   "source": [
    "maxEvents = 1000\n",
    "#maxEvents = 200000\n",
    "\n",
    "kDT, kCSC, kRPC, kGEM, kME0 = 0, 1, 2, 3, 4\n",
    "\n",
    "eta_bins = (1.2, 1.4, 1.55, 1.7, 1.8, 1.98, 2.15, 2.5)\n",
    "eta_bins = eta_bins[::-1]\n",
    "pt_bins = (-0.50, -0.333333, -0.25, -0.20, -0.15, -0.10, -0.05, 0.05, 0.10, 0.15, 0.20, 0.25, 0.333333, 0.50)\n",
    "nlayers = 12  # 5 (CSC) + 4 (RPC) + 3 (GEM)\n",
    "\n",
    "superstrip_size = 16\n",
    "\n",
    "def find_eta_bin(eta):\n",
    "  ieta = np.digitize((abs(eta),), eta_bins[1:])[0]  # skip lowest edge\n",
    "  ieta = np.clip(ieta, 0, len(eta_bins)-2)\n",
    "  return ieta\n",
    "\n",
    "def find_endsec(endcap, sector):\n",
    "  endsec = (sector - 1) if endcap == 1 else (sector - 1 + 6)\n",
    "  return endsec\n",
    "\n",
    "def delta_phi(lhs, rhs):  # in radians\n",
    "  rad = lhs - rhs\n",
    "  while rad <  -np.pi:  rad += np.pi*2\n",
    "  while rad >= +np.pi:  rad -= np.pi*2\n",
    "  return rad\n",
    "\n",
    "# Make EMTF image\n",
    "# A m-by-n matrix has m rows and n columns\n",
    "class EMTFImage(object):\n",
    "  def __init__(self, superstrip_size):\n",
    "    self.superstrip_size = superstrip_size\n",
    "\n",
    "    self.sector_hits_capacity = 50\n",
    "\n",
    "    l_lut = np.zeros((5,5,5), dtype=np.int32) - 99  # (type, station, ring) -> layer\n",
    "    l_lut[1,1,4] = 0  # ME1/1a\n",
    "    l_lut[1,1,1] = 0  # ME1/1b\n",
    "    l_lut[1,1,2] = 1  # ME1/2\n",
    "    l_lut[1,1,3] = 1  # ME1/3\n",
    "    l_lut[1,2,1] = 2  # ME2/1\n",
    "    l_lut[1,2,2] = 2  # ME2/2\n",
    "    l_lut[1,3,1] = 3  # ME3/1\n",
    "    l_lut[1,3,2] = 3  # ME3/2\n",
    "    l_lut[1,4,1] = 4  # ME4/1\n",
    "    l_lut[1,4,2] = 4  # ME4/2\n",
    "    l_lut[2,1,2] = 1  # RE1/2\n",
    "    l_lut[2,2,2] = 2  # RE2/2\n",
    "    l_lut[2,3,1] = 3  # RE3/1\n",
    "    l_lut[2,3,2] = 3  # RE3/2\n",
    "    l_lut[2,3,3] = 3  # RE3/3\n",
    "    l_lut[2,4,1] = 4  # RE4/1\n",
    "    l_lut[2,4,2] = 4  # RE4/2\n",
    "    l_lut[2,4,3] = 4  # RE4/3\n",
    "    l_lut[3,1,1] = 0  # GE1/1\n",
    "    l_lut[3,2,1] = 2  # GE2/1\n",
    "    l_lut[4,1,1] = 0  # ME0\n",
    "    self.l_lut = l_lut\n",
    "    assert(self.l_lut.max() < nlayers)\n",
    "\n",
    "    m_lut = np.zeros((5,5,5,2), dtype=np.int32) - 99  # (type, station, ring, fr) -> row\n",
    "    m_lut[1,1,4,0] = 4  # ME1/1a (R)\n",
    "    m_lut[1,1,4,1] = 3  # ME1/1a (F)\n",
    "    m_lut[1,1,1,0] = 4  # ME1/1b (R)\n",
    "    m_lut[1,1,1,1] = 3  # ME1/1b (F)\n",
    "    m_lut[1,1,2,0] = 1  # ME1/2 (R)\n",
    "    m_lut[1,1,2,1] = 0  # ME1/2 (F)\n",
    "    m_lut[1,1,3,:] = 0  # ME1/3\n",
    "    m_lut[1,2,1,:] = 6  # ME2/1\n",
    "    m_lut[1,2,2,:] = 6  # ME2/2\n",
    "    m_lut[1,3,1,:] = 7  # ME3/1\n",
    "    m_lut[1,3,2,:] = 7  # ME3/2\n",
    "    m_lut[1,4,1,:] = 9  # ME4/1\n",
    "    m_lut[1,4,2,:] = 9  # ME4/2\n",
    "    m_lut[2,1,2,:] = 2  # RE1/2\n",
    "    m_lut[2,2,2,:] = 5  # RE2/2\n",
    "    m_lut[2,3,1,:] = 8  # RE3/1\n",
    "    m_lut[2,3,2,:] = 8  # RE3/2\n",
    "    m_lut[2,3,3,:] = 8  # RE3/3\n",
    "    m_lut[2,4,1,:] = 10 # RE4/1\n",
    "    m_lut[2,4,2,:] = 10 # RE4/2\n",
    "    m_lut[2,4,3,:] = 10 # RE4/3\n",
    "    m_lut[3,1,1,:] = 2  # GE1/1\n",
    "    m_lut[3,2,1,:] = 5  # GE2/1\n",
    "    m_lut[4,1,1,:] = 0  # ME0\n",
    "    self.m_lut = m_lut\n",
    "    self.m_size = 11\n",
    "    assert(self.m_lut.max() < self.m_size)\n",
    "\n",
    "    self.n_size = 5040 // self.superstrip_size\n",
    "\n",
    "    t_lut = np.zeros((11,7,2), dtype=np.int32) - 99  # (row,zone) -> (min theta, max theta)\n",
    "    t_lut[0,0] = 4,17   # ME0\n",
    "    t_lut[0,1] = 17,23  # ME0\n",
    "    t_lut[1,0] = 4,17   # ME0\n",
    "    t_lut[1,1] = 17,23  # ME0\n",
    "    t_lut[2,1] = 17,26  # GE1/1\n",
    "    t_lut[2,2] = 24,37  # GE1/1\n",
    "    t_lut[2,3] = 35,45  # GE1/1\n",
    "    t_lut[2,4] = 40,52  # GE1/1\n",
    "    t_lut[3,0] = 4,17   # ME1/1 (F)\n",
    "    t_lut[3,1] = 16,26  # ME1/1 (F)\n",
    "    t_lut[3,2] = 24,37  # ME1/1 (F)\n",
    "    t_lut[3,3] = 34,43  # ME1/1 (F)\n",
    "    t_lut[3,4] = 41,53  # ME1/1 (F)\n",
    "    t_lut[4,0] = 4,17   # ME1/1 (R)\n",
    "    t_lut[4,1] = 16,26  # ME1/1 (R)\n",
    "    t_lut[4,2] = 24,37  # ME1/1 (R)\n",
    "    t_lut[4,3] = 34,43  # ME1/1 (R)\n",
    "    t_lut[4,4] = 41,53  # ME1/1 (R)\n",
    "    #\n",
    "    t_lut[0,4] = 46,54  # ME1/2 (F)\n",
    "    t_lut[0,5] = 52,67  # ME1/2 (F)\n",
    "    t_lut[0,6] = 65,87  # ME1/2 (F)\n",
    "    t_lut[1,4] = 46,54  # ME1/2 (R)\n",
    "    t_lut[1,5] = 52,67  # ME1/2 (R)\n",
    "    t_lut[1,6] = 65,87  # ME1/2 (R)\n",
    "    t_lut[2,5] = 52,72  # RE1/2\n",
    "    t_lut[2,6] = 68,84  # RE1/2\n",
    "    #\n",
    "    t_lut[5,0] = 7,19   # GE2/1\n",
    "    t_lut[5,1] = 18,24  # GE2/1\n",
    "    t_lut[5,2] = 23,35  # GE2/1\n",
    "    t_lut[5,3] = 34,45  # GE2/1\n",
    "    t_lut[5,4] = 40,46  # GE2/1\n",
    "    t_lut[5,5] = 56,68  # RE2/2+3\n",
    "    t_lut[5,6] = 64,76  # RE2/2+3\n",
    "    t_lut[6,0] = 4,17   # ME2/1\n",
    "    t_lut[6,1] = 16,25  # ME2/1\n",
    "    t_lut[6,2] = 24,36  # ME2/1\n",
    "    t_lut[6,3] = 34,43  # ME2/1\n",
    "    t_lut[6,4] = 40,49  # ME2/1\n",
    "    t_lut[6,5] = 52,67  # ME2/2\n",
    "    t_lut[6,6] = 65,87  # ME2/2\n",
    "    #\n",
    "    t_lut[7,0] = 4,17   # ME3/1\n",
    "    t_lut[7,1] = 16,25  # ME3/1\n",
    "    t_lut[7,2] = 24,36  # ME3/1\n",
    "    t_lut[7,3] = 34,40  # ME3/1\n",
    "    t_lut[7,4] = 44,54  # ME3/2\n",
    "    t_lut[7,5] = 52,67  # ME3/2\n",
    "    t_lut[7,6] = 64,87  # ME3/2\n",
    "    t_lut[8,0] = 4,20   # RE3/1\n",
    "    t_lut[8,1] = 20,24  # RE3/1\n",
    "    t_lut[8,2] = 24,32  # RE3/1\n",
    "    t_lut[8,3] = 40,40  # RE3/2+3\n",
    "    t_lut[8,4] = 40,52  # RE3/2+3\n",
    "    t_lut[8,5] = 48,72  # RE3/2+3\n",
    "    t_lut[8,6] = 60,84  # RE3/2+3\n",
    "    #\n",
    "    t_lut[9,0] = 4,17   # ME4/1\n",
    "    t_lut[9,1] = 16,25  # ME4/1\n",
    "    t_lut[9,2] = 24,35  # ME4/1\n",
    "    t_lut[9,3] = 38,43  # ME4/2\n",
    "    t_lut[9,4] = 41,54  # ME4/2\n",
    "    t_lut[9,5] = 52,67  # ME4/2\n",
    "    t_lut[9,6] = 64,87  # ME4/2\n",
    "    t_lut[10,0] = 8,16  # RE4/1\n",
    "    t_lut[10,1] = 16,28 # RE4/1\n",
    "    t_lut[10,2] = 24,28 # RE4/1\n",
    "    t_lut[10,3] = 36,44 # RE4/2+3\n",
    "    t_lut[10,4] = 44,52 # RE4/2+3\n",
    "    t_lut[10,5] = 52,64 # RE4/2+3\n",
    "    t_lut[10,6] = 64,84 # RE4/2+3\n",
    "    self.t_lut = t_lut\n",
    "\n",
    "    self.zone_size = 7\n",
    "\n",
    "    # ME1/1, ME1/2, ME2, ME3, ME4, RE1\n",
    "    # RE2, RE3, RE4, GE1/1, GE2/1, ME0\n",
    "    s_bend_lut =[-0.059926, -0.065415, -0.149701,  0.086035,  0.108797,  1.000000,\n",
    "                  1.000000,  1.000000,  1.000000, -0.515074, -0.599277, -0.073872,]\n",
    "    self.s_bend_lut = np.array(s_bend_lut, dtype=np.float32)\n",
    "\n",
    "    s_bend_max_lut = [28, 40, 12, 20, 20, 0, 0, 0, 0, 3, 1, 18]\n",
    "    self.s_bend_max_lut = np.array(s_bend_max_lut, dtype=np.float32)\n",
    "\n",
    "  def get_layer(self, hit):\n",
    "    index = (hit.type, hit.station, hit.ring)\n",
    "    lay = self.l_lut[index]\n",
    "    return lay\n",
    "\n",
    "  def get_row(self, hit):\n",
    "    index = (hit.type, hit.station, hit.ring, hit.fr)\n",
    "    m = self.m_lut[index]\n",
    "    assert(m < self.m_size)\n",
    "    return m\n",
    "\n",
    "  def get_col(self, hit):\n",
    "    hit_phi = np.asarray(hit.emtf_phi, dtype=np.int32)\n",
    "    n = hit_phi // self.superstrip_size\n",
    "    assert(n < self.n_size)\n",
    "    return n\n",
    "\n",
    "  def get_zones(self, hit):\n",
    "    m = self.get_row(hit)\n",
    "    t = self.t_lut[m]\n",
    "    hit_theta = np.asarray(hit.emtf_theta, dtype=np.int32)\n",
    "    zones = np.logical_and(t[:,0] <= hit_theta, hit_theta <= t[:,1])\n",
    "    zones = np.where(zones)[0]\n",
    "    assert((zones < self.zone_size).all())\n",
    "    return zones\n",
    "\n",
    "  def get_chn_bend(self, hit):\n",
    "    if hit.type == kCSC:\n",
    "      bend = hit.bend\n",
    "      bend *= hit.endcap\n",
    "    elif hit.type == kGEM:\n",
    "      bend = hit.bend\n",
    "      bend *= hit.endcap\n",
    "    else:\n",
    "      bend = hit.bend\n",
    "    lay = self.get_layer(hit)\n",
    "    #s = self.s_bend_lut[lay]\n",
    "    #bend *= s\n",
    "    s = self.s_bend_max_lut[lay]\n",
    "    if s == 0:\n",
    "      bend = 0.5\n",
    "    else:\n",
    "      bend = np.clip(float(bend), -s, s)\n",
    "      bend = 0.5 + bend/(2 * s)\n",
    "    return bend\n",
    "\n",
    "  def get_chn_theta(self, hit):\n",
    "    theta = np.clip(float(hit.emtf_theta), 4., 86.)\n",
    "    theta = (theta - 3.)/83.\n",
    "    return theta\n",
    "\n",
    "  def get_chn_mphi(self, hit):\n",
    "    n = self.get_col(hit)\n",
    "    mphi = float(hit.emtf_phi) - (n * self.superstrip_size)\n",
    "    mphi /= self.superstrip_size\n",
    "    return mphi\n",
    "\n",
    "  def get_chn(self, hit):\n",
    "    chn = (self.get_chn_bend(hit),\n",
    "           self.get_chn_theta(hit),\n",
    "           self.get_chn_mphi(hit))\n",
    "    chn = np.asarray(chn, dtype=np.float32)\n",
    "    assert((0.0 <= chn).all())\n",
    "    assert((chn <= 1.0).all())\n",
    "    return chn\n",
    "\n",
    "  def is_intime(self, hit):\n",
    "    if hit.type == kCSC:\n",
    "      return hit.bx == -1 or hit.bx == 0\n",
    "    else:\n",
    "      return hit.bx == 0\n",
    "\n",
    "  def __call__(self, hits):\n",
    "    amap = {}\n",
    "    for ihit, hit in enumerate(hits):\n",
    "      if self.is_intime(hit):\n",
    "        m = self.get_row(hit)\n",
    "        n = self.get_col(hit)\n",
    "        zones = self.get_zones(hit)\n",
    "        for z in zones:\n",
    "          m_z = m + (z * self.m_size)\n",
    "          amap.setdefault((m_z,n), []).append(hit)\n",
    "\n",
    "    image_pixels = np.zeros((self.sector_hits_capacity,2), dtype=np.int32) - 99\n",
    "    image_channels = np.zeros((self.sector_hits_capacity,3), dtype=np.float32) + np.nan\n",
    "\n",
    "    i = 0\n",
    "    for k, v in amap.iteritems():\n",
    "      if i == self.sector_hits_capacity:\n",
    "        break\n",
    "      (m,n) = k\n",
    "      hits_mn = v\n",
    "      h = hits_mn[0]  # arbitrarily pick the first hit\n",
    "      chn = self.get_chn(h)\n",
    "\n",
    "      image_pixels[i] = (m,n)\n",
    "      image_channels[i] = chn\n",
    "      i += 1\n",
    "\n",
    "    return image_pixels, image_channels\n",
    "\n",
    "make_emtf_image = EMTFImage(superstrip_size=superstrip_size)\n",
    "\n",
    "\n",
    "# Assign EMTF label\n",
    "class EMTFLabel(object):\n",
    "  def __init__(self):\n",
    "    self.pt_bins = np.linspace(-0.525, 0.525, num=22)\n",
    "    self.eta_bins = eta_bins\n",
    "    self.phi_bins = np.linspace(-40, 40, num=129)  # uGMT uses 360./576\n",
    "\n",
    "  def find_pt_bin(self, part):\n",
    "    pt = np.true_divide(part.q, part.pt)\n",
    "    ipt = np.digitize((pt,), self.pt_bins[1:])[0]  # skip lowest edge\n",
    "    ipt = np.clip(ipt, 0, len(self.pt_bins)-2)\n",
    "    return ipt\n",
    "\n",
    "  def find_sector_phi(self, glob, sector):  # glob in deg, sector in [1,6]\n",
    "    # sector 1 starts at 15 deg\n",
    "    loc = glob - 15. - (60. * (sector-1))\n",
    "    # but here I'm assuming sector 1 centers at 40 deg\n",
    "    center = 40.\n",
    "    dphi = delta_phi(loc, center)\n",
    "    return dphi\n",
    "\n",
    "  def find_phi_bin(self, part, sector):\n",
    "    phi = self.find_sector_phi(np.rad2deg(part.phi), (sector%6)+1)\n",
    "    iphi = np.digitize((phi,), self.phi_bins[1:])[0]  # skip lowest edge\n",
    "    iphi = np.clip(iphi, 0, len(self.phi_bins)-2)\n",
    "    return iphi\n",
    "\n",
    "  def find_eta_bin(self, part):\n",
    "    eta = abs(part.eta)\n",
    "    ieta = np.digitize((eta,), self.eta_bins[1:])[0]  # skip lowest edge\n",
    "    ieta = np.clip(ieta, 0, len(self.eta_bins)-2)\n",
    "    return ieta\n",
    "\n",
    "  def __call__(self, part, sector):\n",
    "    label = (self.find_pt_bin(part),\n",
    "             self.find_phi_bin(part, sector),\n",
    "             self.find_eta_bin(part))\n",
    "    label = np.asarray(label, dtype=np.int32)\n",
    "    return label\n",
    "\n",
    "assign_emtf_label = EMTFLabel()"
   ]
  },
  {
   "cell_type": "code",
   "execution_count": 5,
   "metadata": {},
   "outputs": [],
   "source": [
    "def process(verbose=1):\n",
    "  tree = load_pgun()\n",
    "  \n",
    "  out_image_pixels = []\n",
    "  out_image_channels = []\n",
    "  out_labels = []\n",
    "  out_parameters = []\n",
    "\n",
    "  # Loop over events\n",
    "  for ievt, evt in enumerate(tree):\n",
    "    if maxEvents != -1 and ievt == maxEvents:\n",
    "      break\n",
    "\n",
    "    if verbose and (ievt % 1000 == 0):  print(\"Processing event: {0}\".format(ievt))\n",
    "\n",
    "    # Skip events with very few hits\n",
    "    if not len(evt.hits) >= 4:\n",
    "      continue\n",
    "\n",
    "    # Skip events without ME1 hits\n",
    "    has_ME1 = False\n",
    "    for ihit, hit in enumerate(evt.hits):\n",
    "      if hit.type == kCSC and hit.station == 1:\n",
    "        has_ME1 = True\n",
    "        break\n",
    "      elif hit.type == kME0 and hit.station == 1:\n",
    "        has_ME1 = True\n",
    "        break\n",
    "    if not has_ME1:\n",
    "      continue\n",
    "\n",
    "    part = evt.particles[0]  # particle gun\n",
    "    part.invpt = np.true_divide(part.q, part.pt)\n",
    "\n",
    "    # Find the best sector\n",
    "    sector_cnt_array = np.zeros((12,), dtype=np.int32)\n",
    "    sector_hits_array = np.empty((12,), dtype=np.object)\n",
    "    for ind in np.ndindex(sector_hits_array.shape):\n",
    "      sector_hits_array[ind] = []\n",
    "\n",
    "    for ihit, hit in enumerate(evt.hits):\n",
    "      #print(\".. hit  {0} {1} {2} {3} {4} {5} {6} {7} {8} {9} {10} {11}\".format(ihit, hit.bx, hit.type, hit.station, hit.ring, hit.sector, hit.fr, hit.sim_phi, hit.sim_theta, hit.time, hit.sim_tp1, hit.sim_tp2))\n",
    "\n",
    "      assert(hit.emtf_phi < 5040)  # 84*60\n",
    "      endsec = find_endsec(hit.endcap, hit.sector)\n",
    "      sector_cnt_array[endsec] += 1\n",
    "      sector_hits_array[endsec].append(hit)\n",
    "\n",
    "    # Get the best sector hits\n",
    "    best_sector = np.argmax(sector_cnt_array)\n",
    "    sector_hits = sector_hits_array[best_sector]\n",
    "\n",
    "    # The workhorse\n",
    "    image_pixels, image_channels = make_emtf_image(sector_hits)\n",
    "    out_image_pixels.append(image_pixels)\n",
    "    out_image_channels.append(image_channels)\n",
    "\n",
    "    labels = assign_emtf_label(part, best_sector)\n",
    "    out_labels.append(labels)\n",
    "\n",
    "    parameters = np.asarray((np.true_divide(part.q, part.pt), part.phi, part.eta), dtype=np.float32)\n",
    "    out_parameters.append(parameters)\n",
    "\n",
    "  outs = (np.asarray(out_image_pixels, dtype=np.int32), \n",
    "          np.asarray(out_image_channels, dtype=np.float32),\n",
    "          np.asarray(out_labels, dtype=np.int32),\n",
    "          np.asarray(out_parameters, dtype=np.float32),)\n",
    "  return outs"
   ]
  },
  {
   "cell_type": "code",
   "execution_count": 6,
   "metadata": {
    "scrolled": false
   },
   "outputs": [
    {
     "name": "stdout",
     "output_type": "stream",
     "text": [
      "[INFO] Opening file: ../test7/ntuple_SingleMuon_Toy_2GeV_add.6.root\n",
      "Processing event: 0\n",
      "(887, 50, 2) [[ 19 223]\n",
      " [  6 221]\n",
      " [ 13 195]\n",
      " [ 17 221]\n",
      " [  8 223]\n",
      " [ 14 198]\n",
      " [ 11 192]\n",
      " [  9 222]\n",
      " [  7 223]\n",
      " [ 18 223]\n",
      " [  5 220]\n",
      " [ 16 220]\n",
      " [-99 -99]\n",
      " [-99 -99]\n",
      " [-99 -99]\n",
      " [-99 -99]\n",
      " [-99 -99]\n",
      " [-99 -99]\n",
      " [-99 -99]\n",
      " [-99 -99]\n",
      " [-99 -99]\n",
      " [-99 -99]\n",
      " [-99 -99]\n",
      " [-99 -99]\n",
      " [-99 -99]\n",
      " [-99 -99]\n",
      " [-99 -99]\n",
      " [-99 -99]\n",
      " [-99 -99]\n",
      " [-99 -99]\n",
      " [-99 -99]\n",
      " [-99 -99]\n",
      " [-99 -99]\n",
      " [-99 -99]\n",
      " [-99 -99]\n",
      " [-99 -99]\n",
      " [-99 -99]\n",
      " [-99 -99]\n",
      " [-99 -99]\n",
      " [-99 -99]\n",
      " [-99 -99]\n",
      " [-99 -99]\n",
      " [-99 -99]\n",
      " [-99 -99]\n",
      " [-99 -99]\n",
      " [-99 -99]\n",
      " [-99 -99]\n",
      " [-99 -99]\n",
      " [-99 -99]\n",
      " [-99 -99]]\n",
      "(887, 50, 3) [[0.         0.20481928 0.        ]\n",
      " [0.9166667  0.16867469 0.625     ]\n",
      " [0.5535714  0.22891566 0.4375    ]\n",
      " [0.9166667  0.16867469 0.625     ]\n",
      " [0.         0.20481928 0.        ]\n",
      " [0.71428573 0.20481928 0.1875    ]\n",
      " [0.8035714  0.22891566 0.125     ]\n",
      " [0.5        0.14457831 0.875     ]\n",
      " [0.5        0.15662651 0.        ]\n",
      " [0.5        0.15662651 0.        ]\n",
      " [0.5416667  0.19277108 0.25      ]\n",
      " [0.5416667  0.19277108 0.25      ]\n",
      " [       nan        nan        nan]\n",
      " [       nan        nan        nan]\n",
      " [       nan        nan        nan]\n",
      " [       nan        nan        nan]\n",
      " [       nan        nan        nan]\n",
      " [       nan        nan        nan]\n",
      " [       nan        nan        nan]\n",
      " [       nan        nan        nan]\n",
      " [       nan        nan        nan]\n",
      " [       nan        nan        nan]\n",
      " [       nan        nan        nan]\n",
      " [       nan        nan        nan]\n",
      " [       nan        nan        nan]\n",
      " [       nan        nan        nan]\n",
      " [       nan        nan        nan]\n",
      " [       nan        nan        nan]\n",
      " [       nan        nan        nan]\n",
      " [       nan        nan        nan]\n",
      " [       nan        nan        nan]\n",
      " [       nan        nan        nan]\n",
      " [       nan        nan        nan]\n",
      " [       nan        nan        nan]\n",
      " [       nan        nan        nan]\n",
      " [       nan        nan        nan]\n",
      " [       nan        nan        nan]\n",
      " [       nan        nan        nan]\n",
      " [       nan        nan        nan]\n",
      " [       nan        nan        nan]\n",
      " [       nan        nan        nan]\n",
      " [       nan        nan        nan]\n",
      " [       nan        nan        nan]\n",
      " [       nan        nan        nan]\n",
      " [       nan        nan        nan]\n",
      " [       nan        nan        nan]\n",
      " [       nan        nan        nan]\n",
      " [       nan        nan        nan]\n",
      " [       nan        nan        nan]\n",
      " [       nan        nan        nan]]\n",
      "(887, 3) [ 1 63  1]\n",
      "(887, 3) [-0.4456128  1.4571882  2.0295827]\n"
     ]
    }
   ],
   "source": [
    "image_pixels, image_channels, labels, parameters = process()\n",
    "print image_pixels.shape, image_pixels[0]\n",
    "print image_channels.shape, image_channels[0]\n",
    "print labels.shape, labels[0]\n",
    "print parameters.shape, parameters[0]\n",
    "\n",
    "outfile = 'histos_tbe.npz'\n",
    "np.savez_compressed(outfile, image_pixels=image_pixels, image_channels=image_channels, labels=labels, parameters=parameters)"
   ]
  },
  {
   "cell_type": "code",
   "execution_count": null,
   "metadata": {},
   "outputs": [],
   "source": []
  },
  {
   "cell_type": "code",
   "execution_count": null,
   "metadata": {},
   "outputs": [],
   "source": []
  },
  {
   "cell_type": "code",
   "execution_count": 7,
   "metadata": {},
   "outputs": [],
   "source": [
    "import matplotlib as mpl\n",
    "mpl.rcParams['figure.figsize'] = (10,5)\n",
    "#mpl.rcParams['axes.labelpad'] = 0\n",
    "#mpl.rcParams['axes.labelsize'] = 0\n",
    "#mpl.rcParams['xtick.labelsize'] = 0\n",
    "#mpl.rcParams['ytick.labelsize'] = 0"
   ]
  },
  {
   "cell_type": "code",
   "execution_count": 8,
   "metadata": {},
   "outputs": [],
   "source": [
    "def imaging(pixels, channels, superstrip_size):\n",
    "  zone_size = 7\n",
    "  m_size = 11\n",
    "  n_size = 5040 // superstrip_size\n",
    "  chn_size = 3\n",
    "  image = np.zeros((m_size*zone_size, n_size, chn_size), dtype=np.float32)\n",
    "  mask = (pixels[:,0] != -99)\n",
    "  image[pixels[mask,0], pixels[mask,1]] = channels[mask]\n",
    "  return image\n",
    "\n",
    "def labeling(labels):\n",
    "  pt_size = 21\n",
    "  phi_size = 128\n",
    "  eta_size = 7\n",
    "  image = np.zeros((pt_size, phi_size, eta_size), dtype=np.float32)\n",
    "  image[labels[0], labels[1], labels[2]] = 1\n",
    "  return image\n",
    "\n",
    "def draw(image, label):\n",
    "  aspect = 'auto'\n",
    "  extent = (0,image.shape[1],0,image.shape[0])\n",
    "  #plt.imshow(image[:,:,0], cmap='viridis', interpolation='none', extent=extent, aspect=aspect)\n",
    "  #plt.show()\n",
    "  #plt.imshow(image[:,:,1], cmap='viridis', interpolation='none', extent=extent, aspect=aspect)\n",
    "  #plt.show()\n",
    "  #plt.imshow(image[:,:,2], cmap='viridis', interpolation='none', extent=extent, aspect=aspect)\n",
    "  #plt.show()\n",
    "  image_2d = np.max(image, axis=-1)\n",
    "  image_2d[np.nonzero(image_2d)] = 1\n",
    "  plt.imshow(image_2d, cmap='viridis', interpolation='none', origin='lower', extent=extent, aspect=aspect)\n",
    "  for y in [11,22,33,44,55,66]:\n",
    "    plt.axhline(y=y,linewidth=1, color='w', alpha=0.4)\n",
    "  plt.show()\n",
    "  print np.where(image_2d)\n",
    "  label_2d = np.max(label, axis=-1)\n",
    "  label_2d[np.nonzero(label_2d)] = 1\n",
    "  plt.imshow(label_2d, cmap='viridis', interpolation='none', origin='lower')\n",
    "  plt.show()\n",
    "  print np.where(label_2d)"
   ]
  },
  {
   "cell_type": "code",
   "execution_count": 9,
   "metadata": {},
   "outputs": [
    {
     "data": {
      "image/png": "[encoded data removed]",
      "text/plain": [
       "<matplotlib.figure.Figure at 0x7f0170564dd0>"
      ]
     },
     "metadata": {},
     "output_type": "display_data"
    },
    {
     "name": "stdout",
     "output_type": "stream",
     "text": [
      "(array([ 5,  6,  7,  8,  9, 11, 13, 14, 16, 17, 18, 19]), array([220, 221, 223, 223, 222, 192, 195, 198, 220, 221, 223, 223]))\n"
     ]
    },
    {
     "data": {
      "image/png": "[encoded data removed]",
      "text/plain": [
       "<matplotlib.figure.Figure at 0x7f0169b85610>"
      ]
     },
     "metadata": {},
     "output_type": "display_data"
    },
    {
     "name": "stdout",
     "output_type": "stream",
     "text": [
      "(array([1]), array([63]))\n"
     ]
    }
   ],
   "source": [
    "image = imaging(image_pixels[0], image_channels[0], superstrip_size=superstrip_size)\n",
    "label = labeling(labels[0])\n",
    "draw(image, label)"
   ]
  },
  {
   "cell_type": "code",
   "execution_count": 10,
   "metadata": {},
   "outputs": [
    {
     "data": {
      "image/png": "[encoded data removed]",
      "text/plain": [
       "<matplotlib.figure.Figure at 0x7f01980b5210>"
      ]
     },
     "metadata": {},
     "output_type": "display_data"
    },
    {
     "name": "stdout",
     "output_type": "stream",
     "text": [
      "(array([ 0,  4,  5,  6,  7,  8, 10]), array([183, 178, 166, 163, 163, 162, 162]))\n"
     ]
    },
    {
     "data": {
      "image/png": "[encoded data removed]",
      "text/plain": [
       "<matplotlib.figure.Figure at 0x7f0169854550>"
      ]
     },
     "metadata": {},
     "output_type": "display_data"
    },
    {
     "name": "stdout",
     "output_type": "stream",
     "text": [
      "(array([17]), array([61]))\n"
     ]
    }
   ],
   "source": [
    "image = imaging(image_pixels[1], image_channels[1], superstrip_size=superstrip_size)\n",
    "label = labeling(labels[1])\n",
    "draw(image, label)"
   ]
  },
  {
   "cell_type": "code",
   "execution_count": 11,
   "metadata": {},
   "outputs": [
    {
     "data": {
      "image/png": "[encoded data removed]",
      "text/plain": [
       "<matplotlib.figure.Figure at 0x7f01980b5190>"
      ]
     },
     "metadata": {},
     "output_type": "display_data"
    },
    {
     "name": "stdout",
     "output_type": "stream",
     "text": [
      "(array([43, 52, 53, 54, 55, 60, 63]), array([184, 203, 190, 184, 221, 230, 203]))\n"
     ]
    },
    {
     "data": {
      "image/png": "[encoded data removed]",
      "text/plain": [
       "<matplotlib.figure.Figure at 0x7f016955ddd0>"
      ]
     },
     "metadata": {},
     "output_type": "display_data"
    },
    {
     "name": "stdout",
     "output_type": "stream",
     "text": [
      "(array([1]), array([68]))\n"
     ]
    }
   ],
   "source": [
    "image = imaging(image_pixels[2], image_channels[2], superstrip_size=superstrip_size)\n",
    "label = labeling(labels[2])\n",
    "draw(image, label)"
   ]
  },
  {
   "cell_type": "code",
   "execution_count": 12,
   "metadata": {},
   "outputs": [
    {
     "data": {
      "image/png": "[encoded data removed]",
      "text/plain": [
       "<matplotlib.figure.Figure at 0x7f016957d290>"
      ]
     },
     "metadata": {},
     "output_type": "display_data"
    },
    {
     "name": "stdout",
     "output_type": "stream",
     "text": [
      "(array([57, 60, 63, 67, 68, 71, 72, 73, 74, 75, 76]), array([90, 91, 89, 89, 90, 91, 90, 90, 89, 88, 86]))\n"
     ]
    },
    {
     "data": {
      "image/png": "[encoded data removed]",
      "text/plain": [
       "<matplotlib.figure.Figure at 0x7f01697863d0>"
      ]
     },
     "metadata": {},
     "output_type": "display_data"
    },
    {
     "name": "stdout",
     "output_type": "stream",
     "text": [
      "(array([7]), array([64]))\n"
     ]
    }
   ],
   "source": [
    "image = imaging(image_pixels[3], image_channels[3], superstrip_size=superstrip_size)\n",
    "label = labeling(labels[3])\n",
    "draw(image, label)"
   ]
  },
  {
   "cell_type": "code",
   "execution_count": 13,
   "metadata": {},
   "outputs": [
    {
     "data": {
      "image/png": "[encoded data removed]",
      "text/plain": [
       "<matplotlib.figure.Figure at 0x7f01694340d0>"
      ]
     },
     "metadata": {},
     "output_type": "display_data"
    },
    {
     "name": "stdout",
     "output_type": "stream",
     "text": [
      "(array([35, 36, 38, 38, 39, 40, 41, 42, 46, 47, 49, 49, 50, 52]), array([220, 218, 208, 209, 208, 208, 208, 210, 220, 218, 208, 209, 208,\n",
      "       208]))\n"
     ]
    },
    {
     "data": {
      "image/png": "[encoded data removed]",
      "text/plain": [
       "<matplotlib.figure.Figure at 0x7f01697662d0>"
      ]
     },
     "metadata": {},
     "output_type": "display_data"
    },
    {
     "name": "stdout",
     "output_type": "stream",
     "text": [
      "(array([14]), array([64]))\n"
     ]
    }
   ],
   "source": [
    "image = imaging(image_pixels[4], image_channels[4], superstrip_size=superstrip_size)\n",
    "label = labeling(labels[4])\n",
    "draw(image, label)"
   ]
  },
  {
   "cell_type": "code",
   "execution_count": 14,
   "metadata": {},
   "outputs": [
    {
     "data": {
      "image/png": "[encoded data removed]",
      "text/plain": [
       "<matplotlib.figure.Figure at 0x7f0169434950>"
      ]
     },
     "metadata": {},
     "output_type": "display_data"
    },
    {
     "name": "stdout",
     "output_type": "stream",
     "text": [
      "(array([11, 13, 14, 15, 16, 18, 19, 20, 21, 27, 30, 32]), array([85, 82, 80, 83, 65, 65, 66, 68, 68, 65, 66, 68]))\n"
     ]
    },
    {
     "data": {
      "image/png": "[encoded data removed]",
      "text/plain": [
       "<matplotlib.figure.Figure at 0x7f016981f090>"
      ]
     },
     "metadata": {},
     "output_type": "display_data"
    },
    {
     "name": "stdout",
     "output_type": "stream",
     "text": [
      "(array([18]), array([65]))\n"
     ]
    }
   ],
   "source": [
    "image = imaging(image_pixels[5], image_channels[5], superstrip_size=superstrip_size)\n",
    "label = labeling(labels[5])\n",
    "draw(image, label)"
   ]
  },
  {
   "cell_type": "code",
   "execution_count": null,
   "metadata": {},
   "outputs": [],
   "source": []
  },
  {
   "cell_type": "code",
   "execution_count": null,
   "metadata": {},
   "outputs": [],
   "source": []
  }
 ],
 "metadata": {
  "kernelspec": {
   "display_name": "Python 2",
   "language": "python",
   "name": "python2"
  },
  "language_info": {
   "codemirror_mode": {
    "name": "ipython",
    "version": 2
   },
   "file_extension": ".py",
   "mimetype": "text/x-python",
   "name": "python",
   "nbconvert_exporter": "python",
   "pygments_lexer": "ipython2",
   "version": "2.7.11"
  }
 },
 "nbformat": 4,
 "nbformat_minor": 2
}
