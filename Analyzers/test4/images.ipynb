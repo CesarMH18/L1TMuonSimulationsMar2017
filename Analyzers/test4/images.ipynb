{
 "cells": [
  {
   "cell_type": "code",
   "execution_count": 1,
   "metadata": {},
   "outputs": [],
   "source": [
    "import numpy as np\n",
    "import matplotlib.pyplot as plt\n",
    "%matplotlib inline"
   ]
  },
  {
   "cell_type": "code",
   "execution_count": 2,
   "metadata": {},
   "outputs": [
    {
     "name": "stdout",
     "output_type": "stream",
     "text": [
      "Welcome to JupyROOT 6.10/09\n"
     ]
    }
   ],
   "source": [
    "from rootpy.io import root_open\n",
    "import ROOT\n",
    "ROOT.gROOT.SetBatch(True)"
   ]
  },
  {
   "cell_type": "code",
   "execution_count": 3,
   "metadata": {},
   "outputs": [],
   "source": [
    "infile_r = None  # input file handle\n",
    "\n",
    "def load_pgun():\n",
    "  global infile_r\n",
    "  infile = '../test7/ntuple_SingleMuon_Toy_2GeV_add.5.root'\n",
    "  #if use_condor:\n",
    "  #  infile = 'root://cmsio5.rc.ufl.edu//store/user/jiafulow/L1MuonTrigger/P2_10_1_5/SingleMuon_Toy_2GeV/'+infile\n",
    "  infile_r = root_open(infile)\n",
    "  tree = infile_r.ntupler.tree\n",
    "  #tree = TreeChain('ntupler/tree', [infile])\n",
    "  print('[INFO] Opening file: %s' % infile)\n",
    "\n",
    "  # Define collection\n",
    "  tree.define_collection(name='hits', prefix='vh_', size='vh_size')\n",
    "  tree.define_collection(name='tracks', prefix='vt_', size='vt_size')\n",
    "  tree.define_collection(name='particles', prefix='vp_', size='vp_size')\n",
    "  return tree"
   ]
  },
  {
   "cell_type": "code",
   "execution_count": 4,
   "metadata": {},
   "outputs": [],
   "source": [
    "maxEvents = 20000\n",
    "\n",
    "debug = 0\n",
    "\n",
    "kDT, kCSC, kRPC, kGEM, kME0 = 0, 1, 2, 3, 4\n",
    "\n",
    "def find_endsec(endcap, sector):\n",
    "  endsec = (sector - 1) if endcap == 1 else (sector - 1 + 6)\n",
    "  return endsec\n",
    "\n",
    "def analysis(strip_unit=8*4, verbose=1):\n",
    "  tree = load_pgun()\n",
    "  \n",
    "  outs = []\n",
    "\n",
    "  # Loop over events\n",
    "  for ievt, evt in enumerate(tree):\n",
    "    if maxEvents != -1 and ievt == maxEvents:\n",
    "      break\n",
    "    \n",
    "    if verbose and (ievt % 1000 == 0):  print(\"Processing event: {0}\".format(ievt))\n",
    "    \n",
    "    # Skip events with very few hits\n",
    "    if not len(evt.hits) >= 4:\n",
    "      continue\n",
    "    \n",
    "    # Skip events without ME1 hits\n",
    "    has_ME1 = False\n",
    "    for ihit, hit in enumerate(evt.hits):\n",
    "      if hit.type == kCSC and hit.station == 1:\n",
    "        has_ME1 = True\n",
    "        break\n",
    "    if not has_ME1:\n",
    "      continue\n",
    "    \n",
    "    part = evt.particles[0]  # particle gun\n",
    "    part.invpt = np.true_divide(part.q, part.pt)\n",
    "    \n",
    "    # Find the best sector\n",
    "    sector_cnt_array = np.zeros((12,), dtype=np.int32)\n",
    "    sector_phi_array = np.empty((12,), dtype=np.object)\n",
    "    for ind in np.ndindex(sector_phi_array.shape):\n",
    "      sector_phi_array[ind] = []\n",
    "    \n",
    "    for ihit, hit in enumerate(evt.hits):\n",
    "      #print(\".. hit  {0} {1} {2} {3} {4} {5} {6} {7} {8} {9} {10} {11}\".format(ihit, hit.bx, hit.type, hit.station, hit.ring, hit.sector, hit.fr, hit.sim_phi, hit.sim_theta, hit.time, hit.sim_tp1, hit.sim_tp2))\n",
    "      \n",
    "      endsec = find_endsec(hit.endcap, hit.sector)\n",
    "      assert(hit.emtf_phi < 5120)\n",
    "      \n",
    "      sector_cnt_array[endsec] += 1\n",
    "      sector_phi_array[endsec].append(hit.emtf_phi)\n",
    "    \n",
    "    best_sector = np.argmax(sector_cnt_array)\n",
    "    #print \"ievt {0} nhits {1}\".format(ievt, len(evt.hits))\n",
    "    #print \"..\", sector_cnt_array\n",
    "    #print \"..\", sector_cnt_array[best_sector]\n",
    "    #print \"..\", sector_phi_array[best_sector]\n",
    "    \n",
    "    # Find the best phi bin\n",
    "    phis = sector_phi_array[best_sector]\n",
    "    phis = np.asarray(phis)\n",
    "    \n",
    "    # Overlapping bins\n",
    "    bins1 = np.arange(0, 5120, strip_unit)\n",
    "    bins2 = np.arange(-strip_unit/2, 5120+strip_unit/2, strip_unit)\n",
    "    if len(bins2):\n",
    "      binned_phis1 = np.digitize(phis, bins=bins1[1:])  # skip lowest edge\n",
    "      binned_phis2 = np.digitize(phis, bins=bins2[1:])  # skip lowest edge\n",
    "      binned_phis_with_counts1 = np.unique(binned_phis1, return_counts=True)\n",
    "      binned_phis_with_counts2 = np.unique(binned_phis2, return_counts=True)\n",
    "      if np.max(binned_phis_with_counts1[1]) >= np.max(binned_phis_with_counts2[1]):\n",
    "        bins = bins1\n",
    "        binned_phis = binned_phis1\n",
    "        binned_phis_with_counts = binned_phis_with_counts1\n",
    "      else:\n",
    "        bins = bins2\n",
    "        binned_phis = binned_phis2\n",
    "        binned_phis_with_counts = binned_phis_with_counts2\n",
    "    else:\n",
    "      bins = bins1\n",
    "      binned_phis = np.digitize(phis, bins=bins[1:])  # skip lowest edge\n",
    "      binned_phis_with_counts = np.unique(binned_phis, return_counts=True)\n",
    "    \n",
    "    best_bin_tmp = np.argmax(binned_phis_with_counts[1])\n",
    "    best_bin = binned_phis_with_counts[0][best_bin_tmp]\n",
    "    best_bin_cnt = binned_phis_with_counts[1][best_bin_tmp]\n",
    "    #frac = float(best_bin_cnt)/len(phis)\n",
    "    \n",
    "    best_bin_phis = phis[binned_phis == best_bin]\n",
    "    if len(best_bin_phis):\n",
    "      delta = np.max(best_bin_phis) - np.min(best_bin_phis)\n",
    "    else:\n",
    "      delta = 0\n",
    "    \n",
    "    # Debug\n",
    "    if verbose and debug:\n",
    "      print part.pt, best_bin, len(phis), best_bin_cnt, delta, phis, binned_phis_with_counts1, binned_phis_with_counts2\n",
    "    \n",
    "    outs.append((part.pt, len(phis), best_bin_cnt, delta))\n",
    "\n",
    "  return np.asarray(outs)"
   ]
  },
  {
   "cell_type": "code",
   "execution_count": 5,
   "metadata": {},
   "outputs": [],
   "source": [
    "#eff_pt_bins = (0., 0.5, 1., 1.5, 2., 3., 4., 5., 6., 7., 8., 10., 12., 14., 16., 18., 20., 22., 24., 27., 30., 34., 40., 48., 60., 80., 120.)\n",
    "eff_pt_bins = (0., 0.5, 1., 1.5, 2., 3., 4., 5., 6., 7., 8., 10., 12., 14., 16., 18., 20., 22., 24., 27., 30.)\n",
    "edges = np.asarray(eff_pt_bins)\n",
    "\n",
    "def post_analysis(outs):\n",
    "  xdata = (edges[1:] + edges[:-1])/2\n",
    "\n",
    "  denom = np.zeros_like(xdata, dtype=np.float32)\n",
    "  numer = np.zeros_like(xdata, dtype=np.float32)\n",
    "\n",
    "  for o in outs:\n",
    "    (pt, cnt, bin_cnt, delta) = o\n",
    "    x = np.digitize(pt, bins=eff_pt_bins[1:])  # skip lowest edge\n",
    "    if x == len(xdata):\n",
    "      x -= 1\n",
    "    denom[x] += 1\n",
    "    if float(bin_cnt)/cnt > 7./8:\n",
    "      numer[x] += 1\n",
    "\n",
    "  denom[denom == 0] = 1\n",
    "  ydata = np.true_divide(numer, denom)\n",
    "  return xdata, ydata"
   ]
  },
  {
   "cell_type": "code",
   "execution_count": 6,
   "metadata": {
    "scrolled": false
   },
   "outputs": [
    {
     "name": "stdout",
     "output_type": "stream",
     "text": [
      "[INFO] Opening file: ../test7/ntuple_SingleMuon_Toy_2GeV_add.5.root\n",
      "Processing event: 0\n",
      "Processing event: 1000\n",
      "Processing event: 2000\n",
      "Processing event: 3000\n",
      "Processing event: 4000\n",
      "Processing event: 5000\n",
      "Processing event: 6000\n",
      "Processing event: 7000\n",
      "Processing event: 8000\n",
      "Processing event: 9000\n",
      "Processing event: 10000\n",
      "Processing event: 11000\n",
      "Processing event: 12000\n",
      "Processing event: 13000\n",
      "Processing event: 14000\n",
      "Processing event: 15000\n",
      "Processing event: 16000\n",
      "Processing event: 17000\n",
      "Processing event: 18000\n",
      "Processing event: 19000\n"
     ]
    }
   ],
   "source": [
    "strip_unit = 5120/8\n",
    "outs = analysis(strip_unit=strip_unit)\n",
    "xdata, ydata = post_analysis(outs)"
   ]
  },
  {
   "cell_type": "code",
   "execution_count": 7,
   "metadata": {},
   "outputs": [
    {
     "name": "stdout",
     "output_type": "stream",
     "text": [
      "640\n",
      "[[2.49785972e+00 1.00000000e+01 1.00000000e+01 4.92000000e+02]\n",
      " [2.50455952e+00 7.00000000e+00 7.00000000e+00 2.69000000e+02]\n",
      " [1.67715244e+01 9.00000000e+00 9.00000000e+00 6.30000000e+01]\n",
      " ...\n",
      " [4.11106443e+00 6.00000000e+00 6.00000000e+00 2.14000000e+02]\n",
      " [3.20642700e+01 1.10000000e+01 1.10000000e+01 7.80000000e+01]\n",
      " [3.42578955e+03 1.50000000e+01 1.50000000e+01 3.84000000e+02]]\n",
      "[ 0.25  0.75  1.25  1.75  2.5   3.5   4.5   5.5   6.5   7.5   9.   11.\n",
      " 13.   15.   17.   19.   21.   23.   25.5  28.5 ] [0.         0.         0.         0.         0.6389573  0.89962184\n",
      " 0.9772469  0.9918567  0.9952494  0.9969834  0.9988938  1.\n",
      " 0.99313504 1.         0.9961977  0.99561405 1.         1.\n",
      " 1.         0.99539524]\n"
     ]
    }
   ],
   "source": [
    "print strip_unit\n",
    "print outs\n",
    "print xdata, ydata"
   ]
  },
  {
   "cell_type": "code",
   "execution_count": 8,
   "metadata": {
    "scrolled": false
   },
   "outputs": [],
   "source": [
    "if False:\n",
    "  plt.style.use('tdrstyle.mplstyle')\n",
    "  plt.figure()\n",
    "\n",
    "  strip_units = [8*4, 8*8, 8*16, 8*32, 5120/16, 5120/8, 5120/4, 5120/2]\n",
    "\n",
    "  for strip_unit in strip_units:\n",
    "    print('Using strip_unit {0}'.format(strip_unit))\n",
    "    outs = analysis(strip_unit=strip_unit, verbose=0)\n",
    "    xdata, ydata = post_analysis(outs)\n",
    "    xerr = (edges[1:] - edges[:-1])/2\n",
    "    #plt.errorbar(xdata, ydata, xerr=xerr, marker=',', fmt='o', lw=1)\n",
    "    plt.errorbar(xdata, ydata, xerr=xerr, marker=',', lw=1)\n",
    "\n",
    "  leg = plt.legend(strip_units, frameon=True, framealpha=0.9, fontsize=10)\n",
    "  leg.get_frame().set_facecolor('#ededed')\n",
    "  plt.xlim(0,35)\n",
    "  plt.ylim(0,1.1)\n",
    "  plt.xlabel(r'gen $p_{T}$ [GeV]')\n",
    "  plt.ylabel(r'$\\varepsilon$')\n",
    "  plt.show()"
   ]
  },
  {
   "cell_type": "code",
   "execution_count": 9,
   "metadata": {},
   "outputs": [],
   "source": [
    "if False:\n",
    "  # Mock minbias pT spectrum\n",
    "  #xx = np.linspace(0.1, 49.1, num=50)\n",
    "  xx = np.linspace(2.1, 52.1, num=101)\n",
    "  #reweight = lambda x: 5.5 * np.power(x,-3)\n",
    "  #reweight = lambda x: 11 * np.power(x,-4)\n",
    "  reweight = lambda x: 7.778 * np.power(x,-3.5)\n",
    "  xw = np.fromiter((reweight(xi) for xi in xx), xx.dtype)\n",
    "  xw_cumsum = np.cumsum(xw)\n",
    "  xw_cumsum /= xw.sum()\n",
    "  print zip(xx, xw_cumsum)"
   ]
  },
  {
   "cell_type": "code",
   "execution_count": null,
   "metadata": {},
   "outputs": [],
   "source": []
  },
  {
   "cell_type": "code",
   "execution_count": null,
   "metadata": {},
   "outputs": [],
   "source": []
  },
  {
   "cell_type": "code",
   "execution_count": 10,
   "metadata": {},
   "outputs": [],
   "source": [
    "maxEvents = 20000  #FIXME\n",
    "#maxEvents = 100000\n",
    "\n",
    "debug = 0\n",
    "\n",
    "kDT, kCSC, kRPC, kGEM, kME0 = 0, 1, 2, 3, 4\n",
    "\n",
    "nlayers = 12  # 5 (CSC) + 4 (RPC) + 3 (GEM)\n",
    "\n",
    "nchannels = 4  # (ring1/ring2) x (F/R)\n",
    "\n",
    "layer_names = ['ME1/1', 'ME1/2', 'ME2', 'ME3', 'ME4', \n",
    "               'RE1', 'RE2', 'RE3', 'RE4', \n",
    "               'GE1/1', 'GE2/1', 'ME0']\n",
    "ordered_layer_names = ['ME0', 'GE1/1', 'ME1/1', \n",
    "                       'ME1/2', 'RE1',\n",
    "                       'GE2/1', 'RE2', 'ME2',\n",
    "                       'ME3', 'RE3',\n",
    "                       'ME4', 'RE4']\n",
    "ordered_layer_mapping = [(nlayers-1) - ordered_layer_names.index(x) for x in layer_names]\n",
    "\n",
    "# Decide EMTF hit layer number\n",
    "class EMTFLayer(object):\n",
    "  def __init__(self):\n",
    "    lut = np.zeros((5,5,5), dtype=np.int32) - 99\n",
    "    lut[1,1,4] = 0  # ME1/1a\n",
    "    lut[1,1,1] = 0  # ME1/1b\n",
    "    lut[1,1,2] = 1  # ME1/2\n",
    "    lut[1,1,3] = 1  # ME1/3\n",
    "    lut[1,2,1] = 2  # ME2/1\n",
    "    lut[1,2,2] = 2  # ME2/2\n",
    "    lut[1,3,1] = 3  # ME3/1\n",
    "    lut[1,3,2] = 3  # ME3/2\n",
    "    lut[1,4,1] = 4  # ME4/1\n",
    "    lut[1,4,2] = 4  # ME4/2\n",
    "    lut[2,1,2] = 5  # RE1/2\n",
    "    lut[2,2,2] = 6  # RE2/2\n",
    "    lut[2,3,1] = 7  # RE3/1\n",
    "    lut[2,3,2] = 7  # RE3/2\n",
    "    lut[2,3,3] = 7  # RE3/3\n",
    "    lut[2,4,1] = 8  # RE4/1\n",
    "    lut[2,4,2] = 8  # RE4/2\n",
    "    lut[2,4,3] = 8  # RE4/3\n",
    "    lut[3,1,1] = 9  # GE1/1\n",
    "    lut[3,2,1] = 10 # GE2/1\n",
    "    lut[4,1,1] = 11 # ME0\n",
    "    self.lut = lut\n",
    "\n",
    "  def __call__(self, hit):\n",
    "    index = (hit.type, hit.station, hit.ring)\n",
    "    return self.lut[index]\n",
    "\n",
    "find_emtf_layer = EMTFLayer()\n",
    "\n",
    "# Decide EMTF channel number (F/R + ring)\n",
    "class EMTFChannel(object):\n",
    "  def __init__(self):\n",
    "    lut = np.zeros((2,2), dtype=np.int32) - 99\n",
    "    lut[0,0] = 0  # ring 1 or 4, R\n",
    "    lut[0,1] = 1  # ring 1 or 4, F\n",
    "    lut[1,0] = 2  # ring 2 or 3, R\n",
    "    lut[1,1] = 3  # ring 2 or 3, F\n",
    "    self.lut = lut\n",
    "\n",
    "  def __call__(self, hit):\n",
    "    tmp_ring = 1 if (hit.ring == 2) or (hit.ring == 3) else 0\n",
    "    tmp_fr = 1 if (hit.fr == 1) else 0\n",
    "    index = (tmp_ring, tmp_fr)\n",
    "    return self.lut[index]\n",
    "\n",
    "find_emtf_channel = EMTFChannel()\n",
    "\n",
    "\n",
    "#FIXME: add eta partitions\n",
    "#FIXME: format 1/pT\n",
    "def make_images(strip_unit=8*4, verbose=1):\n",
    "  tree = load_pgun()\n",
    "  \n",
    "  images = []\n",
    "  labels = []\n",
    "\n",
    "  # Loop over events\n",
    "  for ievt, evt in enumerate(tree):\n",
    "    if maxEvents != -1 and ievt == maxEvents:\n",
    "      break\n",
    "    \n",
    "    if verbose and (ievt % 1000 == 0):  print(\"Processing event: {0}\".format(ievt))\n",
    "    \n",
    "    # Skip events with very few hits\n",
    "    if not len(evt.hits) >= 4:\n",
    "      continue\n",
    "    \n",
    "    # Skip events without ME1 hits\n",
    "    has_ME1 = False\n",
    "    for ihit, hit in enumerate(evt.hits):\n",
    "      if hit.type == kCSC and hit.station == 1:\n",
    "        has_ME1 = True\n",
    "        break\n",
    "    if not has_ME1:\n",
    "      continue\n",
    "    \n",
    "    part = evt.particles[0]  # particle gun\n",
    "    part.invpt = np.true_divide(part.q, part.pt)\n",
    "    \n",
    "    # Find the best sector\n",
    "    sector_cnt_array = np.zeros((12,), dtype=np.int32)\n",
    "    sector_hits_array = np.empty((12,), dtype=np.object)\n",
    "    for ind in np.ndindex(sector_hits_array.shape):\n",
    "      sector_hits_array[ind] = []\n",
    "    \n",
    "    for ihit, hit in enumerate(evt.hits):\n",
    "      #print(\".. hit  {0} {1} {2} {3} {4} {5} {6} {7} {8} {9} {10} {11}\".format(ihit, hit.bx, hit.type, hit.station, hit.ring, hit.sector, hit.fr, hit.sim_phi, hit.sim_theta, hit.time, hit.sim_tp1, hit.sim_tp2))\n",
    "      \n",
    "      endsec = find_endsec(hit.endcap, hit.sector)\n",
    "      \n",
    "      sector_cnt_array[endsec] += 1\n",
    "      sector_hits_array[endsec].append(hit)\n",
    "    \n",
    "    best_sector = np.argmax(sector_cnt_array)\n",
    "    \n",
    "    # Find the best superstrip, include overlaps\n",
    "    sector_hits = sector_hits_array[best_sector]\n",
    "    phis = [hit.emtf_phi for hit in sector_hits]\n",
    "    bins1 = np.arange(0, 5120, strip_unit)\n",
    "    bins2 = np.arange(-strip_unit/2, 5120+strip_unit/2, strip_unit)\n",
    "    if len(bins2):\n",
    "      binned_phis1 = np.digitize(phis, bins=bins1[1:])  # skip lowest edge\n",
    "      binned_phis2 = np.digitize(phis, bins=bins2[1:])  # skip lowest edge\n",
    "      binned_phis_with_counts1 = np.unique(binned_phis1, return_counts=True)\n",
    "      binned_phis_with_counts2 = np.unique(binned_phis2, return_counts=True)\n",
    "      if np.max(binned_phis_with_counts1[1]) >= np.max(binned_phis_with_counts2[1]):\n",
    "        bins = bins1\n",
    "        binned_phis = binned_phis1\n",
    "        binned_phis_with_counts = binned_phis_with_counts1\n",
    "      else:\n",
    "        bins = bins2\n",
    "        binned_phis = binned_phis2\n",
    "        binned_phis_with_counts = binned_phis_with_counts2\n",
    "    else:\n",
    "      bins = bins1\n",
    "      binned_phis = np.digitize(phis, bins=bins[1:])  # skip lowest edge\n",
    "      binned_phis_with_counts = np.unique(binned_phis, return_counts=True)\n",
    "    \n",
    "    best_bin_tmp = np.argmax(binned_phis_with_counts[1])\n",
    "    best_bin = binned_phis_with_counts[0][best_bin_tmp]\n",
    "    best_bin_cnt = binned_phis_with_counts[1][best_bin_tmp]\n",
    "    #frac = float(best_bin_cnt)/len(phis)\n",
    "    \n",
    "    best_bin_idx = (binned_phis == best_bin)\n",
    "    reduce_list_f = lambda x, mask: [x[i] for i in np.where(mask)[0]]\n",
    "    best_bin_hits = reduce_list_f(sector_hits, best_bin_idx)\n",
    "    \n",
    "    #image_shape = (nlayers, strip_unit, nchannels)\n",
    "    image_shape = (nlayers, strip_unit)\n",
    "    image = np.zeros(image_shape, dtype=np.float32)\n",
    "    \n",
    "    # Debug\n",
    "    if verbose and debug and ievt < 10:\n",
    "      print(\"ievt {0}\".format(ievt))\n",
    "    \n",
    "    for ihit, hit in enumerate(best_bin_hits):\n",
    "      l = find_emtf_layer(hit)\n",
    "      c = find_emtf_channel(hit)\n",
    "      phi = hit.emtf_phi\n",
    "      theta = hit.emtf_theta\n",
    "      time = hit.bx\n",
    "      \n",
    "      phi_sub = phi - bins[best_bin]\n",
    "      assert(0 <= phi_sub < strip_unit)\n",
    "      \n",
    "      # reorder layers\n",
    "      ll = ordered_layer_mapping[l]\n",
    "      \n",
    "      #FIXME: ignore channels for now\n",
    "      #image[ll, phi_sub, c] = 1\n",
    "      image[ll, phi_sub] = 1\n",
    "      \n",
    "      # Debug\n",
    "      if verbose and debug and ievt < 10:\n",
    "        print \"..\", (l, c, phi, theta, time), bins[best_bin], phi_sub\n",
    "    \n",
    "    images.append(image)\n",
    "    \n",
    "    label = (part.pt > 14)\n",
    "    labels.append(label)\n",
    "  \n",
    "  return np.asarray(images), np.asarray(labels)"
   ]
  },
  {
   "cell_type": "code",
   "execution_count": 11,
   "metadata": {
    "scrolled": true
   },
   "outputs": [
    {
     "name": "stdout",
     "output_type": "stream",
     "text": [
      "[INFO] Opening file: ../test7/ntuple_SingleMuon_Toy_2GeV_add.5.root\n",
      "Processing event: 0\n",
      "Processing event: 1000\n",
      "Processing event: 2000\n",
      "Processing event: 3000\n",
      "Processing event: 4000\n",
      "Processing event: 5000\n",
      "Processing event: 6000\n",
      "Processing event: 7000\n",
      "Processing event: 8000\n",
      "Processing event: 9000\n",
      "Processing event: 10000\n",
      "Processing event: 11000\n",
      "Processing event: 12000\n",
      "Processing event: 13000\n",
      "Processing event: 14000\n",
      "Processing event: 15000\n",
      "Processing event: 16000\n",
      "Processing event: 17000\n",
      "Processing event: 18000\n",
      "Processing event: 19000\n",
      "(16848, 12, 640) (16848,)\n"
     ]
    }
   ],
   "source": [
    "strip_unit = 5120/8\n",
    "images, labels = make_images(strip_unit=strip_unit)\n",
    "print images.shape, labels.shape\n",
    "\n",
    "outfile = 'histos_tbe.npz'\n",
    "np.savez_compressed(outfile, images=images, labels=labels)"
   ]
  },
  {
   "cell_type": "code",
   "execution_count": 12,
   "metadata": {},
   "outputs": [],
   "source": [
    "# Styling\n",
    "plt.style.use('tdrstyle.mplstyle')\n",
    "\n",
    "import matplotlib as mpl\n",
    "mpl.rcParams['figure.figsize'] = (5,2)\n",
    "#mpl.rcParams['axes.labelpad'] = 0\n",
    "#mpl.rcParams['axes.labelsize'] = 0\n",
    "#mpl.rcParams['xtick.labelsize'] = 0\n",
    "#mpl.rcParams['ytick.labelsize'] = 0"
   ]
  },
  {
   "cell_type": "code",
   "execution_count": 17,
   "metadata": {},
   "outputs": [
    {
     "data": {
      "image/png": "[encoded data removed]",
      "text/plain": [
       "<matplotlib.figure.Figure at 0x7f6d031bfa10>"
      ]
     },
     "metadata": {},
     "output_type": "display_data"
    }
   ],
   "source": [
    "#aspect = float(strip_unit)/nlayers\n",
    "#aspect = 20\n",
    "aspect = 'auto'\n",
    "\n",
    "image = images[0]\n",
    "#print np.where(image[:,:,0])\n",
    "#print np.where(image[:,:,1])\n",
    "#print np.where(image[:,:,2])\n",
    "#print np.where(image[:,:,3])\n",
    "#plt.imshow(image[:,:,0], cmap='viridis', interpolation='none', extent=(0,strip_unit,nlayers,0), aspect=aspect)\n",
    "#plt.show()\n",
    "#plt.imshow(image[:,:,1], cmap='viridis', interpolation='none', extent=(0,strip_unit,nlayers,0), aspect=aspect)\n",
    "#plt.show()\n",
    "#plt.imshow(image[:,:,2], cmap='viridis', interpolation='none', extent=(0,strip_unit,nlayers,0), aspect=aspect)\n",
    "#plt.show()\n",
    "#plt.imshow(image[:,:,3], cmap='viridis', interpolation='none', extent=(0,strip_unit,nlayers,0), aspect=aspect)\n",
    "#plt.show()\n",
    "plt.imshow(image, cmap='viridis', interpolation='none', extent=(0,strip_unit,nlayers,0), aspect=aspect)\n",
    "plt.show()"
   ]
  },
  {
   "cell_type": "code",
   "execution_count": 18,
   "metadata": {},
   "outputs": [
    {
     "data": {
      "image/png": "[encoded data removed]",
      "text/plain": [
       "<matplotlib.figure.Figure at 0x7f6d02f21910>"
      ]
     },
     "metadata": {},
     "output_type": "display_data"
    }
   ],
   "source": [
    "image = images[1]\n",
    "#print np.where(image[:,:,0])\n",
    "#plt.imshow(image[:,:,0], cmap='viridis', interpolation='none', extent=(0,strip_unit,nlayers,0), aspect=aspect)\n",
    "plt.imshow(image, cmap='viridis', interpolation='none', extent=(0,strip_unit,nlayers,0), aspect=aspect)\n",
    "plt.show()"
   ]
  },
  {
   "cell_type": "code",
   "execution_count": 19,
   "metadata": {},
   "outputs": [
    {
     "data": {
      "image/png": "[encoded data removed]",
      "text/plain": [
       "<matplotlib.figure.Figure at 0x7f6d02f03a90>"
      ]
     },
     "metadata": {},
     "output_type": "display_data"
    }
   ],
   "source": [
    "image = images[2]\n",
    "#print np.where(image[:,:,0])\n",
    "#plt.imshow(image[:,:,0], cmap='viridis', interpolation='none', extent=(0,strip_unit,nlayers,0), aspect=aspect)\n",
    "plt.imshow(image, cmap='viridis', interpolation='none', extent=(0,strip_unit,nlayers,0), aspect=aspect)\n",
    "plt.show()"
   ]
  },
  {
   "cell_type": "code",
   "execution_count": 20,
   "metadata": {},
   "outputs": [
    {
     "data": {
      "image/png": "[encoded data removed]",
      "text/plain": [
       "<matplotlib.figure.Figure at 0x7f6d02d96550>"
      ]
     },
     "metadata": {},
     "output_type": "display_data"
    }
   ],
   "source": [
    "image = images[3]\n",
    "#print np.where(image[:,:,0])\n",
    "#plt.imshow(image[:,:,0], cmap='viridis', interpolation='none', extent=(0,strip_unit,nlayers,0), aspect=aspect)\n",
    "plt.imshow(image, cmap='viridis', interpolation='none', extent=(0,strip_unit,nlayers,0), aspect=aspect)\n",
    "plt.show()"
   ]
  },
  {
   "cell_type": "code",
   "execution_count": null,
   "metadata": {},
   "outputs": [],
   "source": []
  },
  {
   "cell_type": "code",
   "execution_count": null,
   "metadata": {},
   "outputs": [],
   "source": []
  }
 ],
 "metadata": {
  "kernelspec": {
   "display_name": "Python 2",
   "language": "python",
   "name": "python2"
  },
  "language_info": {
   "codemirror_mode": {
    "name": "ipython",
    "version": 2
   },
   "file_extension": ".py",
   "mimetype": "text/x-python",
   "name": "python",
   "nbconvert_exporter": "python",
   "pygments_lexer": "ipython2",
   "version": "2.7.11"
  }
 },
 "nbformat": 4,
 "nbformat_minor": 2
}
