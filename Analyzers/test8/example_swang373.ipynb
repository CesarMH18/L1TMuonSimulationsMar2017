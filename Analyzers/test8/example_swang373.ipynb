{
 "cells": [
  {
   "cell_type": "markdown",
   "metadata": {},
   "source": [
    "# Bayesian Hyperparameter Optimization\n",
    "---\n",
    "\n",
    "The `scikit-optimize` project offers powerful sequential model-based optimization algorithms. This package can be leveraged to optimize the BDT hyperparameters or other use cases in our analysis where there is a computationally costly objective whose parameters we would like to optimize."
   ]
  },
  {
   "cell_type": "code",
   "execution_count": 1,
   "metadata": {
    "collapsed": false
   },
   "outputs": [
    {
     "name": "stdout",
     "output_type": "stream",
     "text": [
      "Welcome to JupyROOT 6.10/09\n"
     ]
    }
   ],
   "source": [
    "import numpy\n",
    "import pandas\n",
    "import skopt\n",
    "from skopt.plots import plot_convergence\n",
    "from skopt.space import Categorical, Integer, Real, Space\n",
    "from skopt.utils import use_named_args\n",
    "\n",
    "from utils import TMVAClassifier\n",
    "\n",
    "%matplotlib inline"
   ]
  },
  {
   "cell_type": "markdown",
   "metadata": {},
   "source": [
    "## Defining a Hyperparameter Space\n",
    "---\n",
    "\n",
    "More documentation to follow."
   ]
  },
  {
   "cell_type": "code",
   "execution_count": 2,
   "metadata": {
    "collapsed": true
   },
   "outputs": [],
   "source": [
    "HYPERPARAMETERS = Space([\n",
    "    Integer(1, 2000, name='NTrees'),\n",
    "    Integer(2, 20, name='MaxDepth'),\n",
    "    Real(0.1, 20, name='MinNodeSize'),\n",
    "    Integer(2, 50, name='nCuts'),\n",
    "    Categorical(['Grad'], name='BoostType'),\n",
    "    Real(10**-4, 10**0, prior='log-uniform', name='Shrinkage'),\n",
    "    Real(0.1, 1, name='NodePurityLimit'),\n",
    "    Categorical([True, False], name='UseBaggedBoost'),\n",
    "    Real(0.1, 1, name='BaggedSampleFraction'),\n",
    "    Categorical(['CrossEntropy', 'GiniIndex', 'MisClassificationError', 'SDivSqrtSPlusB'], name='SeparationType'),\n",
    "])"
   ]
  },
  {
   "cell_type": "markdown",
   "metadata": {},
   "source": [
    "## Defining an Objective Function\n",
    "---\n",
    "\n",
    "More documentation to follow."
   ]
  },
  {
   "cell_type": "code",
   "execution_count": 3,
   "metadata": {
    "collapsed": false
   },
   "outputs": [],
   "source": [
    "# Load training and test data.\n",
    "df_train = pandas.read_hdf('0lepton_2016.h5', key='train')\n",
    "df_train['label'] = df_train['sample'].map(lambda x: 1 if x in ['ZH', 'ggZH', 'WminusH', 'WplusH'] else 0)\n",
    "df_train['SA5'] = pandas.to_numeric(df_train['SA5'])\n",
    "\n",
    "df_test = pandas.read_hdf('0lepton_2016.h5', key='test')\n",
    "df_test['label'] = df_test['sample'].map(lambda x: 1 if x in ['ZH', 'ggZH', 'WminusH', 'WplusH'] else 0)\n",
    "df_test['SA5'] = pandas.to_numeric(df_test['SA5'])\n",
    "\n",
    "X_train, w_train, y_train = df_train.loc[:, :'SA5'], df_train.loc[:, 'event_weight'], df_train.loc[:, 'label']\n",
    "X_test, w_test, y_test = df_test.loc[:, :'SA5'], df_test.loc[:, 'event_weight'], df_test.loc[:, 'label']"
   ]
  },
  {
   "cell_type": "code",
   "execution_count": 4,
   "metadata": {
    "collapsed": false
   },
   "outputs": [],
   "source": [
    "@use_named_args(HYPERPARAMETERS.dimensions)\n",
    "def objective(**params):\n",
    "    model = TMVAClassifier(method='BDT', **params)\n",
    "    print 'Evaluating objective for {0!r}\\n'.format(model)\n",
    "    metrics = model.cross_val(X_train, y_train, weights=w_train, validation_data=(X_test, y_test, w_test), n_folds=2)\n",
    "    # The following line is necessary for the minimization routine\n",
    "    # to repeatedly call the objective function without crashing.\n",
    "    del model\n",
    "    # Note that a negative sign may be necessary depending on the context\n",
    "    # of the problem because the optimizers are all minimizers.\n",
    "    return -numpy.mean(metrics['auroc'])"
   ]
  },
  {
   "cell_type": "markdown",
   "metadata": {},
   "source": [
    "## Optimizing the Objective\n",
    "---\n",
    "\n",
    "More documentation to follow."
   ]
  },
  {
   "cell_type": "code",
   "execution_count": 5,
   "metadata": {
    "collapsed": false,
    "scrolled": true
   },
   "outputs": [
    {
     "name": "stdout",
     "output_type": "stream",
     "text": [
      "Evaluating objective for TMVAClassifier(method='BDT', NTrees=685, Shrinkage=0.012970292786793958, nCuts=14, UseBaggedBoost=True, MinNodeSize=11.222032620560748, BaggedSampleFraction=0.33044380871910106, NodePurityLimit=0.46446492597071054, MaxDepth=9, BoostType='Grad', SeparationType='GiniIndex')\n",
      "\n",
      "Evaluating objective for TMVAClassifier(method='BDT', NTrees=265, Shrinkage=0.00049162916469202829, nCuts=26, UseBaggedBoost=False, MinNodeSize=5.202377405111859, BaggedSampleFraction=0.81070620759947876, NodePurityLimit=0.18976823829524883, MaxDepth=11, BoostType='Grad', SeparationType='CrossEntropy')\n",
      "\n",
      "Evaluating objective for TMVAClassifier(method='BDT', NTrees=34, Shrinkage=0.87553240601108229, nCuts=2, UseBaggedBoost=True, MinNodeSize=5.5837778245295864, BaggedSampleFraction=0.18129585378582375, NodePurityLimit=0.83385193391558277, MaxDepth=16, BoostType='Grad', SeparationType='SDivSqrtSPlusB')\n",
      "\n",
      "Evaluating objective for TMVAClassifier(method='BDT', NTrees=1853, Shrinkage=0.041219345089288477, nCuts=3, UseBaggedBoost=True, MinNodeSize=13.624164718750833, BaggedSampleFraction=0.1444115196636663, NodePurityLimit=0.19346873695421601, MaxDepth=6, BoostType='Grad', SeparationType='SDivSqrtSPlusB')\n",
      "\n",
      "Evaluating objective for TMVAClassifier(method='BDT', NTrees=586, Shrinkage=0.00054997632245710115, nCuts=6, UseBaggedBoost=False, MinNodeSize=8.7460706743186094, BaggedSampleFraction=0.90256803466280733, NodePurityLimit=0.17017866552781091, MaxDepth=4, BoostType='Grad', SeparationType='MisClassificationError')\n",
      "\n",
      "Evaluating objective for TMVAClassifier(method='BDT', NTrees=1216, Shrinkage=0.023163232893832368, nCuts=30, UseBaggedBoost=False, MinNodeSize=14.378699384536169, BaggedSampleFraction=0.30908989047341517, NodePurityLimit=0.2545874868225757, MaxDepth=6, BoostType='Grad', SeparationType='MisClassificationError')\n",
      "\n",
      "Evaluating objective for TMVAClassifier(method='BDT', NTrees=51, Shrinkage=0.00089505445964513624, nCuts=18, UseBaggedBoost=True, MinNodeSize=7.7736398969175777, BaggedSampleFraction=0.78726791766177573, NodePurityLimit=0.19651677932081302, MaxDepth=2, BoostType='Grad', SeparationType='MisClassificationError')\n",
      "\n",
      "Evaluating objective for TMVAClassifier(method='BDT', NTrees=1104, Shrinkage=0.029725775081295369, nCuts=12, UseBaggedBoost=False, MinNodeSize=11.087453186589171, BaggedSampleFraction=0.71533956279573774, NodePurityLimit=0.21288124916526846, MaxDepth=20, BoostType='Grad', SeparationType='MisClassificationError')\n",
      "\n",
      "Evaluating objective for TMVAClassifier(method='BDT', NTrees=1119, Shrinkage=0.0062707773730835146, nCuts=31, UseBaggedBoost=True, MinNodeSize=0.85927497539925857, BaggedSampleFraction=0.28436004227661837, NodePurityLimit=0.70128428767875395, MaxDepth=19, BoostType='Grad', SeparationType='SDivSqrtSPlusB')\n",
      "\n",
      "Evaluating objective for TMVAClassifier(method='BDT', NTrees=1793, Shrinkage=0.048172538261701328, nCuts=28, UseBaggedBoost=True, MinNodeSize=17.207071417508303, BaggedSampleFraction=0.9940995912577596, NodePurityLimit=0.62966173206638931, MaxDepth=18, BoostType='Grad', SeparationType='CrossEntropy')\n",
      "\n",
      "Evaluating objective for TMVAClassifier(method='BDT', NTrees=1116, Shrinkage=1.0, nCuts=50, UseBaggedBoost=False, MinNodeSize=0.10000000000000001, BaggedSampleFraction=1.0, NodePurityLimit=1.0, MaxDepth=20, BoostType='Grad', SeparationType='CrossEntropy')\n",
      "\n",
      "Evaluating objective for TMVAClassifier(method='BDT', NTrees=2000, Shrinkage=0.0001, nCuts=2, UseBaggedBoost=True, MinNodeSize=20.0, BaggedSampleFraction=0.88732257441060014, NodePurityLimit=0.10000000000000001, MaxDepth=20, BoostType='Grad', SeparationType='MisClassificationError')\n",
      "\n",
      "Evaluating objective for TMVAClassifier(method='BDT', NTrees=1071, Shrinkage=1.0, nCuts=50, UseBaggedBoost=False, MinNodeSize=3.6753469327472321, BaggedSampleFraction=0.58161983267137674, NodePurityLimit=1.0, MaxDepth=2, BoostType='Grad', SeparationType='MisClassificationError')\n",
      "\n",
      "Evaluating objective for TMVAClassifier(method='BDT', NTrees=1616, Shrinkage=0.0021610261729894942, nCuts=50, UseBaggedBoost=True, MinNodeSize=0.10000000000000001, BaggedSampleFraction=0.17678749014350004, NodePurityLimit=1.0, MaxDepth=20, BoostType='Grad', SeparationType='SDivSqrtSPlusB')\n",
      "\n",
      "Evaluating objective for TMVAClassifier(method='BDT', NTrees=2000, Shrinkage=0.01652059894793052, nCuts=50, UseBaggedBoost=True, MinNodeSize=0.10000000000000001, BaggedSampleFraction=1.0, NodePurityLimit=1.0, MaxDepth=20, BoostType='Grad', SeparationType='CrossEntropy')\n",
      "\n",
      "Evaluating objective for TMVAClassifier(method='BDT', NTrees=49, Shrinkage=1.0, nCuts=24, UseBaggedBoost=True, MinNodeSize=8.3159100549530436, BaggedSampleFraction=0.10000000000000001, NodePurityLimit=0.52148185509526668, MaxDepth=20, BoostType='Grad', SeparationType='MisClassificationError')\n",
      "\n",
      "Evaluating objective for TMVAClassifier(method='BDT', NTrees=1, Shrinkage=1.0, nCuts=2, UseBaggedBoost=False, MinNodeSize=20.0, BaggedSampleFraction=0.10000000000000001, NodePurityLimit=0.10000000000000001, MaxDepth=20, BoostType='Grad', SeparationType='MisClassificationError')\n",
      "\n",
      "Evaluating objective for TMVAClassifier(method='BDT', NTrees=1754, Shrinkage=0.038119101023142442, nCuts=10, UseBaggedBoost=True, MinNodeSize=0.10000000000000001, BaggedSampleFraction=0.5641027795811836, NodePurityLimit=0.68722277475423788, MaxDepth=20, BoostType='Grad', SeparationType='MisClassificationError')\n",
      "\n",
      "Evaluating objective for TMVAClassifier(method='BDT', NTrees=2000, Shrinkage=0.0001, nCuts=50, UseBaggedBoost=True, MinNodeSize=1.0908312586665347, BaggedSampleFraction=1.0, NodePurityLimit=1.0, MaxDepth=4, BoostType='Grad', SeparationType='CrossEntropy')\n",
      "\n",
      "Evaluating objective for TMVAClassifier(method='BDT', NTrees=2000, Shrinkage=0.0001, nCuts=50, UseBaggedBoost=True, MinNodeSize=0.75578107604917422, BaggedSampleFraction=1.0, NodePurityLimit=1.0, MaxDepth=20, BoostType='Grad', SeparationType='CrossEntropy')\n",
      "\n",
      "Evaluating objective for TMVAClassifier(method='BDT', NTrees=1185, Shrinkage=1.0, nCuts=11, UseBaggedBoost=True, MinNodeSize=15.994592303600852, BaggedSampleFraction=0.71569349125239712, NodePurityLimit=0.46161169342451269, MaxDepth=20, BoostType='Grad', SeparationType='CrossEntropy')\n",
      "\n",
      "Evaluating objective for TMVAClassifier(method='BDT', NTrees=1081, Shrinkage=0.0001, nCuts=50, UseBaggedBoost=True, MinNodeSize=15.987682347793998, BaggedSampleFraction=0.19300631494711826, NodePurityLimit=0.88281534192556843, MaxDepth=20, BoostType='Grad', SeparationType='SDivSqrtSPlusB')\n",
      "\n",
      "Evaluating objective for TMVAClassifier(method='BDT', NTrees=1, Shrinkage=1.0, nCuts=31, UseBaggedBoost=True, MinNodeSize=9.8676030096509315, BaggedSampleFraction=0.12444810946224079, NodePurityLimit=1.0, MaxDepth=2, BoostType='Grad', SeparationType='CrossEntropy')\n",
      "\n",
      "Evaluating objective for TMVAClassifier(method='BDT', NTrees=858, Shrinkage=0.00017100122877128018, nCuts=50, UseBaggedBoost=True, MinNodeSize=0.81391550905857213, BaggedSampleFraction=0.10000000000000001, NodePurityLimit=1.0, MaxDepth=18, BoostType='Grad', SeparationType='SDivSqrtSPlusB')\n",
      "\n",
      "Evaluating objective for TMVAClassifier(method='BDT', NTrees=2000, Shrinkage=1.0, nCuts=3, UseBaggedBoost=False, MinNodeSize=10.0954674569704, BaggedSampleFraction=0.12973583456510471, NodePurityLimit=0.28202954676903991, MaxDepth=20, BoostType='Grad', SeparationType='SDivSqrtSPlusB')\n",
      "\n",
      "DataSetInfo              : [default] : Added class \"Background\"\n",
      "DataSetInfo              : [default] : Added class \"Signal\"\n",
      "                         : Add Tree TrainAssignTree_Background of type Background with 29371 events\n",
      "                         : Add Tree TestAssignTree_Background of type Background with 29222 events\n",
      "                         : Add Tree TrainAssignTree_Signal of type Signal with 62574 events\n",
      "                         : Add Tree TestAssignTree_Signal of type Signal with 61942 events\n",
      "                         : Evaluate method: fcb27f9068834927905235634c3c5a10\n",
      "                         : Evaluation done.\n",
      "DataSetInfo              : [default] : Added class \"Background\"\n",
      "DataSetInfo              : [default] : Added class \"Signal\"\n",
      "                         : Add Tree TrainAssignTree_Background of type Background with 29371 events\n",
      "                         : Add Tree TestAssignTree_Background of type Background with 29222 events\n",
      "                         : Add Tree TrainAssignTree_Signal of type Signal with 62574 events\n",
      "                         : Add Tree TestAssignTree_Signal of type Signal with 61942 events\n",
      "                         : Evaluate method: 0c00d1221a9a4dd380cef0de5af8fc6f\n",
      "                         : Evaluation done.\n",
      "DataSetInfo              : [default] : Added class \"Background\"\n",
      "DataSetInfo              : [default] : Added class \"Signal\"\n",
      "                         : Add Tree TrainAssignTree_Background of type Background with 29371 events\n",
      "                         : Add Tree TestAssignTree_Background of type Background with 29222 events\n",
      "                         : Add Tree TrainAssignTree_Signal of type Signal with 62574 events\n",
      "                         : Add Tree TestAssignTree_Signal of type Signal with 61942 events\n",
      "                         : Evaluate method: c98006b11f8b498cbfce0ac9791ce656\n",
      "                         : Evaluation done.\n",
      "DataSetInfo              : [default] : Added class \"Background\"\n",
      "DataSetInfo              : [default] : Added class \"Signal\"\n",
      "                         : Add Tree TrainAssignTree_Background of type Background with 29371 events\n",
      "                         : Add Tree TestAssignTree_Background of type Background with 29222 events\n",
      "                         : Add Tree TrainAssignTree_Signal of type Signal with 62574 events\n",
      "                         : Add Tree TestAssignTree_Signal of type Signal with 61942 events\n",
      "                         : Evaluate method: 357fc049a0184a608aae1594a90fbde8\n",
      "                         : Evaluation done.\n",
      "DataSetInfo              : [default] : Added class \"Background\"\n",
      "DataSetInfo              : [default] : Added class \"Signal\"\n",
      "                         : Add Tree TrainAssignTree_Background of type Background with 29371 events\n",
      "                         : Add Tree TestAssignTree_Background of type Background with 29222 events\n",
      "                         : Add Tree TrainAssignTree_Signal of type Signal with 62574 events\n",
      "                         : Add Tree TestAssignTree_Signal of type Signal with 61942 events\n",
      "                         : Evaluate method: 4c6fcbdf3fb240b490cd8222ba50e623\n",
      "                         : Evaluation done.\n",
      "DataSetInfo              : [default] : Added class \"Background\"\n",
      "DataSetInfo              : [default] : Added class \"Signal\"\n",
      "                         : Add Tree TrainAssignTree_Background of type Background with 29371 events\n",
      "                         : Add Tree TestAssignTree_Background of type Background with 29222 events\n",
      "                         : Add Tree TrainAssignTree_Signal of type Signal with 62574 events\n",
      "                         : Add Tree TestAssignTree_Signal of type Signal with 61942 events\n",
      "                         : Evaluate method: a7ce1b501b8c4bc9beade6fa9cc4bfcb\n",
      "                         : Evaluation done.\n",
      "DataSetInfo              : [default] : Added class \"Background\"\n",
      "DataSetInfo              : [default] : Added class \"Signal\"\n",
      "                         : Add Tree TrainAssignTree_Background of type Background with 29371 events\n",
      "                         : Add Tree TestAssignTree_Background of type Background with 29222 events\n",
      "                         : Add Tree TrainAssignTree_Signal of type Signal with 62574 events\n",
      "                         : Add Tree TestAssignTree_Signal of type Signal with 61942 events\n",
      "                         : Evaluate method: b98e200099e94155bc2a1928bc93abf6\n",
      "                         : Evaluation done.\n",
      "DataSetInfo              : [default] : Added class \"Background\"\n",
      "DataSetInfo              : [default] : Added class \"Signal\"\n",
      "                         : Add Tree TrainAssignTree_Background of type Background with 29371 events\n",
      "                         : Add Tree TestAssignTree_Background of type Background with 29222 events\n",
      "                         : Add Tree TrainAssignTree_Signal of type Signal with 62574 events\n",
      "                         : Add Tree TestAssignTree_Signal of type Signal with 61942 events\n",
      "                         : Evaluate method: 34173fba419b42e6a6c444415ec551a2\n",
      "                         : Evaluation done.\n",
      "DataSetInfo              : [default] : Added class \"Background\"\n",
      "DataSetInfo              : [default] : Added class \"Signal\"\n",
      "                         : Add Tree TrainAssignTree_Background of type Background with 29371 events\n",
      "                         : Add Tree TestAssignTree_Background of type Background with 29222 events\n",
      "                         : Add Tree TrainAssignTree_Signal of type Signal with 62574 events\n",
      "                         : Add Tree TestAssignTree_Signal of type Signal with 61942 events\n",
      "                         : Evaluate method: fdc3d1e8633e47f28cbd02d9b3257eec\n",
      "                         : Evaluation done.\n",
      "DataSetInfo              : [default] : Added class \"Background\"\n",
      "DataSetInfo              : [default] : Added class \"Signal\"\n",
      "                         : Add Tree TrainAssignTree_Background of type Background with 29371 events\n",
      "                         : Add Tree TestAssignTree_Background of type Background with 29222 events\n",
      "                         : Add Tree TrainAssignTree_Signal of type Signal with 62574 events\n",
      "                         : Add Tree TestAssignTree_Signal of type Signal with 61942 events\n",
      "                         : Evaluate method: a9e2afede08a4821a3f2d48215a5d301\n",
      "                         : Evaluation done.\n",
      "DataSetInfo              : [default] : Added class \"Background\"\n",
      "DataSetInfo              : [default] : Added class \"Signal\"\n",
      "                         : Add Tree TrainAssignTree_Background of type Background with 29371 events\n",
      "                         : Add Tree TestAssignTree_Background of type Background with 29222 events\n",
      "                         : Add Tree TrainAssignTree_Signal of type Signal with 62574 events\n",
      "                         : Add Tree TestAssignTree_Signal of type Signal with 61942 events\n",
      "                         : Evaluate method: 4266f37ae1a14b66a781e100a9ddd021\n",
      "                         : Evaluation done.\n",
      "DataSetInfo              : [default] : Added class \"Background\"\n",
      "DataSetInfo              : [default] : Added class \"Signal\"\n",
      "                         : Add Tree TrainAssignTree_Background of type Background with 29371 events\n",
      "                         : Add Tree TestAssignTree_Background of type Background with 29222 events\n",
      "                         : Add Tree TrainAssignTree_Signal of type Signal with 62574 events\n",
      "                         : Add Tree TestAssignTree_Signal of type Signal with 61942 events\n",
      "                         : Evaluate method: 8760c3acaa5e48428fb77bf9e6999ab9\n",
      "                         : Evaluation done.\n",
      "DataSetInfo              : [default] : Added class \"Background\"\n",
      "DataSetInfo              : [default] : Added class \"Signal\"\n",
      "                         : Add Tree TrainAssignTree_Background of type Background with 29371 events\n",
      "                         : Add Tree TestAssignTree_Background of type Background with 29222 events\n",
      "                         : Add Tree TrainAssignTree_Signal of type Signal with 62574 events\n",
      "                         : Add Tree TestAssignTree_Signal of type Signal with 61942 events\n",
      "                         : Evaluate method: 4952079a397341d9860396372240a987\n",
      "                         : Evaluation done.\n",
      "DataSetInfo              : [default] : Added class \"Background\"\n",
      "DataSetInfo              : [default] : Added class \"Signal\"\n",
      "                         : Add Tree TrainAssignTree_Background of type Background with 29371 events\n",
      "                         : Add Tree TestAssignTree_Background of type Background with 29222 events\n",
      "                         : Add Tree TrainAssignTree_Signal of type Signal with 62574 events\n",
      "                         : Add Tree TestAssignTree_Signal of type Signal with 61942 events\n",
      "                         : Evaluate method: d8b5160c8ee0411997951dd3a949be7d\n",
      "                         : Evaluation done.\n",
      "DataSetInfo              : [default] : Added class \"Background\"\n",
      "DataSetInfo              : [default] : Added class \"Signal\"\n",
      "                         : Add Tree TrainAssignTree_Background of type Background with 29371 events\n",
      "                         : Add Tree TestAssignTree_Background of type Background with 29222 events\n",
      "                         : Add Tree TrainAssignTree_Signal of type Signal with 62574 events\n",
      "                         : Add Tree TestAssignTree_Signal of type Signal with 61942 events\n",
      "                         : Evaluate method: 30e97fad4c144b88bffe427fd629905f\n",
      "                         : Evaluation done.\n",
      "DataSetInfo              : [default] : Added class \"Background\"\n",
      "DataSetInfo              : [default] : Added class \"Signal\"\n",
      "                         : Add Tree TrainAssignTree_Background of type Background with 29371 events\n",
      "                         : Add Tree TestAssignTree_Background of type Background with 29222 events\n",
      "                         : Add Tree TrainAssignTree_Signal of type Signal with 62574 events\n",
      "                         : Add Tree TestAssignTree_Signal of type Signal with 61942 events\n",
      "                         : Evaluate method: ec9690b76f0b439da7e4f1dc80fe15d5\n",
      "                         : Evaluation done.\n",
      "DataSetInfo              : [default] : Added class \"Background\"\n",
      "DataSetInfo              : [default] : Added class \"Signal\"\n",
      "                         : Add Tree TrainAssignTree_Background of type Background with 29371 events\n",
      "                         : Add Tree TestAssignTree_Background of type Background with 29222 events\n",
      "                         : Add Tree TrainAssignTree_Signal of type Signal with 62574 events\n",
      "                         : Add Tree TestAssignTree_Signal of type Signal with 61942 events\n",
      "                         : Evaluate method: d0845e9e2c134151ad4c5260333fade4\n",
      "                         : Evaluation done.\n",
      "DataSetInfo              : [default] : Added class \"Background\"\n",
      "DataSetInfo              : [default] : Added class \"Signal\"\n",
      "                         : Add Tree TrainAssignTree_Background of type Background with 29371 events\n",
      "                         : Add Tree TestAssignTree_Background of type Background with 29222 events\n",
      "                         : Add Tree TrainAssignTree_Signal of type Signal with 62574 events\n",
      "                         : Add Tree TestAssignTree_Signal of type Signal with 61942 events\n",
      "                         : Evaluate method: 993463084d464b85a1ea149e3e7010b3\n",
      "                         : Evaluation done.\n",
      "DataSetInfo              : [default] : Added class \"Background\"\n",
      "DataSetInfo              : [default] : Added class \"Signal\"\n",
      "                         : Add Tree TrainAssignTree_Background of type Background with 29371 events\n",
      "                         : Add Tree TestAssignTree_Background of type Background with 29222 events\n",
      "                         : Add Tree TrainAssignTree_Signal of type Signal with 62574 events\n",
      "                         : Add Tree TestAssignTree_Signal of type Signal with 61942 events\n",
      "                         : Evaluate method: 18c913b519f04c268926c867e004fa8f\n",
      "                         : Evaluation done.\n",
      "DataSetInfo              : [default] : Added class \"Background\"\n",
      "DataSetInfo              : [default] : Added class \"Signal\"\n",
      "                         : Add Tree TrainAssignTree_Background of type Background with 29371 events\n",
      "                         : Add Tree TestAssignTree_Background of type Background with 29222 events\n",
      "                         : Add Tree TrainAssignTree_Signal of type Signal with 62574 events\n",
      "                         : Add Tree TestAssignTree_Signal of type Signal with 61942 events\n",
      "                         : Evaluate method: 8c3b1c3bd1514cd089876de82de1f603\n",
      "                         : Evaluation done.\n",
      "DataSetInfo              : [default] : Added class \"Background\"\n",
      "DataSetInfo              : [default] : Added class \"Signal\"\n",
      "                         : Add Tree TrainAssignTree_Background of type Background with 29371 events\n",
      "                         : Add Tree TestAssignTree_Background of type Background with 29222 events\n",
      "                         : Add Tree TrainAssignTree_Signal of type Signal with 62574 events\n",
      "                         : Add Tree TestAssignTree_Signal of type Signal with 61942 events\n",
      "                         : Evaluate method: ffc018ac4214478cbd3cee53bbe53599\n",
      "                         : Evaluation done.\n",
      "DataSetInfo              : [default] : Added class \"Background\"\n",
      "DataSetInfo              : [default] : Added class \"Signal\"\n",
      "                         : Add Tree TrainAssignTree_Background of type Background with 29371 events\n",
      "                         : Add Tree TestAssignTree_Background of type Background with 29222 events\n",
      "                         : Add Tree TrainAssignTree_Signal of type Signal with 62574 events\n",
      "                         : Add Tree TestAssignTree_Signal of type Signal with 61942 events\n",
      "                         : Evaluate method: a015150a105b4074947504c212aaecf3\n",
      "                         : Evaluation done.\n",
      "DataSetInfo              : [default] : Added class \"Background\"\n",
      "DataSetInfo              : [default] : Added class \"Signal\"\n",
      "                         : Add Tree TrainAssignTree_Background of type Background with 29371 events\n",
      "                         : Add Tree TestAssignTree_Background of type Background with 29222 events\n",
      "                         : Add Tree TrainAssignTree_Signal of type Signal with 62574 events\n",
      "                         : Add Tree TestAssignTree_Signal of type Signal with 61942 events\n",
      "                         : Evaluate method: 55ea17263f3a4f29a4f5eb543efd389f\n",
      "                         : Evaluation done.\n",
      "DataSetInfo              : [default] : Added class \"Background\"\n",
      "DataSetInfo              : [default] : Added class \"Signal\"\n",
      "                         : Add Tree TrainAssignTree_Background of type Background with 29371 events\n",
      "                         : Add Tree TestAssignTree_Background of type Background with 29222 events\n",
      "                         : Add Tree TrainAssignTree_Signal of type Signal with 62574 events\n",
      "                         : Add Tree TestAssignTree_Signal of type Signal with 61942 events\n",
      "                         : Evaluate method: 7609e0b05d2c439eb9a3585f48046f74\n",
      "                         : Evaluation done.\n",
      "DataSetInfo              : [default] : Added class \"Background\"\n",
      "DataSetInfo              : [default] : Added class \"Signal\"\n",
      "                         : Add Tree TrainAssignTree_Background of type Background with 29371 events\n",
      "                         : Add Tree TestAssignTree_Background of type Background with 29222 events\n",
      "                         : Add Tree TrainAssignTree_Signal of type Signal with 62574 events\n",
      "                         : Add Tree TestAssignTree_Signal of type Signal with 61942 events\n",
      "                         : Evaluate method: 34b2eb7c80a04b928824b4db44a81e50\n",
      "                         : Evaluation done.\n"
     ]
    }
   ],
   "source": [
    "result = skopt.gp_minimize(objective, HYPERPARAMETERS.dimensions, n_calls=25, n_random_starts=10)\n",
    "\n",
    "# Always good to make sure the results you've been waiting for are properly stored.\n",
    "skopt.dump(result, filename='result.pkl', store_objective=False)\n",
    "\n",
    "result = skopt.load('result.pkl')"
   ]
  },
  {
   "cell_type": "code",
   "execution_count": 6,
   "metadata": {
    "collapsed": false,
    "scrolled": true
   },
   "outputs": [
    {
     "name": "stdout",
     "output_type": "stream",
     "text": [
      "The best objective value was -0.867260217667, which corresponded to the following hyperparameters:\n",
      "NTrees=1119\n",
      "MaxDepth=19\n",
      "MinNodeSize=0.859274975399\n",
      "nCuts=31\n",
      "BoostType=Grad\n",
      "Shrinkage=0.00627077737308\n",
      "NodePurityLimit=0.701284287679\n",
      "UseBaggedBoost=True\n",
      "BaggedSampleFraction=0.284360042277\n",
      "SeparationType=SDivSqrtSPlusB\n"
     ]
    }
   ],
   "source": [
    "best_hyperparameters = '\\n'.join('{0}={1!s}'.format(d.name, val) for d, val in zip(HYPERPARAMETERS.dimensions, result.x))\n",
    "print 'The best objective value was {0!s}, which corresponded to the following hyperparameters:\\n{1}'.format(result.fun, best_hyperparameters)"
   ]
  },
  {
   "cell_type": "markdown",
   "metadata": {},
   "source": [
    "## Visualizing the Results\n",
    "---\n",
    "\n",
    "More documentation to follow."
   ]
  },
  {
   "cell_type": "code",
   "execution_count": 7,
   "metadata": {
    "collapsed": false
   },
   "outputs": [
    {
     "data": {
      "image/png": "[encoded data removed]",
      "text/plain": [
       "<matplotlib.figure.Figure at 0x7f706868ef10>"
      ]
     },
     "metadata": {},
     "output_type": "display_data"
    }
   ],
   "source": [
    "plot_convergence(result);"
   ]
  }
 ],
 "metadata": {
  "kernelspec": {
   "display_name": "Python 2",
   "language": "python",
   "name": "python2"
  },
  "language_info": {
   "codemirror_mode": {
    "name": "ipython",
    "version": 2
   },
   "file_extension": ".py",
   "mimetype": "text/x-python",
   "name": "python",
   "nbconvert_exporter": "python",
   "pygments_lexer": "ipython2",
   "version": "2.7.11"
  },
  "toc": {
   "nav_menu": {},
   "number_sections": false,
   "sideBar": false,
   "skip_h1_title": false,
   "toc_cell": false,
   "toc_position": {
    "height": "40px",
    "left": "790px",
    "right": "103px",
    "top": "0px",
    "width": "347px"
   },
   "toc_section_display": "none",
   "toc_window_display": true
  }
 },
 "nbformat": 4,
 "nbformat_minor": 2
}
