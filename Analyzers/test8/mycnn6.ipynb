{
 "cells": [
  {
   "cell_type": "code",
   "execution_count": 1,
   "metadata": {},
   "outputs": [
    {
     "name": "stderr",
     "output_type": "stream",
     "text": [
      "[INFO    ] Using cmssw CMSSW_10_1_7\n",
      "[INFO    ] Using numpy 1.14.1\n",
      "/cvmfs/cms.cern.ch/slc6_amd64_gcc630/external/py2-pippkgs_depscipy/3.0-omkpbe5/lib/python2.7/site-packages/h5py/__init__.py:36: FutureWarning: Conversion of the second argument of issubdtype from `float` to `np.floating` is deprecated. In future, it will be treated as `np.float64 == np.dtype(float).type`.\n",
      "  from ._conv import register_converters as _register_converters\n",
      "[INFO    ] Using tensorflow 1.5.0\n",
      "Using TensorFlow backend.\n",
      "[INFO    ] Using keras 2.1.4\n",
      "[INFO    ] .. list devices: [_DeviceAttributes(/job:localhost/replica:0/task:0/device:CPU:0, CPU, 268435456)]\n",
      "[INFO    ] Using scipy 1.0.0\n",
      "[INFO    ] Using sklearn 0.19.2\n"
     ]
    }
   ],
   "source": [
    "from cnn_globals import *\n",
    "\n",
    "from cnn_data import cnn_data, cnn_data_split\n",
    "\n",
    "%matplotlib inline"
   ]
  },
  {
   "cell_type": "code",
   "execution_count": 2,
   "metadata": {},
   "outputs": [
    {
     "name": "stderr",
     "output_type": "stream",
     "text": [
      "[INFO    ] Loading cnn data from ../test7/histos_tbe.17.npz ...\n",
      "[INFO    ] Loaded the images with shape (3742978, 50, 2),(3742978, 50, 2)\n",
      "[INFO    ] Loaded the labels with shape (3742978, 3)\n",
      "[INFO    ] Loaded the parameters with shape (3742978, 4)\n",
      "[INFO    ] Loaded # of training and testing events: (2245200, 1496800)\n"
     ]
    }
   ],
   "source": [
    "# Import images and labels\n",
    "#data = cnn_data_split(infile_images, test_size=0.4, shuffle=False, nentries=80000)\n",
    "data = cnn_data_split(infile_images, test_size=0.4, shuffle=False, nentries=3742000)\n",
    "\n",
    "(images_px_train, images_px_test, images_ch_train, images_ch_test, labels_train, labels_test, parameters_train, parameters_test) = data"
   ]
  },
  {
   "cell_type": "code",
   "execution_count": 3,
   "metadata": {},
   "outputs": [
    {
     "data": {
      "text/plain": [
       "<module 'cnn_data_gen' from 'cnn_data_gen.pyc'>"
      ]
     },
     "execution_count": 3,
     "metadata": {},
     "output_type": "execute_result"
    }
   ],
   "source": [
    "import cnn_data_gen\n",
    "reload(cnn_data_gen)"
   ]
  },
  {
   "cell_type": "code",
   "execution_count": 4,
   "metadata": {},
   "outputs": [],
   "source": [
    "from cnn_data_gen import ImageDataGenerator\n",
    "from six.moves import zip\n",
    "\n",
    "def parse_image_fn(pixels, channels):\n",
    "  n = pixels.shape[0]\n",
    "  assert(pixels.shape == (n,2))\n",
    "  assert(channels.shape == (n,n_channels))\n",
    "\n",
    "  bad_pixel = -99\n",
    "  mask = (pixels[:,0] != bad_pixel)\n",
    "\n",
    "  image_shape = (n_rows, n_columns, n_channels)\n",
    "  image = np.zeros(image_shape, dtype=channels.dtype)\n",
    "  #image[pixels[mask,0], pixels[mask,1]] = channels[mask]\n",
    "  image[pixels[mask,0], pixels[mask,1]] = np.column_stack((channels[mask,0],1-channels[mask,0]))\n",
    "  return image\n",
    "\n",
    "def parse_label_fn(labels):\n",
    "  assert(labels.shape == (3,))\n",
    "  lb = labels[:1]\n",
    "  lb = keras.utils.to_categorical(lb[0], num_classes=n_classes)  # in Keras, use one-hot encoding\n",
    "  return lb\n",
    "\n",
    "fake_input_shape = [images_px_train.shape[0], 1, 1, 1]\n",
    "images_ph_train = np.zeros(fake_input_shape, dtype=np.float32)\n",
    "x_train = (images_ph_train, images_px_train, images_ch_train)\n",
    "y_train = labels_train\n",
    "\n",
    "datagen = ImageDataGenerator(featurewise_center=False,\n",
    "                             samplewise_center=False,\n",
    "                             featurewise_std_normalization=False,\n",
    "                             samplewise_std_normalization=False,\n",
    "                             validation_split=0.1)\n",
    "\n",
    "datagen.preprocessing_x_fn = parse_image_fn\n",
    "datagen.preprocessing_y_fn = parse_label_fn\n",
    "\n",
    "datagen_seed = 2023\n",
    "datagen_batch_size = 100\n",
    "#datagen.fit(x_train, seed=datagen_seed)\n",
    "train_generator = datagen.flow(x_train, y_train, subset='training', batch_size=datagen_batch_size, shuffle=True, seed=datagen_seed)\n",
    "val_generator = datagen.flow(x_train, y_train, subset='validation', batch_size=datagen_batch_size, shuffle=True, seed=datagen_seed)\n",
    "\n",
    "#model.fit_generator(train_generator, steps_per_epoch=None, epochs=5, workers=1, validation_data=val_generator, validation_steps=None)"
   ]
  },
  {
   "cell_type": "code",
   "execution_count": null,
   "metadata": {},
   "outputs": [],
   "source": []
  }
 ],
 "metadata": {
  "kernelspec": {
   "display_name": "Python 2",
   "language": "python",
   "name": "python2"
  },
  "language_info": {
   "codemirror_mode": {
    "name": "ipython",
    "version": 2
   },
   "file_extension": ".py",
   "mimetype": "text/x-python",
   "name": "python",
   "nbconvert_exporter": "python",
   "pygments_lexer": "ipython2",
   "version": "2.7.11"
  }
 },
 "nbformat": 4,
 "nbformat_minor": 2
}
