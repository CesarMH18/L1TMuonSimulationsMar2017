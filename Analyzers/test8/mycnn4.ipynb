{
 "cells": [
  {
   "cell_type": "code",
   "execution_count": 1,
   "metadata": {},
   "outputs": [
    {
     "name": "stderr",
     "output_type": "stream",
     "text": [
      "[INFO    ] Using cmssw CMSSW_10_1_7\n",
      "[INFO    ] Using numpy 1.14.1\n",
      "/cvmfs/cms.cern.ch/slc6_amd64_gcc630/external/py2-pippkgs_depscipy/3.0-omkpbe5/lib/python2.7/site-packages/h5py/__init__.py:36: FutureWarning: Conversion of the second argument of issubdtype from `float` to `np.floating` is deprecated. In future, it will be treated as `np.float64 == np.dtype(float).type`.\n",
      "  from ._conv import register_converters as _register_converters\n",
      "[INFO    ] Using tensorflow 1.5.0\n",
      "[INFO    ] Using keras 2.1.2-tf\n",
      "[INFO    ] .. list devices: [_DeviceAttributes(/job:localhost/replica:0/task:0/device:CPU:0, CPU, 268435456)]\n",
      "[INFO    ] Using scipy 1.0.0\n",
      "[INFO    ] Using sklearn 0.19.2\n"
     ]
    }
   ],
   "source": [
    "from cnn_globals import *\n",
    "\n",
    "from cnn_data import cnn_data, cnn_data_split\n",
    "\n",
    "%matplotlib inline"
   ]
  },
  {
   "cell_type": "code",
   "execution_count": 2,
   "metadata": {
    "scrolled": true
   },
   "outputs": [
    {
     "name": "stderr",
     "output_type": "stream",
     "text": [
      "[INFO    ] Loading cnn data from ../test7/histos_tbe.17a.npz ...\n",
      "[INFO    ] Loaded the images with shape (3535956, 50, 2),(3535956, 50, 3)\n",
      "[INFO    ] Loaded the labels with shape (3535956, 3)\n",
      "[INFO    ] Loaded the parameters with shape (3535956, 4)\n",
      "[INFO    ] Loaded # of training and testing events: (24000, 16000)\n"
     ]
    }
   ],
   "source": [
    "# Import images and labels\n",
    "data = cnn_data_split(infile_images, test_size=0.4, shuffle=False, nentries=40000)\n",
    "\n",
    "(images_px_train, images_px_test, images_ch_train, images_ch_test, labels_train, labels_test, parameters_train, parameters_test) = data"
   ]
  },
  {
   "cell_type": "code",
   "execution_count": 3,
   "metadata": {},
   "outputs": [],
   "source": [
    "use_jupyter = True\n",
    "\n",
    "use_keras = True\n",
    "\n",
    "if use_keras:\n",
    "  from cnn_keras import define_reiam_flags, run_reiam\n",
    "else:\n",
    "  from cnn_estimator import define_reiam_flags, run_reiam"
   ]
  },
  {
   "cell_type": "code",
   "execution_count": null,
   "metadata": {
    "scrolled": false
   },
   "outputs": [
    {
     "name": "stdout",
     "output_type": "stream",
     "text": [
      "WARNING:tensorflow:From /cvmfs/cms.cern.ch/slc6_amd64_gcc630/external/py2-pippkgs_depscipy/3.0-omkpbe5/lib/python2.7/site-packages/tensorflow/python/keras/_impl/keras/backend.py:3086: calling reduce_sum (from tensorflow.python.ops.math_ops) with keep_dims is deprecated and will be removed in a future version.\n",
      "Instructions for updating:\n",
      "keep_dims is deprecated, use keepdims instead\n",
      "WARNING:tensorflow:From /cvmfs/cms.cern.ch/slc6_amd64_gcc630/external/py2-pippkgs_depscipy/3.0-omkpbe5/lib/python2.7/site-packages/tensorflow/python/keras/_impl/keras/backend.py:1557: calling reduce_mean (from tensorflow.python.ops.math_ops) with keep_dims is deprecated and will be removed in a future version.\n",
      "Instructions for updating:\n",
      "keep_dims is deprecated, use keepdims instead\n",
      "_________________________________________________________________\n",
      "Layer (type)                 Output Shape              Param #   \n",
      "=================================================================\n",
      "conv2d_1 (Conv2D)            (None, 7, 158, 48)        30144     \n",
      "_________________________________________________________________\n",
      "conv2d_2 (Conv2D)            (None, 7, 158, 64)        76864     \n",
      "_________________________________________________________________\n",
      "batch_normalization_1 (Batch (None, 7, 158, 64)        256       \n",
      "_________________________________________________________________\n",
      "conv2d_3 (Conv2D)            (None, 7, 158, 32)        18464     \n",
      "_________________________________________________________________\n",
      "batch_normalization_2 (Batch (None, 7, 158, 32)        128       \n",
      "_________________________________________________________________\n",
      "max_pooling2d_1 (MaxPooling2 (None, 7, 52, 32)         0         \n",
      "_________________________________________________________________\n",
      "max_pooling2d_2 (MaxPooling2 (None, 7, 16, 32)         0         \n",
      "_________________________________________________________________\n",
      "max_pooling2d_3 (MaxPooling2 (None, 7, 7, 32)          0         \n",
      "_________________________________________________________________\n",
      "separable_conv2d_1 (Separabl (None, 1, 1, 64)          3680      \n",
      "_________________________________________________________________\n",
      "flatten_1 (Flatten)          (None, 64)                0         \n",
      "_________________________________________________________________\n",
      "dense_1 (Dense)              (None, 48)                3072      \n",
      "_________________________________________________________________\n",
      "batch_normalization_3 (Batch (None, 48)                192       \n",
      "_________________________________________________________________\n",
      "activation_1 (Activation)    (None, 48)                0         \n",
      "_________________________________________________________________\n",
      "dropout_1 (Dropout)          (None, 48)                0         \n",
      "_________________________________________________________________\n",
      "dense_2 (Dense)              (None, 48)                2304      \n",
      "_________________________________________________________________\n",
      "batch_normalization_4 (Batch (None, 48)                192       \n",
      "_________________________________________________________________\n",
      "activation_2 (Activation)    (None, 48)                0         \n",
      "_________________________________________________________________\n",
      "dropout_2 (Dropout)          (None, 48)                0         \n",
      "_________________________________________________________________\n",
      "dense_3 (Dense)              (None, 21)                1029      \n",
      "=================================================================\n",
      "Total params: 136,325\n",
      "Trainable params: 135,941\n",
      "Non-trainable params: 384\n",
      "_________________________________________________________________\n"
     ]
    },
    {
     "name": "stderr",
     "output_type": "stream",
     "text": [
      "Using TensorFlow backend.\n",
      "[INFO    ] Begin training ...\n"
     ]
    }
   ],
   "source": [
    "#from absl import app\n",
    "#from absl import flags\n",
    "flags = tf.flags\n",
    "app = tf.app\n",
    "\n",
    "def main(_):\n",
    "  data = (images_px_train, images_px_test, images_ch_train, images_ch_test, labels_train, labels_test, parameters_train, parameters_test)\n",
    "  run_reiam(flags.FLAGS, data)\n",
    "\n",
    "def run(main, argv=['lol']):\n",
    "  if use_jupyter:\n",
    "    argv = flags.FLAGS(argv)\n",
    "    main(argv)\n",
    "  else:\n",
    "    app.run(main=main, argv=argv)\n",
    "\n",
    "#tf.logging.set_verbosity(tf.logging.INFO)\n",
    "define_reiam_flags()\n",
    "run(main)\n",
    "logger.info('DONE')"
   ]
  },
  {
   "cell_type": "code",
   "execution_count": null,
   "metadata": {},
   "outputs": [],
   "source": []
  },
  {
   "cell_type": "code",
   "execution_count": null,
   "metadata": {},
   "outputs": [],
   "source": []
  },
  {
   "cell_type": "code",
   "execution_count": null,
   "metadata": {},
   "outputs": [],
   "source": []
  }
 ],
 "metadata": {
  "kernelspec": {
   "display_name": "Python 2",
   "language": "python",
   "name": "python2"
  },
  "language_info": {
   "codemirror_mode": {
    "name": "ipython",
    "version": 2
   },
   "file_extension": ".py",
   "mimetype": "text/x-python",
   "name": "python",
   "nbconvert_exporter": "python",
   "pygments_lexer": "ipython2",
   "version": "2.7.11"
  }
 },
 "nbformat": 4,
 "nbformat_minor": 2
}
