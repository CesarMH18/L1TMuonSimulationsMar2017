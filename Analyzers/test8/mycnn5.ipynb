{
 "cells": [
  {
   "cell_type": "code",
   "execution_count": 1,
   "metadata": {},
   "outputs": [
    {
     "name": "stderr",
     "output_type": "stream",
     "text": [
      "[INFO    ] Using cmssw CMSSW_10_1_7\n",
      "[INFO    ] Using numpy 1.15.1\n",
      "[INFO    ] Using tensorflow 1.10.0\n",
      "[INFO    ] Using keras 2.1.6-tf\n",
      "[INFO    ] .. list devices: [_DeviceAttributes(/job:localhost/replica:0/task:0/device:CPU:0, CPU, 268435456)]\n",
      "[INFO    ] Using scipy 1.1.0\n",
      "[INFO    ] Using sklearn 0.19.2\n"
     ]
    }
   ],
   "source": [
    "from cnn_globals import *\n",
    "\n",
    "from cnn_data import cnn_data, cnn_data_split\n",
    "\n",
    "%matplotlib inline"
   ]
  },
  {
   "cell_type": "code",
   "execution_count": 2,
   "metadata": {
    "scrolled": true
   },
   "outputs": [
    {
     "name": "stderr",
     "output_type": "stream",
     "text": [
      "[INFO    ] Loading cnn data from ../test7/histos_tbe.17.npz ...\n",
      "[INFO    ] Loaded the images with shape (3535956, 50, 2),(3535956, 50, 3)\n",
      "[INFO    ] Loaded the labels with shape (3535956, 3)\n",
      "[INFO    ] Loaded the parameters with shape (3535956, 4)\n",
      "[INFO    ] Loaded # of training and testing events: (48000, 32000)\n"
     ]
    }
   ],
   "source": [
    "# Import images and labels\n",
    "#data = cnn_data_split(infile_images, test_size=0.4, shuffle=False, nentries=80000)\n",
    "data = cnn_data_split(infile_images, test_size=0.3, shuffle=False, nentries=3535500)\n",
    "\n",
    "(images_px_train, images_px_test, images_ch_train, images_ch_test, labels_train, labels_test, parameters_train, parameters_test) = data"
   ]
  },
  {
   "cell_type": "code",
   "execution_count": 3,
   "metadata": {},
   "outputs": [],
   "source": [
    "use_jupyter = True\n",
    "\n",
    "use_cnn_keras = False\n",
    "\n",
    "if use_cnn_keras:\n",
    "  from cnn_keras import define_reiam_flags, run_reiam\n",
    "else:\n",
    "  from cnn_estimator import define_reiam_flags, run_reiam"
   ]
  },
  {
   "cell_type": "code",
   "execution_count": 4,
   "metadata": {
    "scrolled": false
   },
   "outputs": [
    {
     "name": "stdout",
     "output_type": "stream",
     "text": [
      "INFO:tensorflow:Using config: {'_save_checkpoints_secs': 1200, '_global_id_in_cluster': 0, '_session_config': intra_op_parallelism_threads: 4\n",
      "allow_soft_placement: true\n",
      ", '_keep_checkpoint_max': 5, '_tf_random_seed': 2023, '_task_type': 'worker', '_train_distribute': None, '_is_chief': True, '_cluster_spec': <tensorflow.python.training.server_lib.ClusterSpec object at 0x7f14a4b1cf50>, '_model_dir': './reiam_model', '_num_worker_replicas': 1, '_task_id': 0, '_log_step_count_steps': 100, '_master': '', '_save_checkpoints_steps': None, '_keep_checkpoint_every_n_hours': 10000, '_evaluation_master': '', '_service': None, '_device_fn': None, '_save_summary_steps': 100, '_num_ps_replicas': 0}\n",
      "WARNING:tensorflow:From /home/jlow/L1MuonTrigger/PostProcessJobs/miniconda3/envs/tensorflow_conda/lib/python2.7/site-packages/tensorflow/python/keras/initializers.py:104: calling __init__ (from tensorflow.python.ops.init_ops) with distribution=normal is deprecated and will be removed in a future version.\n",
      "Instructions for updating:\n",
      "`normal` is a deprecated alias for `truncated_normal`\n"
     ]
    },
    {
     "name": "stderr",
     "output_type": "stream",
     "text": [
      "Using TensorFlow backend.\n",
      "[INFO    ] Begin training ...\n"
     ]
    },
    {
     "name": "stdout",
     "output_type": "stream",
     "text": [
      "INFO:tensorflow:Running training and evaluation locally (non-distributed).\n",
      "INFO:tensorflow:Start train and evaluate loop. The evaluate will happen after every checkpoint. Checkpoint frequency is determined based on RunConfig arguments: save_checkpoints_steps None or save_checkpoints_secs 1200.\n",
      "INFO:tensorflow:Calling model_fn.\n",
      "INFO:tensorflow:Done calling model_fn.\n",
      "INFO:tensorflow:Create CheckpointSaverHook.\n",
      "INFO:tensorflow:Graph was finalized.\n",
      "INFO:tensorflow:Running local_init_op.\n",
      "INFO:tensorflow:Done running local_init_op.\n",
      "INFO:tensorflow:Saving checkpoints for 0 into ./reiam_model/model.ckpt.\n",
      "INFO:tensorflow:cross_entropy = 3.0457294, learning_rate = 0.001, train_accuracy = 0.01, train_accuracy_at_k = 0.05\n",
      "INFO:tensorflow:Saving timeline for 1 into './reiam_model/timeline-1.json'.\n",
      "INFO:tensorflow:loss = 3.0457294, step = 1\n",
      "INFO:tensorflow:global_step/sec: 4.33146\n",
      "INFO:tensorflow:cross_entropy = 2.9850183, learning_rate = 0.001, train_accuracy = 0.05, train_accuracy_at_k = 0.075 (23.089 sec)\n",
      "INFO:tensorflow:loss = 2.9850183, step = 101 (22.840 sec)\n",
      "INFO:tensorflow:global_step/sec: 4.44259\n",
      "INFO:tensorflow:cross_entropy = 2.9364908, learning_rate = 0.001, train_accuracy = 0.046666667, train_accuracy_at_k = 0.07666667 (22.511 sec)\n",
      "INFO:tensorflow:loss = 2.9364908, step = 201 (22.511 sec)\n",
      "INFO:tensorflow:global_step/sec: 4.4593\n",
      "INFO:tensorflow:cross_entropy = 2.4919295, learning_rate = 0.001, train_accuracy = 0.0775, train_accuracy_at_k = 0.1325 (22.423 sec)\n",
      "INFO:tensorflow:loss = 2.4919295, step = 301 (22.423 sec)\n",
      "INFO:tensorflow:global_step/sec: 4.47733\n",
      "INFO:tensorflow:cross_entropy = 2.1970625, learning_rate = 0.001, train_accuracy = 0.11, train_accuracy_at_k = 0.19 (22.335 sec)\n",
      "INFO:tensorflow:loss = 2.1970625, step = 401 (22.335 sec)\n",
      "INFO:tensorflow:Saving checkpoints for 480 into ./reiam_model/model.ckpt.\n",
      "INFO:tensorflow:Calling model_fn.\n",
      "INFO:tensorflow:Done calling model_fn.\n",
      "INFO:tensorflow:Starting evaluation at 2018-09-08-02:28:03\n",
      "INFO:tensorflow:Graph was finalized.\n",
      "INFO:tensorflow:Restoring parameters from ./reiam_model/model.ckpt-480\n",
      "INFO:tensorflow:Running local_init_op.\n",
      "INFO:tensorflow:Done running local_init_op.\n",
      "INFO:tensorflow:Finished evaluation at 2018-09-08-02:28:35\n",
      "INFO:tensorflow:Saving dict for global step 480: accuracy = 0.2855, accuracy_at_k = 0.52246875, global_step = 480, loss = 1.9105349\n",
      "INFO:tensorflow:Saving 'checkpoint_path' summary for global step 480: ./reiam_model/model.ckpt-480\n",
      "INFO:tensorflow:Loss for final step: 1.904357.\n",
      "INFO:tensorflow:Running training and evaluation locally (non-distributed).\n",
      "INFO:tensorflow:Start train and evaluate loop. The evaluate will happen after every checkpoint. Checkpoint frequency is determined based on RunConfig arguments: save_checkpoints_steps None or save_checkpoints_secs 1200.\n",
      "INFO:tensorflow:Calling model_fn.\n",
      "INFO:tensorflow:Done calling model_fn.\n",
      "INFO:tensorflow:Create CheckpointSaverHook.\n",
      "INFO:tensorflow:Graph was finalized.\n",
      "INFO:tensorflow:Restoring parameters from ./reiam_model/model.ckpt-480\n",
      "INFO:tensorflow:Running local_init_op.\n",
      "INFO:tensorflow:Done running local_init_op.\n",
      "INFO:tensorflow:Saving checkpoints for 480 into ./reiam_model/model.ckpt.\n",
      "INFO:tensorflow:cross_entropy = 1.8810922, learning_rate = 0.001, train_accuracy = 0.31, train_accuracy_at_k = 0.52\n",
      "INFO:tensorflow:Saving timeline for 481 into './reiam_model/timeline-481.json'.\n",
      "INFO:tensorflow:loss = 1.8810922, step = 481\n",
      "INFO:tensorflow:global_step/sec: 4.28927\n",
      "INFO:tensorflow:cross_entropy = 1.7090127, learning_rate = 0.001, train_accuracy = 0.33, train_accuracy_at_k = 0.545 (23.316 sec)\n",
      "INFO:tensorflow:loss = 1.7090127, step = 581 (23.078 sec)\n",
      "INFO:tensorflow:global_step/sec: 4.39584\n",
      "INFO:tensorflow:cross_entropy = 1.4836928, learning_rate = 0.001, train_accuracy = 0.33, train_accuracy_at_k = 0.59 (22.749 sec)\n",
      "INFO:tensorflow:loss = 1.4836928, step = 681 (22.748 sec)\n",
      "INFO:tensorflow:global_step/sec: 4.45455\n",
      "INFO:tensorflow:cross_entropy = 1.3431686, learning_rate = 0.001, train_accuracy = 0.34, train_accuracy_at_k = 0.625 (22.449 sec)\n",
      "INFO:tensorflow:loss = 1.3431686, step = 781 (22.449 sec)\n",
      "INFO:tensorflow:global_step/sec: 4.41961\n",
      "INFO:tensorflow:cross_entropy = 1.5259843, learning_rate = 0.001, train_accuracy = 0.346, train_accuracy_at_k = 0.634 (22.627 sec)\n",
      "INFO:tensorflow:loss = 1.5259843, step = 881 (22.627 sec)\n",
      "INFO:tensorflow:Saving checkpoints for 960 into ./reiam_model/model.ckpt.\n",
      "INFO:tensorflow:Calling model_fn.\n",
      "INFO:tensorflow:Done calling model_fn.\n",
      "INFO:tensorflow:Starting evaluation at 2018-09-08-02:30:30\n",
      "INFO:tensorflow:Graph was finalized.\n",
      "INFO:tensorflow:Restoring parameters from ./reiam_model/model.ckpt-960\n",
      "INFO:tensorflow:Running local_init_op.\n",
      "INFO:tensorflow:Done running local_init_op.\n",
      "INFO:tensorflow:Finished evaluation at 2018-09-08-02:31:02\n",
      "INFO:tensorflow:Saving dict for global step 960: accuracy = 0.4015625, accuracy_at_k = 0.6942812, global_step = 960, loss = 1.4257172\n",
      "INFO:tensorflow:Saving 'checkpoint_path' summary for global step 960: ./reiam_model/model.ckpt-960\n",
      "INFO:tensorflow:Loss for final step: 1.2841394.\n",
      "INFO:tensorflow:Running training and evaluation locally (non-distributed).\n",
      "INFO:tensorflow:Start train and evaluate loop. The evaluate will happen after every checkpoint. Checkpoint frequency is determined based on RunConfig arguments: save_checkpoints_steps None or save_checkpoints_secs 1200.\n",
      "INFO:tensorflow:Calling model_fn.\n",
      "INFO:tensorflow:Done calling model_fn.\n",
      "INFO:tensorflow:Create CheckpointSaverHook.\n",
      "INFO:tensorflow:Graph was finalized.\n",
      "INFO:tensorflow:Restoring parameters from ./reiam_model/model.ckpt-960\n",
      "INFO:tensorflow:Running local_init_op.\n",
      "INFO:tensorflow:Done running local_init_op.\n",
      "INFO:tensorflow:Saving checkpoints for 960 into ./reiam_model/model.ckpt.\n",
      "INFO:tensorflow:cross_entropy = 1.3410145, learning_rate = 0.001, train_accuracy = 0.43, train_accuracy_at_k = 0.76\n",
      "INFO:tensorflow:Saving timeline for 961 into './reiam_model/timeline-961.json'.\n",
      "INFO:tensorflow:loss = 1.3410145, step = 961\n",
      "INFO:tensorflow:global_step/sec: 4.30051\n",
      "INFO:tensorflow:cross_entropy = 1.3643016, learning_rate = 0.001, train_accuracy = 0.435, train_accuracy_at_k = 0.73 (23.257 sec)\n",
      "INFO:tensorflow:loss = 1.3643016, step = 1061 (23.014 sec)\n",
      "INFO:tensorflow:global_step/sec: 4.37712\n",
      "INFO:tensorflow:cross_entropy = 1.2526997, learning_rate = 0.001, train_accuracy = 0.44, train_accuracy_at_k = 0.74333334 (22.844 sec)\n",
      "INFO:tensorflow:loss = 1.2526997, step = 1161 (22.843 sec)\n",
      "INFO:tensorflow:global_step/sec: 4.39725\n",
      "INFO:tensorflow:cross_entropy = 1.1570143, learning_rate = 0.001, train_accuracy = 0.4475, train_accuracy_at_k = 0.7575 (22.741 sec)\n",
      "INFO:tensorflow:loss = 1.1570143, step = 1261 (22.741 sec)\n",
      "INFO:tensorflow:global_step/sec: 4.38966\n",
      "INFO:tensorflow:cross_entropy = 1.3430246, learning_rate = 0.001, train_accuracy = 0.446, train_accuracy_at_k = 0.752 (22.781 sec)\n",
      "INFO:tensorflow:loss = 1.3430246, step = 1361 (22.781 sec)\n",
      "INFO:tensorflow:Saving checkpoints for 1440 into ./reiam_model/model.ckpt.\n",
      "INFO:tensorflow:Calling model_fn.\n",
      "INFO:tensorflow:Done calling model_fn.\n",
      "INFO:tensorflow:Starting evaluation at 2018-09-08-02:32:57\n",
      "INFO:tensorflow:Graph was finalized.\n",
      "INFO:tensorflow:Restoring parameters from ./reiam_model/model.ckpt-1440\n",
      "INFO:tensorflow:Running local_init_op.\n",
      "INFO:tensorflow:Done running local_init_op.\n",
      "INFO:tensorflow:Finished evaluation at 2018-09-08-02:33:29\n",
      "INFO:tensorflow:Saving dict for global step 1440: accuracy = 0.43525, accuracy_at_k = 0.7293125, global_step = 1440, loss = 1.3466704\n",
      "INFO:tensorflow:Saving 'checkpoint_path' summary for global step 1440: ./reiam_model/model.ckpt-1440\n",
      "INFO:tensorflow:Loss for final step: 1.1786952.\n",
      "INFO:tensorflow:Running training and evaluation locally (non-distributed).\n",
      "INFO:tensorflow:Start train and evaluate loop. The evaluate will happen after every checkpoint. Checkpoint frequency is determined based on RunConfig arguments: save_checkpoints_steps None or save_checkpoints_secs 1200.\n",
      "INFO:tensorflow:Calling model_fn.\n",
      "INFO:tensorflow:Done calling model_fn.\n",
      "INFO:tensorflow:Create CheckpointSaverHook.\n",
      "INFO:tensorflow:Graph was finalized.\n",
      "INFO:tensorflow:Restoring parameters from ./reiam_model/model.ckpt-1440\n",
      "INFO:tensorflow:Running local_init_op.\n"
     ]
    },
    {
     "name": "stdout",
     "output_type": "stream",
     "text": [
      "INFO:tensorflow:Done running local_init_op.\n",
      "INFO:tensorflow:Saving checkpoints for 1440 into ./reiam_model/model.ckpt.\n",
      "INFO:tensorflow:cross_entropy = 1.2271187, learning_rate = 0.001, train_accuracy = 0.43, train_accuracy_at_k = 0.8\n",
      "INFO:tensorflow:Saving timeline for 1441 into './reiam_model/timeline-1441.json'.\n",
      "INFO:tensorflow:loss = 1.2271187, step = 1441\n",
      "INFO:tensorflow:global_step/sec: 4.27685\n",
      "INFO:tensorflow:cross_entropy = 1.2212081, learning_rate = 0.001, train_accuracy = 0.44, train_accuracy_at_k = 0.79 (23.383 sec)\n",
      "INFO:tensorflow:loss = 1.2212081, step = 1541 (23.141 sec)\n",
      "INFO:tensorflow:global_step/sec: 4.37361\n",
      "INFO:tensorflow:cross_entropy = 1.1572818, learning_rate = 0.001, train_accuracy = 0.45, train_accuracy_at_k = 0.8066667 (22.865 sec)\n",
      "INFO:tensorflow:loss = 1.1572818, step = 1641 (22.865 sec)\n",
      "INFO:tensorflow:global_step/sec: 4.42263\n",
      "INFO:tensorflow:cross_entropy = 1.0775325, learning_rate = 0.001, train_accuracy = 0.46, train_accuracy_at_k = 0.82 (22.613 sec)\n",
      "INFO:tensorflow:loss = 1.0775325, step = 1741 (22.613 sec)\n",
      "INFO:tensorflow:global_step/sec: 4.44207\n",
      "INFO:tensorflow:cross_entropy = 1.2308921, learning_rate = 0.001, train_accuracy = 0.474, train_accuracy_at_k = 0.814 (22.510 sec)\n",
      "INFO:tensorflow:loss = 1.2308921, step = 1841 (22.510 sec)\n",
      "INFO:tensorflow:Saving checkpoints for 1920 into ./reiam_model/model.ckpt.\n",
      "INFO:tensorflow:Calling model_fn.\n",
      "INFO:tensorflow:Done calling model_fn.\n",
      "INFO:tensorflow:Starting evaluation at 2018-09-08-02:35:24\n",
      "INFO:tensorflow:Graph was finalized.\n",
      "INFO:tensorflow:Restoring parameters from ./reiam_model/model.ckpt-1920\n",
      "INFO:tensorflow:Running local_init_op.\n",
      "INFO:tensorflow:Done running local_init_op.\n",
      "INFO:tensorflow:Finished evaluation at 2018-09-08-02:35:56\n",
      "INFO:tensorflow:Saving dict for global step 1920: accuracy = 0.44971874, accuracy_at_k = 0.7451875, global_step = 1920, loss = 1.3144356\n",
      "INFO:tensorflow:Saving 'checkpoint_path' summary for global step 1920: ./reiam_model/model.ckpt-1920\n",
      "INFO:tensorflow:Loss for final step: 1.1241285.\n",
      "INFO:tensorflow:Running training and evaluation locally (non-distributed).\n",
      "INFO:tensorflow:Start train and evaluate loop. The evaluate will happen after every checkpoint. Checkpoint frequency is determined based on RunConfig arguments: save_checkpoints_steps None or save_checkpoints_secs 1200.\n",
      "INFO:tensorflow:Calling model_fn.\n",
      "INFO:tensorflow:Done calling model_fn.\n",
      "INFO:tensorflow:Create CheckpointSaverHook.\n",
      "INFO:tensorflow:Graph was finalized.\n",
      "INFO:tensorflow:Restoring parameters from ./reiam_model/model.ckpt-1920\n",
      "INFO:tensorflow:Running local_init_op.\n",
      "INFO:tensorflow:Done running local_init_op.\n",
      "INFO:tensorflow:Saving checkpoints for 1920 into ./reiam_model/model.ckpt.\n",
      "INFO:tensorflow:cross_entropy = 1.1439166, learning_rate = 0.001, train_accuracy = 0.5, train_accuracy_at_k = 0.84\n",
      "INFO:tensorflow:Saving timeline for 1921 into './reiam_model/timeline-1921.json'.\n",
      "INFO:tensorflow:loss = 1.1439166, step = 1921\n",
      "INFO:tensorflow:global_step/sec: 4.28056\n",
      "INFO:tensorflow:cross_entropy = 1.1378443, learning_rate = 0.001, train_accuracy = 0.485, train_accuracy_at_k = 0.82 (23.363 sec)\n",
      "INFO:tensorflow:loss = 1.1378443, step = 2021 (23.110 sec)\n",
      "INFO:tensorflow:global_step/sec: 4.41292\n",
      "INFO:tensorflow:cross_entropy = 1.1010182, learning_rate = 0.001, train_accuracy = 0.49666667, train_accuracy_at_k = 0.81 (22.661 sec)\n",
      "INFO:tensorflow:loss = 1.1010182, step = 2121 (22.659 sec)\n",
      "INFO:tensorflow:global_step/sec: 4.37759\n",
      "INFO:tensorflow:cross_entropy = 1.0218581, learning_rate = 0.001, train_accuracy = 0.5025, train_accuracy_at_k = 0.8375 (22.843 sec)\n",
      "INFO:tensorflow:loss = 1.0218581, step = 2221 (22.843 sec)\n",
      "INFO:tensorflow:global_step/sec: 4.47098\n",
      "INFO:tensorflow:cross_entropy = 1.1546149, learning_rate = 0.001, train_accuracy = 0.514, train_accuracy_at_k = 0.832 (22.366 sec)\n",
      "INFO:tensorflow:loss = 1.1546149, step = 2321 (22.366 sec)\n",
      "INFO:tensorflow:Saving checkpoints for 2400 into ./reiam_model/model.ckpt.\n",
      "INFO:tensorflow:Calling model_fn.\n",
      "INFO:tensorflow:Done calling model_fn.\n",
      "INFO:tensorflow:Starting evaluation at 2018-09-08-02:37:51\n",
      "INFO:tensorflow:Graph was finalized.\n",
      "INFO:tensorflow:Restoring parameters from ./reiam_model/model.ckpt-2400\n",
      "INFO:tensorflow:Running local_init_op.\n",
      "INFO:tensorflow:Done running local_init_op.\n",
      "INFO:tensorflow:Finished evaluation at 2018-09-08-02:38:23\n",
      "INFO:tensorflow:Saving dict for global step 2400: accuracy = 0.4555, accuracy_at_k = 0.75075, global_step = 2400, loss = 1.3188359\n",
      "INFO:tensorflow:Saving 'checkpoint_path' summary for global step 2400: ./reiam_model/model.ckpt-2400\n",
      "INFO:tensorflow:Loss for final step: 1.0859054.\n"
     ]
    },
    {
     "name": "stderr",
     "output_type": "stream",
     "text": [
      "[INFO    ] Done training. Time elapsed: 0:12:14.919635 sec\n"
     ]
    }
   ],
   "source": [
    "#from absl import app\n",
    "#from absl import flags\n",
    "flags = tf.flags\n",
    "app = tf.app\n",
    "\n",
    "estimators = {}  # keep alive\n",
    "\n",
    "def main(_):\n",
    "  data = (images_px_train, images_px_test, images_ch_train, images_ch_test, labels_train, labels_test, parameters_train, parameters_test)\n",
    "  reiam_classifier = run_reiam(flags.FLAGS, data)\n",
    "  estimators['reiam_classifier'] = reiam_classifier\n",
    "\n",
    "def run(main, argv=['lol']):\n",
    "  if use_jupyter:\n",
    "    argv = flags.FLAGS(argv)\n",
    "    main(argv)\n",
    "  else:\n",
    "    app.run(main=main, argv=argv)\n",
    "\n",
    "#tf.logging.set_verbosity(tf.logging.INFO)\n",
    "define_reiam_flags()\n",
    "run(main)"
   ]
  },
  {
   "cell_type": "code",
   "execution_count": null,
   "metadata": {},
   "outputs": [],
   "source": []
  },
  {
   "cell_type": "code",
   "execution_count": null,
   "metadata": {},
   "outputs": [],
   "source": []
  },
  {
   "cell_type": "code",
   "execution_count": 5,
   "metadata": {},
   "outputs": [],
   "source": [
    "from cnn_keras import parse_image_fn, parse_label_fn\n",
    "flags_obj = tf.flags.FLAGS\n",
    "\n",
    "nentries_test = 32000\n",
    "\n",
    "images_px_test = images_px_test[:nentries_test]\n",
    "images_ch_test = images_ch_test[:nentries_test]\n",
    "labels_test = labels_test[:nentries_test]\n",
    "\n",
    "#images = map(lambda (px, ch): parse_image_fn(px, ch), zip(images_px_test, images_ch_test))\n",
    "#labels = map(lambda lb: parse_label_fn(lb), labels_test)\n",
    "#images = np.asarray(images)\n",
    "#labels = np.asarray(labels)\n",
    "\n",
    "images = np.array([parse_image_fn(px, ch) for (px, ch) in zip(images_px_test, images_ch_test)])\n",
    "labels = np.array([parse_label_fn(lb) for lb in labels_test])"
   ]
  },
  {
   "cell_type": "code",
   "execution_count": 7,
   "metadata": {
    "scrolled": false
   },
   "outputs": [],
   "source": [
    "from cnn_models import load_my_model\n",
    "\n",
    "from keras.utils.generic_utils import get_custom_objects\n",
    "get_custom_objects().update({'rows_per_zone': rows_per_zone})\n",
    "\n",
    "#tf.reset_default_graph()\n",
    "loaded_model = load_my_model(name='model_cnn', weights_name='model_cnn_weights')"
   ]
  },
  {
   "cell_type": "code",
   "execution_count": 8,
   "metadata": {},
   "outputs": [],
   "source": [
    "# Predict\n",
    "labels_1 = np.argmax(labels,axis=1)\n",
    "labels_pred_logits_1 = loaded_model.predict(images, batch_size=flags_obj.batch_size)\n",
    "labels_pred_1 = np.argmax(labels_pred_logits_1, axis=1)"
   ]
  },
  {
   "cell_type": "raw",
   "metadata": {},
   "source": [
    "with tf.Session(graph=tf.Graph()) as sess:\n",
    "  loaded_model = load_my_model(name='model_cnn', weights_name='model_cnn_weights')\n",
    "  labels_1 = np.argmax(labels,axis=1)\n",
    "  labels_pred_logits_1 = loaded_model.predict(images, batch_size=flags_obj.batch_size)\n",
    "  labels_pred_1 = np.argmax(labels_pred_logits_1, axis=1)"
   ]
  },
  {
   "cell_type": "code",
   "execution_count": 34,
   "metadata": {},
   "outputs": [
    {
     "name": "stderr",
     "output_type": "stream",
     "text": [
      "[INFO    ] accuracy_score: 0.4555\n",
      "[INFO    ] r2_score: 0.931956398381\n",
      "[INFO    ] accuracy_at_k(=2): Tensor(\"Mean:0\", shape=(), dtype=float32)\n"
     ]
    }
   ],
   "source": [
    "# Score\n",
    "from sklearn.metrics import accuracy_score, r2_score\n",
    "top_k_accuracy_score = lambda y_true, y_pred, k: tf.keras.metrics.top_k_categorical_accuracy(np.expand_dims(y_true, axis=-1), y_pred, k)\n",
    "logger.info('accuracy_score: {0}'.format(accuracy_score(labels_1, labels_pred_1)))\n",
    "logger.info('r2_score: {0}'.format(r2_score(labels_1, labels_pred_1)))\n",
    "logger.info('accuracy_at_k(=2): {0}'.format(top_k_accuracy_score(labels_1, labels_pred_logits_1, k=2)))"
   ]
  },
  {
   "cell_type": "code",
   "execution_count": 35,
   "metadata": {},
   "outputs": [
    {
     "data": {
      "image/png": "[encoded data removed]",
      "text/plain": [
       "<Figure size 432x432 with 1 Axes>"
      ]
     },
     "metadata": {
      "needs_background": "light"
     },
     "output_type": "display_data"
    }
   ],
   "source": [
    "plt.figure(figsize=(6,6))\n",
    "plt.axvline(x=10.5, linewidth=1, linestyle='--', color='#9954A8')\n",
    "plt.axhline(y=10.5, linewidth=1, linestyle='--', color='#9954A8')\n",
    "hist, xedges, yedges, _ = plt.hist2d(labels_1, labels_pred_1, bins=(21,21), range=((0,21),(0,21)), cmap=plt.cm.viridis)\n",
    "plt.show()"
   ]
  },
  {
   "cell_type": "code",
   "execution_count": null,
   "metadata": {},
   "outputs": [],
   "source": []
  },
  {
   "cell_type": "code",
   "execution_count": null,
   "metadata": {},
   "outputs": [],
   "source": []
  },
  {
   "cell_type": "code",
   "execution_count": 36,
   "metadata": {},
   "outputs": [],
   "source": [
    "reiam_classifier = estimators['reiam_classifier']\n",
    "\n",
    "input_fn = tf.estimator.inputs.numpy_input_fn(\n",
    "    x={'image': images},\n",
    "    y=None,\n",
    "    batch_size=flags_obj.batch_size,\n",
    "    num_epochs=1,\n",
    "    shuffle=False)"
   ]
  },
  {
   "cell_type": "code",
   "execution_count": 42,
   "metadata": {},
   "outputs": [
    {
     "name": "stdout",
     "output_type": "stream",
     "text": [
      "INFO:tensorflow:Calling model_fn.\n",
      "INFO:tensorflow:Done calling model_fn.\n",
      "INFO:tensorflow:Graph was finalized.\n",
      "INFO:tensorflow:Restoring parameters from ./reiam_model/model.ckpt-2400\n",
      "INFO:tensorflow:Running local_init_op.\n",
      "INFO:tensorflow:Done running local_init_op.\n"
     ]
    }
   ],
   "source": [
    "# Predict\n",
    "labels_2 = np.argmax(labels,axis=1)\n",
    "predictions = reiam_classifier.predict(input_fn=input_fn)\n",
    "labels_pred_logits_2 = np.array([prediction['logits'] for prediction in predictions])\n",
    "labels_pred_2 = np.array([prediction['class_ids'] for prediction in predictions])"
   ]
  },
  {
   "cell_type": "code",
   "execution_count": 43,
   "metadata": {},
   "outputs": [
    {
     "ename": "ValueError",
     "evalue": "Found input variables with inconsistent numbers of samples: [32000, 0]",
     "output_type": "error",
     "traceback": [
      "\u001b[0;31m---------------------------------------------------------------------------\u001b[0m",
      "\u001b[0;31mValueError\u001b[0m                                Traceback (most recent call last)",
      "\u001b[0;32m<ipython-input-43-d1c5a58b47f8>\u001b[0m in \u001b[0;36m<module>\u001b[0;34m()\u001b[0m\n\u001b[1;32m      2\u001b[0m \u001b[0;32mfrom\u001b[0m \u001b[0msklearn\u001b[0m\u001b[0;34m.\u001b[0m\u001b[0mmetrics\u001b[0m \u001b[0;32mimport\u001b[0m \u001b[0maccuracy_score\u001b[0m\u001b[0;34m,\u001b[0m \u001b[0mr2_score\u001b[0m\u001b[0;34m\u001b[0m\u001b[0m\n\u001b[1;32m      3\u001b[0m \u001b[0mtop_k_accuracy_score\u001b[0m \u001b[0;34m=\u001b[0m \u001b[0;32mlambda\u001b[0m \u001b[0my_true\u001b[0m\u001b[0;34m,\u001b[0m \u001b[0my_pred\u001b[0m\u001b[0;34m,\u001b[0m \u001b[0mk\u001b[0m\u001b[0;34m:\u001b[0m \u001b[0mtf\u001b[0m\u001b[0;34m.\u001b[0m\u001b[0mkeras\u001b[0m\u001b[0;34m.\u001b[0m\u001b[0mmetrics\u001b[0m\u001b[0;34m.\u001b[0m\u001b[0mtop_k_categorical_accuracy\u001b[0m\u001b[0;34m(\u001b[0m\u001b[0mnp\u001b[0m\u001b[0;34m.\u001b[0m\u001b[0mexpand_dims\u001b[0m\u001b[0;34m(\u001b[0m\u001b[0my_true\u001b[0m\u001b[0;34m,\u001b[0m \u001b[0maxis\u001b[0m\u001b[0;34m=\u001b[0m\u001b[0;34m-\u001b[0m\u001b[0;36m1\u001b[0m\u001b[0;34m)\u001b[0m\u001b[0;34m,\u001b[0m \u001b[0my_pred\u001b[0m\u001b[0;34m,\u001b[0m \u001b[0mk\u001b[0m\u001b[0;34m)\u001b[0m\u001b[0;34m\u001b[0m\u001b[0m\n\u001b[0;32m----> 4\u001b[0;31m \u001b[0mlogger\u001b[0m\u001b[0;34m.\u001b[0m\u001b[0minfo\u001b[0m\u001b[0;34m(\u001b[0m\u001b[0;34m'accuracy_score: {0}'\u001b[0m\u001b[0;34m.\u001b[0m\u001b[0mformat\u001b[0m\u001b[0;34m(\u001b[0m\u001b[0maccuracy_score\u001b[0m\u001b[0;34m(\u001b[0m\u001b[0mlabels_2\u001b[0m\u001b[0;34m,\u001b[0m \u001b[0mlabels_pred_2\u001b[0m\u001b[0;34m)\u001b[0m\u001b[0;34m)\u001b[0m\u001b[0;34m)\u001b[0m\u001b[0;34m\u001b[0m\u001b[0m\n\u001b[0m\u001b[1;32m      5\u001b[0m \u001b[0mlogger\u001b[0m\u001b[0;34m.\u001b[0m\u001b[0minfo\u001b[0m\u001b[0;34m(\u001b[0m\u001b[0;34m'r2_score: {0}'\u001b[0m\u001b[0;34m.\u001b[0m\u001b[0mformat\u001b[0m\u001b[0;34m(\u001b[0m\u001b[0mr2_score\u001b[0m\u001b[0;34m(\u001b[0m\u001b[0mlabels_2\u001b[0m\u001b[0;34m,\u001b[0m \u001b[0mlabels_pred_2\u001b[0m\u001b[0;34m)\u001b[0m\u001b[0;34m)\u001b[0m\u001b[0;34m)\u001b[0m\u001b[0;34m\u001b[0m\u001b[0m\n\u001b[1;32m      6\u001b[0m \u001b[0mlogger\u001b[0m\u001b[0;34m.\u001b[0m\u001b[0minfo\u001b[0m\u001b[0;34m(\u001b[0m\u001b[0;34m'accuracy_at_k(=2): {0}'\u001b[0m\u001b[0;34m.\u001b[0m\u001b[0mformat\u001b[0m\u001b[0;34m(\u001b[0m\u001b[0mtop_k_accuracy_score\u001b[0m\u001b[0;34m(\u001b[0m\u001b[0mlabels_2\u001b[0m\u001b[0;34m,\u001b[0m \u001b[0mlabels_pred_logits_2\u001b[0m\u001b[0;34m,\u001b[0m \u001b[0mk\u001b[0m\u001b[0;34m=\u001b[0m\u001b[0;36m2\u001b[0m\u001b[0;34m)\u001b[0m\u001b[0;34m)\u001b[0m\u001b[0;34m)\u001b[0m\u001b[0;34m\u001b[0m\u001b[0m\n",
      "\u001b[0;32m/home/jlow/L1MuonTrigger/PostProcessJobs/miniconda3/envs/tensorflow_conda/lib/python2.7/site-packages/sklearn/metrics/classification.pyc\u001b[0m in \u001b[0;36maccuracy_score\u001b[0;34m(y_true, y_pred, normalize, sample_weight)\u001b[0m\n\u001b[1;32m    174\u001b[0m \u001b[0;34m\u001b[0m\u001b[0m\n\u001b[1;32m    175\u001b[0m     \u001b[0;31m# Compute accuracy for each possible representation\u001b[0m\u001b[0;34m\u001b[0m\u001b[0;34m\u001b[0m\u001b[0m\n\u001b[0;32m--> 176\u001b[0;31m     \u001b[0my_type\u001b[0m\u001b[0;34m,\u001b[0m \u001b[0my_true\u001b[0m\u001b[0;34m,\u001b[0m \u001b[0my_pred\u001b[0m \u001b[0;34m=\u001b[0m \u001b[0m_check_targets\u001b[0m\u001b[0;34m(\u001b[0m\u001b[0my_true\u001b[0m\u001b[0;34m,\u001b[0m \u001b[0my_pred\u001b[0m\u001b[0;34m)\u001b[0m\u001b[0;34m\u001b[0m\u001b[0m\n\u001b[0m\u001b[1;32m    177\u001b[0m     \u001b[0;32mif\u001b[0m \u001b[0my_type\u001b[0m\u001b[0;34m.\u001b[0m\u001b[0mstartswith\u001b[0m\u001b[0;34m(\u001b[0m\u001b[0;34m'multilabel'\u001b[0m\u001b[0;34m)\u001b[0m\u001b[0;34m:\u001b[0m\u001b[0;34m\u001b[0m\u001b[0m\n\u001b[1;32m    178\u001b[0m         \u001b[0mdiffering_labels\u001b[0m \u001b[0;34m=\u001b[0m \u001b[0mcount_nonzero\u001b[0m\u001b[0;34m(\u001b[0m\u001b[0my_true\u001b[0m \u001b[0;34m-\u001b[0m \u001b[0my_pred\u001b[0m\u001b[0;34m,\u001b[0m \u001b[0maxis\u001b[0m\u001b[0;34m=\u001b[0m\u001b[0;36m1\u001b[0m\u001b[0;34m)\u001b[0m\u001b[0;34m\u001b[0m\u001b[0m\n",
      "\u001b[0;32m/home/jlow/L1MuonTrigger/PostProcessJobs/miniconda3/envs/tensorflow_conda/lib/python2.7/site-packages/sklearn/metrics/classification.pyc\u001b[0m in \u001b[0;36m_check_targets\u001b[0;34m(y_true, y_pred)\u001b[0m\n\u001b[1;32m     69\u001b[0m     \u001b[0my_pred\u001b[0m \u001b[0;34m:\u001b[0m \u001b[0marray\u001b[0m \u001b[0;32mor\u001b[0m \u001b[0mindicator\u001b[0m \u001b[0mmatrix\u001b[0m\u001b[0;34m\u001b[0m\u001b[0m\n\u001b[1;32m     70\u001b[0m     \"\"\"\n\u001b[0;32m---> 71\u001b[0;31m     \u001b[0mcheck_consistent_length\u001b[0m\u001b[0;34m(\u001b[0m\u001b[0my_true\u001b[0m\u001b[0;34m,\u001b[0m \u001b[0my_pred\u001b[0m\u001b[0;34m)\u001b[0m\u001b[0;34m\u001b[0m\u001b[0m\n\u001b[0m\u001b[1;32m     72\u001b[0m     \u001b[0mtype_true\u001b[0m \u001b[0;34m=\u001b[0m \u001b[0mtype_of_target\u001b[0m\u001b[0;34m(\u001b[0m\u001b[0my_true\u001b[0m\u001b[0;34m)\u001b[0m\u001b[0;34m\u001b[0m\u001b[0m\n\u001b[1;32m     73\u001b[0m     \u001b[0mtype_pred\u001b[0m \u001b[0;34m=\u001b[0m \u001b[0mtype_of_target\u001b[0m\u001b[0;34m(\u001b[0m\u001b[0my_pred\u001b[0m\u001b[0;34m)\u001b[0m\u001b[0;34m\u001b[0m\u001b[0m\n",
      "\u001b[0;32m/home/jlow/L1MuonTrigger/PostProcessJobs/miniconda3/envs/tensorflow_conda/lib/python2.7/site-packages/sklearn/utils/validation.pyc\u001b[0m in \u001b[0;36mcheck_consistent_length\u001b[0;34m(*arrays)\u001b[0m\n\u001b[1;32m    202\u001b[0m     \u001b[0;32mif\u001b[0m \u001b[0mlen\u001b[0m\u001b[0;34m(\u001b[0m\u001b[0muniques\u001b[0m\u001b[0;34m)\u001b[0m \u001b[0;34m>\u001b[0m \u001b[0;36m1\u001b[0m\u001b[0;34m:\u001b[0m\u001b[0;34m\u001b[0m\u001b[0m\n\u001b[1;32m    203\u001b[0m         raise ValueError(\"Found input variables with inconsistent numbers of\"\n\u001b[0;32m--> 204\u001b[0;31m                          \" samples: %r\" % [int(l) for l in lengths])\n\u001b[0m\u001b[1;32m    205\u001b[0m \u001b[0;34m\u001b[0m\u001b[0m\n\u001b[1;32m    206\u001b[0m \u001b[0;34m\u001b[0m\u001b[0m\n",
      "\u001b[0;31mValueError\u001b[0m: Found input variables with inconsistent numbers of samples: [32000, 0]"
     ]
    }
   ],
   "source": [
    "# Score\n",
    "from sklearn.metrics import accuracy_score, r2_score\n",
    "top_k_accuracy_score = lambda y_true, y_pred, k: tf.keras.metrics.top_k_categorical_accuracy(np.expand_dims(y_true, axis=-1), y_pred, k)\n",
    "logger.info('accuracy_score: {0}'.format(accuracy_score(labels_2, labels_pred_2)))\n",
    "logger.info('r2_score: {0}'.format(r2_score(labels_2, labels_pred_2)))\n",
    "logger.info('accuracy_at_k(=2): {0}'.format(top_k_accuracy_score(labels_2, labels_pred_logits_2, k=2)))"
   ]
  },
  {
   "cell_type": "code",
   "execution_count": null,
   "metadata": {},
   "outputs": [],
   "source": [
    "plt.figure(figsize=(6,6))\n",
    "plt.axvline(x=10.5, linewidth=1, linestyle='--', color='#9954A8')\n",
    "plt.axhline(y=10.5, linewidth=1, linestyle='--', color='#9954A8')\n",
    "hist, xedges, yedges, _ = plt.hist2d(labels_2, labels_pred_2, bins=(21,21), range=((0,21),(0,21)), cmap=plt.cm.viridis)\n",
    "plt.show()"
   ]
  },
  {
   "cell_type": "code",
   "execution_count": null,
   "metadata": {},
   "outputs": [],
   "source": []
  },
  {
   "cell_type": "code",
   "execution_count": null,
   "metadata": {},
   "outputs": [],
   "source": []
  },
  {
   "cell_type": "raw",
   "metadata": {},
   "source": [
    "for layer in loaded_model.layers:\n",
    "  if layer.__class__.__name__ == 'BatchNormalization':\n",
    "    break"
   ]
  },
  {
   "cell_type": "raw",
   "metadata": {},
   "source": [
    "print K.learning_phase()\n",
    "print type(layer)\n",
    "print layer.fused, layer.adjustment, layer.renorm\n",
    "print layer.inbound_nodes[0].arguments\n",
    "print layer.trainable\n",
    "print layer.updates"
   ]
  },
  {
   "cell_type": "code",
   "execution_count": null,
   "metadata": {},
   "outputs": [],
   "source": []
  },
  {
   "cell_type": "code",
   "execution_count": null,
   "metadata": {},
   "outputs": [],
   "source": []
  }
 ],
 "metadata": {
  "kernelspec": {
   "display_name": "Python 2",
   "language": "python",
   "name": "python2"
  },
  "language_info": {
   "codemirror_mode": {
    "name": "ipython",
    "version": 2
   },
   "file_extension": ".py",
   "mimetype": "text/x-python",
   "name": "python",
   "nbconvert_exporter": "python",
   "pygments_lexer": "ipython2",
   "version": "2.7.15"
  }
 },
 "nbformat": 4,
 "nbformat_minor": 2
}
