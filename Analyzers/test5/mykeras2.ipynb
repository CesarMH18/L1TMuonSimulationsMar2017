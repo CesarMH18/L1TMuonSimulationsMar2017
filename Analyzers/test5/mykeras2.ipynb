{
 "cells": [
  {
   "cell_type": "code",
   "execution_count": 1,
   "metadata": {
    "collapsed": false
   },
   "outputs": [
    {
     "name": "stdout",
     "output_type": "stream",
     "text": [
      "[INFO] Using numpy 1.12.1\n"
     ]
    },
    {
     "name": "stderr",
     "output_type": "stream",
     "text": [
      "Using TensorFlow backend.\n"
     ]
    },
    {
     "name": "stdout",
     "output_type": "stream",
     "text": [
      "[INFO] Using keras 2.0.5\n",
      "[INFO] Using tensorflow 1.1.0\n",
      "[INFO] Using sklearn 0.18.1\n"
     ]
    }
   ],
   "source": [
    "import numpy as np\n",
    "np.random.seed(2023)\n",
    "import random\n",
    "random.seed(2023)\n",
    "print('[INFO] Using numpy {0}'.format(np.__version__))\n",
    "\n",
    "import os\n",
    "import sys\n",
    "import time\n",
    "os.environ['KERAS_BACKEND'] = 'tensorflow'\n",
    "old_stdout = sys.stdout\n",
    "\n",
    "import keras\n",
    "from keras import backend as K\n",
    "from keras.models import Sequential, Model\n",
    "from keras.layers import Dense, Activation, Dropout, Input, BatchNormalization\n",
    "from keras import initializers, regularizers, optimizers, losses\n",
    "#K.set_epsilon(1e-08)\n",
    "print('[INFO] Using keras {0}'.format(keras.__version__))\n",
    "\n",
    "import tensorflow as tf\n",
    "print('[INFO] Using tensorflow {0}'.format(tf.__version__))\n",
    "\n",
    "import sklearn\n",
    "#from sklearn.preprocessing import StandardScaler\n",
    "from sklearn.model_selection import train_test_split\n",
    "print('[INFO] Using sklearn {0}'.format(sklearn.__version__))\n",
    "\n",
    "import matplotlib.pyplot as plt\n",
    "from matplotlib import colors\n",
    "%matplotlib inline\n",
    "\n",
    "\n",
    "# ______________________________________________________________________________\n",
    "# Globals\n",
    "nlayers = 12  # 5 (CSC) + 4 (RPC) + 3 (GEM)\n",
    "\n",
    "nvariables = 68\n",
    "\n",
    "discr_pt_cut = 14.\n",
    "\n",
    "reg_pt_scale = 100.\n",
    "\n",
    "discr_loss_weight = 1.0\n",
    "\n",
    "do_skim = False\n",
    "\n",
    "add_noise = True\n"
   ]
  },
  {
   "cell_type": "code",
   "execution_count": 2,
   "metadata": {
    "collapsed": true
   },
   "outputs": [],
   "source": [
    "class Encoder(object):\n",
    "\n",
    "  def __init__(self, x, y, adjust_scale=0):\n",
    "    if x is not None and y is not None:\n",
    "      assert(x.shape[1] == (nlayers * 6) + 4)\n",
    "      assert(y.shape[1] == 3)\n",
    "      assert(x.shape[0] == y.shape[0])\n",
    "\n",
    "      self.nentries = x.shape[0]\n",
    "      self.x_orig  = x\n",
    "      self.y_orig  = y\n",
    "      self.x_copy  = x.copy()\n",
    "      self.y_copy  = y.copy()\n",
    "\n",
    "      # Get views\n",
    "      self.x_phi   = self.x_copy[:, nlayers*0:nlayers*1]\n",
    "      self.x_theta = self.x_copy[:, nlayers*1:nlayers*2]\n",
    "      self.x_bend  = self.x_copy[:, nlayers*2:nlayers*3]\n",
    "      self.x_ring  = self.x_copy[:, nlayers*3:nlayers*4]\n",
    "      self.x_fr    = self.x_copy[:, nlayers*4:nlayers*5]\n",
    "      self.x_mask  = self.x_copy[:, nlayers*5:nlayers*6].astype(np.bool)  # this makes a copy\n",
    "      self.x_road  = self.x_copy[:, nlayers*6:nlayers*7]  # ipt, ieta, iphi, iphi_corr\n",
    "      self.y_pt    = self.y_copy[:, 0]  # q/pT\n",
    "      self.y_phi   = self.y_copy[:, 1]\n",
    "      self.y_eta   = self.y_copy[:, 2]\n",
    "      \n",
    "      # Make event weight\n",
    "      #self.w       = np.ones(self.y_pt.shape, dtype=np.float32)\n",
    "      self.w       = np.abs(self.y_pt)/0.2 + 1.0\n",
    "      \n",
    "      # Straightness & zone\n",
    "      self.x_straightness = self.x_road[:, 0][:, np.newaxis]\n",
    "      self.x_zone         = self.x_road[:, 1][:, np.newaxis]\n",
    "      \n",
    "      # Subtract median phi from hit phis\n",
    "      #self.x_phi_median    = self.x_road[:, 2] * 32 - 16  # multiply by 'quadstrip' unit (4 * 8)\n",
    "      self.x_phi_median    = self.x_road[:, 2] * 16 - 8  # multiply by 'doublestrip' unit (2 * 8)\n",
    "      self.x_phi_median    = self.x_phi_median[:, np.newaxis]\n",
    "      self.x_phi          -= self.x_phi_median\n",
    "      \n",
    "      # Subtract median theta from hit thetas\n",
    "      self.x_theta_median  = np.nanmedian(self.x_theta[:,:5], axis=1)  # CSC only\n",
    "      self.x_theta_median[np.isnan(self.x_theta_median)] = np.nanmedian(self.x_theta[np.isnan(self.x_theta_median)], axis=1)  # use all\n",
    "      self.x_theta_median  = self.x_theta_median[:, np.newaxis]\n",
    "      self.x_theta        -= self.x_theta_median\n",
    "      \n",
    "      # Standard scales\n",
    "      if adjust_scale == 0:  # do not adjust\n",
    "        pass\n",
    "      elif adjust_scale == 1:  # use mean and std\n",
    "        self.x_mean  = np.nanmean(self.x_copy, axis=0)\n",
    "        self.x_std   = np.nanstd(self.x_copy, axis=0)\n",
    "        self.x_std   = self._handle_zero_in_scale(self.x_std)\n",
    "        self.x_copy -= self.x_mean\n",
    "        self.x_copy /= self.x_std\n",
    "      elif adjust_scale == 2:  # adjust by hand\n",
    "        self.x_phi   *= 0.000991  # GE1/1 dphi linear correlation with q/pT\n",
    "        self.x_theta *= (1/12.)   # 12 integer theta units\n",
    "        self.x_bend  *= 0.188082  # ME1/2 bend linear correlation with q/pT\n",
    "        x_ring_tmp    = self.x_ring.astype(np.int32)\n",
    "        x_ring_tmp    = (x_ring_tmp == 1) | (x_ring_tmp == 4)\n",
    "        self.x_ring[x_ring_tmp] = -1  # ring 1,4 -> -1\n",
    "        self.x_ring[~x_ring_tmp] = 1 # ring 2,3 -> 1\n",
    "        x_fr_tmp      = self.x_fr.astype(np.int32)\n",
    "        x_fr_tmp      = (x_fr_tmp == 0)\n",
    "        self.x_fr[x_fr_tmp] = -1\n",
    "        self.x_fr[~x_fr_tmp] = 1\n",
    "      \n",
    "      # Remove outlier hits by checking hit thetas\n",
    "      if adjust_scale == 0:  # do not adjust\n",
    "        x_theta_tmp = np.abs(self.x_theta) > 10000.0\n",
    "      elif adjust_scale == 1:  # use mean and std\n",
    "        x_theta_tmp = np.abs(self.x_theta) > 1.0\n",
    "      elif adjust_scale == 2:  # adjust by hand\n",
    "        theta_cuts    = np.array((6., 6., 6., 6., 6., 12., 12., 12., 12., 9., 9., 9.), dtype=np.float32)\n",
    "        theta_cuts   *= (1/12.)   # 12 integer theta units\n",
    "        assert(len(theta_cuts) == nlayers)\n",
    "        x_theta_tmp = np.abs(self.x_theta) > theta_cuts\n",
    "      self.x_phi  [x_theta_tmp] = np.nan\n",
    "      self.x_theta[x_theta_tmp] = np.nan\n",
    "      self.x_bend [x_theta_tmp] = np.nan\n",
    "      self.x_ring [x_theta_tmp] = np.nan\n",
    "      self.x_fr   [x_theta_tmp] = np.nan\n",
    "      self.x_mask [x_theta_tmp] = 1.0\n",
    "      \n",
    "      # Add variables: straightness, zone, theta_median and mode variables\n",
    "      self.x_straightness -= 6.  # scaled to [-1,1]\n",
    "      self.x_straightness /= 6.\n",
    "      self.x_zone         -= 0.  # scaled to [0,1]\n",
    "      self.x_zone         /= 5.\n",
    "      self.x_theta_median -= 3.  # scaled to [0,1]\n",
    "      self.x_theta_median /= 83.\n",
    "      hits_to_station = np.array((5,1,2,3,4,1,2,3,4,5,2,5), dtype=np.int32)  # '5' denotes ME1/1\n",
    "      assert(len(hits_to_station) == nlayers)\n",
    "      self.x_mode_vars = np.zeros((self.nentries, 5), dtype=np.bool)\n",
    "      self.x_mode_vars[:,0] = np.any(self.x_mask[:,hits_to_station == 5] == 0, axis=1)\n",
    "      self.x_mode_vars[:,1] = np.any(self.x_mask[:,hits_to_station == 1] == 0, axis=1)\n",
    "      self.x_mode_vars[:,2] = np.any(self.x_mask[:,hits_to_station == 2] == 0, axis=1)\n",
    "      self.x_mode_vars[:,3] = np.any(self.x_mask[:,hits_to_station == 3] == 0, axis=1)\n",
    "      self.x_mode_vars[:,4] = np.any(self.x_mask[:,hits_to_station == 4] == 0, axis=1)\n",
    "      self.x_mode_vars[self.x_mode_vars == 0] = -1\n",
    "      \n",
    "      # Remove NaN\n",
    "      #np.nan_to_num(self.x_copy, copy=False)\n",
    "      self.x_copy[np.isnan(self.x_copy)] = 0.0\n",
    "\n",
    "  # Copied from scikit-learn\n",
    "  def _handle_zero_in_scale(self, scale):\n",
    "    scale[scale == 0.0] = 1.0\n",
    "    return scale\n",
    "\n",
    "  def get_x(self):\n",
    "    #x_new = self.x_phi\n",
    "    x_new = np.hstack((self.x_phi, self.x_theta, self.x_bend, self.x_ring, self.x_fr, self.x_straightness, self.x_zone, self.x_theta_median, self.x_mode_vars))\n",
    "    return x_new\n",
    "\n",
    "  def get_x_mask(self):\n",
    "    x_mask = self.x_mask.copy()\n",
    "    return x_mask\n",
    "\n",
    "  def get_y(self):\n",
    "    y_new = self.y_pt.copy()\n",
    "    return y_new\n",
    "\n",
    "  def get_w(self):\n",
    "    w_new = self.w.copy()\n",
    "    return w_new\n",
    "\n",
    "  def save_encoder(self, filepath):\n",
    "    np.savez_compressed(filepath, x_mean=self.x_mean, x_std=self.x_std)\n",
    "\n",
    "  def load_endcoder(self, filepath):\n",
    "    loaded = np.load(filepath)\n",
    "    self.x_mean = loaded['x_mean']\n",
    "    self.x_std = loaded['x_std']"
   ]
  },
  {
   "cell_type": "code",
   "execution_count": 3,
   "metadata": {
    "collapsed": false
   },
   "outputs": [],
   "source": [
    "from keras import backend as K\n",
    "\n",
    "# ______________________________________________________________________________\n",
    "# New leaky relu\n",
    "def NewLeakyReLU(x, alpha=0., max_value=None):\n",
    "  return K.relu(x, alpha=alpha, max_value=max_value)\n",
    "\n",
    "# ______________________________________________________________________________\n",
    "# New tanh\n",
    "def NewTanh(x):\n",
    "  return K.tanh(x)\n",
    "  #return 1.7159 * K.tanh(x * 2./3.)\n",
    "  #return K.clip(x, -1., 1.)\n",
    "\n",
    "# ______________________________________________________________________________\n",
    "# Huber loss\n",
    "import tensorflow as tf\n",
    "from keras import backend as K\n",
    "\n",
    "def huber_loss(y_true, y_pred, delta=1.345):\n",
    "  x = K.abs(y_true - y_pred)\n",
    "  squared_loss = 0.5*K.square(x)\n",
    "  absolute_loss = delta * (x - 0.5*delta)\n",
    "  #xx = K.switch(x < delta, squared_loss, absolute_loss)\n",
    "  xx = tf.where(x < delta, squared_loss, absolute_loss)  # needed for tensorflow\n",
    "  return K.mean(xx, axis=-1)\n",
    "\n",
    "def masked_huber_loss(y_true, y_pred, delta=1.345):\n",
    "  x = K.abs(y_true - y_pred)\n",
    "  squared_loss = 0.5*K.square(x)\n",
    "  absolute_loss = delta * (x - 0.5*delta)\n",
    "  #xx = K.switch(x < delta, squared_loss, absolute_loss)\n",
    "  xx = tf.where(x < delta, squared_loss, absolute_loss)  # needed for tensorflow\n",
    "\n",
    "  mask_value = 100.\n",
    "  mask = K.not_equal(y_true, mask_value)\n",
    "  mask = K.cast(mask, K.floatx())\n",
    "  xx *= mask\n",
    "  xx /= K.mean(mask)\n",
    "  return K.mean(xx, axis=-1)\n",
    "\n",
    "#def masked_huber_loss(y_true, y_pred, delta=1.345):\n",
    "#  mask_value = 100.\n",
    "#  mask_alpha = 0.02\n",
    "#  mask_target = 0.5 * reg_pt_scale\n",
    "#  mask = K.equal(y_true, mask_value)\n",
    "#  \n",
    "#  #x = K.abs(y_true - y_pred)\n",
    "#  x = tf.where(mask, mask_alpha * K.abs(mask_target - K.abs(y_pred)), K.abs(y_true - y_pred))\n",
    "#  squared_loss = 0.5*K.square(x)\n",
    "#  absolute_loss = delta * (x - 0.5*delta)\n",
    "#  #xx = K.switch(x < delta, squared_loss, absolute_loss)\n",
    "#  xx = tf.where(x < delta, squared_loss, absolute_loss)  # needed for tensorflow\n",
    "#  return K.mean(xx, axis=-1)\n",
    "\n",
    "\n",
    "# ______________________________________________________________________________\n",
    "# Binary crossentropy\n",
    "import tensorflow as tf\n",
    "from keras import backend as K\n",
    "\n",
    "def masked_binary_crossentropy(y_true, y_pred, from_logits=False):\n",
    "  target, output = y_true, y_pred\n",
    "\n",
    "  # transform back to logits\n",
    "  if not from_logits:\n",
    "    output = K.clip(output, K.epsilon(), 1 - K.epsilon())\n",
    "    output = K.log(output / (1 - output))\n",
    "  \n",
    "  xx =  tf.nn.sigmoid_cross_entropy_with_logits(labels=target, logits=output)\n",
    "  #xx =  tf.nn.weighted_cross_entropy_with_logits(targets=target, logits=output, pos_weight=0.5)  # pos_weight < 1 decreases the false positive count\n",
    "\n",
    "  mask_value = 100.\n",
    "  mask = K.not_equal(y_true, mask_value)\n",
    "  mask = K.cast(mask, K.floatx())\n",
    "  xx *= mask\n",
    "  xx /= K.mean(mask)\n",
    "  return K.mean(xx, axis=-1)\n",
    "\n",
    "\n",
    "# ______________________________________________________________________________\n",
    "# Learning rate decay by epoch number\n",
    "from keras.callbacks import LearningRateScheduler\n",
    "\n",
    "def lr_schedule(epoch):\n",
    "  if (epoch % 10) == 0:\n",
    "    lr = K.get_value(model.optimizer.lr)\n",
    "    K.set_value(model.optimizer.lr, lr*0.95)\n",
    "    print(\"lr changed to {}\".format(lr*0.95))\n",
    "  return K.get_value(model.optimizer.lr)\n",
    "\n",
    "lr_decay = LearningRateScheduler(lr_schedule)\n",
    "\n",
    "\n",
    "# ______________________________________________________________________________\n",
    "# Custom objects\n",
    "from keras.utils.generic_utils import get_custom_objects\n",
    "\n",
    "get_custom_objects().update({'masked_huber_loss': masked_huber_loss, 'masked_binary_crossentropy': masked_binary_crossentropy, 'NewLeakyReLU': NewLeakyReLU, 'NewTanh': NewTanh})"
   ]
  },
  {
   "cell_type": "code",
   "execution_count": 4,
   "metadata": {
    "collapsed": false,
    "scrolled": true
   },
   "outputs": [
    {
     "name": "stdout",
     "output_type": "stream",
     "text": [
      "[INFO] Loading muon data ...\n",
      "[INFO] Loaded the variables with shape (3646057, 76)\n",
      "[INFO] Loaded the parameters with shape (3646057, 3)\n"
     ]
    },
    {
     "name": "stderr",
     "output_type": "stream",
     "text": [
      "/cvmfs/cms.cern.ch/slc6_amd64_gcc630/external/py2-numpy/1.12.1-mlhled2/lib/python2.7/site-packages/numpy-1.12.1-py2.7-linux-x86_64.egg/numpy/lib/function_base.py:3858: RuntimeWarning: All-NaN slice encountered\n",
      "  r = func(a, **kwargs)\n",
      "/cvmfs/cms.cern.ch/slc6_amd64_gcc630/external/py2-pippkgs/5.0-ghjeda6/lib/python2.7/site-packages/ipykernel_launcher.py:78: RuntimeWarning: invalid value encountered in greater\n"
     ]
    }
   ],
   "source": [
    "#### Load data ####\n",
    "\n",
    "def muon_data():\n",
    "  try:\n",
    "    print('[INFO] Loading muon data ...')\n",
    "    infile = '../test2/histos_tba.12.npz'\n",
    "    loaded = np.load(infile)\n",
    "    the_variables = loaded['variables']\n",
    "    the_parameters = loaded['parameters']\n",
    "    print('[INFO] Loaded the variables with shape {0}'.format(the_variables.shape))\n",
    "    print('[INFO] Loaded the parameters with shape {0}'.format(the_parameters.shape))\n",
    "  except:\n",
    "    print('[ERROR] Failed to load data from file: {0}'.format(infile))\n",
    "\n",
    "  if do_skim:\n",
    "    the_variables = the_variables[:1000]\n",
    "    the_parameters = the_parameters[:1000]\n",
    "\n",
    "  encoder = Encoder(the_variables, the_parameters, adjust_scale=2)\n",
    "  x, y, w, x_mask = encoder.get_x(), encoder.get_y(), encoder.get_w(), encoder.get_x_mask()\n",
    "  assert np.isfinite(x).all()\n",
    "\n",
    "  # Split dataset in training and testing\n",
    "  x_train, x_test, y_train, y_test, w_train, w_test, x_mask_train, x_mask_test = train_test_split(x, y, w, x_mask, test_size=0.4)\n",
    "  return x_train, x_test, y_train, y_test, w_train, w_test, x_mask_train, x_mask_test\n",
    "\n",
    "# ______________________________________________________________________________\n",
    "x_train, x_test, y_train, y_test, w_train, w_test, x_mask_train, x_mask_test = muon_data()\n",
    "\n",
    "# Add output nodes\n",
    "labels = np.where(np.abs(1.0/y_train) > discr_pt_cut, 1., 100.)  # mask_value is set to 100\n",
    "y_train = [y_train, labels.astype(np.float32)]\n",
    "\n",
    "labels = np.where(np.abs(1.0/y_test) > discr_pt_cut, 1., 100.)  # mask_value is set to 100\n",
    "y_test = [y_test, labels.astype(np.float32)]"
   ]
  },
  {
   "cell_type": "code",
   "execution_count": 5,
   "metadata": {
    "collapsed": false
   },
   "outputs": [
    {
     "name": "stdout",
     "output_type": "stream",
     "text": [
      "[INFO] Loading pileup data ...\n",
      "[INFO] Loaded the variables with shape (170275, 76)\n",
      "[INFO] Loaded the auxiliary info with shape (170275, 4)\n"
     ]
    },
    {
     "name": "stderr",
     "output_type": "stream",
     "text": [
      "/cvmfs/cms.cern.ch/slc6_amd64_gcc630/external/py2-pippkgs/5.0-ghjeda6/lib/python2.7/site-packages/ipykernel_launcher.py:78: RuntimeWarning: invalid value encountered in greater\n"
     ]
    }
   ],
   "source": [
    "#### Load data (pileup) ####\n",
    "\n",
    "def pileup_data():\n",
    "  try:\n",
    "    print('[INFO] Loading pileup data ...')\n",
    "    infile = '../test2/histos_tbd.test.npz'\n",
    "    loaded = np.load(infile)\n",
    "    the_variables = loaded['variables']\n",
    "    the_parameters = np.zeros((the_variables.shape[0], 3), dtype=np.float32)\n",
    "    the_auxiliaries = loaded['aux']\n",
    "    print('[INFO] Loaded the variables with shape {0}'.format(the_variables.shape))\n",
    "    print('[INFO] Loaded the auxiliary info with shape {0}'.format(the_auxiliaries.shape))\n",
    "  except:\n",
    "    print('[ERROR] Failed to load data from file: {0}'.format(infile))\n",
    "\n",
    "  sel = the_auxiliaries[:,2] > discr_pt_cut\n",
    "  the_variables = the_variables[~sel]\n",
    "  the_parameters = the_parameters[~sel]\n",
    "  the_auxiliaries = the_auxiliaries[~sel]\n",
    "\n",
    "  if do_skim:\n",
    "    the_variables = the_variables[:1000]\n",
    "    the_parameters = the_parameters[:1000]\n",
    "    the_auxiliaries = the_auxiliaries[:1000]\n",
    "\n",
    "  encoder = Encoder(the_variables, the_parameters, adjust_scale=2)\n",
    "  x, y, w, x_mask = encoder.get_x(), encoder.get_y(), encoder.get_w(), encoder.get_x_mask()\n",
    "  aux = the_auxiliaries  # jobid, ievt, highest_part_pt, highest_track_pt\n",
    "  assert np.isfinite(x).all()\n",
    "  \n",
    "  split = the_auxiliaries[:,0] < 50.\n",
    "  x_train, x_test, aux_train, aux_test = x[split], x[~split], aux[split], aux[~split]\n",
    "  return x_train, x_test, aux_train, aux_test\n",
    "\n",
    "# ______________________________________________________________________________\n",
    "x_adv_train, x_adv_test, aux_adv_train, aux_adv_test = pileup_data()"
   ]
  },
  {
   "cell_type": "code",
   "execution_count": 6,
   "metadata": {
    "collapsed": false
   },
   "outputs": [],
   "source": [
    "#### Create a model ####\n",
    "\n",
    "# See https://keras.io/models/about-keras-models/\n",
    "#     https://keras.io/layers/about-keras-layers/\n",
    "#     https://keras.io/getting-started/functional-api-guide/#getting-started-with-the-keras-functional-api\n",
    "\n",
    "def create_model():\n",
    "  inputs = Input(shape=(nvariables,), dtype='float32')\n",
    "\n",
    "  x = Dense(64, activation=NewTanh, kernel_initializer='glorot_uniform', kernel_regularizer=regularizers.l2(0.0000))(inputs)\n",
    "  #x = Dropout(0.2)(x)\n",
    "  x = Dense(32, activation=NewTanh, kernel_initializer='glorot_uniform', kernel_regularizer=regularizers.l2(0.0000))(x)\n",
    "  #x = Dropout(0.2)(x)\n",
    "  x = Dense(16, activation=NewTanh, kernel_initializer='glorot_uniform', kernel_regularizer=regularizers.l2(0.0000))(x)\n",
    "  #x = Dropout(0.2)(x)\n",
    "  \n",
    "  regr = Dense(1, activation='linear', kernel_initializer='glorot_uniform', name='regr')(x)\n",
    "  discr = Dense(1, activation='sigmoid', kernel_initializer='glorot_uniform', name='discr')(x)\n",
    "\n",
    "  # This creates a model that includes\n",
    "  # the Input layer, three Dense layers and the Output layer\n",
    "  model = Model(inputs=inputs, outputs=[regr, discr])\n",
    "\n",
    "  # Set loss and optimizers\n",
    "  #binary_crossentropy = losses.binary_crossentropy\n",
    "  #mean_squared_error = losses.mean_squared_error\n",
    "  \n",
    "  #adam = optimizers.Adam(lr=0.0001)\n",
    "  adam = optimizers.Adam(lr=0.001)  # default\n",
    "  #adam = optimizers.Adam(lr=0.01)\n",
    "  #adam = optimizers.Adam(lr=0.001, amsgrad=True)\n",
    "\n",
    "  # Compile\n",
    "  model.compile(optimizer=adam,\n",
    "    loss={'regr': masked_huber_loss, 'discr': masked_binary_crossentropy},\n",
    "    loss_weights={'regr': 1.0, 'discr': discr_loss_weight},\n",
    "    #metrics={'regr': ['acc', 'mse', 'mae'], 'discr': ['acc',]}\n",
    "    )\n",
    "  return model\n",
    "\n",
    "def save_model(model):\n",
    "  # Store model to file\n",
    "  model.summary()\n",
    "  model.save('model.h5')\n",
    "  model.save_weights('model_weights.h5')\n",
    "\n",
    "  # Store model to json\n",
    "  import json\n",
    "  with open('model.json', 'w') as outfile:\n",
    "    json.dump(model.to_json(), outfile)\n",
    "  return\n",
    "\n",
    "# ______________________________________________________________________________\n",
    "model = create_model()"
   ]
  },
  {
   "cell_type": "code",
   "execution_count": 7,
   "metadata": {
    "collapsed": false
   },
   "outputs": [],
   "source": [
    "#### Training Functions ####\n",
    "\n",
    "# from https://github.com/keras-team/keras/blob/master/keras/utils/generic_utils.py\n",
    "def slice_arrays(arrays, start=None, stop=None):\n",
    "    \"\"\"Slices an array or list of arrays.\n",
    "    This takes an array-like, or a list of\n",
    "    array-likes, and outputs:\n",
    "        - arrays[start:stop] if `arrays` is an array-like\n",
    "        - [x[start:stop] for x in arrays] if `arrays` is a list\n",
    "    Can also work on list/array of indices: `_slice_arrays(x, indices)`\n",
    "    # Arguments\n",
    "        arrays: Single array or list of arrays.\n",
    "        start: can be an integer index (start index)\n",
    "            or a list/array of indices\n",
    "        stop: integer (stop index); should be None if\n",
    "            `start` was a list.\n",
    "    # Returns\n",
    "        A slice of the array(s).\n",
    "    \"\"\"\n",
    "    if arrays is None:\n",
    "        return [None]\n",
    "    elif isinstance(arrays, list):\n",
    "        if hasattr(start, '__len__'):\n",
    "            # hdf5 datasets only support list objects as indices\n",
    "            if hasattr(start, 'shape'):\n",
    "                start = start.tolist()\n",
    "            return [None if x is None else x[start] for x in arrays]\n",
    "        else:\n",
    "            return [None if x is None else x[start:stop] for x in arrays]\n",
    "    else:\n",
    "        if hasattr(start, '__len__'):\n",
    "            if hasattr(start, 'shape'):\n",
    "                start = start.tolist()\n",
    "            return arrays[start]\n",
    "        elif hasattr(start, '__getitem__'):\n",
    "            return arrays[start:stop]\n",
    "        else:\n",
    "            return [None]\n",
    "\n",
    "\n",
    "def merge_arrays(arrays, arrays_to_add):\n",
    "    if isinstance(arrays, list):\n",
    "        return [None if x is None else np.concatenate((x,y)) for (x,y) in zip(arrays, arrays_to_add)]\n",
    "    else:\n",
    "        return [None]\n",
    "\n",
    "# from https://github.com/keras-team/keras/blob/master/keras/engine/training_utils.py\n",
    "def make_batches(size, batch_size):\n",
    "    \"\"\"Returns a list of batch indices (tuples of indices).\n",
    "    # Arguments\n",
    "        size: Integer, total size of the data to slice into batches.\n",
    "        batch_size: Integer, batch size.\n",
    "    # Returns\n",
    "        A list of tuples of array indices.\n",
    "    \"\"\"\n",
    "    num_batches = (size + batch_size - 1) // batch_size  # round up\n",
    "    return [(i * batch_size, min(size, (i + 1) * batch_size))\n",
    "            for i in range(num_batches)]\n",
    "\n",
    "# ______________________________________________________________________________\n",
    "# from https://github.com/keras-team/keras/blob/2.0.5/keras/engine/training.py\n",
    "\n",
    "import copy\n",
    "from keras import callbacks as cbks\n",
    "from keras.utils.generic_utils import Progbar\n",
    "\n",
    "def train(model, x, y, x_adv, aux_adv, batch_size=None, epochs=1, verbose=1, callbacks=None,\n",
    "          validation_split=0., shuffle=True, class_weight=None, sample_weight=None):\n",
    "  \n",
    "  y[0] *= reg_pt_scale\n",
    "\n",
    "  # Validate user data.\n",
    "  x, y, sample_weights = model._standardize_user_data(\n",
    "    x, y,\n",
    "    sample_weight=sample_weight,\n",
    "    class_weight=class_weight,\n",
    "    batch_size=batch_size)\n",
    "  \n",
    "  # Prepare input arrays\n",
    "  if model.uses_learning_phase and not isinstance(K.learning_phase(), int):\n",
    "    ins = x + y + sample_weights + [1.]\n",
    "  else:\n",
    "    ins = x + y + sample_weights\n",
    "\n",
    "  print('[INFO] ins shapes: {0}'.format([xx.shape for xx in ins]))\n",
    "  \n",
    "  # Prepare validation data.\n",
    "  do_validation = False\n",
    "  if validation_split and 0. < validation_split < 1.:\n",
    "    do_validation = True\n",
    "    if hasattr(x[0], 'shape'):\n",
    "      split_at = int(x[0].shape[0] * (1. - validation_split))\n",
    "    else:\n",
    "      split_at = int(len(x[0]) * (1. - validation_split))\n",
    "    x, val_x = (slice_arrays(x, 0, split_at), slice_arrays(x, split_at))\n",
    "    y, val_y = (slice_arrays(y, 0, split_at), slice_arrays(y, split_at))\n",
    "    sample_weights, val_sample_weights = (slice_arrays(sample_weights, 0, split_at), slice_arrays(sample_weights, split_at))\n",
    "    if model.uses_learning_phase and not isinstance(K.learning_phase(), int):\n",
    "      val_ins = val_x + val_y + val_sample_weights + [0.]\n",
    "    else:\n",
    "      val_ins = val_x + val_y + val_sample_weights\n",
    "  else:\n",
    "    val_ins = []\n",
    "\n",
    "  # logic from `_fit_loop()`\n",
    "  num_train_samples = x[0].shape[0]\n",
    "  index_array = np.arange(num_train_samples)\n",
    "  num_test_samples = val_x[0].shape[0]\n",
    "  val_index_array = np.arange(num_test_samples)\n",
    "  \n",
    "  # Callbacks\n",
    "  out_labels = model.metrics_names\n",
    "  if do_validation:\n",
    "    callback_metrics = copy.copy(out_labels) + ['val_' + n for n in out_labels]\n",
    "  else:\n",
    "    callback_metrics = copy.copy(out_labels)\n",
    "\n",
    "  model.history = cbks.History()\n",
    "  callbacks = [cbks.BaseLogger()] + (callbacks or []) + [model.history]\n",
    "  if verbose:\n",
    "    callbacks += [cbks.ProgbarLogger()]\n",
    "  callbacks = cbks.CallbackList(callbacks)\n",
    "  callback_model = model\n",
    "  callbacks.set_model(callback_model)\n",
    "  callbacks.set_params({\n",
    "      'batch_size': batch_size,\n",
    "      'epochs': epochs,\n",
    "      'samples': num_train_samples,\n",
    "      'verbose': verbose,\n",
    "      'do_validation': do_validation,\n",
    "      'metrics': callback_metrics or [],\n",
    "  })\n",
    "  callbacks.on_train_begin()\n",
    "  callback_model.stop_training = False\n",
    "  for cbk in callbacks:\n",
    "      cbk.validation_data = val_ins\n",
    "  \n",
    "  \n",
    "  # Loop over epochs\n",
    "  for epoch in xrange(epochs):\n",
    "    epoch_logs = {}\n",
    "    callbacks.on_epoch_begin(epoch)\n",
    "    \n",
    "    if shuffle:\n",
    "      np.random.shuffle(index_array)\n",
    "      #np.random.shuffle(val_index_array)\n",
    "    \n",
    "    batches = make_batches(num_train_samples, batch_size)\n",
    "    \n",
    "    # Loop over batches\n",
    "    for batch_index, (batch_start, batch_end) in enumerate(batches):\n",
    "      batch_ids = index_array[batch_start:batch_end]\n",
    "      if ins and isinstance(ins[-1], float):\n",
    "        # Do not slice the training phase flag.\n",
    "        ins_batch = slice_arrays(ins[:-1], batch_ids) + [ins[-1]]\n",
    "        assert isinstance(ins_batch, list) and len(ins_batch) == 1 + 2 + 2 + 1\n",
    "      else:\n",
    "        ins_batch = slice_arrays(ins, batch_ids)\n",
    "        assert isinstance(ins_batch, list) and len(ins_batch) == 1 + 2 + 2\n",
    "      \n",
    "      # Add noise (pileup)\n",
    "      if add_noise:\n",
    "        #noise = x_adv[np.random.randint(0, x_adv.shape[0], ins_batch[0].shape[0])]\n",
    "        #noise_reg = np.zeros_like(ins_batch[1]) + 100.  # mask_value is set to 100\n",
    "        #noise_discr = np.zeros_like(ins_batch[2])\n",
    "        #noise_reg_w = np.ones_like(ins_batch[3])\n",
    "        #noise_discr_w = np.ones_like(ins_batch[3])\n",
    "        n = np.sum(np.equal(ins_batch[2],1.))\n",
    "        noise = x_adv[np.random.randint(0, x_adv.shape[0], n)]\n",
    "        noise_reg = np.zeros((n,1)) + 100.  # mask_value is set to 100\n",
    "        noise_discr = np.zeros((n,1))\n",
    "        noise_reg_w = np.ones((n,))\n",
    "        noise_discr_w = np.ones((n,))\n",
    "        ins_noise = [noise, noise_reg, noise_discr, noise_reg_w, noise_discr_w]\n",
    "        if ins and isinstance(ins[-1], float):\n",
    "          ins_batch = merge_arrays(ins_batch[:-1], ins_noise) + [ins_batch[-1]]\n",
    "        else:\n",
    "          ins_batch = merge_arrays(ins_batch, ins_noise)\n",
    "      \n",
    "      batch_logs = {}\n",
    "      batch_logs['batch'] = batch_index\n",
    "      batch_logs['size'] = len(batch_ids)\n",
    "      callbacks.on_batch_begin(batch_index, batch_logs)\n",
    "      \n",
    "      # Magic\n",
    "      model._make_train_function()\n",
    "      f = model.train_function\n",
    "      outs = f(ins_batch)\n",
    "      \n",
    "      if not isinstance(outs, list):\n",
    "        outs = [outs]\n",
    "      for l, o in zip(out_labels, outs):\n",
    "        batch_logs[l] = o\n",
    "      \n",
    "      callbacks.on_batch_end(batch_index, batch_logs)\n",
    "      if callback_model.stop_training:\n",
    "        break\n",
    "      \n",
    "      if batch_index == len(batches) - 1:  # Last batch.\n",
    "        if do_validation:\n",
    "          # logic from `_test_loop()`\n",
    "          val_batches = make_batches(num_test_samples, batch_size)\n",
    "          val_outs = []\n",
    "          if verbose == 1:\n",
    "            progbar = Progbar(target=num_test_samples)\n",
    "          \n",
    "          for val_batch_index, (val_batch_start, val_batch_end) in enumerate(val_batches):\n",
    "            val_batch_ids = val_index_array[val_batch_start:val_batch_end]\n",
    "            if isinstance(val_ins[-1], float):\n",
    "              # Do not slice the training phase flag.\n",
    "              val_ins_batch = slice_arrays(val_ins[:-1], val_batch_ids) + [val_ins[-1]]\n",
    "            else:\n",
    "              val_ins_batch = slice_arrays(val_ins, val_batch_ids)\n",
    "            \n",
    "            # Magic\n",
    "            model._make_test_function()\n",
    "            val_f = model.test_function\n",
    "            val_batch_outs = val_f(val_ins_batch)\n",
    "            \n",
    "            if isinstance(val_batch_outs, list):\n",
    "              if val_batch_index == 0:\n",
    "                for i, val_batch_out in enumerate(val_batch_outs):\n",
    "                  val_outs.append(0.)\n",
    "              for i, val_batch_out in enumerate(val_batch_outs):\n",
    "                val_outs[i] += val_batch_out * len(val_batch_ids)\n",
    "            else:\n",
    "              if val_batch_index == 0:\n",
    "                val_outs.append(0.)\n",
    "              val_outs[0] += val_batch_outs * len(val_batch_ids)\n",
    "            \n",
    "            if verbose == 1:\n",
    "              progbar.update(val_batch_end)\n",
    "            \n",
    "          if not isinstance(val_outs, list):\n",
    "            val_outs = [val_outs]\n",
    "          # Same labels assumed.\n",
    "          for l, o in zip(out_labels, val_outs):\n",
    "            o /= num_test_samples\n",
    "            epoch_logs['val_' + l] = o\n",
    "            \n",
    "    callbacks.on_epoch_end(epoch, epoch_logs)\n",
    "    if callback_model.stop_training:\n",
    "      break\n",
    "\n",
    "  callbacks.on_train_end()\n",
    "  return model.history\n",
    "\n",
    "# ______________________________________________________________________________\n",
    "def predict(model, x):\n",
    "  outs = model.predict(x)\n",
    "  outs[0] /= reg_pt_scale\n",
    "  return outs"
   ]
  },
  {
   "cell_type": "code",
   "execution_count": 8,
   "metadata": {
    "collapsed": false
   },
   "outputs": [
    {
     "name": "stdout",
     "output_type": "stream",
     "text": [
      "[INFO] Begin training ...\n",
      "[INFO] Time elapsed: 1197.47740793 sec\n",
      "____________________________________________________________________________________________________\n",
      "Layer (type)                     Output Shape          Param #     Connected to                     \n",
      "====================================================================================================\n",
      "input_1 (InputLayer)             (None, 68)            0                                            \n",
      "____________________________________________________________________________________________________\n",
      "dense_1 (Dense)                  (None, 64)            4416        input_1[0][0]                    \n",
      "____________________________________________________________________________________________________\n",
      "dense_2 (Dense)                  (None, 32)            2080        dense_1[0][0]                    \n",
      "____________________________________________________________________________________________________\n",
      "dense_3 (Dense)                  (None, 16)            528         dense_2[0][0]                    \n",
      "____________________________________________________________________________________________________\n",
      "regr (Dense)                     (None, 1)             17          dense_3[0][0]                    \n",
      "____________________________________________________________________________________________________\n",
      "discr (Dense)                    (None, 1)             17          dense_3[0][0]                    \n",
      "====================================================================================================\n",
      "Total params: 7,058\n",
      "Trainable params: 7,058\n",
      "Non-trainable params: 0\n",
      "____________________________________________________________________________________________________\n",
      "[INFO] Done training.\n",
      "[INFO] Model is saved as model.h5, model.json and model_weights.h5\n"
     ]
    }
   ],
   "source": [
    "#### Training ####\n",
    "\n",
    "print('[INFO] Begin training ...')\n",
    "assert keras.backend.backend() == 'tensorflow'\n",
    "\n",
    "start_time = time.time()\n",
    "sys.stdout = open('keras_output_1.txt', 'w')\n",
    "#history = model.fit(x_train, y_train, epochs=40, validation_split=0.1, batch_size=256, verbose=1)\n",
    "#history = model.fit(x_train, y_train, epochs=400, validation_split=0.1, batch_size=256, callbacks=[lr_decay], verbose=0)\n",
    "history = train(model, x_train, y_train, x_adv_train, aux_adv_train, epochs=200, validation_split=0.1, batch_size=128, verbose=1)\n",
    "#history = train(model, x_train, y_train, x_adv_train, aux_adv_train, epochs=400, validation_split=0.1, batch_size=128, callbacks=[lr_decay], verbose=0)\n",
    "sys.stdout.close()\n",
    "sys.stdout = old_stdout\n",
    "print('[INFO] Time elapsed: {0} sec'.format(time.time() - start_time))\n",
    "\n",
    "save_model(model)\n",
    "print('[INFO] Done training.')\n",
    "print('[INFO] Model is saved as model.h5, model.json and model_weights.h5')"
   ]
  },
  {
   "cell_type": "code",
   "execution_count": 9,
   "metadata": {
    "collapsed": false,
    "scrolled": false
   },
   "outputs": [
    {
     "name": "stdout",
     "output_type": "stream",
     "text": [
      "1454000/1458423 [============================>.] - ETA: 0s \b\b\b\b\b\b\b\b\b\b\b\b\b\b\b\b\b\b\b\b\b\b\b\b\b\b\b\b\b\b\b\b\b\b\b\b\b\b\b\b\b\b\b\b\b\b\b\b\b\b\b\b\b\b\b\b\b\b\b\b\b\b\b\b\b\b\b\b\b\b\b\b\b\b\b\b\b\b\b\b\b\b\b\b\b\b\b\b\b\b\b\b\b\b\b\b\b\b\b\b\b\b\b\b\b\b\b\b\b\b\b\b\b\b\b\b\b\b\b\b\b\b\b\b\b\b\b\b\b\b\b\b\b\b\b\b\b\b\b\b\b\b\b\b\b\b\b\b\b\b\b\b\b\b\b\b\b\b\b\b\b\b\b\b\b\b\b\b\b\b\b\b\b\b\b\b\b\b\b\b\b\b\b\b\b\b\b\b\b\b\b\b\b\b\b\b\b\b\b\b\b\b\b\b\b\b\b\b\b\b\b\b\b\b\b\b\b\b\b\b\b\b\b\b\b\b\b\b\b\b\b\b\b\b\b\b\b\b\b\b\b\b\b\b\b\b\b\b\b\b\b\b\b\b\b\b\b\b\b\b\b\b\b\b\b\b\b\b\b\b\b\b\b\b\b\b\b\b\b\b\b\b\b\b\b\b\b\b\b\b\b\b\b\b\b\b\b\b\b\b\b\b\b\b\b\b\b\b\b\b\b\b\b\b\b\b\b\b\b\b\b\b\b\b\b\b\b\b\b\b\b\b\b\b\b\b\b\b\b\b\b\b\b\b\b\b\b\b\b\b\b\b\b\b\b\b\b\b\b\b\b\b\b\b\b\b\b\b\b\b\b\b\b\b\b\b\b\b\b\b\b\b\b\b\b\b\b\b\b\b\b\b\b\b\b\b\b\b\b\b\b\b\b\b\b\b\b\b\b\b\b\b\b\b\b\b\b\b\b\b\b\b\b\b\b\b\b\b\b\b\b\b\b\b\b\b\b\b\b\b\b\b\b\b\b\b\b\b\b\b\b\b\b\b\b\b\b\b\b\b\b\b\b\b\b\b\b\b\b\b\b\b\b\b\b\b\b\b\b\b\b\b\b\b\b\b\b\b\b\b\b\b\b\b\b\b\b\b\b\b\b\b\b\b\b\b\b\b\b\b\b\b\b\b\b\b\b\b\b\b\b\b\b\b\b\b\b\b\b\b\b\b\b\b\b\b\b\b\b\b\b\b\b\b\b\b\b\b\b\b\b\b\b\b\b\b\b\b\b\b\b\b\b\b\b\b\b\b\b\b\b\b\b\b\b\b\b\b\b\b\b\b\b\b\b\b\b\b\b\b\b\b\b\b\b\b\b\b\b\b\b\b\b\b\b\b\b\b\b\b\b\b\b\b\b\b\b\b\b\b\b\b\b\b\b\b\b\b\b\b\b\b\b\b\b\b\b\b\b\b\b\b\b\b\b\b\b\b\b\b\b\b\b\b\b\b\b\b\b\b\b\b\b\b\b\b\b\b\b\b\b\b\b\b\b\b\b\b\b\b\b\b\b\b\b\b\b\b\b\b\b\b\b\b\b\b\b\b\b\b\b\b\b\b\b\b\b\b\b\b\b\b\b\b\b\b\b\b\b\b\b\b\b\b\b\b\b\b\b\b\b\b\b\b\b\b\b\b\b\b\b\b\b\b\b\b\b\b\b\b\b\b\b\b\b\b\b\b\b\b\b\b\b\b\b\b\b\b\b\b\b\b\b\b\b\b\b\b\b\b\b\b\b\b\b\b\b\b\b\b\b\b\b\b\b\b\b\b\b\b\b\b\b\b\b\b\b\b\b\b\b\b\b\b\b\b\b\b\b\b\b\b\b\b\b\b\b\b\b\b\b\b\b\b\b\b\b\b\b\b\b\b\b\b\b\b\b\b\b\b\b\b\b\b\b\b\b\b\b\b\b\b\b\b\b\b\b\b\b\b\b\b\b\b\b\b\b\b\b\b\b\b\b\b\b\b\b\b\b\b\b\b\b\b\b\b\b\b\b\b\b\b\b\b\b\b\b\b\b\b\b\b\b\b\b\b\b\b\b\b\b\b\b\b\b\b\b\b\b\b\b\b\b\b\b\b\b\b\b\b\b\b\b\b\b\b\b\b\b\b\b\b\b\b\b\b\b\b\b\b\b\b\b\b\b\b\b\b\b\b\b\b\b\b\b\b\b\b\b\b\b\b\b\b\b\b\b\b\b\b\b\b\b\b\b\b\b\b\b\b\b\b\b\b\b\b\b\b\b\b\b\b\b\b\b\b\b\b\b\b\b\b\b\b\b\b\b\b\b\b\b\b\b\b\b\b\b\b\b\b\b\b\b\b\b\b\b\b\b\b\b\b\b\b\b\b\b\b\b\b\b\b\b\b\b\b\b\b\b\b\b\b\b\b\b\b\b\b\b\b\b\b\b\b\b\b\b\b\b\b\b\b\b\b\b\b\b\b\b\b\b\b\b\b\b\b\b\b\b\b\b\b\b\b\b\b\b\b\b\b\b\b\b\b\b\b\b\b\b\b\b\b\b\b\b\b\b\b\b\b\b\b\b\b\b\b\b\b\b\b\b\b\b\b\b\b\b\b\b\b\b\b\b\b\b\b\b\b\b\b\b\b\b\b\b\b\b\b\b\b\b\b\b\b\b\b\b\b\b\b\b\b\b\b\b\b\b\b\b\b\b\b\b\b\b\b\b\b\b\b\b\b\b\b\b\b\b\b\b\b\b\b\b\b\b\b\b\b\b\b\b\b\b\b\b\b\b\b\b\b\b\b\b\b\b\b\b\b\b\b\b\b\b\b\b\b\b\b\b\b\b\b\b\b\b\b\b\b\b\b\b\b\b\b\b\b\b\b\b\b\b\b\b\b\b\b\b\b\b\b\b\b\b\b\b\b\b\b\b\b\b\b\b\b\b\b\b\b\b\b\b\b\b\b\b\b\b\b\b\b\b\b\b\b\b\b\b\b\b\b\b\b\b\b\b\b\b\b\b\b\b\b\b\b\b\b\b\b\b\b\b\b\b\b\b\b\b\b\b\b\b\b\b\b\b\b\b\b\b\b\b\b\b\b\b\b\b\b\b\b\b\b\b\b\b\b\b\b\b\b\b\b\b\b\b\b\b\b\b\b\b\b\b\b\b\b\b\b\b\b\b\b\b\b\b\b\b\b\b\b\b\b\b\b\b\b\b\b\b\b\b\b\b\b\b\b\b\b\b\b\b\b\b\b\b\b\b\b\b\b\b\b\b\b\b\b\b\b\b\b\b\b\b\b\b\b\b\b\b\b\b\b\b\b\b\b\b\b\b\b\b\b\b\b\b\b\b\b\b\b\b\b\b\b\b\b\b\b\b\b\b\b\b\b\b\b\b\b\b\b\b\b\b\b\b\b\b\b\b\b\b\b\b\b\b\b\b\b\b\b\b\b\b\b\b\b\b\b\b\b\b\b\b\b\b\b\b\b\b\b\b\b\b\b\b\b\b\b\b\b\b\b\b\b\b\b\b\b\b\b\b\b\b\b\b\b\b\b\b\b\b\b\b\b\b\b\b\b\b\b\b\b\b\b\b\b\b\b\b\b\b\b\b\b\b\b\b\b\b\b\b\b\b\b\b\b\b\b\b\b\b\b\b\b\b\b\b\b\b\b\b\b\b\b\b\b\b\b\b\b\b\b\b\b\b\b\b\b\b\b\b\b\b\b\b\b\b\b\b\b\b\b\b\b\b\b\b\b\b\b\b\b\b\b\b\b\b\b\b\b\b\b\b\b\b\b\b\b\b\b\b\b\b\b\b\b\b\b\b\b\b\b\b\b\b\b\b\b\b\b\b\b\b\b\b\b\b\b\b\b\b\b\b\b\b\b\b\b\b\b\b\b\b\b\b\b\b\b\b\b\b\b\b\b\b\b\b\b\b\b\b\b\b\b\b\b\b\b\b\b\b\b\b\b\b\b\b\b\b\b\b\b\b\b\b\b\b\b\b\b\b\b\b\b\b\b\b\b\b\b\b\b\b\b\b\b\b\b\b\b\b\b\b\b\b\b\b\b\b\b\b\b\b\b\b\b\b\b\b\b\b\b\b\b\b\b\b\b\b\b\b\b\b\b\b\b\b\b\b\b\b\b\b\b\b\b\b\b\b\b\b\b\b\b\b\b\b\b\b\b\b\b\b\b\b\b\b\b\b\b\b\b\b\b\b\b\b\b\b\b\b\b\b\b\b\b\b\b\b\b\b\b\b\b\b\b\b\b\b\b\b\b\b\b\b\b\b\b\b\b\b\b\b\b\b\b\b\b\b\b\b\b\b\b\b\b\b\b\b\b\b\b\b\b\b\b\b\b\b\b\b\b\b\b\b\b\b\b\b\b\b\b\b\b\b\b\b\b\b\b\b\b\b\b\b\b\b\b\b\b\b\b\b\b\b\b\b\b\b\b\b\b\b\b\b\b\b\b\b\b\b\b\b\b\b\b\b\b\b\b\b\b\b\b\b\b\b\b\b\b\b\b\b\b\b\b\b\b\b\b\b\b\b\b\b\b\b\b\b\b\b\b\b\b\b\b\b\b\b\b\b\b\b\b\b\b\b\b\b\b\b\b\b\b\b\b\b\b\b\b\b\b\b\b\b\b\b\b\b\b\b\b\b\b\b\b\b\b\b\b\b\b\b\b\b\b\b\b\b\b\b\b\b\b\b\b\b\b\b\b\b\b\b\b\b\b\b\b\b\b\b\b\b\b\b\b\b\b\b\b\b\b\b\b\b\b\b\b\b\b\b\b\b\b\b\b\b\b\b\b\b\b\b\b\b\b\b\b\b\b\b\b\b\b\b\b\b\b\b\b\b\b\b\b\b\b\b\b\b\b\b\b\b\b\b\b\b\b\b\b\b\b\b\b\b\b\b\b\b\b\b\b\b\b\b\b\b\b\b\b\b\b\b\b\b\b\b\b\b\b\b\b\b\b\b\b\b\b\b\b\b\b\b\b\b\b\b\b\b\b\b\b\b\b\b\b\b\b\b\b\b\b\b\b\b\b\b\b\b\b\b\b\b\b\b\b\b\b\b\b\b\b\b\b\b\b\b\b\b\b\b\b\b\b\b\b\b\b\b\b\b\b\b\b\b\b\b\b\b\b\b\b\b\b\b\b\b\b\b\b\b\b\b\b\b\b\b\b\b\b\b\b\b\b\b\b\b\b\b\b\b\b\b\b\b\b\b\b\b\b\b\b\b\b\b\b\b\b\b\b\b\b\b\b\b\b\b\b\b\b\b\b\b\b\b\b\b\b\b\b\b\b\b\b\b\b\b\b\b\b\b\b\b\b\b\b\b\b\b\b\b\b\b\b\b\b\b\b\b\b\b\b\b\b\b\b\b\b\b\b\b\b\b\b\b\b\b\b\b\b\b\b\b\b\b\b\b\b\b\b\b\b\b\b\b\b\b\b\b\b\b\b\b\b\b\b\b\b\b\b\b\b\b\b\b\b\b\b\b\b\b\b\b\b\b\b\b\b\b\b\b\b\b\b\b\b\b\b\b\b\b\b\b\b\b\b\b\b\b\b\b\b\b\b\b\b\b\b\b\b\b\b\b\b\b\b\b\b\b\b\b\b\b\b\b\b\b\b\b\b\b\b\b\b\b\b\b\b\b\b\b\b\b\b\b\b\b\b\b\b\b\b\b\b\b\b\b\b\b\b\b\b\b\b\b\b\b\b\b\b\b\b\b\b\b\b\b\b\b\b\b\b\b\b\b\b\b\b\b\b\b\b\b\b\b\b\b\b\b\b\b\b\b\b\b\b\b\b\b\b\b\b\b\b\b\b\b\b\b\b\b\b\b\b\b\b\b\b\b\b\b\b\b\b\b\b\b\b\b\b\b\b\b\b\b\b\b\b\b\b\b\b\b\b\b\b\b\b\b\b\b\b\b\b\b\b\b\b\b\b\b\b\b\b\b\b\b\b\b\b\b\b\b\b\b\b\b\b\b\b\b\b\b\b\b\b\b\b\b\b\b\b\b\b\b\b\b\b\b\b\b\b\b\b\b\b\b\b\b\b\b\b\b\b\b\b\b\b\b\b\b\b\b\b\b\b\b\b\b\b\b\b\b\b\b\b\b\b\b\b\b\b\b\b\b\b\b\b\b\b\b\b\b\b\b\b\b\b\b\b\b\b\b\b\b\b\b\b\b\b\b\b\b\b\b\b\b\b\b\b\b\b\b\b\b\b\b\b\b\b\b\b\b\b\b\b\b\b\b\b\b\b\b\b\b\b\b\b\b\b\b\b\b\b\b\b\b\b\b\b\b\b\b\b\b\b\b\b\b\b\b\b\b\b\b\b\b\b\b\b\b\b\b\b\b\b\b\b\b\b\b\b\b\b\b\b\b\b\b\b\b\b\b\b\b\b\b\b\b\b\b\b\b\b\b\b\b\b\b\b\b\b\b\b\b\b\b\b\b\b\b\b\b\b\b\b\b\b\b\b\b\b\b\b\b\b\b\b\b\b\b\b\b\b\b\b\b\b\b\b\b\b\b\b\b\b\b\b\b\b\b\b\b\b\b\b\b\b\b\b\b\b\b\b\b\b\b\b\b\b\b\b\b\b\b\b\b\b\b\b\b\b\b\b\b\b\b\b\b\b\b\b\b\b\b\b\b\b\b\b\b\b\b\b\b\b\b\b\b\b\b\b\b\b\b\b\b\b\b\b\b\b\b\b\b\b\b\b\b\b\b\b\b\b\b\b\b\b\b\b\b\b\b\b\b\b\b\b\b\b\b\b\b\b\b\b\b\b\b\b\b\b\b\b\b\b\b\b\b\b\b\b\b\b\b\b\b\b\b\b\b\b\b\b\b\b\b\b\b\b\b\b\b\b\b\b\b\b\b\b\b\b\b\b\b\b\b\b\b\b\b\b\b\b\b\b\b\b\b\b\b\b\b\b\b\b\b\b\b\b\b\b\b\b\b\b\b\b\b\b\b\b\b\b\b\b\b\b\b\b\b\b\b\b\b\b\b\b\b\b\b\b\b\b\b\b\b\b\b\b\b\b\b\b\b\b\b\b\b\b\b\b\b\b\b\b\b\b\b\b\b\b\b\b\b\b\b\b\b\b\b\b\b\b\b\b\b\b\b\b\b\b\b\b\b\b\b\b\b\b\b\b\b\b\b\b\b\b\b\b\b\b\b\b\b\b\b\b\b\b\b\b\b\b\b\b\b\b\b\b\b\b\b\b\b\b\b\b\b\b\b\b\b\b\b\b\b\b\b\b\b\b\b\b\b\b\b\b\b\b\b\b\b\b\b\b\b\b\b\b\b\b\b\b\b\b\b\b\b\b\b\b\b\b\b\b\b\b\b\b\b\b\b\b\b\b\b\b\b\b\b\b\b\b\b\b\b\b\b\b\b\b\b\b\b\b\b\b\b\b\b\b\b\b\b\b\b\b\b\b\b\b\b\b\b\b\b\b\b\b\b\b\b\b\b\b\b\b\b\b\b\b\b\b\b\b\b\b\b\b\b\b\b\b\b\b\b\b\b\b\b\b\b\b\b\b\b\b\b\b\b\b\b\b\b\b\b\b\b\b\b\b\b\b\b\b\b\b\b\b\b\b\b\b\b\b\b\b\b\b\b\b\b\b\b\b\b\b\b\b\b\b\b\b\b\b\b\b\b\b\b\b\b\b\b\b\b\b\b\b\b\b\b\b\b\b\b\b\b\b\b\b\b\b\b\b\b\b\b\b\b\b\b\b\b\b\b\b\b\b\b\b\b\b\b\b\b\b\b\b\b\b\b\b\b\b\b\b\b\b\b\b\b\b\b\b\b\b\b\b\b\b\b\b\b\b\b\b\b\b\b\b\b\b\b\b\b\b\b\b\b\b\b\b\b\b\b\b\b\b\b\b\b\b\b\b\b\b\b\b\b\b\b\b\b\b\b\b\b\b\b\b\b\b\b\b\b\b\b\b\b\b\b\b\b\b\b\b\b\b\b\b\b\b\b\b\b\b\b\b\b\b\b\b\b\b\b\b\b\b\b\b\b\b\b\b\b\b\b\b\b\b\b\b\b\b\b\b\b\b\b\b\b\b\b\b\b\b\b\b\b\b\b\b\b\b\b\b\b\b\b\b\b\b\b\b\b\b\b\b\b\b\b\b\b\b\b\b\b\b\b\b\b\b\b\b\b\b\b\b\b\b\b\b\b\b\b\b\b\b\b\b\b\b\b\b\b\b\b\b\b\b\b\b\b\b\b\b\b\b\b\b\b\b\b\b\b\b\b\b\b\b\b\b\b\b\b\b\b\b\b\b\b\b\b\b\b\b\b\b\b\b\b\b\b\b\b\b\b\b\b\b\b\b\b\b\b\b\b\b\b\b\b\b\b\b\b\b\b\b\b\b\b\b\b\b\b\b\b\b\b\b\b\b\b\b\b\b\b\b\b\b\b\b\b\b\b\b\b\b\b\b\b\b\b\b\b\b\b\b\b\b\b\b\b\b\b\b\b\b\b\b\b\b\b\b\b\b\b\b\b\b\b\b\b\b\b\b\b\b\b\b\b\b\b\b\b\b\b\b\b\b\b\b\b\b\b\b\b\b\b\b\b\b\b\b\b\b\b\b\b\b\b\b\b\b\b\b\b\b\b\b\b\b\b\b\b\b\b\b\b\b\b\b\b\b\b\b\b\b\b\b\b\b\b\b\b\b\b\b\b\b\b\b\b\b\b\b\b\b\b\b\b\b\b\b\b\b\b\b\b\b\b\b\b\b\b\b\b\b\b\b\b\b\b\b\b\b\b\b\b\b\b\b\b\b\b\b\b\b\b\b\b\b\b\b\b\b\b\b\b\b\b\b\b\b\b\b\b\b\b\b\b\b\b\b\b\b\b\b\b\b\b\b\b\b\b\b\b\b\b\b\b\b\b\b\b\b\b\b\b\b\b\b\b\b\b\b\b\b\b\b\b\b\b\b\b\b\b\b\b\b\b\b\b\b\b\b\b\b\b\b\b\b\b\b\b\b\b\b\b\b\b\b\b\b\b\b\b\b\b\b\b\b\b\b\b\b\b\b\b\b\b\b\b\b\b\b\b\b\b\b\b\b\b\b\b\b\b\b\b\b\b\b\b\b\b\b\b\b\b\b\b\b\b\b\b\b\b\b\b\b\b\b\b\b\b\b\b\b\b\b\b\b\b\b\b\b\b\b\b\b\b\b\b\b\b\b\b\b\b\b\b\b\b\b\b\b\b\b\b\b\b\b\b\b\b\b\b\b\b\b\b\b\b\b\b\b\b\b\b\b\b\b\b\b\b\b\b\b\b\b\b\b\b\b\b\b\b\b\b\b\b\b\b\b\b\b\b\b\b\b\b\b\b\b\b\b\b\b\b\b\b\b\b\b\b\b\b\b\b\b\b\b\b\b\b\b\b\b\b\b\b\b\b\b\b\b\b\b\b\b\b\b\b\b\b\b\b\b\b\b\b\b\b\b\b\b\b\b\b\b\b\b\b\b\b\b\b\b\b\b\b\b\b\b\b\b\b\b\b\b\b\b\b\b\b\b\b\b\b\b\b\b\b\b\b\b\b\b\b\b\b\b\b\b\b\b\b\b\b\b\b\b\b\b\b\b\b\b\b\b\b\b\b\b\b\b\b\b\b\b\b\b\b\b\b\b\b\b\b\b\b\b\b\b\b\b\b\b\b\b\b\b\b\b\b\b\b\b\b\b\b\b\b\b\b\b\b\b\b\b\b\b\b\b\b\b\b\b\b\b\b\b\b\b\b\b\b\b\b\b\b\b\b\b\b\b\b\b\b\b\b\b\b\b\b\b\b\b\b\b\b\b\b\b\b\b\b\b\b\b\b\b\b\b\b\b\b\b\b\b\b\b\b\b\b\b\b\b\b\b\b\b\b\b\b\b\b\b\b\b\b\b\b\b\b\b\b\b\b\b\b\b\b\b\b\b\b\b\b\b\b\b\b\b\b\b\b\b\b\b\b\b\b\b\b\b\b\b\b\b\b\b\b\b\b\b\b\b\b\b\b\b\b\b\b\b\b\b\b\b\b\b\b\b\b\b\b\b\b\b\b\b\b\b\b\b\b\b\b\b\b\b\b\b\b\b\b\b\b\b\b\b\b\b\b\b\b\b\b\b\b\b\b\b\b\b\b\b\b\b\b\b\b\b\b\b\b\b\b\b\b\b\b\b\b\b\b\b\b\b\b\b\b\b\b\b\b\b\b\b\b\b\b\b\b\b\b\b\b\b\b\b\b\b\b\b\b\b\b\b\b\b\b\b\b\b\b\b\b\b\b\b\b\b\b\b\b\b\b\b\b\b\b\b\b\b\b\b\b\b\b\b\b\b\b\b\b\b\b\b\b\b\b\b\b\b\b\b\b\b\b\b\b\b\b\b\b\b\b\b\b\b\b\b\b\b\b\b\b\b\b\b\b\b\b\b\b\b\b\b\b\b\b\b\b\b\b\b\b\b\b\b\b\b\b\b\b\b\b\b\b\b\b\b\b\b\b\b\b\b\b\b\b\b\b\b\b\b\b\b\b\b\b\b\b\b\b\b\b\b\b\b\b\b\b\b\b\b\b\b\b\b\b\b\b\b\b\b\b\b\b\b\b\b\b\b\b\b\b\b\b\b\b\b\b\b\b\b\b\b\b\b\b\b\b\b\b\b\b\b\b\b\b\b\b\b\b\b\b\b\b\b\b\b\b\b\b\b\b\b\b\b\b\b\b\b\b\b\b\b\b\b\b\b\b\b\b\b\b\b\b\b\b\b\b\b\b\b\b\b\b\b\b\b\b\b\b\b\b\b\b\b\b\b\b\b\b\b\b\b\b\b\b\b\b\b\b\b\b\b\b\b\b\b\b\b\b\b\b\b\b\b\b\b\b\b\b\b\b\b\b\b\b\b\b\b\b\b\b\b\b\b\b\b\b\b\b\b\b\b\b\b\b\b\b\b\b\b\b\b\b\b\b\b\b\b\b\b\b\b\b\b\b\b\b\b\b\b\b\b\b\b\b\b\b\b\b\b\b\b\b\b\b\b\b\b\b\b\b\b\b\b\b\b\b\b\b\b\b\b\b\b\b\b\b\b\b\b\b\b\b\b\b\b\b\b\b\b\b\b\b\b\b\b\b\b\b\b\b\b\b\b\b\b\b\b\b\b\b\b\b\b\b\b\b\b\b\b\b\b\b\b\b\b\b\b\b\b\b\b\b\b\b\b\b\b\b\b\b\b\b\b\b\b\b\b\b\b\b\b\b\b\b\b\b\b\b\b\b\b\b\b\b\b\b\b\b\b\b\b\b\b\b\b\b\b\b\b\b\b\b\b\b\b\b\b\b\b\b\b\b\b\b\b\b\b\b\b\b\b\b\b\b\b\b\b\b\b\b\b\b\b\b\b\b\b\b\b\b\b\b\b\b\b\b\b\b\b\b\b\b\b\b\b\b\b\b\b\b\b\b\b\b\b\b\b\b\b\b\b\b\b\b\b\b\b\b\b\b\b\b\b\b\b\b\b\b\b\b\b\b\b\b\b\b\b\b\b\b\b\b\b\b\b\b\b\b\b\b\b\b\b\b\b\b\b\b\b\b\b\b\b\b\b\b\b\b\b\b\b\b\b\b\b\b\b\b\b\b\b\b\b\b\b\b\b\b\b\b\b\b\b\b\b\b\b\b\b\b\b\b\b\b\b\b\b\b\b\b\b\b\b\b\b\b\b\b\b\b\b\b\b\b\b\b\b\b\b\b\b\b\b\b\b\b\b\b\b\b\b\b\b\b\b\b\b\b\b\b\b\b\b\b\b\b\b\b\b\b\b\b\b\b\b\b\b\b\b\b\b\b\b\b\b\b\b\b\b\b\b\b\b\b\b\b\b\b\b\b\b\b\b\b\b\b\b\b\b\b\b\b\b\b\b\b\b\b\b\b\b\b\b\b\b\b\b\b\b\b\b\b\b\b\b\b\b\b\b\b\b\b\b\b\b\b\b\b\b\b\b\b\b\b\b\b\b\b\b\b\b\b\b\b\b\b\b\b\b\b\b\b\b\b\b\b\b\b\b\b\b\b\b\b\b\b\b\b\b\b\b\b\b\b\b\b\b\b\b\b\b\b\b\b\b\b\b\b\b\b\b\b\b\b\b\b\b\b\b\b\b\b\b\b\b\b\b\b\b\b\b\b\b\b\b\b\b\b\b\b\b\b\b\b\b\b\b\b\b\b\b\b\b\b\b\b\b\b\b\b\b\b\b\b\b\b\b\b\b\b\b\b\b\b\b\b\b\b\b\b\b\b\b\b\b\b\b\b\b\b\b\b\b\b\b\b\b\b\b\b\b\b\b\b\b\b\b\b\b\b\b\b\b\b\b\b\b\b\b\b\b\b\b\b\b\b\b\b\b\b\b\b\b\b\b\b\b\b\b\b\b\b\b\b\b\b\b\b\b\b\b\b\b\b\b\b\b\b\b\b\b\b\b\b\b\b\b\b\b\b\b\b\b\b\b\b\b\b\b\b\b\b\b\b\b\b\b\b\b\b\b\b\b\b\b\b\b\b\b\b\b\b\b\b\b\b\b\b\b\b\b\b\b\b\b\b\b\b\b\b\b\b\b\b\b\b\b\b\b\b\b\b\b\b\b\b\b\b\b\b\b\b\b\b\b\b\b\b\b\b\b\b\b\b\b\b\b\b\b\b\b\b\b\b\b\b\b\b\b\b\b\b\b\b\b\b\b\b\b\b\b\b\b\b\b\b\b\b\b\b\b\b\b\b\b\b\b\b\b\b\b\b\b\b\b\b\b\b\b\b\b\b\b\b\b\b\b\b\b\b\b\b\b\b\b\b\b\b\b\b\b\b\b\b\b\b\b\b\b\b\b\b\b\b\b\b\b\b\b\b\b\b\b\b\b\b\b\b\b\b\b\b\b\b\b\b\b\b\b\b\b\b\b\b\b\b\b\b\b\b\b\b\b\b\b\b\b\b\b\b\b\b\b\b\b\b\b\b\b\b\b\b\b\b\b\b\b\b\b\b\b\b\b\b\b\b\b\b\b\b\b\b\b\b\b\b\b\b\b\b\b\b\b\b\b\b\b\b\b\b\b\b\b\b\b\b\b\b\b\b\b\b\b\b\b\b\b\b\b\b\b\b\b\b\b\b\b\b\b\b\b\b\b\b\b\b\b\b\b\b\b\b\b\b\b\b\b\b\b\b\b\b\b\b\b\b\b\b\b\b\b\b\b\b\b\b\b\b\b\b\b\b\b\b\b\b\b\b\b\b\b\b\b\b\b\b\b\b\b\b\b\b\b\b\b\b\b\b\b\b\b\b\b\b\b\b\b\b\b\b\b\b\b\b\b\b\b\b\b\b\b\b\b\b\b\b\b\b\b\b\b\b\b\b\b\b\b\b\b\b\b\b\b\b\b\b\b\b\b\b\b\b\b\b\b\b\b\b\b\b\b\b\b\b\b\b\b\b\b\b\b\b\b\b\b\b\b\b\b\b\b\b\b\b\b\b\b\b\b\b\b\b\b\b\b\b\b\b\b\b\b\b\b\b\b\b\b\b\b\b\b\b\b\b\b\b\b\b\b\b\b\b\b\b\b\b\b\b\b\b\b\b\b\b\b\b\b\b\b\b\b\b\b\b\b\b\b\b\b\b\b\b\b\b\b\b\b\b\b\b\b\b\b\b\b\b\b\b\b\b\b\b\b\b\b\b\b\b\b\b\b\b\b\b\b\b\b\b\b\b\b\b\b\b\b\b\b\b\b\b\b\b\b\b\b\b\b\b[INFO] loss and metrics: [29.620203467895323, 29.589112058583279, 0.031091435306853168]\n"
     ]
    },
    {
     "data": {
      "image/png": "[encoded data removed]",
      "text/plain": [
       "<matplotlib.figure.Figure at 0x7f23d4342d10>"
      ]
     },
     "metadata": {},
     "output_type": "display_data"
    },
    {
     "data": {
      "image/png": "[encoded data removed]",
      "text/plain": [
       "<matplotlib.figure.Figure at 0x7f239cc68650>"
      ]
     },
     "metadata": {},
     "output_type": "display_data"
    },
    {
     "data": {
      "image/png": "[encoded data removed]",
      "text/plain": [
       "<matplotlib.figure.Figure at 0x7f23a8043290>"
      ]
     },
     "metadata": {},
     "output_type": "display_data"
    }
   ],
   "source": [
    "#### Evaluation ####\n",
    "\n",
    "#loss_and_metrics = model.evaluate(x_test, y_test, sample_weight=w_test, batch_size=1000)\n",
    "loss_and_metrics = model.evaluate(x_test, y_test, batch_size=1000)\n",
    "print('[INFO] loss and metrics: {0}'.format(loss_and_metrics))\n",
    "\n",
    "# Loss\n",
    "plt.plot(history.history['loss'])\n",
    "plt.plot(history.history['val_loss'])\n",
    "plt.title('model loss')\n",
    "plt.ylabel('loss')\n",
    "plt.xlabel('epoch')\n",
    "plt.legend(['train', 'validation'], loc='upper left')\n",
    "plt.show()\n",
    "\n",
    "plt.plot(history.history['regr_loss'])\n",
    "plt.plot(history.history['val_regr_loss'])\n",
    "plt.title('regr loss')\n",
    "plt.ylabel('loss')\n",
    "plt.xlabel('epoch')\n",
    "plt.legend(['train', 'validation'], loc='upper left')\n",
    "plt.show()\n",
    "\n",
    "plt.plot(history.history['discr_loss'])\n",
    "plt.plot(history.history['val_discr_loss'])\n",
    "plt.title('discr loss')\n",
    "plt.ylabel('loss')\n",
    "plt.xlabel('epoch')\n",
    "plt.legend(['train', 'validation'], loc='upper left')\n",
    "plt.show()\n",
    "\n",
    "## Mean Squared Error\n",
    "#plt.plot(history.history['regr_mean_squared_error'])\n",
    "#plt.plot(history.history['val_regr_mean_squared_error'])\n",
    "#plt.title('regr mse')\n",
    "#plt.ylabel('mse')\n",
    "#plt.xlabel('epoch')\n",
    "#plt.legend(['train', 'validation'], loc='upper left')\n",
    "#plt.show()\n",
    "\n",
    "## Mean Absolute Error\n",
    "#plt.plot(history.history['regr_mean_absolute_error'])\n",
    "#plt.plot(history.history['val_regr_mean_absolute_error'])\n",
    "#plt.title('regr mae')\n",
    "#plt.ylabel('mae')\n",
    "#plt.xlabel('epoch')\n",
    "#plt.legend(['train', 'validation'], loc='upper left')\n",
    "#plt.show()\n",
    "\n",
    "## Accuracy\n",
    "#plt.plot(history.history['discr_acc'])\n",
    "#plt.plot(history.history['val_discr_acc'])\n",
    "#plt.title('discr accuracy')\n",
    "#plt.ylabel('accuracy')\n",
    "#plt.xlabel('epoch')\n",
    "#plt.legend(['train', 'validation'], loc='upper left')\n",
    "#plt.show()\n"
   ]
  },
  {
   "cell_type": "code",
   "execution_count": null,
   "metadata": {
    "collapsed": true
   },
   "outputs": [],
   "source": []
  },
  {
   "cell_type": "code",
   "execution_count": null,
   "metadata": {
    "collapsed": true
   },
   "outputs": [],
   "source": []
  },
  {
   "cell_type": "code",
   "execution_count": 10,
   "metadata": {
    "collapsed": false
   },
   "outputs": [
    {
     "name": "stdout",
     "output_type": "stream",
     "text": [
      "Welcome to JupyROOT 6.10/05\n",
      "[array([[-0.19296147],\n",
      "       [-0.46198195],\n",
      "       [ 0.40630677],\n",
      "       ..., \n",
      "       [ 0.44226354],\n",
      "       [-0.34892404],\n",
      "       [ 0.08659305]], dtype=float32), array([[ 100.],\n",
      "       [ 100.],\n",
      "       [ 100.],\n",
      "       ..., \n",
      "       [ 100.],\n",
      "       [ 100.],\n",
      "       [ 100.]], dtype=float32)]\n",
      "[array([[-0.20914426],\n",
      "       [-0.41801876],\n",
      "       [ 0.39741069],\n",
      "       ..., \n",
      "       [-0.21295458],\n",
      "       [ 0.2318521 ],\n",
      "       [-0.10753939]], dtype=float32), array([[  2.51951851e-02],\n",
      "       [  5.75931219e-04],\n",
      "       [  1.17832969e-03],\n",
      "       ..., \n",
      "       [  5.92348026e-03],\n",
      "       [  3.05427182e-02],\n",
      "       [  6.61755264e-01]], dtype=float32)]\n",
      "[array([[ 0.44005382],\n",
      "       [-0.43605572],\n",
      "       [ 0.19507872],\n",
      "       ..., \n",
      "       [ 0.05703368],\n",
      "       [-0.47645512],\n",
      "       [-0.23757224]], dtype=float32), array([[ 0.00066712],\n",
      "       [ 0.00050384],\n",
      "       [ 0.01448107],\n",
      "       ..., \n",
      "       [ 0.00038137],\n",
      "       [ 0.000396  ],\n",
      "       [ 0.00373781]], dtype=float32)]\n"
     ]
    }
   ],
   "source": [
    "#### Make plots ####\n",
    "\n",
    "from keras.models import load_model\n",
    "import ROOT\n",
    "\n",
    "# Load model\n",
    "model_file = 'model.h5'\n",
    "model_weights_file = 'model_weights.h5'\n",
    "\n",
    "loaded_model = load_model(model_file)\n",
    "loaded_model.load_weights(model_weights_file)\n",
    "\n",
    "# Set styles\n",
    "ROOT.gROOT.LoadMacro(\"tdrstyle.C\")\n",
    "ROOT.gROOT.ProcessLine(\"setTDRStyle();\")\n",
    "ROOT.gStyle.SetPalette(57)  # kBird\n",
    "ROOT.gStyle.SetMarkerStyle(1)\n",
    "ROOT.gStyle.SetEndErrorSize(0)\n",
    "ROOT.gStyle.SetPadGridX(True)\n",
    "ROOT.gStyle.SetPadGridY(True)\n",
    "\n",
    "nentries_test = x_test.shape[0]/10\n",
    "#nentries_test = 100000\n",
    "\n",
    "y_test_meas = predict(loaded_model, x_test[:nentries_test, :])\n",
    "\n",
    "y_adv_test = [np.zeros((x_adv_test.shape[0],1), dtype=np.float32), np.zeros((x_adv_test.shape[0],1), dtype=np.float32)]\n",
    "y_adv_test_meas = predict(loaded_model, x_adv_test)\n",
    "\n",
    "print y_test[:nentries_test]\n",
    "print y_test_meas\n",
    "print y_adv_test_meas"
   ]
  },
  {
   "cell_type": "code",
   "execution_count": 11,
   "metadata": {
    "collapsed": false
   },
   "outputs": [
    {
     "name": "stdout",
     "output_type": "stream",
     "text": [
      "145842.0 -0.000685211268233 0.0349393491564\n"
     ]
    },
    {
     "data": {
      "image/png": "[encoded data removed]",
      "text/plain": [
       "<IPython.core.display.Image object>"
      ]
     },
     "metadata": {},
     "output_type": "display_data"
    }
   ],
   "source": [
    "# For regression\n",
    "h1 = ROOT.TH1F(\"h1\", \"h1\", 300, -0.3, 0.3)\n",
    "h2a = ROOT.TH2F(\"h2a\", \"h2a\", 100, -0.5, 0.5, 300, -0.3, 0.3)\n",
    "h2b = ROOT.TH2F(\"h2b\", \"h2b\", 100, -0.5, 0.5, 300, -0.5, 0.5)\n",
    "h2c = ROOT.TH2F(\"h2c\", \"h2c\", 100, -0.5, 0.5, 400, -2, 2)\n",
    "h2d = ROOT.TH2F(\"h2d\", \"h2d\", 100, -0.5, 0.5, 400, -2, 2)\n",
    "\n",
    "for i in xrange(nentries_test):\n",
    "  y_true = y_test[0][i]\n",
    "  y_meas = y_test_meas[0][i]\n",
    "  h1.Fill(y_meas - y_true)\n",
    "  h2a.Fill(y_true, y_meas - y_true) \n",
    "  h2b.Fill(y_true, y_meas)\n",
    "  h2c.Fill(y_true, (y_meas - y_true)/abs(y_true))\n",
    "  h2d.Fill(abs(y_true), (abs(y_meas) - abs(y_true))/abs(y_true)) \n",
    "\n",
    "\n",
    "c = ROOT.TCanvas()\n",
    "h1.SetMarkerStyle(20)\n",
    "h1.Draw()\n",
    "c.Draw()\n",
    "print h1.GetEntries(), h1.GetMean(), h1.GetRMS()"
   ]
  },
  {
   "cell_type": "code",
   "execution_count": 12,
   "metadata": {
    "collapsed": false
   },
   "outputs": [
    {
     "data": {
      "image/png": "[encoded data removed]",
      "text/plain": [
       "<IPython.core.display.Image object>"
      ]
     },
     "metadata": {},
     "output_type": "display_data"
    }
   ],
   "source": [
    "c = ROOT.TCanvas()\n",
    "h2a.Draw(\"COLZ\")\n",
    "c.Draw()"
   ]
  },
  {
   "cell_type": "code",
   "execution_count": 13,
   "metadata": {
    "collapsed": false
   },
   "outputs": [
    {
     "data": {
      "image/png": "[encoded data removed]",
      "text/plain": [
       "<IPython.core.display.Image object>"
      ]
     },
     "metadata": {},
     "output_type": "display_data"
    }
   ],
   "source": [
    "c = ROOT.TCanvas()\n",
    "h2b.Draw(\"COLZ\")\n",
    "c.Draw()"
   ]
  },
  {
   "cell_type": "code",
   "execution_count": 14,
   "metadata": {
    "collapsed": false
   },
   "outputs": [
    {
     "data": {
      "image/png": "[encoded data removed]",
      "text/plain": [
       "<IPython.core.display.Image object>"
      ]
     },
     "metadata": {},
     "output_type": "display_data"
    }
   ],
   "source": [
    "c = ROOT.TCanvas()\n",
    "h2c.Draw(\"COLZ\")\n",
    "c.Draw()"
   ]
  },
  {
   "cell_type": "code",
   "execution_count": 15,
   "metadata": {
    "collapsed": false
   },
   "outputs": [
    {
     "data": {
      "image/png": "[encoded data removed]",
      "text/plain": [
       "<IPython.core.display.Image object>"
      ]
     },
     "metadata": {},
     "output_type": "display_data"
    }
   ],
   "source": [
    "c = ROOT.TCanvas()\n",
    "h2d.SetStats(0)\n",
    "h2d.SetTitle(\"\")\n",
    "h2d.GetXaxis().SetTitle(\"gen 1/p_{T} [1/GeV]\")\n",
    "h2d.GetYaxis().SetTitle(\"#Delta(p_{T})/p_{T}\")\n",
    "h2d.GetXaxis().SetRangeUser(0, 0.5)\n",
    "h2d.GetYaxis().SetRangeUser(-1, 2)\n",
    "h2d.Draw(\"COLZ\")\n",
    "c.Draw()"
   ]
  },
  {
   "cell_type": "code",
   "execution_count": 63,
   "metadata": {
    "collapsed": false
   },
   "outputs": [
    {
     "data": {
      "image/png": "[encoded data removed]",
      "text/plain": [
       "<IPython.core.display.Image object>"
      ]
     },
     "metadata": {},
     "output_type": "display_data"
    }
   ],
   "source": [
    "c = ROOT.TCanvas()\n",
    "\n",
    "hname = \"h2d\"\n",
    "h = h2d.Clone(\"h2d_clone\")\n",
    "#h.Draw(\"COLZ\")\n",
    "#gPad.Print(hname+\".png\")\n",
    "#h.RebinX(2)\n",
    "\n",
    "#h_pfx = h.ProfileX(hname+\"_pfx\", 1, -1, \"s\")\n",
    "#h_pfx.SetMaximum(1.2)\n",
    "#h_pfx.SetMinimum(-0.2)\n",
    "#h_pfx.Draw()\n",
    "#h_pfx.Fit(\"pol1\", \"\", \"\", 0.025, 0.2499)\n",
    "#gPad.Print(h_pfx.GetName()+\".png\")\n",
    "#\n",
    "\n",
    "if True:\n",
    "  # Apply gaussian fits\n",
    "  gr1 = ROOT.TGraphAsymmErrors(h.GetNbinsX())\n",
    "  gr2 = ROOT.TGraphAsymmErrors(h.GetNbinsX())\n",
    "  gr1_aspt = ROOT.TGraphAsymmErrors(h.GetNbinsX())\n",
    "  gr2_aspt = ROOT.TGraphAsymmErrors(h.GetNbinsX())\n",
    "  for i in xrange(h.GetNbinsX()):\n",
    "    h_py = h.ProjectionY(\"_py\", i+1, i+1)\n",
    "    if h_py.Integral() < 15:  continue\n",
    "    #r = h_py.Fit(\"gaus\", \"SNQ\")\n",
    "    r = h_py.Fit(\"gaus\", \"SNQ\", \"\", h_py.GetMean() - 0.04*8, h_py.GetMean() + 0.04*8)\n",
    "    mean, sigma, meanErr, sigmaErr = r.Parameter(1), r.Parameter(2), r.ParError(1), r.ParError(2)\n",
    "    gr1.SetPoint(i, h.GetXaxis().GetBinCenter(i+1), mean)\n",
    "    gr1.SetPointError(i, 0, 0, sigma, sigma)\n",
    "    gr2.SetPoint(i, h.GetXaxis().GetBinCenter(i+1), sigma)\n",
    "    gr2.SetPointError(i, 0, 0, sigmaErr, sigmaErr)\n",
    "    gr1_aspt.SetPoint(i, 1.0/h.GetXaxis().GetBinCenter(i+1), mean)\n",
    "    gr1_aspt.SetPointError(i, 0, 0, sigma, sigma)\n",
    "    gr2_aspt.SetPoint(i, 1.0/h.GetXaxis().GetBinCenter(i+1), sigma)\n",
    "    gr2_aspt.SetPointError(i, 0, 0, sigmaErr, sigmaErr)\n",
    "  #\n",
    "  hname1 = hname\n",
    "  h_pfx = h.ProfileX(hname1+\"_pfx\", 1, -1, \"s\")\n",
    "  h_pfx.Reset()\n",
    "  h_pfx.SetMaximum(1.2)\n",
    "  h_pfx.SetMinimum(-0.2)\n",
    "  h_pfx.Draw()\n",
    "  gr1.SetMarkerStyle(20)\n",
    "  gr1.Draw(\"p\")\n",
    "  #gr1.Fit(\"pol1\", \"\", \"\", 0.025, 0.2499)\n",
    "  #gPad.Print(h_pfx.GetName()+\".png\")\n",
    "  #\n",
    "  hname2 = hname\n",
    "  h_pfx = h.ProfileX(hname2+\"_pfx\", 1, -1, \"s\")\n",
    "  h_pfx.Reset()\n",
    "  h_pfx.SetMaximum(1)\n",
    "  h_pfx.SetMinimum(0)\n",
    "  h_pfx.Draw()\n",
    "  gr2.SetMarkerStyle(20)\n",
    "  gr2.Draw(\"p\")\n",
    "  #gr2.Fit(\"pol1\", \"\", \"\", 0.025, 0.2499)\n",
    "  #gPad.Print(h_pfx.GetName()+\".png\")\n",
    "  #\n",
    "  hname1 = hname\n",
    "  h_pfx = h.ProfileX(hname1+\"_pfx\", 1, -1, \"s\")\n",
    "  h_pfx.Reset()\n",
    "  h_pfx.SetBins(50, 0, 50)\n",
    "  h_pfx.GetXaxis().SetTitle(\"gen p_{T} [GeV]\")\n",
    "  h_pfx.GetYaxis().SetTitle(\"#Delta(p_{T})/p_{T} bias\")\n",
    "  h_pfx.SetMaximum(1.2)\n",
    "  h_pfx.SetMinimum(-0.2)\n",
    "  h_pfx.Draw()\n",
    "  gr1_aspt.SetMarkerStyle(20)\n",
    "  gr1_aspt.Draw(\"p\")\n",
    "  #gr1_aspt.Fit(\"pol1\", \"\", \"\", 0.025, 0.2499)\n",
    "  #ROOT.gPad.SetLogx(1)\n",
    "  #ROOT.gPad.Print(h_pfx.GetName()+\".png\")\n",
    "  #ROOT.gPad.SetLogx(0)\n",
    "  #\n",
    "  hname2 = hname\n",
    "  h_pfx = h.ProfileX(hname2+\"_pfx\", 1, -1, \"s\")\n",
    "  h_pfx.Reset()\n",
    "  h_pfx.SetStats(0)\n",
    "  h_pfx.SetBins(50, 0, 50)\n",
    "  h_pfx.GetXaxis().SetTitle(\"gen p_{T} [GeV]\")\n",
    "  h_pfx.GetYaxis().SetTitle(\"#Delta(p_{T})/p_{T} resolution\")\n",
    "  h_pfx.SetMaximum(1.2)\n",
    "  h_pfx.SetMinimum(-0.2)\n",
    "  #h_pfx.SetMaximum(0.1)\n",
    "  #h_pfx.SetMinimum(-0.01)\n",
    "  h_pfx.Draw()\n",
    "  gr2_aspt.SetMarkerStyle(20)\n",
    "  gr2_aspt.Draw(\"p\")\n",
    "  #gr2_aspt.Fit(\"pol1\", \"\", \"\", 0.025, 0.2499)\n",
    "  ROOT.gPad.SetLogx(1)\n",
    "  #ROOT.gPad.Print(h_pfx.GetName()+\".png\")\n",
    "  #ROOT.gPad.SetLogx(0)\n",
    "    \n",
    "c.Draw()"
   ]
  },
  {
   "cell_type": "code",
   "execution_count": 91,
   "metadata": {
    "collapsed": false
   },
   "outputs": [
    {
     "name": "stdout",
     "output_type": "stream",
     "text": [
      "\n",
      "****************************************\n",
      "Minimizer is Linear\n",
      "Chi2                      =    0.0013267\n",
      "NDf                       =            4\n",
      "p0                        =    0.0884251   +/-   0.0169544   \n",
      "p1                        =   0.00503079   +/-   0.000435349 \n"
     ]
    },
    {
     "data": {
      "image/png": "[encoded data removed]",
      "text/plain": [
       "<IPython.core.display.Image object>"
      ]
     },
     "metadata": {},
     "output_type": "display_data"
    }
   ],
   "source": [
    "c = ROOT.TCanvas()\n",
    "if True:\n",
    "  pt_scales = [3,5,10,20,30,40,50,60]\n",
    "  gr3 = ROOT.TGraphAsymmErrors(len(pt_scales))\n",
    "  for i, pt in enumerate(pt_scales):\n",
    "    ptres = gr2_aspt.Eval(pt)\n",
    "    gr3.SetPoint(i, pt, ptres)\n",
    "  gr3.SetMarkerStyle(20)\n",
    "  gr3.Draw(\"ap\")\n",
    "  gr3.Fit(\"pol1\", \"\", \"\", 10., 60.)\n",
    "c.Draw()"
   ]
  },
  {
   "cell_type": "code",
   "execution_count": 82,
   "metadata": {
    "collapsed": false
   },
   "outputs": [
    {
     "name": "stderr",
     "output_type": "stream",
     "text": [
      "WARNING:ROOT.TFile.Append] Replacing existing TH1: hh1a (Potential memory leak).\n",
      "WARNING:ROOT.TFile.Append] Replacing existing TH1: hh1b (Potential memory leak).\n"
     ]
    },
    {
     "data": {
      "image/png": "[encoded data removed]",
      "text/plain": [
       "<IPython.core.display.Image object>"
      ]
     },
     "metadata": {},
     "output_type": "display_data"
    }
   ],
   "source": [
    "# For classification\n",
    "hh1a = ROOT.TH1F(\"hh1a\", \"hh1a\", 120, -0.1, 1.1)\n",
    "hh1b = ROOT.TH1F(\"hh1b\", \"hh1b\", 120, -0.1, 1.1)\n",
    "\n",
    "for i in xrange(nentries_test):\n",
    "  if y_test[1][i] != 100.:  # mask_value is set to 100\n",
    "    hh1a.Fill(y_test_meas[1][i])\n",
    "\n",
    "for i in xrange(y_adv_test[1].shape[0]):\n",
    "  hh1b.Fill(y_adv_test_meas[1][i])\n",
    "\n",
    "\n",
    "c = ROOT.TCanvas()\n",
    "hh1a.SetLineColor(632)  # kRed\n",
    "hh1a.Scale(1.0/hh1a.Integral())\n",
    "hh1a.Draw(\"hist\")\n",
    "hh1b.SetLineColor(1)  # kBlack\n",
    "hh1b.Scale(1.0/hh1b.Integral())\n",
    "hh1b.Draw(\"same hist\")\n",
    "c.Draw()\n",
    "c.SetLogy()"
   ]
  },
  {
   "cell_type": "code",
   "execution_count": 110,
   "metadata": {
    "collapsed": false
   },
   "outputs": [
    {
     "name": "stdout",
     "output_type": "stream",
     "text": [
      "[ 0.90052381  0.92713888  0.95002595  0.9716389   0.98032183  0.98593743\n",
      "  0.99037327  0.99504507]\n",
      "[ 0.03801396  0.04305663  0.04654771  0.05352987  0.05702095  0.06051202\n",
      "  0.06555469  0.07486424]\n",
      "[ 0.99470842  0.99361151  0.99223351  0.98985261  0.98793131  0.98599917\n",
      "  0.9834801   0.97380435]\n"
     ]
    },
    {
     "data": {
      "image/png": "[encoded data removed]",
      "text/plain": [
       "<matplotlib.figure.Figure at 0x7f22e0a0fb10>"
      ]
     },
     "metadata": {},
     "output_type": "display_data"
    }
   ],
   "source": [
    "from sklearn.metrics import roc_curve\n",
    "\n",
    "y_true = np.concatenate((y_test[1][:nentries_test], y_adv_test[1]))\n",
    "y_pred = np.concatenate((y_test_meas[1], y_adv_test_meas[1]))\n",
    "y_pred_0 = np.concatenate((y_test_meas[0], y_adv_test_meas[0]))\n",
    "\n",
    "mask = (y_true != 100.)  # mask_value is set to 100\n",
    "y_true = y_true[mask]\n",
    "y_pred = y_pred[mask]\n",
    "y_pred_0 = y_pred_0[mask]\n",
    "\n",
    "mask = np.abs(1.0/y_pred_0) > discr_pt_cut\n",
    "y_true = y_true[mask]\n",
    "y_pred = y_pred[mask]\n",
    "y_pred_0 = y_pred_0[mask]\n",
    "\n",
    "\n",
    "fpr, tpr, thresh = roc_curve(y_true, y_pred)\n",
    "\n",
    "fig, ax = plt.subplots(tight_layout=True)\n",
    "ax.plot(fpr, tpr)\n",
    "ax.set_xlabel('False positive rate')\n",
    "ax.set_ylabel('True positive rate')\n",
    "ax.set_title('ROC curve')\n",
    "ax.set_xlim([0.0,1.0])\n",
    "ax.set_ylim([0.9,1.0])\n",
    "\n",
    "idx = np.searchsorted(tpr, [0.9, 0.925, 0.95, 0.97, 0.98, 0.985, 0.99, 0.995])\n",
    "print tpr[idx]\n",
    "print fpr[idx]\n",
    "print thresh[idx]"
   ]
  },
  {
   "cell_type": "code",
   "execution_count": null,
   "metadata": {
    "collapsed": true
   },
   "outputs": [],
   "source": []
  },
  {
   "cell_type": "code",
   "execution_count": null,
   "metadata": {
    "collapsed": true
   },
   "outputs": [],
   "source": []
  },
  {
   "cell_type": "code",
   "execution_count": 111,
   "metadata": {
    "collapsed": true
   },
   "outputs": [],
   "source": [
    "#### Build trigger ####\n",
    "\n",
    "class MyTriggerV1(object):\n",
    "  \n",
    "  def __init__(self):\n",
    "    pass\n",
    "\n",
    "  def get_trigger_pt(self, y_meas):\n",
    "    pt = np.abs(1.0/y_meas)\n",
    "    pt_clipped = np.clip(pt, 3., 60.)\n",
    "    pt = pt * (1.0 + (0.08813 + 0.009504 * pt_clipped) * 1.28155)  # erf(1.28155/sqrt(2)) = 0.8 [90% upper limit from -1 to -1]\n",
    "    return pt\n",
    "  \n",
    "  def pass_trigger(self, x, ndof, y_meas, y_discr):\n",
    "    trk_mode = 0\n",
    "    x_mode_vars = np.equal(x[nlayers*5+3:nlayers*5+8], 1)\n",
    "    for i, x_mode_var in enumerate(x_mode_vars):\n",
    "      if i == 0:\n",
    "        station = 1\n",
    "      else:\n",
    "        station = i\n",
    "      if x_mode_var:\n",
    "        trk_mode |= (1 << (4 - station))\n",
    "\n",
    "    pt_bins = (-0.50, -0.333333, -0.25, -0.20, -0.15, -0.10, -0.05, 0.05, 0.10, 0.15, 0.20, 0.25, 0.333333, 0.50)\n",
    "    def find_pt_bin(pt):\n",
    "      ipt = np.digitize((pt,), pt_bins[1:])[0]  # skip lowest edge\n",
    "      ipt = np.clip(ipt, 0, len(pt_bins)-2)\n",
    "      return ipt\n",
    "    def find_road_quality(ipt):\n",
    "      best_ipt = find_pt_bin(0.)\n",
    "      return best_ipt - abs(ipt - best_ipt)\n",
    "\n",
    "    ipt1 = (x[nlayers*5+0:nlayers*5+1] * 6 + 6).astype(np.int32)\n",
    "    ipt2 = find_pt_bin(y_meas)\n",
    "    quality1 = find_road_quality(ipt1)\n",
    "    quality2 = find_road_quality(ipt2)\n",
    "    \n",
    "    if trk_mode in (11,13,14,15) and quality2 <= (quality1+1):\n",
    "      if np.abs(1.0/y_meas) > discr_pt_cut:\n",
    "        if ndof <= 3:\n",
    "          #trigger = (y_discr > 0.5)\n",
    "          trigger = (y_discr > 0.8)\n",
    "          #trigger = (y_discr > 0.95)\n",
    "        else:\n",
    "          trigger = (y_discr > 0.5393)\n",
    "          #trigger = (y_discr > 0.95)\n",
    "      else:\n",
    "        trigger = True\n",
    "    else:\n",
    "      trigger = False\n",
    "    return trigger\n",
    "\n",
    "\n",
    "class MyTriggerV2(object):\n",
    "  \n",
    "  def __init__(self):\n",
    "    pass\n",
    "\n",
    "  def get_trigger_pt(self, y_meas):\n",
    "    pt = np.abs(1.0/y_meas)\n",
    "    pt_clipped = np.clip(pt, 3., 60.)\n",
    "    #pt = pt * (1.0 + (0.081 + 0.009 * pt_clipped) * 1.28155)  # erf(1.28155/sqrt(2)) = 0.8 [90% upper limit from -1 to -1]\n",
    "    pt = pt * (1.0 + (0.080 + 0.0051 * pt_clipped) * 1.28155)  # erf(1.28155/sqrt(2)) = 0.8 [90% upper limit from -1 to -1]\n",
    "    return pt\n",
    "  \n",
    "  def pass_trigger(self, x, ndof, y_meas, y_discr):\n",
    "    trk_mode = 0\n",
    "    x_mode_vars = np.equal(x[nlayers*5+3:nlayers*5+8], 1)\n",
    "    for i, x_mode_var in enumerate(x_mode_vars):\n",
    "      if i == 0:\n",
    "        station = 1\n",
    "      else:\n",
    "        station = i\n",
    "      if x_mode_var:\n",
    "        trk_mode |= (1 << (4 - station))\n",
    "    \n",
    "    if trk_mode in (11,13,14,15):\n",
    "      if np.abs(1.0/y_meas) > discr_pt_cut:\n",
    "        if ndof <= 3:\n",
    "          #trigger = (y_discr > 0.5)\n",
    "          trigger = (y_discr > 0.8)\n",
    "          #trigger = (y_discr > 0.95)\n",
    "        else:\n",
    "          trigger = (y_discr > 0.915)\n",
    "          #trigger = (y_discr > 0.5393)\n",
    "          #trigger = (y_discr > 0.95)\n",
    "      else:\n",
    "        trigger = True\n",
    "    else:\n",
    "      trigger = False\n",
    "    return trigger\n",
    "\n",
    "# ______________________________________________________________________________\n",
    "mytrigger = MyTriggerV2()\n",
    "\n",
    "from rootpy.plotting import Hist, Efficiency\n",
    "from math import sqrt\n",
    "histograms = {}\n"
   ]
  },
  {
   "cell_type": "code",
   "execution_count": 112,
   "metadata": {
    "collapsed": false
   },
   "outputs": [],
   "source": [
    "#### Make trigger efficiency ####\n",
    "\n",
    "eff_pt_bins = (0., 0.5, 1., 2., 3., 4., 5., 6., 8., 10., 12., 14., 16., 18., 20., 22., 24., 26., 28., 30., 35., 40., 45., 50., 60., 80., 120.)\n",
    "\n",
    "hname = \"x_eff_vs_genpt_l1pt20_denom\"\n",
    "h1c_denom = Hist(eff_pt_bins, name=hname, title=\"; gen p_{T} [GeV]\", type='F')\n",
    "hname = \"x_eff_vs_genpt_l1pt20_numer\"\n",
    "h1c_numer = Hist(eff_pt_bins, name=hname, title=\"; gen p_{T} [GeV]\", type='F')\n",
    "\n",
    "# Loop over events\n",
    "for x, ndof, y_meas, y_discr, y_true in zip(x_test, x_test, y_test_meas[0], y_test_meas[1], y_test[0]):\n",
    "\n",
    "  ndof = 4  #FIXME\n",
    "  \n",
    "  pt = mytrigger.get_trigger_pt(y_meas)\n",
    "  \n",
    "  trigger = mytrigger.pass_trigger(x, ndof, y_meas, y_discr)\n",
    "  trigger = trigger and (pt > 20.)\n",
    "  \n",
    "  pt_true = np.abs(1.0/y_true)\n",
    "  \n",
    "  h1c_denom.fill(pt_true)\n",
    "  if trigger:\n",
    "    h1c_numer.fill(pt_true)\n",
    "\n",
    "h1c_eff = Efficiency(h1c_numer, h1c_denom)\n",
    "h1c_eff.SetStatisticOption(0)  # kFCP\n",
    "h1c_eff.SetConfidenceLevel(0.682689492137)  # one sigma\n",
    "h1c_eff.SetMarkerStyle(1)\n",
    "h1c_eff.SetMarkerColor(800)  # kOrange\n",
    "h1c_eff.SetLineColor(800)  # kOrange\n",
    "h1c_eff.SetLineWidth(2)\n",
    "h1c_eff.SetDirectory(0)\n",
    "histograms['h1c_numer'] = h1c_numer\n",
    "histograms['h1c_denom'] = h1c_denom\n",
    "histograms['h1c_eff'] = h1c_eff\n",
    "\n",
    "# Add corrections\n",
    "if False:\n",
    "  nbinsx = h1c_eff.GetTotalHistogram().GetNbinsX()\n",
    "  corrections = [0.0, 0.0, 0.0, 2.5596844660416443e-05, 9.071900979369844e-05, -0.00025407866698875234, 3.9318943372533294e-05, 0.00046750609322471475, -0.0012868531325132167, -0.0017629378199139414, -0.003412967281340079, -1.859263302672609e-05, -0.0027697063960877566, -0.011912089953303617, -0.012565904385017701, -0.01502952024543791, -0.007091832957321742, -0.011625792518549893, -0.017156862745097978, -0.007722007722007707, -0.008966446308134701, -0.00857140366324638, -0.021269462895507463, -0.009598486441034226, -0.01485925792486198, -0.010991760558270336]\n",
    "  assert(len(corrections) == nbinsx)\n",
    "  for b in xrange(1,nbinsx+1):\n",
    "    old_eff = h1c_eff.GetEfficiency(b)\n",
    "    new_eff = old_eff + corrections[b-1]\n",
    "    h1c_eff.GetPassedHistogram().SetBinContent(b, h1c_eff.GetTotalHistogram().GetBinContent(b) * new_eff)"
   ]
  },
  {
   "cell_type": "code",
   "execution_count": 113,
   "metadata": {
    "collapsed": false
   },
   "outputs": [
    {
     "data": {
      "image/png": "[encoded data removed]",
      "text/plain": [
       "<IPython.core.display.Image object>"
      ]
     },
     "metadata": {},
     "output_type": "display_data"
    }
   ],
   "source": [
    "infile1 = ROOT.TFile.Open(\"emtf_eff_vs_genpt_l1pt20.root\")\n",
    "frame = infile1.Get(\"emtf_eff_vs_genpt_l1pt20_denom_clone\")\n",
    "h1a_eff = infile1.Get(\"emtf_eff_vs_genpt_l1pt20_denom_clone\")\n",
    "h1b_eff = infile1.Get(\"emtf2023_eff_vs_genpt_l1pt20_denom_clone\")\n",
    "\n",
    "c = ROOT.TCanvas()\n",
    "frame.Draw()\n",
    "h1a_eff.Draw(\"same\")\n",
    "h1b_eff.Draw(\"same\")\n",
    "h1c_eff.Draw(\"same\")\n",
    "c.Draw()\n",
    "\n",
    "# Find corrections\n",
    "if False:\n",
    "  nbinsx = h1c_eff.GetTotalHistogram().GetNbinsX()\n",
    "  corrections = []\n",
    "  for b in xrange(1,nbinsx+1):\n",
    "    eff1 = h1b_eff.GetEfficiency(b)\n",
    "    eff2 = h1c_eff.GetEfficiency(b)\n",
    "    corr = eff1 - eff2\n",
    "    corrections.append(corr)\n",
    "  print corrections"
   ]
  },
  {
   "cell_type": "code",
   "execution_count": 114,
   "metadata": {
    "collapsed": false
   },
   "outputs": [
    {
     "name": "stdout",
     "output_type": "stream",
     "text": [
      "200000 100000\n"
     ]
    }
   ],
   "source": [
    "#### Make trigger rates ####\n",
    "\n",
    "hname = \"highest_x_absEtaMin0_absEtaMax2.5_qmin12_pt\"\n",
    "rates_hist = Hist(100, 0., 100., name=hname, title=\"; p_{T} [GeV]; entries\", type='F')\n",
    "\n",
    "rates_nevents = 2000\n",
    "rates_njobs = 100\n",
    "rates_array = np.zeros((rates_njobs,rates_nevents), dtype=np.float32)\n",
    "\n",
    "for x, ndof, y_meas, y_discr, aux in zip(x_adv_test, x_adv_test, y_adv_test_meas[0], y_adv_test_meas[1], aux_adv_test):\n",
    "  \n",
    "  ndof = 4  #FIXME\n",
    "  \n",
    "  (jobid, ievt, highest_part_pt, highest_track_pt) = aux\n",
    "  jobid = int(jobid)\n",
    "  ievt = int(ievt)\n",
    "  \n",
    "  pt = mytrigger.get_trigger_pt(y_meas)\n",
    "  \n",
    "  trigger = mytrigger.pass_trigger(x, ndof, y_meas, y_discr)\n",
    "\n",
    "  if trigger:\n",
    "    rates_array[jobid,ievt] = max(rates_array[jobid,ievt], pt)\n",
    "\n",
    "rates_nevents_1 = 0\n",
    "\n",
    "for jobid in xrange(rates_array.shape[0]):\n",
    "  if rates_array[jobid].sum() > 0.:\n",
    "    for ievt in xrange(rates_array.shape[1]):\n",
    "      x = rates_array[jobid,ievt]\n",
    "      if x > 0.:\n",
    "        highest_pt = min(100.-1e-3, x)\n",
    "        rates_hist.fill(highest_pt)\n",
    "    rates_nevents_1 += rates_nevents\n",
    "\n",
    "print rates_nevents * rates_njobs, rates_nevents_1\n",
    "\n",
    "\n",
    "def make_ptcut(h):\n",
    "  use_overflow = True\n",
    "  binsum = 0\n",
    "  binerr2 = 0\n",
    "  for ib in xrange(h.GetNbinsX()+2-1, 0-1, -1):\n",
    "    if (not use_overflow) and (ib == 0 or ib == h.GetNbinsX()+1):\n",
    "      continue\n",
    "    binsum += h.GetBinContent(ib)\n",
    "    binerr2 += h.GetBinError(ib)**2\n",
    "    h.SetBinContent(ib, binsum)\n",
    "    h.SetBinError(ib, sqrt(binerr2))\n",
    "  return\n",
    "\n",
    "def make_rate(h, nevents):\n",
    "  orbitFreq = 11245.6\n",
    "  nCollBunches = 1866\n",
    "  nZeroBiasEvents = nevents\n",
    "  convFactorToHz = orbitFreq * nCollBunches / nZeroBiasEvents\n",
    "  h.Scale(convFactorToHz / 1000.)\n",
    "  return\n",
    "\n",
    "make_ptcut(rates_hist)\n",
    "make_rate(rates_hist, rates_nevents_1)\n",
    "\n",
    "rates_hist.SetLineColor(800)  # kOrange\n",
    "rates_hist.SetLineWidth(2)\n",
    "rates_hist.SetDirectory(0)\n",
    "histograms['rates_hist'] = rates_hist\n"
   ]
  },
  {
   "cell_type": "code",
   "execution_count": 115,
   "metadata": {
    "collapsed": false
   },
   "outputs": [
    {
     "name": "stdout",
     "output_type": "stream",
     "text": [
      "33.5748634338\n"
     ]
    },
    {
     "data": {
      "image/png": "[encoded data removed]",
      "text/plain": [
       "<IPython.core.display.Image object>"
      ]
     },
     "metadata": {},
     "output_type": "display_data"
    }
   ],
   "source": [
    "c = ROOT.TCanvas()\n",
    "rates_hist.Draw(\"hist\")\n",
    "c.SetLogy()\n",
    "c.Draw()\n",
    "print rates_hist.GetBinContent(rates_hist.FindBin(20.))"
   ]
  },
  {
   "cell_type": "code",
   "execution_count": 116,
   "metadata": {
    "collapsed": false
   },
   "outputs": [
    {
     "name": "stderr",
     "output_type": "stream",
     "text": [
      "WARNING:ROOT.TCanvas.Constructor] Deleting canvas with same name: cc1\n"
     ]
    },
    {
     "name": "stdout",
     "output_type": "stream",
     "text": [
      "30.1649169922 22.0335044861 33.5748634338\n"
     ]
    },
    {
     "data": {
      "image/png": "[encoded data removed]",
      "text/plain": [
       "<IPython.core.display.Image object>"
      ]
     },
     "metadata": {},
     "output_type": "display_data"
    }
   ],
   "source": [
    "#### Rates ####\n",
    "\n",
    "infile2 = ROOT.TFile.Open(\"emtf2023_rate_reduction.root\")\n",
    "#cc1 = infile2.Get(\"cc1\")\n",
    "denom = infile2.Get(\"denom\")\n",
    "numer = infile2.Get(\"numer\")\n",
    "ratio = infile2.Get(\"ratio\")\n",
    "\n",
    "rates_hist_ratio = rates_hist.Clone(\"ratio2\")\n",
    "rates_hist_ratio.Divide(rates_hist_ratio, denom, 1, 1, \"\")\n",
    "\n",
    "cc1 = ROOT.TCanvas(\"cc1\", \"cc1\", 600, 700)\n",
    "cc1.Divide(1,2)\n",
    "cc1_1 = cc1.GetPad(1)\n",
    "cc1_1.SetPad(0.01,0.25,0.99,0.99)\n",
    "cc1_1.SetBottomMargin(0.01)\n",
    "cc1_1.SetGrid()\n",
    "cc1_1.SetLogy()\n",
    "cc1_2 = cc1.GetPad(2)\n",
    "cc1_2.SetPad(0.01,0.01,0.99,0.25)\n",
    "cc1_2.SetTopMargin(0.01)\n",
    "cc1_2.SetBottomMargin(0.43)\n",
    "cc1_2.SetGrid()\n",
    "\n",
    "cc1_1.cd()\n",
    "denom.Draw(\"hist\")\n",
    "numer.Draw(\"hist same\")\n",
    "rates_hist.Draw(\"hist same\")\n",
    "cc1_2.cd()\n",
    "ratio.Draw(\"hist same\")\n",
    "rates_hist_ratio.Draw(\"hist same\")\n",
    "cc1.Draw()\n",
    "\n",
    "print denom.GetBinContent(denom.FindBin(20.)), numer.GetBinContent(numer.FindBin(20.)), rates_hist.GetBinContent(rates_hist.FindBin(20.))"
   ]
  },
  {
   "cell_type": "code",
   "execution_count": null,
   "metadata": {
    "collapsed": true
   },
   "outputs": [],
   "source": []
  },
  {
   "cell_type": "code",
   "execution_count": null,
   "metadata": {
    "collapsed": true
   },
   "outputs": [],
   "source": []
  },
  {
   "cell_type": "code",
   "execution_count": null,
   "metadata": {
    "collapsed": true
   },
   "outputs": [],
   "source": []
  },
  {
   "cell_type": "raw",
   "metadata": {},
   "source": [
    "# from https://github.com/keras-team/keras/issues/4843\n",
    "\n",
    "from keras.optimizers import Adam\n",
    "from keras import backend as K\n",
    "from keras.datasets import mnist\n",
    "from keras.utils.np_utils import to_categorical\n",
    "from keras.metrics import categorical_accuracy\n",
    "from keras.initializers import glorot_uniform, zero\n",
    "\n",
    "\n",
    "input_dim = 28*28\n",
    "output_dim = 10\n",
    "x = K.placeholder(name=\"x\", shape=(None, input_dim))\n",
    "ytrue = K.placeholder(name=\"y\", shape=(None, output_dim))\n",
    "\n",
    "hidden_dim = 128\n",
    "W1 = K.variable(glorot_uniform()([input_dim, hidden_dim]))\n",
    "b1 = K.variable(zero()((hidden_dim,)))\n",
    "W2 = K.variable(glorot_uniform()([hidden_dim, output_dim]))\n",
    "b2 = K.variable(zero()((output_dim,)))\n",
    "params = [W1, b1, W2, b2]\n",
    "\n",
    "\n",
    "hidden = K.sigmoid(K.dot(x, W1)+b1)\n",
    "ypred = K.softmax(K.dot(hidden, W2)+b2)\n",
    "\n",
    "\n",
    "loss = K.mean(K.categorical_crossentropy(ytrue, ypred),axis=None)\n",
    "\n",
    "accuracy = categorical_accuracy(ytrue, ypred)\n",
    "\n",
    "opt = Adam()\n",
    "updates = opt.get_updates(params, [], loss, )\n",
    "train = K.function([x, ytrue],[loss, accuracy],updates=updates)\n",
    "\n",
    "test = K.function([x, ytrue], [loss, accuracy])\n",
    "\n",
    "((xtrain, ytrain),(xtest, ytest)) = mnist.load_data()\n",
    "(xtrain, xtest) = [x.reshape((-1, input_dim))/255.0 for x in (xtrain, xtest)]\n",
    "(ytrain, ytest) = [to_categorical(y, output_dim) for y in (ytrain, ytest)]\n",
    "for epoch in range(1000):\n",
    "\tloss, accuracy = train([xtrain, ytrain])\n",
    "\ttest_loss, test_accuracy = test([xtest, ytest])\n",
    "\tprint(\"Epoch: {}, Train Loss: {}, Train Accuracy: {}, Test Loss: {}, Test Accuracy: {}\".format(\n",
    "\t\tepoch, loss, accuracy, test_loss, test_accuracy))"
   ]
  },
  {
   "cell_type": "code",
   "execution_count": 25,
   "metadata": {
    "collapsed": false,
    "scrolled": true
   },
   "outputs": [],
   "source": [
    "if False:\n",
    "  print x_train.shape, y_train[0].shape, x_mask_train.shape\n",
    "\n",
    "  fig, axs = plt.subplots(72/4, 4, figsize=(4*4,4*72/4), tight_layout=True)\n",
    "\n",
    "  for i in xrange(x_train.shape[1]):\n",
    "    lay = (i % nlayers)\n",
    "    mask = x_mask_train[...,lay].copy()\n",
    "    if i >= (nlayers*5):\n",
    "      mask *= False\n",
    "    \n",
    "    valid = ~mask\n",
    "    x_i = x_train[valid,i]\n",
    "    y_i = y_train[0][valid,0]\n",
    "\n",
    "    #fig, ax = plt.subplots(tight_layout=True)\n",
    "    xmin, xmax = -0.6, 0.6\n",
    "    ymin, ymax = -0.6, 0.6\n",
    "    if (nlayers*3) <= i < (nlayers*5):\n",
    "      xmin, xmax = -1.5, 1.5\n",
    "    elif i == 60:\n",
    "      xmin, xmax = -1.5, 1.5\n",
    "    elif i == 61:\n",
    "      xmin, xmax = -1.5, 1.5\n",
    "    elif i == 62:\n",
    "      xmin, xmax = -1.5, 1.5\n",
    "    elif 63 <= i < 68:\n",
    "      xmin, xmax = -1.5, 1.5\n",
    "    \n",
    "    hist = axs[(i/4, i%4)].hist2d(x_i, y_i, bins=40, range=[[xmin, xmax], [ymin, ymax]], cmap=plt.cm.viridis)  #norm=colors.LogNorm(),\n",
    "    if x_i.size > 0:\n",
    "      print i, np.mean(x_i), np.std(x_i), np.percentile(x_i, [2,98])"
   ]
  },
  {
   "cell_type": "code",
   "execution_count": 26,
   "metadata": {
    "collapsed": false
   },
   "outputs": [
    {
     "name": "stdout",
     "output_type": "stream",
     "text": [
      "16101 16101 [-0.02310453 -0.0347551   0.01346114 ..., -0.01344305  0.03760187\n",
      "  0.03394232] [-0.0361252  -0.04678879  0.01200102 ..., -0.02348629  0.02487885\n",
      "  0.03654392]\n",
      "[ 0.01302067  0.01203369  0.00146011 ...,  0.01004324  0.01272301\n",
      " -0.00260159] [  8.47689735e-05   7.24048878e-05   1.06596303e-06 ...,   5.04333184e-05\n",
      "   8.09375124e-05   3.38414497e-06]\n",
      "2.11291e-13 0.0859294 1.41817e-05\n",
      "[  8.47689735e-05   7.24048878e-05   1.06596303e-06 ...,   5.04333184e-05\n",
      "   8.09375124e-05   3.38414497e-06] [ 0.01751281  0.01618532  0.00196385 ...,  0.01350816  0.01711245\n",
      " -0.00349914]\n",
      "16101 16101\n"
     ]
    }
   ],
   "source": [
    "def huber_loss(y_true, y_pred, delta=1.345):\n",
    "  x = K.abs(y_true - y_pred)\n",
    "  squared_loss = 0.5*K.square(x)\n",
    "  absolute_loss = delta * (x - 0.5*delta)\n",
    "  #xx = K.switch(x < delta, squared_loss, absolute_loss)\n",
    "  xx = tf.where(x < delta, squared_loss, absolute_loss)  # needed for tensorflow\n",
    "  #return K.mean(xx, axis=-1)\n",
    "  return xx\n",
    "\n",
    "\n",
    "a = y_test[0][:nentries_test].copy()\n",
    "b = y_test_meas[0].copy()\n",
    "\n",
    "tmp = np.abs(1.0/a) > 20.\n",
    "a = a[tmp]\n",
    "b = b[tmp]\n",
    "\n",
    "#reg_pt_scale = 14.\n",
    "#a *= reg_pt_scale\n",
    "#b *= reg_pt_scale\n",
    "\n",
    "c = huber_loss(a, b)\n",
    "sess = tf.InteractiveSession()\n",
    "d = c.eval()\n",
    "#sess.close()\n",
    "e = (a-b).reshape(-1)\n",
    "f = d.reshape(-1)\n",
    "\n",
    "print len(a), len(b), a, b\n",
    "print e, f\n",
    "print np.min(f), np.max(f), np.median(f)\n",
    "print 0.5 * np.square(e), 1.345 * e\n",
    "print len(e), np.equal(0.5 * np.square(e), f).sum()\n",
    "\n",
    "if False:\n",
    "  print np.std(e)\n",
    "  print np.median(np.abs(e))\n",
    "  print np.std(e*14)\n",
    "  print np.std(e*30)\n",
    "  print np.std(e*45)\n",
    "  print np.std(e*100)\n",
    "  print np.median(np.abs(e*14))\n",
    "  print np.median(np.abs(e*30))\n",
    "  print np.median(np.abs(e*45))\n",
    "  print np.median(np.abs(e*100))"
   ]
  },
  {
   "cell_type": "code",
   "execution_count": 27,
   "metadata": {
    "collapsed": false
   },
   "outputs": [
    {
     "data": {
      "image/png": "[encoded data removed]",
      "text/plain": [
       "<matplotlib.figure.Figure at 0x7f22e140b850>"
      ]
     },
     "metadata": {},
     "output_type": "display_data"
    },
    {
     "data": {
      "image/png": "[encoded data removed]",
      "text/plain": [
       "<matplotlib.figure.Figure at 0x7f22e140b890>"
      ]
     },
     "metadata": {},
     "output_type": "display_data"
    }
   ],
   "source": [
    "fig, ax = plt.subplots()\n",
    "ax.set_yscale('log')\n",
    "_ = ax.hist(e, bins=50, range=[-10,10])\n",
    "\n",
    "#fig, ax = plt.subplots()\n",
    "#ax.set_yscale('log')\n",
    "#_ = ax.hist(0.5 * np.square(e), bins=50, range=[0,10])\n",
    "\n",
    "fig, ax = plt.subplots()\n",
    "ax.set_yscale('log')\n",
    "_ = ax.hist(f, bins=50, range=[0,10])\n",
    "\n"
   ]
  },
  {
   "cell_type": "code",
   "execution_count": 28,
   "metadata": {
    "collapsed": false
   },
   "outputs": [
    {
     "name": "stdout",
     "output_type": "stream",
     "text": [
      "16101 16101 [-0.32346338 -0.4865714   0.18845591 ..., -0.18820272  0.52642614\n",
      "  0.47519252] [-0.5057528  -0.65504313  0.16801435 ..., -0.32880807  0.34830394\n",
      "  0.51161486]\n",
      "[ 0.18228942  0.16847172  0.02044156 ...,  0.14060535  0.17812219\n",
      " -0.03642234] [ 0.01661472  0.01419136  0.00020893 ...,  0.00988493  0.01586376\n",
      "  0.00066329]\n",
      "4.15827e-11 6.90162 0.00277962\n"
     ]
    },
    {
     "data": {
      "image/png": "[encoded data removed]",
      "text/plain": [
       "<matplotlib.figure.Figure at 0x7f23a8206190>"
      ]
     },
     "metadata": {},
     "output_type": "display_data"
    },
    {
     "data": {
      "image/png": "[encoded data removed]",
      "text/plain": [
       "<matplotlib.figure.Figure at 0x7f23a82060d0>"
      ]
     },
     "metadata": {},
     "output_type": "display_data"
    }
   ],
   "source": [
    "a = y_test[0][:nentries_test].copy()\n",
    "b = y_test_meas[0].copy()\n",
    "\n",
    "tmp = np.abs(1.0/a) > 20.\n",
    "a = a[tmp]\n",
    "b = b[tmp]\n",
    "\n",
    "reg_pt_scale = 14.\n",
    "a *= reg_pt_scale\n",
    "b *= reg_pt_scale\n",
    "\n",
    "c = huber_loss(a, b)\n",
    "sess = tf.InteractiveSession()\n",
    "d = c.eval()\n",
    "#sess.close()\n",
    "e = (a-b).reshape(-1)\n",
    "f = d.reshape(-1)\n",
    "\n",
    "print len(a), len(b), a, b\n",
    "print e, f\n",
    "print np.min(f), np.max(f), np.median(f)\n",
    "\n",
    "fig, ax = plt.subplots()\n",
    "ax.set_yscale('log')\n",
    "_ = ax.hist(e, bins=50, range=[-10,10])\n",
    "\n",
    "#fig, ax = plt.subplots()\n",
    "#ax.set_yscale('log')\n",
    "#_ = ax.hist(0.5 * np.square(e), bins=50, range=[0,10])\n",
    "\n",
    "fig, ax = plt.subplots()\n",
    "ax.set_yscale('log')\n",
    "_ = ax.hist(f, bins=50, range=[0,10])"
   ]
  },
  {
   "cell_type": "code",
   "execution_count": 29,
   "metadata": {
    "collapsed": false
   },
   "outputs": [
    {
     "name": "stdout",
     "output_type": "stream",
     "text": [
      "22924 22924 22924 22924 [ 1.  1.  1. ...,  1.  1.  1.] [ 0.  0.  0. ...,  0.  0.  0.] [ 0.9991073   0.99578482  0.99127567 ...,  0.9978109   0.99675804\n",
      "  0.99718308] [  6.42571307e-04   2.67488076e-07   8.22381233e-04 ...,   6.38986472e-04\n",
      "   2.35076677e-02   7.07588042e-04]\n",
      "45848 45848 [ 1.  1.  1. ...,  0.  0.  0.] [  9.99107301e-01   9.95784819e-01   9.91275668e-01 ...,   6.38986472e-04\n",
      "   2.35076677e-02   7.07588042e-04]\n",
      "1e-07 10.5528 0.00139918\n"
     ]
    },
    {
     "data": {
      "image/png": "[encoded data removed]",
      "text/plain": [
       "<matplotlib.figure.Figure at 0x7f22e0b2d350>"
      ]
     },
     "metadata": {},
     "output_type": "display_data"
    },
    {
     "data": {
      "image/png": "[encoded data removed]",
      "text/plain": [
       "<matplotlib.figure.Figure at 0x7f23a8148610>"
      ]
     },
     "metadata": {},
     "output_type": "display_data"
    }
   ],
   "source": [
    "def binary_crossentropy(y_true, y_pred, from_logits=False):\n",
    "  target, output = tf.convert_to_tensor(y_true, np.float32), tf.convert_to_tensor(y_pred, np.float32)\n",
    "\n",
    "  # transform back to logits\n",
    "  if not from_logits:\n",
    "    output = K.clip(output, K.epsilon(), 1 - K.epsilon())\n",
    "    output = K.log(output / (1 - output))\n",
    "  \n",
    "  xx =  tf.nn.sigmoid_cross_entropy_with_logits(labels=target, logits=output)\n",
    "  #xx =  tf.nn.weighted_cross_entropy_with_logits(targets=target, logits=output, pos_weight=0.5)  # pos_weight < 1 decreases the false positive count\n",
    "  #return K.mean(xx, axis=-1)\n",
    "  return xx\n",
    "\n",
    "\n",
    "a1 = y_test[1][:nentries_test].copy()\n",
    "a2 = y_adv_test[1].copy()\n",
    "\n",
    "b1 = y_test_meas[1].copy()\n",
    "b2 = y_adv_test_meas[1].copy()\n",
    "\n",
    "tmp = (a1 != 100.)\n",
    "a1 = a1[tmp]\n",
    "b1 = b1[tmp]\n",
    "\n",
    "a2 = a2[:,0]\n",
    "b2 = b2[:,0]\n",
    "tmp = np.random.randint(0, len(a2), len(a1))\n",
    "a2 = a2[tmp]\n",
    "b2 = b2[tmp]\n",
    "\n",
    "a = np.concatenate((a1, a2))\n",
    "b = np.concatenate((b1, b2))\n",
    "\n",
    "c = binary_crossentropy(a, b)\n",
    "#sess = tf.InteractiveSession()\n",
    "d = c.eval()\n",
    "#sess.close()\n",
    "e = (a-b).reshape(-1)\n",
    "f = d.reshape(-1)\n",
    "\n",
    "print len(a1), len(a2), len(b1), len(b2), a1, a2, b1, b2\n",
    "print len(a), len(b), a, b\n",
    "print np.min(f), np.max(f), np.median(f)\n",
    "\n",
    "fig, ax = plt.subplots()\n",
    "ax.set_yscale('log')\n",
    "_ = ax.hist(e, bins=50, range=[-10,10])\n",
    "\n",
    "fig, ax = plt.subplots()\n",
    "ax.set_yscale('log')\n",
    "_ = ax.hist(f, bins=50, range=[0,10])"
   ]
  },
  {
   "cell_type": "code",
   "execution_count": null,
   "metadata": {
    "collapsed": true
   },
   "outputs": [],
   "source": []
  }
 ],
 "metadata": {
  "kernelspec": {
   "display_name": "Python 2",
   "language": "python",
   "name": "python2"
  },
  "language_info": {
   "codemirror_mode": {
    "name": "ipython",
    "version": 2
   },
   "file_extension": ".py",
   "mimetype": "text/x-python",
   "name": "python",
   "nbconvert_exporter": "python",
   "pygments_lexer": "ipython2",
   "version": "2.7.11"
  }
 },
 "nbformat": 4,
 "nbformat_minor": 2
}
