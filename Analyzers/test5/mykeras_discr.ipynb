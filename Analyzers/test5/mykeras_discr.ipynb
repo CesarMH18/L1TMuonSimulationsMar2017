{
 "cells": [
  {
   "cell_type": "code",
   "execution_count": 1,
   "metadata": {
    "collapsed": false
   },
   "outputs": [
    {
     "name": "stdout",
     "output_type": "stream",
     "text": [
      "[INFO] Using numpy 1.12.1\n"
     ]
    },
    {
     "name": "stderr",
     "output_type": "stream",
     "text": [
      "Using TensorFlow backend.\n"
     ]
    },
    {
     "name": "stdout",
     "output_type": "stream",
     "text": [
      "[INFO] Using keras 2.0.5\n",
      "[INFO] Using tensorflow 1.1.0\n",
      "[INFO] Using sklearn 0.18.1\n"
     ]
    }
   ],
   "source": [
    "import numpy as np\n",
    "np.random.seed(2023)\n",
    "import random\n",
    "random.seed(2023)\n",
    "print('[INFO] Using numpy {0}'.format(np.__version__))\n",
    "\n",
    "import os\n",
    "import sys\n",
    "import time\n",
    "os.environ['KERAS_BACKEND'] = 'tensorflow'\n",
    "\n",
    "import keras\n",
    "import keras.backend as K\n",
    "from keras.models import Sequential\n",
    "from keras.layers import Dense, Activation, Dropout\n",
    "from keras import initializers, regularizers, optimizers, losses\n",
    "K.set_epsilon(1e-08)\n",
    "print('[INFO] Using keras {0}'.format(keras.__version__))\n",
    "\n",
    "import tensorflow as tf\n",
    "print('[INFO] Using tensorflow {0}'.format(tf.__version__))\n",
    "\n",
    "import sklearn\n",
    "#from sklearn.preprocessing import StandardScaler\n",
    "from sklearn.model_selection import train_test_split\n",
    "print('[INFO] Using sklearn {0}'.format(sklearn.__version__))\n",
    "\n",
    "#import pandas as pd\n",
    "#import statsmodels\n",
    "\n",
    "import matplotlib.pyplot as plt\n",
    "from matplotlib import colors\n",
    "%matplotlib inline\n",
    "\n",
    "\n",
    "# ______________________________________________________________________________\n",
    "# Globals\n",
    "nlayers = 12  # 5 (CSC) + 4 (RPC) + 3 (GEM)\n",
    "\n",
    "infile = '../test2/histos_tba.12.npz'\n",
    "\n",
    "infile2 = '../test2/histos_tbd.12.npz'\n"
   ]
  },
  {
   "cell_type": "code",
   "execution_count": 2,
   "metadata": {
    "collapsed": false
   },
   "outputs": [
    {
     "name": "stdout",
     "output_type": "stream",
     "text": [
      "[INFO] Loaded the variables with shape (792798, 76)\n",
      "[INFO] Loaded the parameters with shape (792798, 3)\n"
     ]
    }
   ],
   "source": [
    "#### Load data ####\n",
    "\n",
    "try:\n",
    "    loaded = np.load(infile)\n",
    "    the_variables = loaded['variables']\n",
    "    the_parameters = loaded['parameters']\n",
    "    at_least_10_GeV = np.abs(the_parameters[:,0]) < 0.1  # at least 10 GeV \n",
    "    the_variables = the_variables[at_least_10_GeV]\n",
    "    the_parameters = the_parameters[at_least_10_GeV]\n",
    "except:\n",
    "    print('[ERROR] Failed to load data from file: {0}'.format(infile))\n",
    "\n",
    "print('[INFO] Loaded the variables with shape {0}'.format(the_variables.shape))\n",
    "print('[INFO] Loaded the parameters with shape {0}'.format(the_parameters.shape))"
   ]
  },
  {
   "cell_type": "code",
   "execution_count": 3,
   "metadata": {
    "collapsed": false
   },
   "outputs": [
    {
     "name": "stdout",
     "output_type": "stream",
     "text": [
      "[INFO] Loaded the variables with shape (242266, 76)\n",
      "[INFO] Loaded the parameters with shape (242266, 3)\n"
     ]
    }
   ],
   "source": [
    "#### Load data (pileup) ####\n",
    "\n",
    "try:\n",
    "    loaded_2 = np.load(infile2)\n",
    "    the_variables_2 = loaded_2['variables']\n",
    "    only_train_50_percent = the_variables_2.shape[0]//2\n",
    "    the_variables_2 = the_variables_2[:only_train_50_percent]  # 50% events for training\n",
    "    the_parameters_2 = np.zeros((only_train_50_percent, 3), dtype=np.float32)\n",
    "except:\n",
    "    print('[ERROR] Failed to load data from file: {0}'.format(infile2))\n",
    "\n",
    "print('[INFO] Loaded the variables with shape {0}'.format(the_variables_2.shape))\n",
    "print('[INFO] Loaded the parameters with shape {0}'.format(the_parameters_2.shape))"
   ]
  },
  {
   "cell_type": "code",
   "execution_count": 4,
   "metadata": {
    "collapsed": true
   },
   "outputs": [],
   "source": [
    "class Encoder(object):\n",
    "\n",
    "  def __init__(self, x, y, adjust_scale=0):\n",
    "    if x is not None and y is not None:\n",
    "      assert(x.shape[1] == (nlayers * 6) + 4)\n",
    "      assert(y.shape[1] == 3)\n",
    "      assert(x.shape[0] == y.shape[0])\n",
    "\n",
    "      self.nentries = x.shape[0]\n",
    "      self.x_orig  = x\n",
    "      self.y_orig  = y\n",
    "      self.x_copy  = x.copy()\n",
    "      self.y_copy  = y.copy()\n",
    "\n",
    "      # Get views\n",
    "      self.x_phi   = self.x_copy[:, nlayers*0:nlayers*1]\n",
    "      self.x_theta = self.x_copy[:, nlayers*1:nlayers*2]\n",
    "      self.x_bend  = self.x_copy[:, nlayers*2:nlayers*3]\n",
    "      self.x_ring  = self.x_copy[:, nlayers*3:nlayers*4]\n",
    "      self.x_fr    = self.x_copy[:, nlayers*4:nlayers*5]\n",
    "      self.x_mask  = self.x_copy[:, nlayers*5:nlayers*6].astype(np.bool)  # this makes a copy\n",
    "      self.x_road  = self.x_copy[:, nlayers*6:nlayers*7]  # ipt, ieta, iphi, iphi_corr\n",
    "      self.y_pt    = self.y_copy[:, 0]  # q/pT\n",
    "      self.y_phi   = self.y_copy[:, 1]\n",
    "      self.y_eta   = self.y_copy[:, 2]\n",
    "      \n",
    "      # Make event weight\n",
    "      #self.w       = np.ones(self.y_pt.shape, dtype=np.float32)\n",
    "      self.w       = np.abs(self.y_pt)/0.2 + 1.0\n",
    "      \n",
    "      # Straightness & zone\n",
    "      self.x_straightness = self.x_road[:, 0][:, np.newaxis].astype(np.int32)\n",
    "      self.x_zone         = self.x_road[:, 1][:, np.newaxis].astype(np.int32)\n",
    "      \n",
    "      # Subtract median phi from hit phis\n",
    "      #self.x_phi_median    = self.x_road[:, 2] * 32 - 16  # multiply by 'quadstrip' unit (4 * 8)\n",
    "      self.x_phi_median    = self.x_road[:, 2] * 16 - 8  # multiply by 'doublestrip' unit (2 * 8)\n",
    "      self.x_phi_median    = self.x_phi_median[:, np.newaxis]\n",
    "      self.x_phi          -= self.x_phi_median\n",
    "      \n",
    "      # Subtract median theta from hit thetas\n",
    "      self.x_theta_median  = np.nanmedian(self.x_theta[:,:5], axis=1)  # CSC only\n",
    "      self.x_theta_median[np.isnan(self.x_theta_median)] = np.nanmedian(self.x_theta[np.isnan(self.x_theta_median)], axis=1)  # use all\n",
    "      self.x_theta_median  = self.x_theta_median[:, np.newaxis]\n",
    "      self.x_theta        -= self.x_theta_median\n",
    "      \n",
    "      # Standard scales\n",
    "      if adjust_scale == 0:  # do not adjust\n",
    "        pass\n",
    "      elif adjust_scale == 1:  # use mean and std\n",
    "        self.x_mean  = np.nanmean(self.x_copy, axis=0)\n",
    "        self.x_std   = np.nanstd(self.x_copy, axis=0)\n",
    "        self.x_std   = self._handle_zero_in_scale(self.x_std)\n",
    "        self.x_copy -= self.x_mean\n",
    "        self.x_copy /= self.x_std\n",
    "      elif adjust_scale == 2:  # adjust by hand\n",
    "        self.x_phi   *= 0.000991  # GE1/1 dphi linear correlation with q/pT\n",
    "        self.x_theta *= (1/12.)   # 12 integer theta units\n",
    "        self.x_bend  *= 0.188082  # ME1/2 bend linear correlation with q/pT\n",
    "        x_ring_tmp    = self.x_ring.astype(np.int32)\n",
    "        x_ring_tmp    = (x_ring_tmp == 1) | (x_ring_tmp == 4)\n",
    "        np.place(self.x_ring, x_ring_tmp, 0)  # ring 1,4 -> 0\n",
    "        np.place(self.x_ring, ~x_ring_tmp, 1) # ring 2,3 -> 1\n",
    "        #self.x_fr     = self.x_fr\n",
    "      \n",
    "      # Remove outlier hits by checking hit thetas\n",
    "      if adjust_scale == 0:  # do not adjust\n",
    "        x_theta_tmp = np.abs(self.x_theta) > 10000.0\n",
    "      elif adjust_scale == 1:  # use mean and std\n",
    "        x_theta_tmp = np.abs(self.x_theta) > 1.0\n",
    "      elif adjust_scale == 2:  # adjust by hand\n",
    "        theta_cuts    = np.array((6., 6., 6., 6., 6., 12., 12., 12., 12., 9., 9., 9.), dtype=np.float32)\n",
    "        theta_cuts   *= (1/12.)   # 12 integer theta units\n",
    "        assert(len(theta_cuts) == nlayers)\n",
    "        x_theta_tmp = np.abs(self.x_theta) > theta_cuts\n",
    "      self.x_phi  [x_theta_tmp] = np.nan\n",
    "      self.x_theta[x_theta_tmp] = np.nan\n",
    "      self.x_bend [x_theta_tmp] = np.nan\n",
    "      self.x_ring [x_theta_tmp] = np.nan\n",
    "      self.x_fr   [x_theta_tmp] = np.nan\n",
    "      self.x_mask [x_theta_tmp] = 1.0\n",
    "      \n",
    "      # Add variables: straightness, zone, theta_median and mode variables\n",
    "      self.x_straightness /= np.max(self.x_straightness)\n",
    "      self.x_zone         /= np.max(self.x_zone)\n",
    "      self.x_theta_median -= 3.  # scaled to [0,1]\n",
    "      self.x_theta_median /= 83.\n",
    "      hits_to_station = np.array((5,1,2,3,4,1,2,3,4,5,2,5), dtype=np.int32)  # '5' denotes ME1/1\n",
    "      assert(len(hits_to_station) == nlayers)\n",
    "      self.x_mode_vars = np.zeros((self.nentries, 5), dtype=np.bool)\n",
    "      self.x_mode_vars[:,0] = np.any(self.x_mask[:,hits_to_station == 5] == 0, axis=1)\n",
    "      self.x_mode_vars[:,1] = np.any(self.x_mask[:,hits_to_station == 1] == 0, axis=1)\n",
    "      self.x_mode_vars[:,2] = np.any(self.x_mask[:,hits_to_station == 2] == 0, axis=1)\n",
    "      self.x_mode_vars[:,3] = np.any(self.x_mask[:,hits_to_station == 3] == 0, axis=1)\n",
    "      self.x_mode_vars[:,4] = np.any(self.x_mask[:,hits_to_station == 4] == 0, axis=1)\n",
    "      \n",
    "      # Remove NaN\n",
    "      #np.nan_to_num(self.x_copy, copy=False)\n",
    "      self.x_copy[np.isnan(self.x_copy)] = 0.0\n",
    "\n",
    "  # Copied from scikit-learn\n",
    "  def _handle_zero_in_scale(self, scale):\n",
    "    scale[scale == 0.0] = 1.0\n",
    "    return scale\n",
    "\n",
    "  def get_x(self):\n",
    "    #x_new = self.x_phi\n",
    "    x_new = np.hstack((self.x_phi, self.x_theta, self.x_bend, self.x_ring, self.x_fr, self.x_mask, self.x_straightness, self.x_zone, self.x_theta_median, self.x_mode_vars))\n",
    "    return x_new\n",
    "\n",
    "  def get_x_mask(self):\n",
    "    x_mask = self.x_mask.copy()\n",
    "    return x_mask\n",
    "\n",
    "  def get_x_zone(self):\n",
    "    x_zone = self.x_zone.copy()\n",
    "    return x_zone\n",
    "\n",
    "  def get_y(self):\n",
    "    y_new = self.y_pt.copy()\n",
    "    return y_new\n",
    "\n",
    "  def get_w(self):\n",
    "    w_new = self.w.copy()\n",
    "    return w_new\n",
    "\n",
    "  def save_encoder(self, filepath):\n",
    "    np.savez_compressed(filepath, x_mean=self.x_mean, x_std=self.x_std)\n",
    "\n",
    "  def load_endcoder(self, filepath):\n",
    "    loaded = np.load(filepath)\n",
    "    self.x_mean = loaded['x_mean']\n",
    "    self.x_std = loaded['x_std']"
   ]
  },
  {
   "cell_type": "code",
   "execution_count": 5,
   "metadata": {
    "collapsed": false
   },
   "outputs": [
    {
     "name": "stderr",
     "output_type": "stream",
     "text": [
      "/cvmfs/cms.cern.ch/slc6_amd64_gcc630/external/py2-numpy/1.12.1-mlhled2/lib/python2.7/site-packages/numpy-1.12.1-py2.7-linux-x86_64.egg/numpy/lib/function_base.py:3858: RuntimeWarning: All-NaN slice encountered\n",
      "  r = func(a, **kwargs)\n",
      "/cvmfs/cms.cern.ch/slc6_amd64_gcc630/external/py2-pippkgs/5.0-ghjeda6/lib/python2.7/site-packages/ipykernel_launcher.py:75: RuntimeWarning: invalid value encountered in greater\n"
     ]
    },
    {
     "name": "stdout",
     "output_type": "stream",
     "text": [
      "[INFO] Using 80 variables and 1 parameters\n"
     ]
    }
   ],
   "source": [
    "#### Prepare data ####\n",
    "\n",
    "# Preprocess data\n",
    "encoder_1 = Encoder(the_variables, the_parameters, adjust_scale=2)\n",
    "x_1, y_1, w_1, x_mask_1 = encoder_1.get_x(), encoder_1.get_y(), encoder_1.get_w(), encoder_1.get_x_mask()\n",
    "#encoder.save_encoder('encoder.npz')\n",
    "#print('[INFO] Encoder is saved as encoder.npz')\n",
    "\n",
    "# Split dataset in training and testing\n",
    "x_train_1, x_test_1, y_train_1, y_test_1, w_train_1, w_test_1, x_mask_train_1, x_mask_test_1 = train_test_split(x_1, y_1, w_1, x_mask_1, test_size=0.4)\n",
    "\n",
    "nvariables = x_train_1.shape[1]\n",
    "nparameters = 1\n",
    "print('[INFO] Using {0} variables and {1} parameters'.format(nvariables, nparameters))"
   ]
  },
  {
   "cell_type": "code",
   "execution_count": 6,
   "metadata": {
    "collapsed": false
   },
   "outputs": [
    {
     "name": "stdout",
     "output_type": "stream",
     "text": [
      "[[ 0.        0.007928  0.003964 ...,  1.        1.        1.      ]\n",
      " [ 0.       -0.031712  0.       ...,  1.        1.        1.      ]\n",
      " [ 0.       -0.003964  0.       ...,  1.        1.        1.      ]\n",
      " ..., \n",
      " [ 0.        0.007928 -0.007928 ...,  1.        1.        1.      ]\n",
      " [ 0.03964   0.        0.       ...,  1.        1.        1.      ]\n",
      " [ 0.044595  0.       -0.007928 ...,  1.        1.        1.      ]] [ 0.01238597 -0.07262506 -0.00417533 ...,  0.04690636  0.06029635\n",
      "  0.05258178] [ 1.06192982  1.36312532  1.02087665 ...,  1.23453176  1.30148172\n",
      "  1.26290894]\n",
      "[ -1.81152829e-03  -1.22222306e-03  -2.83998712e-03  -2.92855108e-03\n",
      "  -2.91659480e-03  -1.02961257e-03  -1.06128766e-03  -2.46511618e-03\n",
      "  -2.61548155e-03  -1.26145816e-03  -1.27123819e-03   0.00000000e+00\n",
      "   2.78479415e-02   2.67953929e-03   3.69997568e-05  -9.72478727e-03\n",
      "  -2.43042161e-03  -8.17442387e-03  -1.66230873e-03   2.18330103e-03\n",
      "   1.89153379e-02   1.66914106e-02   2.40229336e-02   0.00000000e+00\n",
      "  -1.79114864e-04   1.77216960e-04  -3.61313827e-04  -3.78157744e-04\n",
      "  -3.54196679e-04   0.00000000e+00   0.00000000e+00   0.00000000e+00\n",
      "   0.00000000e+00   0.00000000e+00   0.00000000e+00   0.00000000e+00\n",
      "   3.14853216e-01   9.99759081e-01   3.66045323e-01   4.68497650e-01\n",
      "   5.45254907e-01   9.99653127e-01   9.99977296e-01   5.51367435e-01\n",
      "   6.01575685e-01   5.44122210e-01   5.45268782e-01   1.00000000e+00\n",
      "   3.44391636e-01   1.31149423e-01   4.49356583e-01   4.41085876e-01\n",
      "   4.36304077e-01   1.15309322e-01   1.20871899e-01   4.84230535e-01\n",
      "   4.84981042e-01   2.38036675e-01   2.28010161e-01   0.00000000e+00\n",
      "   3.14960431e-01   7.18059329e-01   1.03938204e-01   1.21136784e-01\n",
      "   1.27584832e-01   7.55848274e-01   7.47247092e-01   1.70328381e-01\n",
      "   1.57531931e-01   5.44129778e-01   5.45270044e-01   1.00000000e+00\n",
      "   6.63472915e-04   1.43356820e-01   4.20855901e-01   7.02062821e-01\n",
      "   2.97746715e-01   9.45471608e-01   9.82063527e-01   9.85010053e-01]\n",
      "[ 0.04278946  0.01096479  0.01353065  0.0162162   0.01809559  0.00946704\n",
      "  0.00623539  0.01747502  0.01964521  0.04536828  0.01191612  0.\n",
      "  0.05179738  0.02281946  0.02786549  0.03182672  0.03016423  0.17352944\n",
      "  0.14064745  0.19733551  0.18792449  0.07634948  0.07876894  0.\n",
      "  0.09358887  0.06049747  0.0853008   0.08871791  0.08957018  0.          0.\n",
      "  0.          0.          0.          0.          0.          0.46445739\n",
      "  0.01551969  0.48172206  0.49900662  0.49794778  0.01862129  0.00476486\n",
      "  0.49735439  0.48957367  0.49804943  0.49794652  0.          0.47516948\n",
      "  0.3375637   0.49742863  0.49651699  0.49592623  0.31939487  0.32597835\n",
      "  0.49975126  0.49977438  0.42588169  0.4195492   0.          0.46450012\n",
      "  0.44994458  0.30518036  0.32628617  0.33362695  0.42958312  0.43459047\n",
      "  0.37592103  0.36430155  0.49804876  0.49794641  0.          0.02574942\n",
      "  0.35043636  0.26458198  0.45735174  0.45726755  0.22705736  0.13272059\n",
      "  0.12151234]\n",
      "True\n"
     ]
    }
   ],
   "source": [
    "print x_1, y_1, w_1\n",
    "print np.mean(x_1, axis=0)\n",
    "print np.std(x_1, axis=0)\n",
    "print np.isfinite(x_1).all()"
   ]
  },
  {
   "cell_type": "code",
   "execution_count": 7,
   "metadata": {
    "collapsed": false
   },
   "outputs": [
    {
     "name": "stderr",
     "output_type": "stream",
     "text": [
      "/cvmfs/cms.cern.ch/slc6_amd64_gcc630/external/py2-pippkgs/5.0-ghjeda6/lib/python2.7/site-packages/ipykernel_launcher.py:75: RuntimeWarning: invalid value encountered in greater\n"
     ]
    },
    {
     "name": "stdout",
     "output_type": "stream",
     "text": [
      "[INFO] Using 80 variables and 1 parameters\n"
     ]
    }
   ],
   "source": [
    "#### Prepare data (pileup) ####\n",
    "\n",
    "# Preprocess data\n",
    "encoder_2 = Encoder(the_variables_2, the_parameters_2, adjust_scale=2)\n",
    "x_2, y_2, w_2, x_mask_2 = encoder_2.get_x(), encoder_2.get_y(), encoder_2.get_w(), encoder_2.get_x_mask()\n",
    "#encoder.save_encoder('encoder.npz')\n",
    "#print('[INFO] Encoder is saved as encoder.npz')\n",
    "\n",
    "# Split dataset in training and testing\n",
    "x_train_2, x_test_2, y_train_2, y_test_2, w_train_2, w_test_2, x_mask_train_2, x_mask_test_2 = train_test_split(x_2, y_2, w_2, x_mask_2, test_size=0.0)  # no train/test split\n",
    "\n",
    "nvariables = x_train_2.shape[1]\n",
    "nparameters = 1\n",
    "print('[INFO] Using {0} variables and {1} parameters'.format(nvariables, nparameters))"
   ]
  },
  {
   "cell_type": "code",
   "execution_count": 8,
   "metadata": {
    "collapsed": false
   },
   "outputs": [
    {
     "name": "stdout",
     "output_type": "stream",
     "text": [
      "[[-0.13874     0.          0.047568   ...,  1.          1.          1.        ]\n",
      " [ 0.          0.057478    0.         ...,  0.          1.          1.        ]\n",
      " [ 0.          0.105046    0.         ...,  1.          1.          1.        ]\n",
      " ..., \n",
      " [ 0.         -0.045586    0.         ...,  0.          1.          1.        ]\n",
      " [ 0.          0.         -0.025766   ...,  1.          1.          1.        ]\n",
      " [-0.28639901  0.          0.03964    ...,  1.          1.          0.        ]] [ 0.  0.  0. ...,  0.  0.  0.] [ 1.  1.  1. ...,  1.  1.  1.]\n",
      "[  6.67360562e-03  -6.26630588e-04  -4.49767287e-03  -4.18603881e-03\n",
      "  -5.38000342e-03  -8.16014648e-04  -1.55260729e-04  -5.90574892e-03\n",
      "  -4.36819485e-03   1.91911602e-03  -2.57373819e-03   0.00000000e+00\n",
      "   9.32463377e-02   2.35084238e-02  -5.55398492e-03  -3.10856670e-02\n",
      "  -3.99707013e-02   3.42825663e-02   1.24919514e-02  -9.79560373e-02\n",
      "  -3.85241165e-02   2.99195933e-02   2.08245625e-02   0.00000000e+00\n",
      "   9.57388646e-03   8.81151567e-04   1.54104480e-03  -3.57041063e-03\n",
      "  -1.88341294e-03   0.00000000e+00   0.00000000e+00   0.00000000e+00\n",
      "   0.00000000e+00   0.00000000e+00   0.00000000e+00   0.00000000e+00\n",
      "   1.88507673e-01   9.90440260e-01   4.39958558e-01   5.29987699e-01\n",
      "   5.40946728e-01   9.87604534e-01   9.99909191e-01   3.58205444e-01\n",
      "   5.33273344e-01   8.27511908e-01   5.61151792e-01   1.00000000e+00\n",
      "   3.99614473e-01   5.56743414e-02   3.13275491e-01   2.75783643e-01\n",
      "   2.97276547e-01   6.96878638e-02   4.00386352e-02   5.67801507e-01\n",
      "   4.37746114e-01   9.17297516e-02   2.16914466e-01   0.00000000e+00\n",
      "   2.26903486e-01   8.88804042e-01   3.76276489e-01   4.21656361e-01\n",
      "   3.93885234e-01   8.68049995e-01   9.21792575e-01   1.47160559e-01\n",
      "   3.42838038e-01   8.32432120e-01   5.62278652e-01   1.00000000e+00\n",
      "   2.03214648e-01   3.01932586e-01   2.76493159e-01   7.98865710e-01\n",
      "   1.49595899e-01   7.40524878e-01   9.44577448e-01   7.98093831e-01]\n",
      "[ 0.20670035  0.02877225  0.09747865  0.10639874  0.15988994  0.02956957\n",
      "  0.02079061  0.1999999   0.18189291  0.11877678  0.08726008  0.\n",
      "  0.14753538  0.08201896  0.07599695  0.07552307  0.10420062  0.17429921\n",
      "  0.0932      0.25704211  0.20992038  0.10724907  0.10843332  0.\n",
      "  0.29058299  0.16954626  0.10980562  0.20718423  0.20188282  0.          0.\n",
      "  0.          0.          0.          0.          0.          0.39111703\n",
      "  0.09730545  0.49638193  0.49909993  0.49832054  0.11064275  0.00952896\n",
      "  0.47947294  0.49889166  0.37780412  0.49624637  0.          0.4898191\n",
      "  0.22929176  0.46382535  0.4469083   0.4570593   0.25462024  0.19604985\n",
      "  0.49538163  0.49610932  0.28864408  0.41214388  0.          0.41882967\n",
      "  0.31437464  0.48445071  0.49382413  0.48860992  0.33843641  0.26849772\n",
      "  0.3542659   0.4746579   0.37348211  0.49610621  0.          0.40239092\n",
      "  0.45909618  0.20337369  0.40084821  0.35667487  0.43834665  0.22880317\n",
      "  0.40142256]\n",
      "True\n"
     ]
    }
   ],
   "source": [
    "print x_2, y_2, w_2\n",
    "print np.mean(x_2, axis=0)\n",
    "print np.std(x_2, axis=0)\n",
    "print np.isfinite(x_2).all()"
   ]
  },
  {
   "cell_type": "code",
   "execution_count": 9,
   "metadata": {
    "collapsed": true
   },
   "outputs": [],
   "source": [
    "# LeakyReLU with fix\n",
    "# https://github.com/keras-team/keras/pull/7784\n",
    "\n",
    "from keras.engine import Layer\n",
    "from keras import backend as K\n",
    "\n",
    "class MyLeakyReLU(Layer):\n",
    "    \"\"\"Leaky version of a Rectified Linear Unit.\n",
    "    It allows a small gradient when the unit is not active:\n",
    "    `f(x) = alpha * x for x < 0`,\n",
    "    `f(x) = x for x >= 0`.\n",
    "    # Input shape\n",
    "        Arbitrary. Use the keyword argument `input_shape`\n",
    "        (tuple of integers, does not include the samples axis)\n",
    "        when using this layer as the first layer in a model.\n",
    "    # Output shape\n",
    "        Same shape as the input.\n",
    "    # Arguments\n",
    "        alpha: float >= 0. Negative slope coefficient.\n",
    "    # References\n",
    "        - [Rectifier Nonlinearities Improve Neural Network Acoustic Models](https://web.stanford.edu/~awni/papers/relu_hybrid_icml2013_final.pdf)\n",
    "    \"\"\"\n",
    "\n",
    "    def __init__(self, alpha=0.3, **kwargs):\n",
    "        super(MyLeakyReLU, self).__init__(**kwargs)\n",
    "        self.supports_masking = True\n",
    "        if isinstance(alpha, dict):\n",
    "            self.alpha = K.cast_to_floatx(alpha['value'])\n",
    "        else:\n",
    "            self.alpha = K.cast_to_floatx(alpha)\n",
    "\n",
    "    def call(self, inputs):\n",
    "        return K.relu(inputs, alpha=self.alpha)\n",
    "\n",
    "    def get_config(self):\n",
    "        config = {'alpha': float(self.alpha)}\n",
    "        base_config = super(MyLeakyReLU, self).get_config()\n",
    "        return dict(list(base_config.items()) + list(config.items()))\n",
    "\n",
    "    def compute_output_shape(self, input_shape):\n",
    "        return input_shape"
   ]
  },
  {
   "cell_type": "code",
   "execution_count": 10,
   "metadata": {
    "collapsed": false
   },
   "outputs": [],
   "source": [
    "#### Create a model ####\n",
    "\n",
    "model = Sequential()\n",
    "model.add(Dense(64, input_dim=nvariables, kernel_initializer='glorot_uniform', kernel_regularizer=regularizers.l2(0.0000)))\n",
    "model.add(MyLeakyReLU(alpha=0.2))\n",
    "model.add(Dropout(0.4))\n",
    "\n",
    "model.add(Dense(64, kernel_initializer='glorot_uniform', kernel_regularizer=regularizers.l2(0.0000)))\n",
    "model.add(MyLeakyReLU(alpha=0.2))\n",
    "model.add(Dropout(0.4))\n",
    " \n",
    "model.add(Dense(1, kernel_initializer='glorot_uniform', kernel_regularizer=regularizers.l2(0.0000)))\n",
    "model.add(Activation('sigmoid'))\n",
    "\n",
    "# Set loss and optimizer\n",
    "adam = optimizers.Adam(lr=0.0001)\n",
    "rmsprop = optimizers.RMSprop(lr=0.0001)\n",
    "\n",
    "# Compile\n",
    "model.compile(loss='binary_crossentropy', optimizer=rmsprop, metrics=['accuracy'])\n"
   ]
  },
  {
   "cell_type": "code",
   "execution_count": 11,
   "metadata": {
    "collapsed": false
   },
   "outputs": [
    {
     "name": "stdout",
     "output_type": "stream",
     "text": [
      "(475678, 80) (317120, 80)\n",
      "(242266, 80) (0, 80)\n"
     ]
    }
   ],
   "source": [
    "print x_train_1.shape, x_test_1.shape\n",
    "print x_train_2.shape, x_test_2.shape"
   ]
  },
  {
   "cell_type": "code",
   "execution_count": 12,
   "metadata": {
    "collapsed": false
   },
   "outputs": [
    {
     "name": "stdout",
     "output_type": "stream",
     "text": [
      "[INFO] Time elapsed: 161.879853964 sec\n",
      "_________________________________________________________________\n",
      "Layer (type)                 Output Shape              Param #   \n",
      "=================================================================\n",
      "dense_1 (Dense)              (None, 64)                5184      \n",
      "_________________________________________________________________\n",
      "my_leaky_re_lu_1 (MyLeakyReL (None, 64)                0         \n",
      "_________________________________________________________________\n",
      "dropout_1 (Dropout)          (None, 64)                0         \n",
      "_________________________________________________________________\n",
      "dense_2 (Dense)              (None, 64)                4160      \n",
      "_________________________________________________________________\n",
      "my_leaky_re_lu_2 (MyLeakyReL (None, 64)                0         \n",
      "_________________________________________________________________\n",
      "dropout_2 (Dropout)          (None, 64)                0         \n",
      "_________________________________________________________________\n",
      "dense_3 (Dense)              (None, 1)                 65        \n",
      "_________________________________________________________________\n",
      "activation_1 (Activation)    (None, 1)                 0         \n",
      "=================================================================\n",
      "Total params: 9,409\n",
      "Trainable params: 9,409\n",
      "Non-trainable params: 0\n",
      "_________________________________________________________________\n",
      "[INFO] Model is saved as model_discr.h5, model_discr.json and model_discr_weights.h5\n"
     ]
    }
   ],
   "source": [
    "#### Training ####\n",
    "\n",
    "def train():\n",
    "  epochs = int(20000 * 1.6)\n",
    "  batch_size = 256\n",
    "  save_interval = 200\n",
    "\n",
    "  for epoch in xrange(epochs):\n",
    "    real = x_train_1[np.random.randint(0, x_train_1.shape[0], batch_size)]\n",
    "    fake = x_train_2[np.random.randint(0, x_train_2.shape[0], batch_size)]\n",
    "    \n",
    "    # Also add random noise?\n",
    "\n",
    "    ones = np.ones(batch_size)\n",
    "    zeros = np.zeros(batch_size)\n",
    "\n",
    "    x_train_batch = np.concatenate((real, fake))\n",
    "    y_train_batch = np.concatenate((ones, zeros))\n",
    "\n",
    "    d_loss = model.train_on_batch(x_train_batch, y_train_batch)\n",
    "\n",
    "    if epoch % save_interval == 0:\n",
    "      print \"%d/%d - loss: %f - accuracy: %f\" % (epoch, epochs, d_loss[0], d_loss[1])\n",
    "\n",
    "\n",
    "# The webpage can become very unresponsive when you train with a large dataset with the above comment.\n",
    "# So I do the following instead.\n",
    "# See issue https://github.com/jupyter/notebook/issues/1474\n",
    "\n",
    "start_time = time.time()\n",
    "old_stdout = sys.stdout\n",
    "sys.stdout = open('keras_output.txt', 'w')\n",
    "train()\n",
    "sys.stdout.close()\n",
    "sys.stdout = old_stdout\n",
    "print('[INFO] Time elapsed: {0} sec'.format(time.time() - start_time))\n",
    "  \n",
    "# Store model to file\n",
    "model.summary()\n",
    "model.save('model_discr.h5')\n",
    "model.save_weights('model_discr_weights.h5')\n",
    "\n",
    "# Store model to json\n",
    "import json\n",
    "with open('model_discr.json', 'w') as outfile:\n",
    "  json.dump(model.to_json(), outfile)\n",
    "  \n",
    "print('[INFO] Model is saved as model_discr.h5, model_discr.json and model_discr_weights.h5')"
   ]
  },
  {
   "cell_type": "code",
   "execution_count": 13,
   "metadata": {
    "collapsed": true
   },
   "outputs": [],
   "source": [
    "#### Evaluation using Keras internal tool ####\n",
    "\n"
   ]
  },
  {
   "cell_type": "code",
   "execution_count": 14,
   "metadata": {
    "collapsed": false,
    "scrolled": false
   },
   "outputs": [
    {
     "name": "stdout",
     "output_type": "stream",
     "text": [
      "Welcome to JupyROOT 6.10/05\n"
     ]
    },
    {
     "data": {
      "image/png": "[encoded data removed]",
      "text/plain": [
       "<IPython.core.display.Image object>"
      ]
     },
     "metadata": {},
     "output_type": "display_data"
    }
   ],
   "source": [
    "#### Application ####\n",
    "\n",
    "from keras.models import load_model\n",
    "import ROOT\n",
    "\n",
    "# Load model\n",
    "loaded_model = load_model('model_discr.h5', custom_objects={'MyLeakyReLU': MyLeakyReLU})\n",
    "loaded_model.load_weights('model_discr_weights.h5')\n",
    "\n",
    "ROOT.gROOT.LoadMacro(\"tdrstyle.C\")\n",
    "ROOT.gROOT.ProcessLine(\"setTDRStyle();\")\n",
    "ROOT.gStyle.SetPalette(57)  # kBird\n",
    "ROOT.gStyle.SetPadGridX(True)\n",
    "ROOT.gStyle.SetPadGridY(True)\n",
    "\n",
    "h1a = ROOT.TH1F(\"h1a\", \"h1b\", 120, -0.1, 1.1)\n",
    "h1b = ROOT.TH1F(\"h1b\", \"h1b\", 120, -0.1, 1.1)\n",
    "\n",
    "nentries_test_1 = x_test_1.shape[0]/6\n",
    "\n",
    "y_test_true_1 = np.ones(nentries_test_1)\n",
    "y_test_pred_1 = loaded_model.predict(x_test_1[:nentries_test_1, :])\n",
    "\n",
    "# Loop over events\n",
    "for i in xrange(nentries_test_1):\n",
    "  h1a.Fill(y_test_pred_1[i])\n",
    "\n",
    "\n",
    "x_test_2 = x_train_2  # no train/test split  \n",
    "\n",
    "nentries_test_2 = x_test_2.shape[0]/1\n",
    "\n",
    "y_test_true_2 = np.zeros(nentries_test_2)\n",
    "y_test_pred_2 = loaded_model.predict(x_test_2[:nentries_test_2, :])\n",
    "\n",
    "# Loop over events\n",
    "for i in xrange(nentries_test_2):\n",
    "  h1b.Fill(y_test_pred_2[i])\n",
    "\n",
    "\n",
    "# Draw\n",
    "c = ROOT.TCanvas()\n",
    "h1a.SetLineColor(632)  # kRed\n",
    "h1a.Draw()\n",
    "h1b.SetLineColor(1)  # kBlack\n",
    "h1b.Draw(\"same\")\n",
    "c.Draw()"
   ]
  },
  {
   "cell_type": "code",
   "execution_count": 15,
   "metadata": {
    "collapsed": false
   },
   "outputs": [
    {
     "data": {
      "text/plain": [
       "(0.9, 1.0)"
      ]
     },
     "execution_count": 15,
     "metadata": {},
     "output_type": "execute_result"
    },
    {
     "name": "stderr",
     "output_type": "stream",
     "text": [
      "/cvmfs/cms.cern.ch/slc6_amd64_gcc630/external/py2-matplotlib/1.5.2-njopjo/lib/python2.7/site-packages/matplotlib/figure.py:1742: UserWarning: This figure includes Axes that are not compatible with tight_layout, so its results might be incorrect.\n",
      "  warnings.warn(\"This figure includes Axes that are not \"\n"
     ]
    },
    {
     "data": {
      "image/png": "[encoded data removed]",
      "text/plain": [
       "<matplotlib.figure.Figure at 0x7fe82068dc10>"
      ]
     },
     "metadata": {},
     "output_type": "display_data"
    }
   ],
   "source": [
    "from sklearn.metrics import roc_curve\n",
    "\n",
    "y_test_true = np.concatenate((y_test_true_1, y_test_true_2))\n",
    "y_test_pred = np.concatenate((y_test_pred_1, y_test_pred_2))\n",
    "\n",
    "fpr, tpr, _ = roc_curve(y_test_true, y_test_pred)\n",
    "\n",
    "fig, ax = plt.subplots(tight_layout=True)\n",
    "ax.plot(fpr, tpr)\n",
    "ax.set_xlabel('False positive rate')\n",
    "ax.set_ylabel('True positive rate')\n",
    "ax.set_title('ROC curve')\n",
    "ax.set_xlim([0.0,1.0])\n",
    "ax.set_ylim([0.9,1.0])"
   ]
  },
  {
   "cell_type": "code",
   "execution_count": null,
   "metadata": {
    "collapsed": true
   },
   "outputs": [],
   "source": []
  }
 ],
 "metadata": {
  "kernelspec": {
   "display_name": "Python 2",
   "language": "python",
   "name": "python2"
  },
  "language_info": {
   "codemirror_mode": {
    "name": "ipython",
    "version": 2
   },
   "file_extension": ".py",
   "mimetype": "text/x-python",
   "name": "python",
   "nbconvert_exporter": "python",
   "pygments_lexer": "ipython2",
   "version": "2.7.11"
  }
 },
 "nbformat": 4,
 "nbformat_minor": 2
}
