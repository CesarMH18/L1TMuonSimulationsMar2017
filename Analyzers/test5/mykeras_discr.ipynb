{
 "cells": [
  {
   "cell_type": "code",
   "execution_count": 1,
   "metadata": {
    "collapsed": false
   },
   "outputs": [
    {
     "name": "stdout",
     "output_type": "stream",
     "text": [
      "[INFO] Using numpy 1.12.1\n"
     ]
    },
    {
     "name": "stderr",
     "output_type": "stream",
     "text": [
      "Using TensorFlow backend.\n"
     ]
    },
    {
     "name": "stdout",
     "output_type": "stream",
     "text": [
      "[INFO] Using keras 2.0.5\n",
      "[INFO] Using tensorflow 1.1.0\n",
      "[INFO] Using sklearn 0.18.1\n"
     ]
    }
   ],
   "source": [
    "import numpy as np\n",
    "np.random.seed(2023)\n",
    "import random\n",
    "random.seed(2023)\n",
    "print('[INFO] Using numpy {0}'.format(np.__version__))\n",
    "\n",
    "import os\n",
    "import sys\n",
    "import time\n",
    "os.environ['KERAS_BACKEND'] = 'tensorflow'\n",
    "\n",
    "import keras\n",
    "import keras.backend as K\n",
    "from keras.models import Sequential\n",
    "from keras.layers import Dense, Activation, Dropout\n",
    "from keras import initializers, regularizers, optimizers, losses\n",
    "K.set_epsilon(1e-08)\n",
    "print('[INFO] Using keras {0}'.format(keras.__version__))\n",
    "\n",
    "import tensorflow as tf\n",
    "print('[INFO] Using tensorflow {0}'.format(tf.__version__))\n",
    "\n",
    "import sklearn\n",
    "#from sklearn.preprocessing import StandardScaler\n",
    "from sklearn.model_selection import train_test_split\n",
    "print('[INFO] Using sklearn {0}'.format(sklearn.__version__))\n",
    "\n",
    "#import pandas as pd\n",
    "#import statsmodels\n",
    "\n",
    "import matplotlib.pyplot as plt\n",
    "from matplotlib import colors\n",
    "%matplotlib inline\n",
    "\n",
    "\n",
    "# ______________________________________________________________________________\n",
    "# Globals\n",
    "nlayers = 12  # 5 (CSC) + 4 (RPC) + 3 (GEM)\n",
    "\n",
    "infile = '../test2/histos_tba.12.npz'\n",
    "\n",
    "infile2 = '../test2/histos_tbd.12.npz'\n"
   ]
  },
  {
   "cell_type": "code",
   "execution_count": 2,
   "metadata": {
    "collapsed": false
   },
   "outputs": [
    {
     "name": "stdout",
     "output_type": "stream",
     "text": [
      "[INFO] Loaded the variables with shape (566433, 76)\n",
      "[INFO] Loaded the parameters with shape (566433, 3)\n"
     ]
    }
   ],
   "source": [
    "#### Load data ####\n",
    "\n",
    "try:\n",
    "    loaded = np.load(infile)\n",
    "    the_variables = loaded['variables']\n",
    "    the_parameters = loaded['parameters']\n",
    "    at_least_14_GeV = np.abs(the_parameters[:,0]) < (1.0/14)  # at least 14 GeV \n",
    "    the_variables = the_variables[at_least_14_GeV]\n",
    "    the_parameters = the_parameters[at_least_14_GeV]\n",
    "except:\n",
    "    print('[ERROR] Failed to load data from file: {0}'.format(infile))\n",
    "\n",
    "print('[INFO] Loaded the variables with shape {0}'.format(the_variables.shape))\n",
    "print('[INFO] Loaded the parameters with shape {0}'.format(the_parameters.shape))"
   ]
  },
  {
   "cell_type": "code",
   "execution_count": 3,
   "metadata": {
    "collapsed": false
   },
   "outputs": [
    {
     "name": "stdout",
     "output_type": "stream",
     "text": [
      "[INFO] Loaded the variables with shape (241056, 76)\n",
      "[INFO] Loaded the parameters with shape (241056, 3)\n"
     ]
    }
   ],
   "source": [
    "#### Load data (pileup) ####\n",
    "\n",
    "try:\n",
    "    loaded_2 = np.load(infile2)\n",
    "    the_variables_2 = loaded_2['variables']\n",
    "    only_train_50_percent = the_variables_2.shape[0]//2\n",
    "    the_variables_2 = the_variables_2[only_train_50_percent:]  # 50% events for training\n",
    "    the_parameters_2 = np.zeros((the_variables_2.shape[0], 3), dtype=np.float32)\n",
    "except:\n",
    "    print('[ERROR] Failed to load data from file: {0}'.format(infile2))\n",
    "\n",
    "print('[INFO] Loaded the variables with shape {0}'.format(the_variables_2.shape))\n",
    "print('[INFO] Loaded the parameters with shape {0}'.format(the_parameters_2.shape))"
   ]
  },
  {
   "cell_type": "code",
   "execution_count": 4,
   "metadata": {
    "collapsed": true
   },
   "outputs": [],
   "source": [
    "class Encoder(object):\n",
    "\n",
    "  def __init__(self, x, y, adjust_scale=0):\n",
    "    if x is not None and y is not None:\n",
    "      assert(x.shape[1] == (nlayers * 6) + 4)\n",
    "      assert(y.shape[1] == 3)\n",
    "      assert(x.shape[0] == y.shape[0])\n",
    "\n",
    "      self.nentries = x.shape[0]\n",
    "      self.x_orig  = x\n",
    "      self.y_orig  = y\n",
    "      self.x_copy  = x.copy()\n",
    "      self.y_copy  = y.copy()\n",
    "\n",
    "      # Get views\n",
    "      self.x_phi   = self.x_copy[:, nlayers*0:nlayers*1]\n",
    "      self.x_theta = self.x_copy[:, nlayers*1:nlayers*2]\n",
    "      self.x_bend  = self.x_copy[:, nlayers*2:nlayers*3]\n",
    "      self.x_ring  = self.x_copy[:, nlayers*3:nlayers*4]\n",
    "      self.x_fr    = self.x_copy[:, nlayers*4:nlayers*5]\n",
    "      self.x_mask  = self.x_copy[:, nlayers*5:nlayers*6].astype(np.bool)  # this makes a copy\n",
    "      self.x_road  = self.x_copy[:, nlayers*6:nlayers*7]  # ipt, ieta, iphi, iphi_corr\n",
    "      self.y_pt    = self.y_copy[:, 0]  # q/pT\n",
    "      self.y_phi   = self.y_copy[:, 1]\n",
    "      self.y_eta   = self.y_copy[:, 2]\n",
    "      \n",
    "      # Make event weight\n",
    "      #self.w       = np.ones(self.y_pt.shape, dtype=np.float32)\n",
    "      self.w       = np.abs(self.y_pt)/0.2 + 1.0\n",
    "      \n",
    "      # Straightness & zone\n",
    "      self.x_straightness = self.x_road[:, 0][:, np.newaxis]\n",
    "      self.x_zone         = self.x_road[:, 1][:, np.newaxis]\n",
    "      \n",
    "      # Subtract median phi from hit phis\n",
    "      #self.x_phi_median    = self.x_road[:, 2] * 32 - 16  # multiply by 'quadstrip' unit (4 * 8)\n",
    "      self.x_phi_median    = self.x_road[:, 2] * 16 - 8  # multiply by 'doublestrip' unit (2 * 8)\n",
    "      self.x_phi_median    = self.x_phi_median[:, np.newaxis]\n",
    "      self.x_phi          -= self.x_phi_median\n",
    "      \n",
    "      # Subtract median theta from hit thetas\n",
    "      self.x_theta_median  = np.nanmedian(self.x_theta[:,:5], axis=1)  # CSC only\n",
    "      self.x_theta_median[np.isnan(self.x_theta_median)] = np.nanmedian(self.x_theta[np.isnan(self.x_theta_median)], axis=1)  # use all\n",
    "      self.x_theta_median  = self.x_theta_median[:, np.newaxis]\n",
    "      self.x_theta        -= self.x_theta_median\n",
    "      \n",
    "      # Standard scales\n",
    "      if adjust_scale == 0:  # do not adjust\n",
    "        pass\n",
    "      elif adjust_scale == 1:  # use mean and std\n",
    "        self.x_mean  = np.nanmean(self.x_copy, axis=0)\n",
    "        self.x_std   = np.nanstd(self.x_copy, axis=0)\n",
    "        self.x_std   = self._handle_zero_in_scale(self.x_std)\n",
    "        self.x_copy -= self.x_mean\n",
    "        self.x_copy /= self.x_std\n",
    "      elif adjust_scale == 2:  # adjust by hand\n",
    "        self.x_phi   *= 0.000991  # GE1/1 dphi linear correlation with q/pT\n",
    "        self.x_theta *= (1/12.)   # 12 integer theta units\n",
    "        self.x_bend  *= 0.188082  # ME1/2 bend linear correlation with q/pT\n",
    "        x_ring_tmp    = self.x_ring.astype(np.int32)\n",
    "        x_ring_tmp    = (x_ring_tmp == 1) | (x_ring_tmp == 4)\n",
    "        self.x_ring[x_ring_tmp] = 0  # ring 1,4 -> 0\n",
    "        self.x_ring[~x_ring_tmp] = 1 # ring 2,3 -> 1\n",
    "        #self.x_fr     = self.x_fr\n",
    "      \n",
    "      # Remove outlier hits by checking hit thetas\n",
    "      if adjust_scale == 0:  # do not adjust\n",
    "        x_theta_tmp = np.abs(self.x_theta) > 10000.0\n",
    "      elif adjust_scale == 1:  # use mean and std\n",
    "        x_theta_tmp = np.abs(self.x_theta) > 1.0\n",
    "      elif adjust_scale == 2:  # adjust by hand\n",
    "        theta_cuts    = np.array((6., 6., 6., 6., 6., 12., 12., 12., 12., 9., 9., 9.), dtype=np.float32)\n",
    "        theta_cuts   *= (1/12.)   # 12 integer theta units\n",
    "        assert(len(theta_cuts) == nlayers)\n",
    "        x_theta_tmp = np.abs(self.x_theta) > theta_cuts\n",
    "      self.x_phi  [x_theta_tmp] = np.nan\n",
    "      self.x_theta[x_theta_tmp] = np.nan\n",
    "      self.x_bend [x_theta_tmp] = np.nan\n",
    "      self.x_ring [x_theta_tmp] = np.nan\n",
    "      self.x_fr   [x_theta_tmp] = np.nan\n",
    "      self.x_mask [x_theta_tmp] = 1.0\n",
    "      \n",
    "      # Add variables: straightness, zone, theta_median and mode variables\n",
    "      self.x_straightness -= 6.  # scaled to [-1,1]\n",
    "      self.x_straightness /= 6.\n",
    "      self.x_zone         -= 0.  # scaled to [0,1]\n",
    "      self.x_zone         /= 5.\n",
    "      self.x_theta_median -= 3.  # scaled to [0,1]\n",
    "      self.x_theta_median /= 83.\n",
    "      hits_to_station = np.array((5,1,2,3,4,1,2,3,4,5,2,5), dtype=np.int32)  # '5' denotes ME1/1\n",
    "      assert(len(hits_to_station) == nlayers)\n",
    "      self.x_mode_vars = np.zeros((self.nentries, 5), dtype=np.bool)\n",
    "      self.x_mode_vars[:,0] = np.any(self.x_mask[:,hits_to_station == 5] == 0, axis=1)\n",
    "      self.x_mode_vars[:,1] = np.any(self.x_mask[:,hits_to_station == 1] == 0, axis=1)\n",
    "      self.x_mode_vars[:,2] = np.any(self.x_mask[:,hits_to_station == 2] == 0, axis=1)\n",
    "      self.x_mode_vars[:,3] = np.any(self.x_mask[:,hits_to_station == 3] == 0, axis=1)\n",
    "      self.x_mode_vars[:,4] = np.any(self.x_mask[:,hits_to_station == 4] == 0, axis=1)\n",
    "      \n",
    "      # Remove NaN\n",
    "      #np.nan_to_num(self.x_copy, copy=False)\n",
    "      self.x_copy[np.isnan(self.x_copy)] = 0.0\n",
    "\n",
    "  # Copied from scikit-learn\n",
    "  def _handle_zero_in_scale(self, scale):\n",
    "    scale[scale == 0.0] = 1.0\n",
    "    return scale\n",
    "\n",
    "  def get_x(self):\n",
    "    #x_new = self.x_phi\n",
    "    x_new = np.hstack((self.x_phi, self.x_theta, self.x_bend, self.x_ring, self.x_fr, self.x_straightness, self.x_zone, self.x_theta_median, self.x_mode_vars))\n",
    "    return x_new\n",
    "\n",
    "  def get_x_mask(self):\n",
    "    x_mask = self.x_mask.copy()\n",
    "    return x_mask\n",
    "\n",
    "  def get_y(self):\n",
    "    y_new = self.y_pt.copy()\n",
    "    return y_new\n",
    "\n",
    "  def get_w(self):\n",
    "    w_new = self.w.copy()\n",
    "    return w_new\n",
    "\n",
    "  def save_encoder(self, filepath):\n",
    "    np.savez_compressed(filepath, x_mean=self.x_mean, x_std=self.x_std)\n",
    "\n",
    "  def load_endcoder(self, filepath):\n",
    "    loaded = np.load(filepath)\n",
    "    self.x_mean = loaded['x_mean']\n",
    "    self.x_std = loaded['x_std']"
   ]
  },
  {
   "cell_type": "code",
   "execution_count": 5,
   "metadata": {
    "collapsed": false
   },
   "outputs": [
    {
     "name": "stderr",
     "output_type": "stream",
     "text": [
      "/cvmfs/cms.cern.ch/slc6_amd64_gcc630/external/py2-numpy/1.12.1-mlhled2/lib/python2.7/site-packages/numpy-1.12.1-py2.7-linux-x86_64.egg/numpy/lib/function_base.py:3858: RuntimeWarning: All-NaN slice encountered\n",
      "  r = func(a, **kwargs)\n",
      "/cvmfs/cms.cern.ch/slc6_amd64_gcc630/external/py2-pippkgs/5.0-ghjeda6/lib/python2.7/site-packages/ipykernel_launcher.py:75: RuntimeWarning: invalid value encountered in greater\n"
     ]
    },
    {
     "name": "stdout",
     "output_type": "stream",
     "text": [
      "[INFO] Using 68 variables and 1 parameters\n"
     ]
    }
   ],
   "source": [
    "#### Prepare data ####\n",
    "\n",
    "# Preprocess data\n",
    "encoder_1 = Encoder(the_variables, the_parameters, adjust_scale=2)\n",
    "x_1, y_1, w_1, x_mask_1 = encoder_1.get_x(), encoder_1.get_y(), encoder_1.get_w(), encoder_1.get_x_mask()\n",
    "#encoder.save_encoder('encoder.npz')\n",
    "#print('[INFO] Encoder is saved as encoder.npz')\n",
    "\n",
    "# Split dataset in training and testing\n",
    "x_train_1, x_test_1, y_train_1, y_test_1, w_train_1, w_test_1, x_mask_train_1, x_mask_test_1 = train_test_split(x_1, y_1, w_1, x_mask_1, test_size=0.4)\n",
    "\n",
    "nvariables = x_train_1.shape[1]\n",
    "nparameters = 1\n",
    "print('[INFO] Using {0} variables and {1} parameters'.format(nvariables, nparameters))"
   ]
  },
  {
   "cell_type": "code",
   "execution_count": 6,
   "metadata": {
    "collapsed": false
   },
   "outputs": [
    {
     "name": "stdout",
     "output_type": "stream",
     "text": [
      "[[ 0.        0.007928  0.003964 ...,  1.        1.        1.      ]\n",
      " [ 0.       -0.003964  0.       ...,  1.        1.        1.      ]\n",
      " [ 0.038649  0.        0.       ...,  1.        1.        1.      ]\n",
      " ..., \n",
      " [ 0.        0.007928 -0.007928 ...,  1.        1.        1.      ]\n",
      " [ 0.03964   0.        0.       ...,  1.        1.        1.      ]\n",
      " [ 0.044595  0.       -0.007928 ...,  1.        1.        1.      ]] [ 0.01238597 -0.00417533  0.06883084 ...,  0.04690636  0.06029635\n",
      "  0.05258178] [ 1.06192982  1.02087665  1.34415424 ...,  1.23453176  1.30148172\n",
      "  1.26290894]\n",
      "[ -1.67510216e-03  -9.86234634e-04  -2.49763578e-03  -2.60640611e-03\n",
      "  -2.58804532e-03  -7.88200065e-04  -8.35446059e-04  -2.21028528e-03\n",
      "  -2.32811854e-03  -1.17528578e-03  -1.16607826e-03   0.00000000e+00\n",
      "   2.69002561e-02   2.12615356e-03  -2.47679185e-04  -9.33684222e-03\n",
      "  -1.76106137e-03  -8.65412503e-03  -2.56192777e-03   2.47557787e-03\n",
      "   1.98716298e-02   1.57528631e-02   2.37430353e-02   0.00000000e+00\n",
      "  -6.50801085e-05   1.74656307e-04  -3.32707801e-04  -4.26013576e-04\n",
      "  -3.67906177e-04   0.00000000e+00   0.00000000e+00   0.00000000e+00\n",
      "   0.00000000e+00   0.00000000e+00   0.00000000e+00   0.00000000e+00\n",
      "   3.14753920e-01   9.99682248e-01   3.67284387e-01   4.68765050e-01\n",
      "   5.45319557e-01   9.99593973e-01   9.99973536e-01   5.53837776e-01\n",
      "   6.03993773e-01   5.44242680e-01   5.44941783e-01   1.00000000e+00\n",
      "   3.44268441e-01   1.31683707e-01   4.49477702e-01   4.41605628e-01\n",
      "   4.36966062e-01   1.15049794e-01   1.20384932e-01   4.81852233e-01\n",
      "   4.82062310e-01   2.37913400e-01   2.28480682e-01   0.00000000e+00\n",
      "  -4.69796592e-03   4.66884941e-01   4.21638459e-01   7.01786458e-01\n",
      "   2.97969937e-01   9.45294499e-01   9.81856644e-01   9.84626591e-01]\n",
      "[ 0.03451658  0.0087275   0.01361463  0.01598009  0.01745525  0.0078904\n",
      "  0.00573708  0.01735244  0.01898063  0.03606134  0.01236981  0.          0.0511788\n",
      "  0.02223346  0.02855504  0.03235305  0.02994239  0.17312315  0.14122422\n",
      "  0.19753745  0.18744755  0.0758219   0.07880225  0.          0.09071632\n",
      "  0.0547306   0.0856449   0.09024934  0.09107859  0.          0.          0.\n",
      "  0.          0.          0.          0.          0.46479279  0.01782069\n",
      "  0.48111644  0.49827886  0.4967635   0.02014262  0.00514588  0.4961746\n",
      "  0.48904192  0.49881807  0.49874705  0.          0.47438693  0.33716524\n",
      "  0.49814752  0.4967216   0.49556649  0.31826568  0.32580262  0.49943206\n",
      "  0.49943253  0.42446682  0.41999811  0.          0.09510344  0.35590175\n",
      "  0.26511246  0.45662555  0.45633835  0.22822644  0.13341197  0.12256206]\n",
      "True\n"
     ]
    }
   ],
   "source": [
    "print x_1, y_1, w_1\n",
    "print np.mean(x_1, axis=0)\n",
    "print np.std(x_1, axis=0)\n",
    "print np.isfinite(x_1).all()"
   ]
  },
  {
   "cell_type": "code",
   "execution_count": 7,
   "metadata": {
    "collapsed": false
   },
   "outputs": [
    {
     "name": "stderr",
     "output_type": "stream",
     "text": [
      "/cvmfs/cms.cern.ch/slc6_amd64_gcc630/external/py2-pippkgs/5.0-ghjeda6/lib/python2.7/site-packages/ipykernel_launcher.py:75: RuntimeWarning: invalid value encountered in greater\n"
     ]
    },
    {
     "name": "stdout",
     "output_type": "stream",
     "text": [
      "[INFO] Using 68 variables and 1 parameters\n"
     ]
    }
   ],
   "source": [
    "#### Prepare data (pileup) ####\n",
    "\n",
    "# Preprocess data\n",
    "encoder_2 = Encoder(the_variables_2, the_parameters_2, adjust_scale=2)\n",
    "x_2, y_2, w_2, x_mask_2 = encoder_2.get_x(), encoder_2.get_y(), encoder_2.get_w(), encoder_2.get_x_mask()\n",
    "#encoder.save_encoder('encoder.npz')\n",
    "#print('[INFO] Encoder is saved as encoder.npz')\n",
    "\n",
    "# Split dataset in training and testing\n",
    "x_train_2, x_test_2, y_train_2, y_test_2, w_train_2, w_test_2, x_mask_train_2, x_mask_test_2 = train_test_split(x_2, y_2, w_2, x_mask_2, test_size=0.0)  # no train/test split\n",
    "\n",
    "nvariables = x_train_2.shape[1]\n",
    "nparameters = 1\n",
    "print('[INFO] Using {0} variables and {1} parameters'.format(nvariables, nparameters))"
   ]
  },
  {
   "cell_type": "code",
   "execution_count": 8,
   "metadata": {
    "collapsed": false
   },
   "outputs": [
    {
     "name": "stdout",
     "output_type": "stream",
     "text": [
      "[[-0.19919099  0.          0.         ...,  1.          1.          1.        ]\n",
      " [ 0.26756999  0.          0.         ...,  1.          1.          0.        ]\n",
      " [ 0.         -0.045586    0.         ...,  0.          1.          1.        ]\n",
      " ..., \n",
      " [ 0.         -0.004955   -0.072343   ...,  1.          1.          1.        ]\n",
      " [-0.342886    0.          0.11892    ...,  1.          1.          0.        ]\n",
      " [ 0.          0.028739    0.067388   ...,  1.          1.          1.        ]] [ 0.  0.  0. ...,  0.  0.  0.] [ 1.  1.  1. ...,  1.  1.  1.]\n",
      "[  6.09499868e-03  -6.07257592e-04  -4.26684087e-03  -4.06896928e-03\n",
      "  -4.92226332e-03  -8.14288913e-04  -1.77615177e-04  -5.93110733e-03\n",
      "  -4.70448099e-03   1.91887806e-03  -2.83443625e-03   0.00000000e+00\n",
      "   9.36241895e-02   2.29961146e-02  -5.64891752e-03  -3.09543181e-02\n",
      "  -4.00824994e-02   3.34567130e-02   1.22885974e-02  -9.76139233e-02\n",
      "  -3.72858457e-02   3.05461772e-02   2.10950170e-02   0.00000000e+00\n",
      "   8.15857109e-03   1.08453364e-03   1.16801087e-03  -3.98012670e-03\n",
      "  -1.62913569e-03   0.00000000e+00   0.00000000e+00   0.00000000e+00\n",
      "   0.00000000e+00   0.00000000e+00   0.00000000e+00   0.00000000e+00\n",
      "   1.86562464e-01   9.90479410e-01   4.40457821e-01   5.30905664e-01\n",
      "   5.39965808e-01   9.88313913e-01   9.99846518e-01   3.53673011e-01\n",
      "   5.32826424e-01   8.26812029e-01   5.60666382e-01   1.00000000e+00\n",
      "   3.99857283e-01   5.37509955e-02   3.13661546e-01   2.75438070e-01\n",
      "   2.98594505e-01   6.81169555e-02   3.95634212e-02   5.72120190e-01\n",
      "   4.39594954e-01   9.16094184e-02   2.15958118e-01   0.00000000e+00\n",
      "   6.40235899e-04   6.30314946e-01   2.75174886e-01   8.01062822e-01\n",
      "   1.48106664e-01   7.39981592e-01   9.44535732e-01   7.98192143e-01]\n",
      "[ 0.20711176  0.02876326  0.09729876  0.10640999  0.16041027  0.02962309\n",
      "  0.02066059  0.20004292  0.18180321  0.11943899  0.08686677  0.\n",
      "  0.14787953  0.08116417  0.07663068  0.07578367  0.103834    0.17323957\n",
      "  0.09219106  0.25762835  0.20924595  0.10831314  0.10868396  0.\n",
      "  0.29125217  0.16894022  0.11097682  0.20721914  0.201811    0.          0.\n",
      "  0.          0.          0.          0.          0.          0.38986197\n",
      "  0.09709754  0.49652269  0.49861792  0.4983888   0.10755996  0.01238726\n",
      "  0.47813296  0.49926886  0.37816104  0.49563164  0.          0.4897846\n",
      "  0.22561397  0.46377069  0.44633079  0.45803583  0.2522507   0.19487445\n",
      "  0.49518585  0.49566755  0.28849235  0.41164389  0.          0.7988528\n",
      "  0.3385464   0.20283709  0.39904472  0.3548905   0.43839851  0.22872199\n",
      "  0.40118206]\n",
      "True\n"
     ]
    }
   ],
   "source": [
    "print x_2, y_2, w_2\n",
    "print np.mean(x_2, axis=0)\n",
    "print np.std(x_2, axis=0)\n",
    "print np.isfinite(x_2).all()"
   ]
  },
  {
   "cell_type": "code",
   "execution_count": 9,
   "metadata": {
    "collapsed": true
   },
   "outputs": [],
   "source": [
    "# LeakyReLU with fix\n",
    "# https://github.com/keras-team/keras/pull/7784\n",
    "\n",
    "from keras.engine import Layer\n",
    "from keras import backend as K\n",
    "\n",
    "class MyLeakyReLU(Layer):\n",
    "    \"\"\"Leaky version of a Rectified Linear Unit.\n",
    "    It allows a small gradient when the unit is not active:\n",
    "    `f(x) = alpha * x for x < 0`,\n",
    "    `f(x) = x for x >= 0`.\n",
    "    # Input shape\n",
    "        Arbitrary. Use the keyword argument `input_shape`\n",
    "        (tuple of integers, does not include the samples axis)\n",
    "        when using this layer as the first layer in a model.\n",
    "    # Output shape\n",
    "        Same shape as the input.\n",
    "    # Arguments\n",
    "        alpha: float >= 0. Negative slope coefficient.\n",
    "    # References\n",
    "        - [Rectifier Nonlinearities Improve Neural Network Acoustic Models](https://web.stanford.edu/~awni/papers/relu_hybrid_icml2013_final.pdf)\n",
    "    \"\"\"\n",
    "\n",
    "    def __init__(self, alpha=0.3, **kwargs):\n",
    "        super(MyLeakyReLU, self).__init__(**kwargs)\n",
    "        self.supports_masking = True\n",
    "        if isinstance(alpha, dict):\n",
    "            self.alpha = K.cast_to_floatx(alpha['value'])\n",
    "        else:\n",
    "            self.alpha = K.cast_to_floatx(alpha)\n",
    "\n",
    "    def call(self, inputs):\n",
    "        return K.relu(inputs, alpha=self.alpha)\n",
    "\n",
    "    def get_config(self):\n",
    "        config = {'alpha': float(self.alpha)}\n",
    "        base_config = super(MyLeakyReLU, self).get_config()\n",
    "        return dict(list(base_config.items()) + list(config.items()))\n",
    "\n",
    "    def compute_output_shape(self, input_shape):\n",
    "        return input_shape"
   ]
  },
  {
   "cell_type": "code",
   "execution_count": 10,
   "metadata": {
    "collapsed": false
   },
   "outputs": [],
   "source": [
    "#### Create a model ####\n",
    "\n",
    "model = Sequential()\n",
    "model.add(Dense(64, input_dim=nvariables, kernel_initializer='glorot_uniform', kernel_regularizer=regularizers.l2(0.0000)))\n",
    "model.add(MyLeakyReLU(alpha=0.2))\n",
    "model.add(Dropout(0.4))\n",
    "\n",
    "model.add(Dense(64, kernel_initializer='glorot_uniform', kernel_regularizer=regularizers.l2(0.0000)))\n",
    "model.add(MyLeakyReLU(alpha=0.2))\n",
    "model.add(Dropout(0.4))\n",
    " \n",
    "model.add(Dense(1, kernel_initializer='glorot_uniform', kernel_regularizer=regularizers.l2(0.0000)))\n",
    "model.add(Activation('sigmoid'))\n",
    "\n",
    "# Set loss and optimizer\n",
    "adam = optimizers.Adam(lr=0.0001)\n",
    "rmsprop = optimizers.RMSprop(lr=0.0001)\n",
    "\n",
    "# Compile\n",
    "model.compile(loss='binary_crossentropy', optimizer=rmsprop, metrics=['accuracy'])\n"
   ]
  },
  {
   "cell_type": "code",
   "execution_count": 11,
   "metadata": {
    "collapsed": false
   },
   "outputs": [
    {
     "name": "stdout",
     "output_type": "stream",
     "text": [
      "(339859, 68) (226574, 68)\n",
      "(241056, 68) (0, 68)\n"
     ]
    }
   ],
   "source": [
    "print x_train_1.shape, x_test_1.shape\n",
    "print x_train_2.shape, x_test_2.shape"
   ]
  },
  {
   "cell_type": "code",
   "execution_count": 12,
   "metadata": {
    "collapsed": false
   },
   "outputs": [
    {
     "name": "stdout",
     "output_type": "stream",
     "text": [
      "[INFO] Time elapsed: 6966.61199617 sec\n",
      "_________________________________________________________________\n",
      "Layer (type)                 Output Shape              Param #   \n",
      "=================================================================\n",
      "dense_1 (Dense)              (None, 64)                4416      \n",
      "_________________________________________________________________\n",
      "my_leaky_re_lu_1 (MyLeakyReL (None, 64)                0         \n",
      "_________________________________________________________________\n",
      "dropout_1 (Dropout)          (None, 64)                0         \n",
      "_________________________________________________________________\n",
      "dense_2 (Dense)              (None, 64)                4160      \n",
      "_________________________________________________________________\n",
      "my_leaky_re_lu_2 (MyLeakyReL (None, 64)                0         \n",
      "_________________________________________________________________\n",
      "dropout_2 (Dropout)          (None, 64)                0         \n",
      "_________________________________________________________________\n",
      "dense_3 (Dense)              (None, 1)                 65        \n",
      "_________________________________________________________________\n",
      "activation_1 (Activation)    (None, 1)                 0         \n",
      "=================================================================\n",
      "Total params: 8,641\n",
      "Trainable params: 8,641\n",
      "Non-trainable params: 0\n",
      "_________________________________________________________________\n",
      "[INFO] Model is saved as model_discr.h5, model_discr.json and model_discr_weights.h5\n"
     ]
    }
   ],
   "source": [
    "#### Training ####\n",
    "\n",
    "def fit_model():\n",
    "  epochs = 20000 * 100\n",
    "  batch_size = 256//2\n",
    "  save_interval = 400\n",
    "\n",
    "  for epoch in xrange(epochs):\n",
    "    real = x_train_1[np.random.randint(0, x_train_1.shape[0], batch_size)]\n",
    "    fake = x_train_2[np.random.randint(0, x_train_2.shape[0], batch_size)]\n",
    "    \n",
    "    # Also add random noise?\n",
    "\n",
    "    ones = np.ones(batch_size)\n",
    "    zeros = np.zeros(batch_size)\n",
    "\n",
    "    x_train_batch = np.concatenate((real, fake))\n",
    "    y_train_batch = np.concatenate((ones, zeros))\n",
    "\n",
    "    d_loss = model.train_on_batch(x_train_batch, y_train_batch)\n",
    "\n",
    "    if (epoch % save_interval) == 0:\n",
    "      print \"%d/%d - loss: %f - accuracy: %f\" % (epoch, epochs, d_loss[0], d_loss[1])\n",
    "\n",
    "\n",
    "# The webpage can become very unresponsive when you train with a large dataset with the above comment.\n",
    "# So I do the following instead.\n",
    "# See issue https://github.com/jupyter/notebook/issues/1474\n",
    "\n",
    "start_time = time.time()\n",
    "old_stdout = sys.stdout\n",
    "sys.stdout = open('keras_output.txt', 'w')\n",
    "fit_model()\n",
    "sys.stdout.close()\n",
    "sys.stdout = old_stdout\n",
    "print('[INFO] Time elapsed: {0} sec'.format(time.time() - start_time))\n",
    "  \n",
    "# Store model to file\n",
    "model.summary()\n",
    "model.save('model_discr.h5')\n",
    "model.save_weights('model_discr_weights.h5')\n",
    "\n",
    "# Store model to json\n",
    "import json\n",
    "with open('model_discr.json', 'w') as outfile:\n",
    "  json.dump(model.to_json(), outfile)\n",
    "  \n",
    "print('[INFO] Model is saved as model_discr.h5, model_discr.json and model_discr_weights.h5')"
   ]
  },
  {
   "cell_type": "code",
   "execution_count": 13,
   "metadata": {
    "collapsed": true
   },
   "outputs": [],
   "source": [
    "#### Evaluation using Keras internal tool ####\n",
    "\n"
   ]
  },
  {
   "cell_type": "code",
   "execution_count": 14,
   "metadata": {
    "collapsed": false,
    "scrolled": false
   },
   "outputs": [
    {
     "name": "stdout",
     "output_type": "stream",
     "text": [
      "Welcome to JupyROOT 6.10/05\n",
      "37762 37762 241056 241056\n"
     ]
    },
    {
     "data": {
      "image/png": "[encoded data removed]",
      "text/plain": [
       "<IPython.core.display.Image object>"
      ]
     },
     "metadata": {},
     "output_type": "display_data"
    }
   ],
   "source": [
    "#### Application ####\n",
    "\n",
    "from keras.models import load_model\n",
    "import ROOT\n",
    "\n",
    "# Load model\n",
    "loaded_model = load_model('model_discr.h5', custom_objects={'MyLeakyReLU': MyLeakyReLU})\n",
    "loaded_model.load_weights('model_discr_weights.h5')\n",
    "\n",
    "ROOT.gROOT.LoadMacro(\"tdrstyle.C\")\n",
    "ROOT.gROOT.ProcessLine(\"setTDRStyle();\")\n",
    "ROOT.gStyle.SetPalette(57)  # kBird\n",
    "ROOT.gStyle.SetPadGridX(True)\n",
    "ROOT.gStyle.SetPadGridY(True)\n",
    "\n",
    "h1a = ROOT.TH1F(\"h1a\", \"h1b\", 120, -0.1, 1.1)\n",
    "h1b = ROOT.TH1F(\"h1b\", \"h1b\", 120, -0.1, 1.1)\n",
    "\n",
    "nentries_test_1 = x_test_1.shape[0]/6\n",
    "\n",
    "y_test_true_1 = np.ones(nentries_test_1)\n",
    "y_test_pred_1 = loaded_model.predict(x_test_1[:nentries_test_1, :])\n",
    "\n",
    "# Loop over events\n",
    "for i in xrange(nentries_test_1):\n",
    "  h1a.Fill(y_test_pred_1[i])\n",
    "\n",
    "\n",
    "x_test_2 = x_train_2  # no train/test split  \n",
    "\n",
    "nentries_test_2 = x_test_2.shape[0]/1\n",
    "\n",
    "y_test_true_2 = np.zeros(nentries_test_2)\n",
    "y_test_pred_2 = loaded_model.predict(x_test_2[:nentries_test_2, :])\n",
    "\n",
    "# Loop over events\n",
    "for i in xrange(nentries_test_2):\n",
    "  h1b.Fill(y_test_pred_2[i])\n",
    "\n",
    "\n",
    "# Draw\n",
    "c = ROOT.TCanvas()\n",
    "h1a.SetLineColor(632)  # kRed\n",
    "h1a.Scale(1.0/h1a.Integral())\n",
    "h1a.Draw(\"hist\")\n",
    "h1b.SetLineColor(1)  # kBlack\n",
    "h1b.Scale(1.0/h1b.Integral())\n",
    "h1b.Draw(\"same hist\")\n",
    "c.Draw()\n",
    "c.SetLogy()\n",
    "\n",
    "print len(y_test_true_1), len(y_test_pred_1), len(y_test_true_2), len(y_test_pred_2)"
   ]
  },
  {
   "cell_type": "code",
   "execution_count": 15,
   "metadata": {
    "collapsed": false
   },
   "outputs": [
    {
     "name": "stdout",
     "output_type": "stream",
     "text": [
      "[ 0.9000053   0.92553361  0.95010857  0.9701287   0.98000636  0.98501139\n",
      "  0.99001642  0.99502145]\n",
      "[ 0.00161788  0.00199954  0.00280433  0.00411108  0.00547591  0.00658768\n",
      "  0.00989397  0.02255492]\n",
      "[ 0.98533368  0.97865057  0.96308589  0.91830695  0.85048354  0.77254385\n",
      "  0.53934497  0.13546965]\n"
     ]
    },
    {
     "name": "stderr",
     "output_type": "stream",
     "text": [
      "/cvmfs/cms.cern.ch/slc6_amd64_gcc630/external/py2-matplotlib/1.5.2-njopjo/lib/python2.7/site-packages/matplotlib/figure.py:1742: UserWarning: This figure includes Axes that are not compatible with tight_layout, so its results might be incorrect.\n",
      "  warnings.warn(\"This figure includes Axes that are not \"\n"
     ]
    },
    {
     "data": {
      "image/png": "[encoded data removed]",
      "text/plain": [
       "<matplotlib.figure.Figure at 0x7fd7f005a4d0>"
      ]
     },
     "metadata": {},
     "output_type": "display_data"
    }
   ],
   "source": [
    "from sklearn.metrics import roc_curve\n",
    "\n",
    "y_test_true = np.concatenate((y_test_true_1, y_test_true_2))\n",
    "y_test_pred = np.concatenate((y_test_pred_1, y_test_pred_2))\n",
    "\n",
    "fpr, tpr, thresh = roc_curve(y_test_true, y_test_pred)\n",
    "\n",
    "fig, ax = plt.subplots(tight_layout=True)\n",
    "ax.plot(fpr, tpr)\n",
    "ax.set_xlabel('False positive rate')\n",
    "ax.set_ylabel('True positive rate')\n",
    "ax.set_title('ROC curve')\n",
    "ax.set_xlim([0.0,1.0])\n",
    "ax.set_ylim([0.9,1.0])\n",
    "\n",
    "idx = np.searchsorted(tpr, [0.9, 0.925, 0.95, 0.97, 0.98, 0.985, 0.99, 0.995])\n",
    "print tpr[idx]\n",
    "print fpr[idx]\n",
    "print thresh[idx]"
   ]
  },
  {
   "cell_type": "code",
   "execution_count": 16,
   "metadata": {
    "collapsed": false
   },
   "outputs": [],
   "source": []
  },
  {
   "cell_type": "code",
   "execution_count": 16,
   "metadata": {
    "collapsed": true
   },
   "outputs": [],
   "source": []
  }
 ],
 "metadata": {
  "kernelspec": {
   "display_name": "Python 2",
   "language": "python",
   "name": "python2"
  },
  "language_info": {
   "codemirror_mode": {
    "name": "ipython",
    "version": 2
   },
   "file_extension": ".py",
   "mimetype": "text/x-python",
   "name": "python",
   "nbconvert_exporter": "python",
   "pygments_lexer": "ipython2",
   "version": "2.7.11"
  }
 },
 "nbformat": 4,
 "nbformat_minor": 2
}
